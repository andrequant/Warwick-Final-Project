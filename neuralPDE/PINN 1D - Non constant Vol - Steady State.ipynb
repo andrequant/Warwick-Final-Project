{
 "cells": [
  {
   "cell_type": "markdown",
   "metadata": {},
   "source": [
    "Let's consider the case where the volatility is non-constant, but a function of $\\rho$. The Fokker Plank e\n",
    "\n",
    "$$\n",
    "0 = \\nabla \\cdot \\left( \\frac{1}{2} \\nabla(\\Sigma(x)\\rho(x)) - \\rho(x) F(\\rho(x))\\right)\n",
    "$$\n",
    "\n",
    "The $\\Sigma(x)$ is $\\sigma^2(x)$ to ease the notation.\n",
    "\n",
    "Expanding:\n",
    "\n",
    "$$\n",
    "0 = \\frac{\\partial \\Sigma(x)}{\\partial x}\\frac{\\partial \\rho(x)}{\\partial x} + \\frac{1}{2}\\Sigma(x)\\frac{\\partial^2 \\rho(x)}{\\partial x^2} + \\frac{1}{2} \\rho(x) \\frac{\\partial^2 \\Sigma(x)}{\\partial x^2} - \\frac{\\partial \\rho(x)}{\\partial x}F(\\rho(x))-\\rho(x)\\frac{\\partial F(\\rho(x))}{\\partial x}\n",
    "$$"
   ]
  },
  {
   "cell_type": "markdown",
   "metadata": {},
   "source": [
    "Considering:\n",
    "\n",
    "- Greenshield Function:\n",
    "\n",
    "$$\n",
    "F(\\rho(x)) = v_{max} \\left(1-\\frac{\\rho}{\\rho_{max}}\\right)\n",
    "$$\n",
    "\n",
    "- Exponential Decay Variance:\n",
    "\n",
    "$$\n",
    "\\Sigma(\\rho(x)) = a \\exp(-\\lambda \\rho(x))\n",
    "$$\n",
    "\n",
    "Solve to $\\Sigma(\\rho_{max}) = \\Sigma_{min}$ (arbitrarily choose) and $\\Sigma(0) = \\Sigma_{max}$ (max volatility), we get $a = \\frac{\\Sigma_{max}}{e}$ and $\\lambda = \\frac{\\ln(\\frac{a}{\\Sigma_{min}})}{\\rho_{max}} = \\frac{ln(\\frac{\\Sigma_{max}}{\\Sigma_{min}})-1}{\\rho_max}$"
   ]
  },
  {
   "cell_type": "markdown",
   "metadata": {},
   "source": [
    "The derivatives are:\n",
    "\n",
    "$$\n",
    "\\frac{\\partial F(\\rho(x))}{\\partial x} = -\\frac{v_{max}}{\\rho_{max}}\n",
    "$$\n",
    "\n",
    "$$\n",
    "\\frac{\\partial \\Sigma(\\rho(x))}{\\partial x} = -a \\lambda \\exp(-\\lambda \\rho(x)) \\rho^{\\prime}(x)\n",
    "$$\n",
    "\n",
    "$$\n",
    "\\frac{\\partial^2 \\Sigma(\\rho(x))}{\\partial x^2} = a \\lambda \\exp(-\\lambda \\rho(x)) (\\lambda \\rho^{\\prime}(x)^2 - \\rho^{\\prime\\prime}(x))\n",
    "$$"
   ]
  },
  {
   "cell_type": "code",
   "execution_count": null,
   "metadata": {},
   "outputs": [],
   "source": []
  },
  {
   "cell_type": "code",
   "execution_count": null,
   "metadata": {},
   "outputs": [],
   "source": []
  },
  {
   "cell_type": "code",
   "execution_count": null,
   "metadata": {},
   "outputs": [],
   "source": []
  }
 ],
 "metadata": {
  "language_info": {
   "name": "python"
  }
 },
 "nbformat": 4,
 "nbformat_minor": 2
}
