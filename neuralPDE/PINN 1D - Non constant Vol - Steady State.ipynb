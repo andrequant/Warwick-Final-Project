{
 "cells": [
  {
   "cell_type": "markdown",
   "metadata": {},
   "source": [
    "https://chatgpt.com/share/a7a14a60-ebbd-49e7-ab54-39acfba89cb7\n",
    "\n"
   ]
  },
  {
   "cell_type": "markdown",
   "metadata": {},
   "source": [
    "https://arxiv.org/pdf/2109.01273\n",
    "\n"
   ]
  },
  {
   "cell_type": "markdown",
   "metadata": {},
   "source": [
    "Perguntar alguma fonte que possa indicar a forma funcional da variancia."
   ]
  },
  {
   "cell_type": "markdown",
   "metadata": {},
   "source": [
    "### Generalizar para qualquer Fundamental Diagram"
   ]
  },
  {
   "cell_type": "markdown",
   "metadata": {},
   "source": [
    "Let's consider the case where the volatility is non-constant, but a function of $\\rho$. The Fokker Plank e\n",
    "\n",
    "** Se pegar a equação da EDP no livro que a Susana passou tem um $\\frac{1}{2}$. Aqui não tem pq na SDE tem $\\sqrt{2 \\Sigma}$ ao invés de $\\sqrt{\\Sigma}$ propositalmente para se livrar desse 1/2**\n",
    "\n",
    "** Colocar o passo a passo dessa derivação em anexo na dissertação **\n",
    "\n",
    "$$\n",
    "0 = \\nabla \\cdot \\left(\\nabla(\\Sigma(x)\\rho(x)) - \\rho(x) F(\\rho(x))\\right)\n",
    "$$\n",
    "\n",
    "The $\\Sigma(x)$ is $\\sigma^2(x)$ to ease the notation.\n",
    "\n",
    "Expanding:\n",
    "\n",
    "$$\n",
    "0 = 2\\frac{\\partial \\Sigma(x)}{\\partial x}\\frac{\\partial \\rho(x)}{\\partial x} + \\Sigma(x)\\frac{\\partial^2 \\rho(x)}{\\partial x^2} + \\rho(x) \\frac{\\partial^2 \\Sigma(x)}{\\partial x^2} - \\frac{\\partial \\rho(x)}{\\partial x}F(\\rho(x))-\\rho(x)\\frac{\\partial \\rho(x)}{\\partial x}\\frac{\\partial F(\\rho(x))}{\\partial x}\n",
    "$$"
   ]
  },
  {
   "cell_type": "markdown",
   "metadata": {},
   "source": [
    "Considering:\n",
    "\n",
    "- Greenshield Function:\n",
    "\n",
    "$$\n",
    "F(\\rho(x)) = v_{max} \\left(1-\\frac{\\rho}{\\rho_{max}}\\right)\n",
    "$$\n",
    "\n",
    "- Exponential Decay Variance:\n",
    "\n",
    "$$\n",
    "\\Sigma(x) = a \\exp(-\\lambda \\rho(x))\n",
    "$$\n",
    "\n",
    "Solve to $\\Sigma(\\rho_{max}) = \\Sigma_{min}$ (arbitrarily choose) and $\\Sigma(0) = \\Sigma_{max}$ (max volatility), we get $a = \\Sigma_{max}$ and $\\lambda = -\\frac{\\ln(\\frac{\\Sigma_{min}}{\\Sigma_{max}})}{\\rho_{max}} = -\\frac{1}{\\rho_{max}}\\ln(\\frac{\\Sigma_{min}}{\\Sigma_{max}})$"
   ]
  },
  {
   "cell_type": "markdown",
   "metadata": {},
   "source": [
    "The derivatives are:\n",
    "\n",
    "$$\n",
    "\\frac{\\partial F(\\rho(x))}{\\partial x} = -\\frac{v_{max}}{\\rho_{max}}\n",
    "$$\n",
    "\n",
    "$$\n",
    "\\frac{\\partial \\Sigma(x)}{\\partial x} = -a \\lambda \\exp(-\\lambda \\rho(x)) \\rho^{\\prime}(x)\n",
    "$$\n",
    "\n",
    "$$\n",
    "\\frac{\\partial^2 \\Sigma(x)}{\\partial x^2} = a \\lambda \\exp(-\\lambda \\rho(x)) (\\lambda^2 \\rho^{\\prime}(x)^2 - \\rho^{\\prime\\prime}(x))\n",
    "$$"
   ]
  },
  {
   "cell_type": "code",
   "execution_count": 1,
   "metadata": {},
   "outputs": [],
   "source": [
    "import numpy as np\n",
    "import matplotlib.pyplot as plt\n",
    "import jax\n",
    "import jax.numpy as jnp\n",
    "import equinox as eqx\n",
    "\n",
    "import optax\n",
    "\n",
    "import timeit\n",
    "\n",
    "from scipy.stats import qmc"
   ]
  },
  {
   "cell_type": "code",
   "execution_count": 71,
   "metadata": {},
   "outputs": [],
   "source": [
    "# Define a Multilayer Perceptron\n",
    "\n",
    "class MLP(eqx.Module):\n",
    "    layers: list  # Type annotation indicating that layers is a list. Needed to work properly.\n",
    "\n",
    "\n",
    "    def __init__(self, key, input_dim, hidden_dims, n_layers, output_dim):\n",
    "        \"\"\"Define the MLP\n",
    "\n",
    "        Args:\n",
    "            key (jax key): Random Jey\n",
    "            input_dim (int): Input layer dimension\n",
    "            hidden_dims (int): Hidden layers dimension\n",
    "            n_layers (_type_): Number of hidden layers\n",
    "            output_dim (_type_): Output layer dimension\n",
    "        \"\"\"\n",
    "\n",
    "\n",
    "        \n",
    "        # jax handle random number generation in a different way. Favoring reproducibility.\n",
    "        # This gives each layer a rnd initialization.\n",
    "        keys = jax.random.split(key, n_layers + 1)\n",
    "        \n",
    "        dims = [input_dim] + [hidden_dims] * n_layers + [output_dim]\n",
    "        self.layers = [eqx.nn.Linear(dims[i], dims[i + 1], key=keys[i]) for i in range(len(dims) - 1)]\n",
    "\n",
    "    \n",
    "    def __call__(self, x):\n",
    "        \"\"\"Forward-pass the input through the network\n",
    "\n",
    "        Args:\n",
    "            x (jnp.array): Input\n",
    "\n",
    "        Returns:\n",
    "            jnp.array: NN output\n",
    "        \"\"\"\n",
    "        for layer in self.layers[:-1]:\n",
    "            x = jax.nn.gelu(layer(x))\n",
    "        \n",
    "        x = self.layers[-1](x)\n",
    "        return x"
   ]
  },
  {
   "cell_type": "code",
   "execution_count": 120,
   "metadata": {},
   "outputs": [],
   "source": [
    "sigma2_max = 0.5**2\n",
    "sigma2_min = 0.1**2\n",
    "\n",
    "L = 3.0\n",
    "\n",
    "\n",
    "a = 0.9\n",
    "b = 0.975\n",
    "\n",
    "v_max = 1.5\n",
    "p_max = 1 # rho_max cannot be learned Susana's paper\n",
    "\n",
    "#a /= v_max\n",
    "#b /= v_max"
   ]
  },
  {
   "cell_type": "code",
   "execution_count": 121,
   "metadata": {},
   "outputs": [],
   "source": [
    "# Exponential Decay Variance\n",
    "\n",
    "class EDV():\n",
    "\n",
    "    def __init__(self, sigma2_min, sigma2_max, p_max):\n",
    "        self.a = sigma2_max\n",
    "        self.lambda_ = -(jnp.log(sigma2_min/sigma2_max))/p_max\n",
    "\n",
    "    def __call__(self, rho):\n",
    "        return self.edv(rho)\n",
    "    \n",
    "    def edv(self, rho):\n",
    "        return self.a * jnp.exp(-self.lambda_ * rho)\n",
    "    \n",
    "    def d_edv(self, rho, d_rho):\n",
    "        return -self.lambda_ * self.edv(rho) * d_rho\n",
    "    \n",
    "    def d2_edv(self, rho, d_rho, d2_rho):\n",
    "        return self.lambda_ * self.edv(rho) * (self.lambda_**2 * d_rho**2 - d2_rho)\n",
    "\n"
   ]
  },
  {
   "cell_type": "code",
   "execution_count": 135,
   "metadata": {},
   "outputs": [],
   "source": [
    "# Greenshield Variance\n",
    "\n",
    "class EDV():\n",
    "\n",
    "    def __init__(self, sigma2_max, p_max):\n",
    "        self.sigma2_max = sigma2_max\n",
    "        self.p_max = p_max\n",
    "\n",
    "    def __call__(self, rho):\n",
    "        return self.edv(rho)\n",
    "    \n",
    "    def edv(self, rho):\n",
    "        return self.sigma2_max * (1-rho/self.p_max)\n",
    "    \n",
    "    def d_edv(self, rho, d_rho):\n",
    "        return -self.sigma2_max/self.p_max\n",
    "    \n",
    "    def d2_edv(self, rho, d_rho, d2_rho):\n",
    "        return 0\n",
    "\n"
   ]
  },
  {
   "cell_type": "code",
   "execution_count": 122,
   "metadata": {},
   "outputs": [],
   "source": [
    "edv = EDV(sigma2_min, sigma2_max, p_max)"
   ]
  },
  {
   "cell_type": "code",
   "execution_count": 136,
   "metadata": {},
   "outputs": [],
   "source": [
    "edv = EDV(sigma2_max, p_max)"
   ]
  },
  {
   "cell_type": "code",
   "execution_count": 138,
   "metadata": {},
   "outputs": [
    {
     "data": {
      "text/plain": [
       "0.1875"
      ]
     },
     "execution_count": 138,
     "metadata": {},
     "output_type": "execute_result"
    }
   ],
   "source": [
    "edv(0.25)"
   ]
  },
  {
   "cell_type": "code",
   "execution_count": 139,
   "metadata": {},
   "outputs": [],
   "source": [
    "def loss(model, sigma2, L, a, b, subkey, edv_fn, steps=50):\n",
    "\n",
    "    x_flat = jnp.linspace(0, L, steps)\n",
    "\n",
    "    ### IMPORTANT: Point in the dissertation that having a random samples greatly improve the learning\n",
    "    ### Even more, for a Sigma=0.5, a=0.9, b=0.975 and v_max = 1.5, for a NN 10x10\n",
    "    ### the deterministic learning simple got stuck and didn't progress. While the sampling case\n",
    "    ### converged quickly\n",
    "    x_flat = jax.random.choice(subkey, x_flat, shape=(int(steps/2),), replace=False)\n",
    "    \n",
    "    inputs = jnp.concat([x_flat, jnp.array([0.0]), jnp.array([L])])\n",
    "    \n",
    "    rho, grad = jax.vmap(jax.value_and_grad(model))(inputs)\n",
    "    hess = jax.vmap(jax.hessian(model))(inputs)\n",
    "\n",
    "    dp_dx = grad\n",
    "    d2p_dx2 = hess\n",
    "\n",
    "    # PDE Loss\n",
    "    pde_loss = edv_fn.d_edv(rho, dp_dx)*d2p_dx2 + 0.5\n",
    "\n",
    "    pde_loss = (2*edv_fn.d_edv(rho, dp_dx)*d2p_dx2 + edv_fn.edv(rho) * d2p_dx2 + rho*edv_fn.d2_edv(rho, dp_dx, d2p_dx2)\n",
    "                - dp_dx*(v_max * (1-(rho))) - rho * dp_dx * (-v_max))\n",
    "\n",
    "    # in loss\n",
    "    in_loss = sigma2*dp_dx[-2] - rho[-2]*v_max*(1-rho[-2]) + a*(1-rho[-2])\n",
    "\n",
    "    # out loss\n",
    "    out_loss = -sigma2*dp_dx[-1] + rho[-1]*v_max*(1-rho[-1]) - b*rho[-1]\n",
    "\n",
    "    return jnp.average(pde_loss**2) + in_loss**2 + out_loss**2\n"
   ]
  },
  {
   "cell_type": "code",
   "execution_count": 140,
   "metadata": {},
   "outputs": [],
   "source": [
    "@eqx.filter_jit # decorator that applies Just-in-time compilation just to the relevant parts. Improves performance.\n",
    "def train_step(model, opt_state, L, sigma2, a, b, subkey, edv_fn, steps=20):\n",
    "    loss_value, grads = jax.value_and_grad(loss)(model, sigma2, L, a, b, subkey, edv_fn, steps) # Compute the loss and gradient\n",
    "    updates, opt_state = optimizer.update(grads, opt_state) # Apply the backward propagation\n",
    "    model = eqx.apply_updates(model, updates) # Update the NN\n",
    "    return model, opt_state, loss_value"
   ]
  },
  {
   "cell_type": "code",
   "execution_count": 141,
   "metadata": {},
   "outputs": [],
   "source": [
    "# Initialize the model with multiple hidden layers and scalar output layer\n",
    "model_key = jax.random.PRNGKey(7)\n",
    "\n",
    "input_dim = 'scalar'\n",
    "output_dim = 'scalar'\n",
    "\n",
    "model = MLP(model_key, input_dim=input_dim, hidden_dims=6, n_layers=6, output_dim=output_dim)"
   ]
  },
  {
   "cell_type": "code",
   "execution_count": 142,
   "metadata": {},
   "outputs": [],
   "source": [
    "# Optimizer definition\n",
    "lr = 10e-3\n",
    "optimizer = optax.noisy_sgd(learning_rate=lr)\n",
    "opt_state = optimizer.init(model)\n",
    "opt = 'sgd'"
   ]
  },
  {
   "cell_type": "code",
   "execution_count": 143,
   "metadata": {},
   "outputs": [
    {
     "name": "stdout",
     "output_type": "stream",
     "text": [
      "Epoch 100, Loss: 0.017566783353686333\n",
      "Epoch 200, Loss: 0.017551032826304436\n",
      "Epoch 300, Loss: 0.017549270763993263\n",
      "Epoch 400, Loss: 0.01754831336438656\n",
      "Epoch 500, Loss: 0.017547860741615295\n",
      "Epoch 600, Loss: 0.017543327063322067\n",
      "Epoch 700, Loss: 0.01754799857735634\n",
      "Epoch 800, Loss: 0.01754007302224636\n",
      "Epoch 900, Loss: 0.017539603635668755\n",
      "Epoch 1000, Loss: 0.017536155879497528\n",
      "Epoch 1100, Loss: 0.01753455214202404\n",
      "Epoch 1200, Loss: 0.017529360949993134\n",
      "Epoch 1300, Loss: 0.017524974420666695\n",
      "Epoch 1400, Loss: 0.017520394176244736\n",
      "Epoch 1500, Loss: 0.017521008849143982\n",
      "Epoch 1600, Loss: 0.017515357583761215\n",
      "Epoch 1700, Loss: 0.017514411360025406\n",
      "Epoch 1800, Loss: 0.017510535195469856\n",
      "Epoch 1900, Loss: 0.01750876195728779\n",
      "Epoch 2000, Loss: 0.01750824972987175\n",
      "Epoch 2100, Loss: 0.017507225275039673\n",
      "Epoch 2200, Loss: 0.017505543306469917\n",
      "Epoch 2300, Loss: 0.017504336312413216\n",
      "Epoch 2400, Loss: 0.017500998452305794\n",
      "Epoch 2500, Loss: 0.0174943208694458\n",
      "Epoch 2600, Loss: 0.017492089420557022\n",
      "Epoch 2700, Loss: 0.01748744025826454\n",
      "Epoch 2800, Loss: 0.017486879602074623\n",
      "Epoch 2900, Loss: 0.01748942770063877\n",
      "Epoch 3000, Loss: 0.017485974356532097\n",
      "Epoch 3100, Loss: 0.017487168312072754\n",
      "Epoch 3200, Loss: 0.01748323068022728\n",
      "Epoch 3300, Loss: 0.017482107505202293\n",
      "Epoch 3400, Loss: 0.01748407818377018\n",
      "Epoch 3500, Loss: 0.017483148723840714\n",
      "Epoch 3600, Loss: 0.01748225837945938\n",
      "Epoch 3700, Loss: 0.017480675131082535\n",
      "Epoch 3800, Loss: 0.017478857189416885\n",
      "Epoch 3900, Loss: 0.017478935420513153\n",
      "Epoch 4000, Loss: 0.01747794635593891\n",
      "Epoch 4100, Loss: 0.017475862056016922\n",
      "Epoch 4200, Loss: 0.017476079985499382\n",
      "Epoch 4300, Loss: 0.01747206784784794\n",
      "Epoch 4400, Loss: 0.0174727700650692\n",
      "Epoch 4500, Loss: 0.017469089478254318\n",
      "Epoch 4600, Loss: 0.017467914149165154\n",
      "Epoch 4700, Loss: 0.01746598444879055\n",
      "Epoch 4800, Loss: 0.017465580254793167\n",
      "Epoch 4900, Loss: 0.017465932294726372\n",
      "Epoch 5000, Loss: 0.017461365088820457\n",
      "Epoch 5100, Loss: 0.01745818927884102\n",
      "Epoch 5200, Loss: 0.017455102875828743\n",
      "Epoch 5300, Loss: 0.017451491206884384\n",
      "Epoch 5400, Loss: 0.01744917221367359\n",
      "Epoch 5500, Loss: 0.017444461584091187\n",
      "Epoch 5600, Loss: 0.01744285598397255\n",
      "Epoch 5700, Loss: 0.017441721633076668\n",
      "Epoch 5800, Loss: 0.017438439652323723\n",
      "Epoch 5900, Loss: 0.017437130212783813\n",
      "Epoch 6000, Loss: 0.01743672788143158\n",
      "Epoch 6100, Loss: 0.017434382811188698\n",
      "Epoch 6200, Loss: 0.017430871725082397\n",
      "Epoch 6300, Loss: 0.01742803491652012\n",
      "Epoch 6400, Loss: 0.017423588782548904\n",
      "Epoch 6500, Loss: 0.017423296347260475\n",
      "Epoch 6600, Loss: 0.017418019473552704\n",
      "Epoch 6700, Loss: 0.017417535185813904\n",
      "Epoch 6800, Loss: 0.01741366647183895\n",
      "Epoch 6900, Loss: 0.017413130030035973\n",
      "Epoch 7000, Loss: 0.01740877889096737\n",
      "Epoch 7100, Loss: 0.01740783266723156\n",
      "Epoch 7200, Loss: 0.017404569312930107\n",
      "Epoch 7300, Loss: 0.01740335114300251\n",
      "Epoch 7400, Loss: 0.01740078441798687\n",
      "Epoch 7500, Loss: 0.017397301271557808\n",
      "Epoch 7600, Loss: 0.01739645004272461\n",
      "Epoch 7700, Loss: 0.017392249777913094\n",
      "Epoch 7800, Loss: 0.01739012449979782\n",
      "Epoch 7900, Loss: 0.017382729798555374\n",
      "Epoch 8000, Loss: 0.01738019287586212\n",
      "Epoch 8100, Loss: 0.01737474836409092\n",
      "Epoch 8200, Loss: 0.01737280562520027\n",
      "Epoch 8300, Loss: 0.017369471490383148\n",
      "Epoch 8400, Loss: 0.017367562279105186\n",
      "Epoch 8500, Loss: 0.017362331971526146\n",
      "Epoch 8600, Loss: 0.01735726185142994\n",
      "Epoch 8700, Loss: 0.01734974980354309\n",
      "Epoch 8800, Loss: 0.017347607761621475\n",
      "Epoch 8900, Loss: 0.017342738807201385\n",
      "Epoch 9000, Loss: 0.01733991503715515\n",
      "Epoch 9100, Loss: 0.01733805052936077\n",
      "Epoch 9200, Loss: 0.017334843054413795\n",
      "Epoch 9300, Loss: 0.01733114756643772\n",
      "Epoch 9400, Loss: 0.01732623018324375\n",
      "Epoch 9500, Loss: 0.017323728650808334\n",
      "Epoch 9600, Loss: 0.017316989600658417\n",
      "Epoch 9700, Loss: 0.01731202006340027\n",
      "Epoch 9800, Loss: 0.01730761118233204\n",
      "Epoch 9900, Loss: 0.017304552718997\n",
      "Epoch 10000, Loss: 0.017297018319368362\n",
      "Epoch 10100, Loss: 2.5022886802616995e-06\n",
      "Epoch 10200, Loss: 9.57284782998613e-07\n",
      "Epoch 10300, Loss: 4.954188739247911e-07\n"
     ]
    }
   ],
   "source": [
    "# Training loop\n",
    "num_epochs = 250000\n",
    "losses = []\n",
    "\n",
    "sigma2 = 0.5**2\n",
    "loss_value = 100\n",
    "\n",
    "train_key = jax.random.PRNGKey(75)\n",
    "\n",
    "#for epoch in range(num_epochs):\n",
    "epoch = 0\n",
    "while loss_value > 5e-7:\n",
    "\n",
    "    train_key, subkey = jax.random.split(train_key)\n",
    "    \n",
    "    model, opt_state, loss_value = train_step(model, opt_state, L, sigma2, a, b, subkey, edv, steps=200)\n",
    "    epoch += 1 \n",
    "\n",
    "    if epoch % 100 == 0:\n",
    "        losses.append(loss_value)\n",
    "        print(f\"Epoch {epoch}, Loss: {loss_value}\")\n",
    "\n",
    "        \n",
    "    if epoch % 10000 == 0:\n",
    "        lr *= 0.9\n",
    "        optimizer = optax.adam(learning_rate=lr)\n",
    "        opt_state = optimizer.init(model)  # Re-initialize optimizer state with new learning rate\n",
    "\n",
    "\n",
    "\n",
    "# Print final loss\n",
    "# final_loss = loss(model, L, sigma2, a, b, steps=20)\n",
    "# print(f\"Final Loss: {final_loss}\")"
   ]
  },
  {
   "cell_type": "code",
   "execution_count": 144,
   "metadata": {},
   "outputs": [
    {
     "data": {
      "image/png": "[encoded data removed]",
      "text/plain": [
       "<Figure size 640x480 with 1 Axes>"
      ]
     },
     "metadata": {},
     "output_type": "display_data"
    }
   ],
   "source": [
    "plt.plot(losses)\n",
    "plt.yscale('log')\n",
    "plt.xlabel('Epoch x100')\n",
    "plt.ylabel('Loss')\n",
    "plt.title('Loss Evolution')\n",
    "plt.show()"
   ]
  },
  {
   "cell_type": "code",
   "execution_count": 145,
   "metadata": {},
   "outputs": [
    {
     "data": {
      "image/png": "[encoded data removed]",
      "text/plain": [
       "<Figure size 640x480 with 1 Axes>"
      ]
     },
     "metadata": {},
     "output_type": "display_data"
    }
   ],
   "source": [
    "x_flat = jnp.linspace(0, L, 500)\n",
    "outputs = jax.vmap(model)(x_flat)\n",
    "\n",
    "plt.plot(outputs)\n",
    "plt.plot(base)\n",
    "#plt.ylim([0.4, .6])\n",
    "plt.show()"
   ]
  },
  {
   "cell_type": "code",
   "execution_count": null,
   "metadata": {},
   "outputs": [],
   "source": []
  }
 ],
 "metadata": {
  "kernelspec": {
   "display_name": "venv",
   "language": "python",
   "name": "python3"
  },
  "language_info": {
   "codemirror_mode": {
    "name": "ipython",
    "version": 3
   },
   "file_extension": ".py",
   "mimetype": "text/x-python",
   "name": "python",
   "nbconvert_exporter": "python",
   "pygments_lexer": "ipython3",
   "version": "3.12.4"
  }
 },
 "nbformat": 4,
 "nbformat_minor": 2
}
