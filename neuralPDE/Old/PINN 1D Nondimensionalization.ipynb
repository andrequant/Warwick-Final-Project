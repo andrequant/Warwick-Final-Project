{
 "cells": [
  {
   "cell_type": "markdown",
   "metadata": {},
   "source": [
    "# Revisar isso aqui\n",
    "\n",
    "Resultado ficou muito esquisito. Refazer a matemática"
   ]
  },
  {
   "cell_type": "markdown",
   "metadata": {},
   "source": [
    "## Applying PINN to the PDE - 1D Version"
   ]
  },
  {
   "cell_type": "markdown",
   "metadata": {},
   "source": [
    "We are interessed in solving\n",
    "\n",
    "$$\n",
    "\\frac{\\partial \\rho}{\\partial t} = \\nabla \\cdot \\left(\\Sigma \\nabla\\rho(x,t) - \\rho(x,t) F(\\rho(x,t)) \\right)\n",
    "$$\n",
    "\n",
    "\n",
    "\n",
    "Where $x=x_1$. $\\Sigma = \\rm{diag} (\\sigma_1^2, \\sigma_2^2)$. $F: \\mathbb{R} \\mapsto \\mathbb{R}$, $F(\\rho) = f(\\rho)$.\n",
    "\n",
    "On the domain\n",
    "\n",
    "$$\n",
    "\\Omega = \\{x \\in [0,L]\\}\n",
    "$$\n",
    "\n",
    "With boundary conditions\n",
    "\n",
    "$$\n",
    "j \\cdot n = -a (\\rho_{max} - \\rho) \\quad \\forall x \\in \\Gamma_{in}\n",
    "$$\n",
    "\n",
    "$$\n",
    "j \\cdot n = b \\rho \\quad \\forall x \\in \\Gamma_{out}\n",
    "$$\n",
    "\n",
    "\n",
    "where\n",
    "\n",
    "$$\n",
    "\\Gamma_{in} = \\{(x_1, x_2) \\in \\Omega: x_1 = 0\\}\n",
    "$$\n",
    "\n",
    "$$\n",
    "\\Gamma_{out} = \\{(x_1, x_2) \\in \\Omega: x_1 = L\\}\n",
    "$$\n",
    "\n",
    "\n",
    "With $j = -\\Sigma \\nabla \\rho + \\rho F(\\rho)$, $j = -\\sigma_1 \\frac{\\partial \\rho}{\\partial x_1} + \\rho f(\\rho)$ and $n$ the outer normal vector, i.e. vector points toward the interior:\n",
    "\n",
    "$$\n",
    "n = -1 \\quad \\rm{for} \\quad \\Gamma_{in}\n",
    "$$\n",
    "\n",
    "$$\n",
    "n = 1\\quad \\rm{for} \\quad \\Gamma_{out}\n",
    "$$\n"
   ]
  },
  {
   "cell_type": "markdown",
   "metadata": {},
   "source": [
    "In a more explicit manner, the PDE can be written as\n",
    "\n",
    "$$\n",
    "\\frac{\\partial \\rho}{\\partial t} = \\sigma_1 \\frac{\\partial^2 \\rho}{\\partial x_1^2} - \\frac{\\partial \\rho}{\\partial x_1} \\left(f(\\rho(x,t)) + \\rho(x,t) \\frac{d f(\\rho(x,t))}{d \\rho} \\right)\n",
    "$$"
   ]
  },
  {
   "cell_type": "markdown",
   "metadata": {},
   "source": [
    "## Nondimensionalization"
   ]
  },
  {
   "cell_type": "markdown",
   "metadata": {},
   "source": [
    "#### Identify the Variables and Parameters\n",
    "\n",
    "- Dependent Variable: $\\rho(x_1, t)$\n",
    "- Independent Variable: $x_1, t$\n",
    "- Parameters: $\\sigma_1$\n",
    "- Function: $f(\\rho)$\n",
    "\n",
    "#### Choose Characteristic Scales\n",
    "\n",
    "- Lenght: $L$\n",
    "- Time: $\\tau$\n",
    "- Density: $\\rho_0$\n",
    "\n",
    "#### Nondimensionalize the Variables\n",
    "\n",
    "- Position: $\\tilde{x}_1 = x_1/L$\n",
    "- Time: $\\tilde{t} = t/\\tau$\n",
    "- Density: $\\tilde{\\rho} = \\rho/\\rho_0$"
   ]
  },
  {
   "cell_type": "markdown",
   "metadata": {},
   "source": [
    "### Express the partial derivatives in terms of dimensionless variables\n",
    "\n",
    "- Time:\n",
    "\n",
    "$$\n",
    "\\frac{\\partial \\rho}{\\partial t} = \\frac{\\partial (\\tilde{\\rho} \\rho_0)}{\\partial (\\tilde{t} \\tau)} = \\frac{\\rho_0}{\\tau} \\frac{\\partial \\tilde{\\rho}}{\\partial \\tilde{t}}\n",
    "$$\n",
    "\n",
    "- Spatial:\n",
    "\n",
    "$$\n",
    "\\frac{\\partial \\rho}{\\partial x_1} = \\frac{\\partial (\\tilde{\\rho} \\rho_0)}{\\partial (\\tilde{x}_1 L)} = \\frac{\\rho_0}{L} \\frac{\\partial \\tilde{\\rho}}{\\partial \\tilde{x}_1}\n",
    "$$\n",
    "\n",
    "- Second Spatial:\n",
    "\n",
    "$$\n",
    "\\frac{\\partial^2 \\rho}{\\partial x_1^2} = \\frac{\\partial^2 (\\tilde{\\rho} \\rho_0)}{\\partial (\\tilde{x}_1 L)^2} = \\frac{\\rho_0}{L^2} \\frac{\\partial^2 \\tilde{\\rho}}{\\partial \\tilde{x}_1^2}\n",
    "$$\n",
    "\n",
    "- Function:\n",
    "\n",
    "$$\n",
    "\\frac{d f(\\rho)}{d \\rho} = \\frac{d f(\\tilde{\\rho} \\rho_0)}{d (\\tilde{\\rho} \\rho_0)} \\cdot \\rho_0 = \\rho_0 \\frac{d f}{d (\\tilde{\\rho} \\rho_0)}\n",
    "$$\n",
    "\n",
    "Substituting in the original equation:\n",
    "\n",
    "$$\n",
    "\\frac{\\rho_0}{\\tau} \\frac{\\partial \\tilde{\\rho}}{\\partial \\tilde{t}} = \\sigma_1 \\frac{\\rho_0}{L^2} \\frac{\\partial^2 \\tilde{\\rho}}{\\partial \\tilde{x}_1^2} - \\frac{\\rho_0}{L} \\frac{\\partial \\tilde{\\rho}}{\\partial \\tilde{x}_1} \\left(f(\\tilde{\\rho} \\rho_0) + \\tilde{\\rho} \\rho_0 \\cdot \\rho_0 \\frac{d f(\\tilde{\\rho} \\rho_0)}{d (\\tilde{\\rho} \\rho_0)} \\right)\n",
    "$$\n",
    "\n",
    "Divide by $\\rho_0$\n",
    "\n",
    "$$\n",
    "\\frac{1}{\\tau} \\frac{\\partial \\tilde{\\rho}}{\\partial \\tilde{t}} = \\frac{\\sigma_1}{L^2} \\frac{\\partial^2 \\tilde{\\rho}}{\\partial \\tilde{x}_1^2} - \\frac{1}{L} \\frac{\\partial \\tilde{\\rho}}{\\partial \\tilde{x}_1} \\left(f(\\tilde{\\rho} \\rho_0) + \\tilde{\\rho} \\rho_0 \\cdot \\rho_0 \\frac{d f(\\tilde{\\rho} \\rho_0)}{d (\\tilde{\\rho} \\rho_0)} \\right)\n",
    "$$\n",
    "\n",
    "\n",
    "Choose the charachteristic time scale to be:\n",
    "\n",
    "$$\n",
    "\\tau = \\frac{L^2}{\\sigma_1}\n",
    "$$\n",
    "\n",
    "$$\n",
    "\\frac{\\sigma_1}{L^2} \\frac{\\partial \\tilde{\\rho}}{\\partial \\tilde{t}} = \\frac{\\sigma_1}{L^2} \\frac{\\partial^2 \\tilde{\\rho}}{\\partial \\tilde{x}_1^2} - \\frac{1}{L} \\frac{\\partial \\tilde{\\rho}}{\\partial \\tilde{x}_1} \\left(f(\\tilde{\\rho} \\rho_0) + \\tilde{\\rho} \\rho_0 \\cdot \\rho_0 \\frac{d f(\\tilde{\\rho} \\rho_0)}{d (\\tilde{\\rho} \\rho_0)} \\right)\n",
    "$$\n",
    "\n",
    "\n",
    "Divide through by $\\frac{\\sigma_1}{L^2}:\n",
    "\n",
    "$$\n",
    "\\frac{\\partial \\tilde{\\rho}}{\\partial \\tilde{t}} = \\frac{\\partial^2 \\tilde{\\rho}}{\\partial \\tilde{x}_1^2} - \\frac{L}{\\sigma_1} \\frac{\\partial \\tilde{\\rho}}{\\partial \\tilde{x}_1} \\left(f(\\tilde{\\rho} \\rho_0) + \\tilde{\\rho} \\rho_0 \\cdot \\rho_0 \\frac{d f(\\tilde{\\rho} \\rho_0)}{d (\\tilde{\\rho} \\rho_0)} \\right)\n",
    "$$\n",
    "\n",
    "\n",
    "Finally:\n",
    "\n",
    "$$\n",
    "\\frac{\\partial \\tilde{\\rho}}{\\partial \\tilde{t}} = \\frac{\\partial^2 \\tilde{\\rho}}{\\partial \\tilde{x}_1^2} - \\frac{L}{\\sigma_1} \\frac{\\partial \\tilde{\\rho}}{\\partial \\tilde{x}_1} \\left(f(\\tilde{\\rho} \\rho_0) + \\tilde{\\rho} \\rho_0^2 \\frac{d f(\\tilde{\\rho} \\rho_0)}{d (\\tilde{\\rho} \\rho_0)} \\right)\n",
    "$$"
   ]
  },
  {
   "cell_type": "markdown",
   "metadata": {},
   "source": [
    "For $j$, it becomes (confirmar):\n",
    "\n",
    "$$\n",
    "\\tilde{j} = - \\frac{\\partial \\tilde{\\rho}}{\\partial \\tilde{x}_1} + \\frac{L}{\\sigma_1} \\tilde{\\rho} f(\\tilde{\\rho} \\rho_0)\n",
    "$$\n",
    "\n",
    "It will not be needed, but:\n",
    "\n",
    "$$\n",
    "j_0 = \\frac{\\sigma_1 \\rho_0}{L}\n",
    "$$"
   ]
  },
  {
   "cell_type": "code",
   "execution_count": 26,
   "metadata": {},
   "outputs": [],
   "source": [
    "import numpy as np\n",
    "import matplotlib.pyplot as plt\n",
    "import jax\n",
    "import jax.numpy as jnp\n",
    "import equinox as eqx\n",
    "\n",
    "import optax\n",
    "\n",
    "import timeit\n",
    "\n",
    "from scipy.stats import qmc"
   ]
  },
  {
   "cell_type": "code",
   "execution_count": 27,
   "metadata": {},
   "outputs": [],
   "source": [
    "# Correct that to import from the other file\n",
    "\n",
    "from abc import ABC, abstractmethod\n",
    "\n",
    "class FundamentalDiagram():\n",
    "    def __init__(self, params):\n",
    "        self.params = params\n",
    "\n",
    "    def __call__(self,density):\n",
    "        return self.flux(density)\n",
    "    \n",
    "    @abstractmethod\n",
    "    def flux(self, density):\n",
    "        pass\n",
    "\n",
    "    @abstractmethod\n",
    "    def __str__(self):\n",
    "        pass\n",
    "\n",
    "\n",
    "\n",
    "class Greenshield(FundamentalDiagram):\n",
    "    def __init__(self, params):\n",
    "        super().__init__(params)\n",
    "        self.v_max = self.params[0]\n",
    "        self.p_max = self.params[1]\n",
    "    \n",
    "    def flux(self, density):\n",
    "        return self.v_max * (1 - (density/self.p_max))\n",
    "    \n",
    "    def d_flux(self, density):\n",
    "        return - self.v_max/self.p_max + 0*density\n",
    "    \n",
    "    def __str__(self):\n",
    "        return \"Greenshield\""
   ]
  },
  {
   "cell_type": "code",
   "execution_count": 28,
   "metadata": {},
   "outputs": [],
   "source": [
    "sigma1 = 0.5*0.5\n",
    "sigma2 = 0.5*0.5\n",
    "\n",
    "L = 2\n",
    "T = 30\n",
    "\n",
    "a = 0.9\n",
    "b = 0.975\n",
    "\n",
    "\n",
    "v_max = 1.2\n",
    "p_max = 1 # rho_max cannot be learned Susana's paper\n",
    "\n",
    "\n",
    "# Characteristic Variables:\n",
    "\n",
    "char_L = L\n",
    "char_t = (char_L**2)/sigma1\n",
    "rho0 = p_max"
   ]
  },
  {
   "cell_type": "code",
   "execution_count": 29,
   "metadata": {},
   "outputs": [],
   "source": [
    "func = Greenshield([v_max, p_max])"
   ]
  },
  {
   "cell_type": "code",
   "execution_count": 186,
   "metadata": {},
   "outputs": [],
   "source": [
    "def pde_loss(model, func, input, sigma1, char_L, rho0):\n",
    "    \n",
    "    # p = rho\n",
    "\n",
    "    rho, grad = jax.vmap(jax.value_and_grad(model))(input)\n",
    "    hess = jax.vmap(jax.hessian(model))(input)\n",
    "\n",
    "    dp_dx1 = grad[:, 0] \n",
    "    dp_dt = grad[:, 1]\n",
    "    d2p_dx12 = hess[:, 0, 0]\n",
    "\n",
    "\n",
    "    fp = func.flux(rho * rho0)\n",
    "    df_p = func.d_flux(rho * rho0)\n",
    "\n",
    "    rhs = d2p_dx12 - (char_L / sigma1) * dp_dx1 * (fp + rho * rho0 * df_p)\n",
    "\n",
    "    return jnp.mean((dp_dt - rhs)**2)"
   ]
  },
  {
   "cell_type": "code",
   "execution_count": 187,
   "metadata": {},
   "outputs": [],
   "source": [
    "def j(model, func, input, sigma1, char_L, rho0):\n",
    "    rho, grad = jax.vmap(jax.value_and_grad(model))(input)\n",
    "\n",
    "    i_0 = - grad[:, 0] + (char_L/sigma1) * rho * func(rho*rho0)\n",
    "\n",
    "    return i_0, rho"
   ]
  },
  {
   "cell_type": "code",
   "execution_count": 205,
   "metadata": {},
   "outputs": [],
   "source": [
    "def in_loss(model, func, T, sigma1, a, char_t, steps=20):\n",
    "\n",
    "    t = jnp.linspace(0, T/char_t, steps)\n",
    "\n",
    "    x1_flat = jnp.zeros_like(t)\n",
    "\n",
    "    result = jnp.stack((x1_flat, t), axis=-1)\n",
    "\n",
    "    in_ , rho = j(model, func, result, sigma1, char_L, rho0)\n",
    "\n",
    "    in_theorical = a * (func.p_max - rho)\n",
    "\n",
    "\n",
    "    return jnp.mean((-in_ - in_theorical)**2)\n"
   ]
  },
  {
   "cell_type": "code",
   "execution_count": 206,
   "metadata": {},
   "outputs": [],
   "source": [
    "def out_loss(model, func, T, sigma1, b, char_L, steps=20):\n",
    "\n",
    "    t = jnp.linspace(0, T, steps)\n",
    "\n",
    "    x1_flat = jnp.full_like(t, L)/char_L\n",
    "\n",
    "    result = jnp.stack((x1_flat, t), axis=-1)\n",
    "\n",
    "    out_ , rho = j(model, func, result, sigma1, char_L, rho0)\n",
    "\n",
    "    out_theorical = b * rho\n",
    "\n",
    "    return jnp.mean((out_ - out_theorical)**2)"
   ]
  },
  {
   "cell_type": "code",
   "execution_count": 207,
   "metadata": {},
   "outputs": [],
   "source": [
    "def time_loss(model, L, char_L, steps=20):\n",
    "\n",
    "    x1 = jnp.linspace(0, L, steps)/char_L\n",
    "\n",
    "    t_flat = jnp.zeros_like(x1)\n",
    "\n",
    "    result = jnp.stack((x1, t_flat), axis=-1)\n",
    "\n",
    "    rho = jax.vmap(model)(result)\n",
    "\n",
    "    return jnp.mean(rho**2)"
   ]
  },
  {
   "cell_type": "code",
   "execution_count": 208,
   "metadata": {},
   "outputs": [],
   "source": [
    "def loss(model, func, input, L, T, sigma1, char_L, rho0, a, b, steps=20):\n",
    "\n",
    "    return (pde_loss(model, func, input, sigma1, char_L, rho0) + in_loss(model, func, T, sigma1, a, char_t, steps) + \n",
    "            out_loss(model, func, T, sigma1, b, char_L, steps) + \n",
    "            0.1*time_loss(model, L, char_L, steps))"
   ]
  },
  {
   "cell_type": "code",
   "execution_count": 209,
   "metadata": {},
   "outputs": [],
   "source": [
    "def generate_latin_hypercube_samples(num_samples, x1, t):\n",
    "    # Define the ranges\n",
    "    parameter_ranges = jnp.array([x1, t])\n",
    "    \n",
    "    # Create a Latin Hypercube Sampler\n",
    "    sampler = qmc.LatinHypercube(d=len(parameter_ranges))\n",
    "    \n",
    "    # Sample points in the hypercube\n",
    "    sample_points = sampler.random(n=num_samples)\n",
    "    \n",
    "    # Scale the points\n",
    "    scaled_samples = qmc.scale(sample_points, parameter_ranges[:, 0], parameter_ranges[:, 1])\n",
    "    \n",
    "    return jnp.array(scaled_samples)"
   ]
  },
  {
   "cell_type": "code",
   "execution_count": 210,
   "metadata": {},
   "outputs": [],
   "source": [
    "# Define a Multilayer Perceptron\n",
    "\n",
    "class MLP(eqx.Module):\n",
    "    layers: list  # Type annotation indicating that layers is a list. Needed to work properly.\n",
    "\n",
    "\n",
    "    def __init__(self, key, input_dim, hidden_dims, n_layers, output_dim):\n",
    "        \"\"\"Define the MLP\n",
    "\n",
    "        Args:\n",
    "            key (jax key): Random Jey\n",
    "            input_dim (int): Input layer dimension\n",
    "            hidden_dims (int): Hidden layers dimension\n",
    "            n_layers (_type_): Number of hidden layers\n",
    "            output_dim (_type_): Output layer dimension\n",
    "        \"\"\"\n",
    "\n",
    "\n",
    "        \n",
    "        # jax handle random number generation in a different way. Favoring reproducibility.\n",
    "        # This gives each layer a rnd initialization.\n",
    "        keys = jax.random.split(key, n_layers + 1)\n",
    "        \n",
    "        dims = [input_dim] + [hidden_dims] * n_layers + [output_dim]\n",
    "        self.layers = [eqx.nn.Linear(dims[i], dims[i + 1], key=keys[i]) for i in range(len(dims) - 1)]\n",
    "\n",
    "    \n",
    "    def __call__(self, x):\n",
    "        \"\"\"Forward-pass the input through the network\n",
    "\n",
    "        Args:\n",
    "            x (jnp.array): Input\n",
    "\n",
    "        Returns:\n",
    "            jnp.array: NN output\n",
    "        \"\"\"\n",
    "        for layer in self.layers[:-1]:\n",
    "            x = jax.nn.swish(layer(x))\n",
    "            # So far, softplus seems to be the best\n",
    "            # squareplus is curious\n",
    "            # celu shallow (1 layer) got the steady state thing and the curious curve on the x,y plane at steady state.\n",
    "            # swish got somewhat excelent results, but the PDE loss is high\n",
    "        x = self.layers[-1](x)\n",
    "        return x"
   ]
  },
  {
   "cell_type": "code",
   "execution_count": 232,
   "metadata": {},
   "outputs": [],
   "source": [
    "# Initialize the model with multiple hidden layers and scalar output layer\n",
    "model_key = jax.random.PRNGKey(1)\n",
    "\n",
    "\n",
    "output_dim = 'scalar'\n",
    "\n",
    "model = MLP(model_key, input_dim=2, hidden_dims=256, n_layers=4, output_dim=output_dim)"
   ]
  },
  {
   "cell_type": "code",
   "execution_count": 233,
   "metadata": {},
   "outputs": [],
   "source": [
    "# Optimizer definition\n",
    "lr = 0.00001\n",
    "optimizer = optax.adam(learning_rate=lr)\n",
    "opt_state = optimizer.init(model)"
   ]
  },
  {
   "cell_type": "code",
   "execution_count": 234,
   "metadata": {},
   "outputs": [],
   "source": [
    "@eqx.filter_jit # decorator that applies Just-in-time compilation just to the relevant parts. Improves performance.\n",
    "def train_step(model, opt_state, func, input, L, T, sigma1, char_L, rho0, a, b, steps=20):\n",
    "    loss_value, grads = jax.value_and_grad(loss)(model, func, input, L, T, sigma1, char_L, rho0, a, b, steps) # Compute the loss and gradient\n",
    "    updates, opt_state = optimizer.update(grads, opt_state) # Apply the backward propagation\n",
    "    model = eqx.apply_updates(model, updates) # Update the NN\n",
    "    return model, opt_state, loss_value"
   ]
  },
  {
   "cell_type": "code",
   "execution_count": 235,
   "metadata": {},
   "outputs": [
    {
     "name": "stdout",
     "output_type": "stream",
     "text": [
      "Epoch 0, Loss: 1.0676562786102295\n",
      "Epoch 100, Loss: 0.1613941192626953\n",
      "Epoch 200, Loss: 0.09611967951059341\n",
      "Epoch 300, Loss: 0.08457031100988388\n",
      "Epoch 400, Loss: 0.08170841634273529\n",
      "Epoch 500, Loss: 0.07993172854185104\n",
      "Epoch 600, Loss: 0.0782400518655777\n",
      "Epoch 700, Loss: 0.076402448117733\n",
      "Epoch 800, Loss: 0.07475407421588898\n",
      "Epoch 900, Loss: 0.07324526458978653\n",
      "Epoch 1000, Loss: 0.071650430560112\n",
      "Epoch 1100, Loss: 0.06834180653095245\n",
      "Epoch 1200, Loss: 0.06507942080497742\n",
      "Epoch 1300, Loss: 0.06264682114124298\n",
      "Epoch 1400, Loss: 0.060345686972141266\n",
      "Epoch 1500, Loss: 0.05879936367273331\n",
      "Epoch 1600, Loss: 0.05698491260409355\n",
      "Epoch 1700, Loss: 0.05576486140489578\n",
      "Epoch 1800, Loss: 0.054603300988674164\n",
      "Epoch 1900, Loss: 0.05388229340314865\n",
      "Epoch 2000, Loss: 0.05254873260855675\n",
      "Epoch 2100, Loss: 0.052617885172367096\n",
      "Epoch 2200, Loss: 0.0521288737654686\n",
      "Epoch 2300, Loss: 0.05138256400823593\n",
      "Epoch 2400, Loss: 0.05153139308094978\n",
      "Epoch 2500, Loss: 0.051209017634391785\n",
      "Epoch 2600, Loss: 0.050412341952323914\n",
      "Epoch 2700, Loss: 0.05099441483616829\n",
      "Epoch 2800, Loss: 0.05020599067211151\n",
      "Epoch 2900, Loss: 0.05089110508561134\n",
      "Epoch 3000, Loss: 0.05061321333050728\n",
      "Epoch 3100, Loss: 0.050142232328653336\n",
      "Epoch 3200, Loss: 0.04990958422422409\n",
      "Epoch 3300, Loss: 0.050255075097084045\n",
      "Epoch 3400, Loss: 0.04935850948095322\n",
      "Epoch 3500, Loss: 0.04937896504998207\n",
      "Epoch 3600, Loss: 0.04831695184111595\n",
      "Epoch 3700, Loss: 0.04876531660556793\n",
      "Epoch 3800, Loss: 0.04801546409726143\n",
      "Epoch 3900, Loss: 0.04837654158473015\n",
      "Epoch 4000, Loss: 0.048301421105861664\n",
      "Epoch 4100, Loss: 0.04685962200164795\n",
      "Epoch 4200, Loss: 0.04806475341320038\n",
      "Epoch 4300, Loss: 0.0478360690176487\n",
      "Epoch 4400, Loss: 0.04723260924220085\n",
      "Epoch 4500, Loss: 0.046810004860162735\n",
      "Epoch 4600, Loss: 0.04713599383831024\n",
      "Epoch 4700, Loss: 0.04623369127511978\n",
      "Epoch 4800, Loss: 0.04539702832698822\n",
      "Epoch 4900, Loss: 0.04516442492604256\n",
      "Epoch 5000, Loss: 0.044659052044153214\n",
      "Epoch 5100, Loss: 0.044658515602350235\n",
      "Epoch 5200, Loss: 0.0437951423227787\n",
      "Epoch 5300, Loss: 0.04307577386498451\n",
      "Epoch 5400, Loss: 0.04281233623623848\n",
      "Epoch 5500, Loss: 0.04314228519797325\n",
      "Epoch 5600, Loss: 0.042584676295518875\n",
      "Epoch 5700, Loss: 0.04189832881093025\n",
      "Epoch 5800, Loss: 0.041959475725889206\n",
      "Epoch 5900, Loss: 0.04149353876709938\n",
      "Epoch 6000, Loss: 0.041551623493433\n",
      "Epoch 6100, Loss: 0.041057322174310684\n",
      "Epoch 6200, Loss: 0.04119193181395531\n",
      "Epoch 6300, Loss: 0.04065879434347153\n",
      "Epoch 6400, Loss: 0.0407281219959259\n",
      "Epoch 6500, Loss: 0.040508147329092026\n",
      "Epoch 6600, Loss: 0.04024360701441765\n",
      "Epoch 6700, Loss: 0.04070047289133072\n",
      "Epoch 6800, Loss: 0.03975427895784378\n",
      "Epoch 6900, Loss: 0.03992278128862381\n",
      "Epoch 7000, Loss: 0.040345076471567154\n",
      "Epoch 7100, Loss: 0.040193598717451096\n",
      "Epoch 7200, Loss: 0.03992651402950287\n",
      "Epoch 7300, Loss: 0.039353519678115845\n",
      "Epoch 7400, Loss: 0.04037946090102196\n",
      "Epoch 7500, Loss: 0.040066465735435486\n",
      "Epoch 7600, Loss: 0.03988513723015785\n",
      "Epoch 7700, Loss: 0.03983578458428383\n",
      "Epoch 7800, Loss: 0.03952512890100479\n",
      "Epoch 7900, Loss: 0.03897992521524429\n",
      "Epoch 8000, Loss: 0.039054885506629944\n",
      "Epoch 8100, Loss: 0.039843615144491196\n",
      "Epoch 8200, Loss: 0.03933224081993103\n",
      "Epoch 8300, Loss: 0.03941928222775459\n",
      "Epoch 8400, Loss: 0.03868161886930466\n",
      "Epoch 8500, Loss: 0.03907955437898636\n",
      "Epoch 8600, Loss: 0.039102211594581604\n",
      "Epoch 8700, Loss: 0.03877215087413788\n",
      "Epoch 8800, Loss: 0.03844548761844635\n",
      "Epoch 8900, Loss: 0.03893586993217468\n",
      "Epoch 9000, Loss: 0.038731515407562256\n",
      "Epoch 9100, Loss: 0.03876310586929321\n"
     ]
    },
    {
     "ename": "KeyboardInterrupt",
     "evalue": "",
     "output_type": "error",
     "traceback": [
      "\u001b[1;31m---------------------------------------------------------------------------\u001b[0m",
      "\u001b[1;31mKeyboardInterrupt\u001b[0m                         Traceback (most recent call last)",
      "Cell \u001b[1;32mIn[235], line 14\u001b[0m\n\u001b[0;32m     10\u001b[0m sample_points \u001b[38;5;241m=\u001b[39m x\u001b[38;5;241m.\u001b[39mcopy()\n\u001b[0;32m     12\u001b[0m \u001b[38;5;28;01mfor\u001b[39;00m epoch \u001b[38;5;129;01min\u001b[39;00m \u001b[38;5;28mrange\u001b[39m(num_epochs):\n\u001b[1;32m---> 14\u001b[0m     model, opt_state, loss_value \u001b[38;5;241m=\u001b[39m \u001b[43mtrain_step\u001b[49m\u001b[43m(\u001b[49m\u001b[43mmodel\u001b[49m\u001b[43m,\u001b[49m\u001b[43m \u001b[49m\u001b[43mopt_state\u001b[49m\u001b[43m,\u001b[49m\u001b[43m \u001b[49m\u001b[43mfunc\u001b[49m\u001b[43m,\u001b[49m\u001b[43m \u001b[49m\u001b[43mx\u001b[49m\u001b[43m,\u001b[49m\u001b[43m \u001b[49m\u001b[43mL\u001b[49m\u001b[43m,\u001b[49m\u001b[43m \u001b[49m\u001b[43mT\u001b[49m\u001b[43m,\u001b[49m\u001b[43m \u001b[49m\u001b[43msigma1\u001b[49m\u001b[43m,\u001b[49m\u001b[43m \u001b[49m\u001b[43mchar_L\u001b[49m\u001b[43m,\u001b[49m\u001b[43m \u001b[49m\u001b[43mrho0\u001b[49m\u001b[43m,\u001b[49m\u001b[43m \u001b[49m\u001b[43ma\u001b[49m\u001b[43m,\u001b[49m\u001b[43m \u001b[49m\u001b[43mb\u001b[49m\u001b[43m,\u001b[49m\u001b[43m \u001b[49m\u001b[43msteps\u001b[49m\u001b[38;5;241;43m=\u001b[39;49m\u001b[38;5;241;43m20\u001b[39;49m\u001b[43m)\u001b[49m\n\u001b[0;32m     15\u001b[0m     \u001b[38;5;28;01mif\u001b[39;00m epoch \u001b[38;5;241m%\u001b[39m \u001b[38;5;241m100\u001b[39m \u001b[38;5;241m==\u001b[39m \u001b[38;5;241m0\u001b[39m:\n\u001b[0;32m     16\u001b[0m         x \u001b[38;5;241m=\u001b[39m generate_latin_hypercube_samples(sample_n, [\u001b[38;5;241m0\u001b[39m,L\u001b[38;5;241m/\u001b[39mchar_L], [\u001b[38;5;241m0\u001b[39m,T\u001b[38;5;241m/\u001b[39mchar_t]) \u001b[38;5;66;03m# Latin Hypercube sample\u001b[39;00m\n",
      "    \u001b[1;31m[... skipping hidden 3 frame]\u001b[0m\n",
      "File \u001b[1;32mc:\\Users\\andre\\OneDrive\\Documentos\\Warwick\\Individual Project\\Code\\Warwick-Final-Project\\venv\\Lib\\site-packages\\equinox\\_module.py:910\u001b[0m, in \u001b[0;36m_unflatten_module\u001b[1;34m(cls, aux, dynamic_field_values)\u001b[0m\n\u001b[0;32m    900\u001b[0m     aux \u001b[38;5;241m=\u001b[39m _FlattenedData(\n\u001b[0;32m    901\u001b[0m         \u001b[38;5;28mtuple\u001b[39m(dynamic_field_names),\n\u001b[0;32m    902\u001b[0m         \u001b[38;5;28mtuple\u001b[39m(static_field_names),\n\u001b[1;32m   (...)\u001b[0m\n\u001b[0;32m    905\u001b[0m         \u001b[38;5;28mtuple\u001b[39m(wrapper_field_values),\n\u001b[0;32m    906\u001b[0m     )\n\u001b[0;32m    907\u001b[0m     \u001b[38;5;28;01mreturn\u001b[39;00m \u001b[38;5;28mtuple\u001b[39m(dynamic_field_values), aux\n\u001b[1;32m--> 910\u001b[0m \u001b[38;5;28;01mdef\u001b[39;00m \u001b[38;5;21m_unflatten_module\u001b[39m(\u001b[38;5;28mcls\u001b[39m: \u001b[38;5;28mtype\u001b[39m[\u001b[38;5;124m\"\u001b[39m\u001b[38;5;124mModule\u001b[39m\u001b[38;5;124m\"\u001b[39m], aux: _FlattenedData, dynamic_field_values):\n\u001b[0;32m    911\u001b[0m     \u001b[38;5;66;03m# This doesn't go via `__init__`. A user may have done something nontrivial there,\u001b[39;00m\n\u001b[0;32m    912\u001b[0m     \u001b[38;5;66;03m# and the field values may be dummy values as used in various places throughout JAX.\u001b[39;00m\n\u001b[0;32m    913\u001b[0m     \u001b[38;5;66;03m# See also\u001b[39;00m\n\u001b[0;32m    914\u001b[0m     \u001b[38;5;66;03m# https://jax.readthedocs.io/en/latest/pytrees.html#custom-pytrees-and-initialization,\u001b[39;00m\n\u001b[0;32m    915\u001b[0m     \u001b[38;5;66;03m# which was (I believe) inspired by Equinox's approach here.\u001b[39;00m\n\u001b[0;32m    916\u001b[0m     module \u001b[38;5;241m=\u001b[39m \u001b[38;5;28mobject\u001b[39m\u001b[38;5;241m.\u001b[39m\u001b[38;5;21m__new__\u001b[39m(\u001b[38;5;28mcls\u001b[39m)\n\u001b[0;32m    917\u001b[0m     \u001b[38;5;28;01mfor\u001b[39;00m name, value \u001b[38;5;129;01min\u001b[39;00m \u001b[38;5;28mzip\u001b[39m(aux\u001b[38;5;241m.\u001b[39mdynamic_field_names, dynamic_field_values):\n",
      "\u001b[1;31mKeyboardInterrupt\u001b[0m: "
     ]
    }
   ],
   "source": [
    "# Training loop\n",
    "num_epochs = 10000\n",
    "losses = []\n",
    "\n",
    "\n",
    "\n",
    "sample_n = 50\n",
    "x = generate_latin_hypercube_samples(sample_n, [0,L/char_L], [0,T/char_t]) # Latin Hypercube sample\n",
    "\n",
    "sample_points = x.copy()\n",
    "\n",
    "for epoch in range(num_epochs):\n",
    "    \n",
    "    model, opt_state, loss_value = train_step(model, opt_state, func, x, L, T, sigma1, char_L, rho0, a, b, steps=20)\n",
    "    if epoch % 100 == 0:\n",
    "        x = generate_latin_hypercube_samples(sample_n, [0,L/char_L], [0,T/char_t]) # Latin Hypercube sample\n",
    "        sample_points = jnp.vstack((sample_points, x))\n",
    "        losses.append(loss_value)\n",
    "        print(f\"Epoch {epoch}, Loss: {loss_value}\")\n",
    "\n",
    "\n",
    "    if epoch % 1000 == 0:\n",
    "        lr *= 0.25\n",
    "        optimizer = optax.adam(learning_rate=lr)\n",
    "        opt_state = optimizer.init(model)  # Re-initialize optimizer state with new learning rate\n",
    "\n",
    "        \n",
    "\n",
    "# Print final loss\n",
    "x = generate_latin_hypercube_samples(sample_n, [0,L/char_L], [0,T/char_t]) # Latin Hypercube sample\n",
    "final_loss = loss(model, func, x, L, T, sigma1, char_L, rho0, a, b, steps=20)\n",
    "print(f\"Final Loss: {final_loss}\")"
   ]
  },
  {
   "cell_type": "code",
   "execution_count": 236,
   "metadata": {},
   "outputs": [
    {
     "data": {
      "image/png": "[encoded data removed]",
      "text/plain": [
       "<Figure size 640x480 with 1 Axes>"
      ]
     },
     "metadata": {},
     "output_type": "display_data"
    }
   ],
   "source": [
    "plt.plot(losses)\n",
    "plt.yscale('log')\n",
    "plt.xlabel('Epoch x100')\n",
    "plt.ylabel('Loss')\n",
    "plt.title('Loss Evolution')\n",
    "plt.show()"
   ]
  },
  {
   "cell_type": "code",
   "execution_count": 237,
   "metadata": {},
   "outputs": [
    {
     "name": "stdout",
     "output_type": "stream",
     "text": [
      "0.0049102074\n",
      "0.072968245\n",
      "0.028358413\n",
      "0.0022463824\n"
     ]
    }
   ],
   "source": [
    "print(pde_loss(model, func, x,  sigma1, char_L, rho0))\n",
    "print(in_loss(model, func, T, sigma1, a, char_L))\n",
    "print(out_loss(model, func, T, sigma1,  b, char_L))\n",
    "print(time_loss(model, L, char_L))"
   ]
  },
  {
   "cell_type": "code",
   "execution_count": 238,
   "metadata": {},
   "outputs": [
    {
     "data": {
      "image/png": "[encoded data removed]",
      "text/plain": [
       "<Figure size 800x600 with 2 Axes>"
      ]
     },
     "metadata": {},
     "output_type": "display_data"
    }
   ],
   "source": [
    "n_points = 50\n",
    "x = jnp.linspace(0, L/char_L, n_points)\n",
    "t = jnp.linspace(0, T/char_t, n_points)\n",
    "X_grid, T_grid = jnp.meshgrid(x, t)\n",
    "inputs = jnp.stack((X_grid.flatten(), T_grid.flatten()), axis=-1)\n",
    "\n",
    "outputs = jax.vmap(model)(inputs)*rho0\n",
    "outputs = outputs.reshape(n_points, n_points)\n",
    "\n",
    "plt.figure(figsize=(8, 6))\n",
    "plt.contourf(X_grid*char_L, T_grid*char_t, outputs, levels=50, cmap='viridis')\n",
    "plt.colorbar(label='Network Output')\n",
    "plt.xlabel('x')\n",
    "plt.ylabel('t')\n",
    "plt.title('Heatmap of Neural Network Output')\n",
    "plt.show()"
   ]
  },
  {
   "cell_type": "code",
   "execution_count": 239,
   "metadata": {},
   "outputs": [
    {
     "data": {
      "image/png": "[encoded data removed]",
      "text/plain": [
       "<Figure size 640x480 with 1 Axes>"
      ]
     },
     "metadata": {},
     "output_type": "display_data"
    }
   ],
   "source": [
    "from cProfile import label\n",
    "\n",
    "\n",
    "plt.plot(outputs[0], label='t = 0')\n",
    "plt.plot(outputs[8], label='t = 8')\n",
    "plt.plot(outputs[16], label='t = 16')\n",
    "plt.plot(outputs[24], label='t = 24')\n",
    "plt.plot(outputs[49], label='t = 49')\n",
    "#plt.ylim([0.3, 0.7])\n",
    "plt.legend()\n",
    "plt.show()"
   ]
  },
  {
   "cell_type": "code",
   "execution_count": 240,
   "metadata": {},
   "outputs": [
    {
     "data": {
      "image/png": "[encoded data removed]",
      "text/plain": [
       "<Figure size 640x480 with 1 Axes>"
      ]
     },
     "metadata": {},
     "output_type": "display_data"
    }
   ],
   "source": [
    "from cProfile import label\n",
    "\n",
    "\n",
    "plt.plot(outputs.T[0], label='x = 0')\n",
    "plt.plot(outputs.T[24], label='x = 24')\n",
    "plt.plot(outputs.T[49], label='x = 49')\n",
    "plt.legend()\n",
    "plt.show()"
   ]
  },
  {
   "cell_type": "code",
   "execution_count": null,
   "metadata": {},
   "outputs": [],
   "source": []
  }
 ],
 "metadata": {
  "kernelspec": {
   "display_name": "venv",
   "language": "python",
   "name": "python3"
  },
  "language_info": {
   "codemirror_mode": {
    "name": "ipython",
    "version": 3
   },
   "file_extension": ".py",
   "mimetype": "text/x-python",
   "name": "python",
   "nbconvert_exporter": "python",
   "pygments_lexer": "ipython3",
   "version": "3.12.4"
  }
 },
 "nbformat": 4,
 "nbformat_minor": 2
}
