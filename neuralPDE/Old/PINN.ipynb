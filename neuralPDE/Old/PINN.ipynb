{
 "cells": [
  {
   "cell_type": "markdown",
   "metadata": {},
   "source": [
    "## Applying PINN to the PDE"
   ]
  },
  {
   "cell_type": "markdown",
   "metadata": {},
   "source": [
    "We are interessed in solving\n",
    "\n",
    "$$\n",
    "\\frac{\\partial \\rho}{\\partial t} = \\nabla \\cdot \\left(\\Sigma \\nabla\\rho(x,t) - \\rho(x,t) F(\\rho(x,t)) \\right)\n",
    "\n",
    "$$\n",
    "\n",
    "\n",
    "\n",
    "Where $x=(x_1,x_2)$. $\\Sigma = \\rm{diag} (\\sigma_1^2, \\sigma_2^2)$. $F: \\mathbb{R} \\mapsto \\mathbb{R}^2$, $F(\\rho) = f(\\rho)e_1$ and $e_1 = (1 \\ 0)^T$.\n",
    "\n",
    "On the domain\n",
    "\n",
    "$$\n",
    "\\Omega = \\{(x_1, x_2) \\in [0,L] \\times [-l, l]\\}\n",
    "$$\n",
    "\n",
    "With boundary conditions\n",
    "\n",
    "$$\n",
    "j \\cdot n = -a (\\rho_{max} - \\rho) \\quad \\forall x \\in \\Gamma_{in}\n",
    "$$\n",
    "\n",
    "$$\n",
    "j \\cdot n = b \\rho \\quad \\forall x \\in \\Gamma_{out}\n",
    "$$\n",
    "\n",
    "$$\n",
    "j \\cdot n = 0 \\quad \\forall x \\in \\Gamma_{N}\n",
    "$$\n",
    "\n",
    "\n",
    "where\n",
    "\n",
    "$$\n",
    "\\Gamma_{in} = \\{(x_1, x_2) \\in \\Omega: x_1 = 0\\}\n",
    "$$\n",
    "\n",
    "$$\n",
    "\\Gamma_{out} = \\{(x_1, x_2) \\in \\Omega: x_1 = L\\}\n",
    "$$\n",
    "\n",
    "$$\n",
    "\\Gamma_{N} = \\{(x_1, x_2) \\in \\Omega: x_2 = \\pm l\\}\n",
    "$$\n",
    "\n",
    "With $j = -\\Sigma \\nabla \\rho + \\rho F(\\rho)$ and $n$ the outer normal vector, i.e. vector points toward the interior:\n",
    "\n",
    "$$\n",
    "n = \\begin{pmatrix}\n",
    "  -1\\ 0\n",
    "\\end{pmatrix}^T \\quad \\rm{for} \\quad \\Gamma_{in}\n",
    "$$\n",
    "\n",
    "$$\n",
    "n = \\begin{pmatrix}\n",
    "  1\\ 0\n",
    "\\end{pmatrix}^T \\quad \\rm{for} \\quad \\Gamma_{out}\n",
    "$$\n",
    "\n",
    "$$\n",
    "n = \\begin{pmatrix}\n",
    "  0\\ 1\n",
    "\\end{pmatrix}^T \\quad \\textrm{for upper wall}\n",
    "$$\n",
    "\n",
    "$$\n",
    "n = \\begin{pmatrix}\n",
    "  0\\ -1\n",
    "\\end{pmatrix}^T \\quad \\textrm{for lower wall}\n",
    "$$"
   ]
  },
  {
   "cell_type": "markdown",
   "metadata": {},
   "source": [
    "In a more explicit manner, the PDE can be written as\n",
    "\n",
    "$$\n",
    "\\frac{\\partial \\rho}{\\partial t} = \\sigma_1 \\frac{\\partial^2 \\rho}{\\partial x_1^2} + \\sigma_2 \\frac{\\partial^2 \\rho}{\\partial x_2^2} - \\frac{\\partial \\rho}{\\partial x_1} \\left(f(\\rho(x,t)) + \\rho(x,t) \\frac{d f(\\rho(x,t))}{d \\rho} \\right)\n",
    "$$"
   ]
  },
  {
   "cell_type": "code",
   "execution_count": 11,
   "metadata": {},
   "outputs": [],
   "source": [
    "import numpy as np\n",
    "import matplotlib.pyplot as plt\n",
    "import jax\n",
    "import jax.numpy as jnp\n",
    "import equinox as eqx\n",
    "\n",
    "import optax\n",
    "\n",
    "import timeit\n",
    "\n",
    "from scipy.stats import qmc"
   ]
  },
  {
   "cell_type": "code",
   "execution_count": 12,
   "metadata": {},
   "outputs": [],
   "source": [
    "# Correct that to import from the other file\n",
    "\n",
    "from abc import ABC, abstractmethod\n",
    "\n",
    "class FundamentalDiagram():\n",
    "    def __init__(self, params):\n",
    "        self.params = params\n",
    "\n",
    "    def __call__(self,density):\n",
    "        return self.flux(density)\n",
    "    \n",
    "    @abstractmethod\n",
    "    def flux(self, density):\n",
    "        pass\n",
    "\n",
    "    @abstractmethod\n",
    "    def __str__(self):\n",
    "        pass\n",
    "\n",
    "\n",
    "\n",
    "class Greenshield(FundamentalDiagram):\n",
    "    def __init__(self, params):\n",
    "        super().__init__(params)\n",
    "        self.v_max = self.params[0]\n",
    "        self.p_max = self.params[1]\n",
    "    \n",
    "    def flux(self, density):\n",
    "        return self.v_max * (1 - (density/self.p_max))\n",
    "    \n",
    "    def d_flux(self, density):\n",
    "        return - self.v_max/self.p_max + 0*density\n",
    "    \n",
    "    def __str__(self):\n",
    "        return \"Greenshield\""
   ]
  },
  {
   "cell_type": "code",
   "execution_count": 13,
   "metadata": {},
   "outputs": [],
   "source": [
    "model_key = jax.random.PRNGKey(1)\n",
    "\n",
    "input_dim = 3\n",
    "output_dim = 'scalar'\n",
    "\n",
    "layers_size = 10\n",
    "n_layers = 1\n",
    "\n",
    "model = eqx.nn.MLP(in_size=input_dim, out_size=output_dim, width_size=layers_size, depth=n_layers,\n",
    "                    activation=jax.nn.sigmoid, use_final_bias=False, key=model_key)"
   ]
  },
  {
   "cell_type": "code",
   "execution_count": 14,
   "metadata": {},
   "outputs": [],
   "source": [
    "# input = (x1, x2, t)"
   ]
  },
  {
   "cell_type": "code",
   "execution_count": 82,
   "metadata": {},
   "outputs": [],
   "source": [
    "sigma1 = 0.5*0.5\n",
    "sigma2 = 0.5*0.5\n",
    "\n",
    "L = 2\n",
    "l = 0.5\n",
    "T = 5\n",
    "\n",
    "a = 0.9\n",
    "b = 0.5\n",
    "\n",
    "\n",
    "v_max = 1.2\n",
    "p_max = 4"
   ]
  },
  {
   "cell_type": "code",
   "execution_count": 83,
   "metadata": {},
   "outputs": [],
   "source": [
    "func = Greenshield([v_max, p_max])"
   ]
  },
  {
   "cell_type": "code",
   "execution_count": 84,
   "metadata": {},
   "outputs": [],
   "source": [
    "# Example batch input\n",
    "\n",
    "batch_input_data = jnp.array([\n",
    "    [1.0, 2.0, 0.5],\n",
    "    [3.0, 4.0, 0.7],\n",
    "    [5.0, 6.0, 0.3]\n",
    "])"
   ]
  },
  {
   "cell_type": "code",
   "execution_count": 85,
   "metadata": {},
   "outputs": [],
   "source": [
    "def pde_loss(model, func, input, sigma1, sigma2):\n",
    "    \n",
    "    # p = rho\n",
    "\n",
    "    rho, grad = jax.vmap(jax.value_and_grad(model))(input)\n",
    "    hess = jax.vmap(jax.hessian(model))(input)\n",
    "\n",
    "    dp_dx1 = grad[:, 0] \n",
    "    dp_dt = grad[:, 2]\n",
    "    d2p_dx12 = hess[:, 0, 0]\n",
    "    d2p_dx22 = hess[:, 1, 1]\n",
    "\n",
    "    fp = func.flux(rho)\n",
    "    df_p = func.d_flux(rho)\n",
    "\n",
    "    rhs = sigma1*d2p_dx12 + sigma2*d2p_dx22 - dp_dx1 * (fp + rho*df_p)\n",
    "\n",
    "    return jnp.mean((dp_dt - rhs)**2)"
   ]
  },
  {
   "cell_type": "code",
   "execution_count": 86,
   "metadata": {},
   "outputs": [
    {
     "data": {
      "text/plain": [
       "Array(0.28644577, dtype=float32)"
      ]
     },
     "execution_count": 86,
     "metadata": {},
     "output_type": "execute_result"
    }
   ],
   "source": [
    "pde_loss(model, func, batch_input_data,  sigma1=sigma1, sigma2=sigma2)"
   ]
  },
  {
   "cell_type": "code",
   "execution_count": 87,
   "metadata": {},
   "outputs": [],
   "source": [
    "def j(model, func, input, sigma1, sigma2):\n",
    "    rho, grad = jax.vmap(jax.value_and_grad(model))(input)\n",
    "\n",
    "    i_0 = - sigma1*grad[:, 0] + rho * func(rho)\n",
    "    i_1 = - sigma2*grad[:, 1]\n",
    "\n",
    "    return i_0, i_1, rho"
   ]
  },
  {
   "cell_type": "code",
   "execution_count": 88,
   "metadata": {},
   "outputs": [],
   "source": [
    "def walls_loss(model, func, l, L, T, sigma1, sigma2, steps=20):\n",
    "    x1 = jnp.linspace(0, L, steps)\n",
    "    t = jnp.linspace(0, T, steps)\n",
    "\n",
    "    X1_grid, T_grid = jnp.meshgrid(x1, t)\n",
    "\n",
    "    x1_flat = X1_grid.flatten()\n",
    "    t_flat = T_grid.flatten()\n",
    "    x2_flat_positive = jnp.full_like(x1_flat, l)\n",
    "    x2_flat_negative = jnp.full_like(x1_flat, -l)\n",
    "\n",
    "\n",
    "    result_positive = jnp.stack((x1_flat, x2_flat_positive, t_flat), axis=-1)\n",
    "    result_negative = jnp.stack((x1_flat, x2_flat_negative, t_flat), axis=-1)\n",
    "\n",
    "    _ , upper, _ = j(model, func, result_positive, sigma1, sigma2)\n",
    "    _ , lower, _ = j(model, func, result_negative, sigma1, sigma2)\n",
    "\n",
    "\n",
    "    #return upper\n",
    "    return jnp.mean(upper**2 + lower**2)"
   ]
  },
  {
   "cell_type": "code",
   "execution_count": 89,
   "metadata": {},
   "outputs": [
    {
     "data": {
      "text/plain": [
       "Array(0.04878369, dtype=float32)"
      ]
     },
     "execution_count": 89,
     "metadata": {},
     "output_type": "execute_result"
    }
   ],
   "source": [
    "walls_loss(model, func, l, L, T, sigma1, sigma2)"
   ]
  },
  {
   "cell_type": "code",
   "execution_count": 90,
   "metadata": {},
   "outputs": [],
   "source": [
    "def in_loss(model, func, l, T, sigma1, sigma2, a, steps=20):\n",
    "\n",
    "    x2 = jnp.linspace(-l, l, steps)\n",
    "    t = jnp.linspace(0, T, steps)\n",
    "\n",
    "    X2_grid, T_grid = jnp.meshgrid(x2, t)\n",
    "\n",
    "    x2_flat = X2_grid.flatten()\n",
    "    t_flat = T_grid.flatten()\n",
    "    x1_flat = jnp.zeros_like(x2_flat)\n",
    "\n",
    "    result = jnp.stack((x1_flat, x2_flat, t_flat), axis=-1)\n",
    "\n",
    "    in_ , _, rho = j(model, func, result, sigma1, sigma2)\n",
    "\n",
    "    in_theorical = -a * (func.p_max - rho)\n",
    "\n",
    "\n",
    "\n",
    "\n",
    "    return jnp.mean((-in_ - in_theorical)**2)\n"
   ]
  },
  {
   "cell_type": "code",
   "execution_count": 91,
   "metadata": {},
   "outputs": [
    {
     "data": {
      "text/plain": [
       "Array(0.21647511, dtype=float32)"
      ]
     },
     "execution_count": 91,
     "metadata": {},
     "output_type": "execute_result"
    }
   ],
   "source": [
    "in_loss(model, func, l, T, sigma1, sigma2, a)"
   ]
  },
  {
   "cell_type": "code",
   "execution_count": 121,
   "metadata": {},
   "outputs": [],
   "source": [
    "def out_loss(model, func, l, L, T, sigma1, sigma2, b, steps=20):\n",
    "\n",
    "    x2 = jnp.linspace(-l, l, steps)\n",
    "    t = jnp.linspace(0, T, steps)\n",
    "\n",
    "    X2_grid, T_grid = jnp.meshgrid(x2, t)\n",
    "\n",
    "    x2_flat = X2_grid.flatten()\n",
    "    t_flat = T_grid.flatten()\n",
    "    x1_flat = jnp.full_like(x2_flat, L)\n",
    "\n",
    "    result = jnp.stack((x1_flat, x2_flat, t_flat), axis=-1)\n",
    "\n",
    "    out_ , _, rho = j(model, func, result, sigma1, sigma2)\n",
    "\n",
    "    out_theorical = b * rho\n",
    "\n",
    "\n",
    "\n",
    "\n",
    "    return jnp.mean((out_ - out_theorical)**2)"
   ]
  },
  {
   "cell_type": "code",
   "execution_count": 122,
   "metadata": {},
   "outputs": [
    {
     "data": {
      "text/plain": [
       "Array(0.03418251, dtype=float32)"
      ]
     },
     "execution_count": 122,
     "metadata": {},
     "output_type": "execute_result"
    }
   ],
   "source": [
    "out_loss(model, func, L, l, T, sigma1, sigma2, b)"
   ]
  },
  {
   "cell_type": "code",
   "execution_count": 124,
   "metadata": {},
   "outputs": [],
   "source": [
    "def time_loss(model, l, L, steps=20):\n",
    "\n",
    "    x1 = jnp.linspace(0, L, steps)\n",
    "    x2 = jnp.linspace(-l, l, steps)\n",
    "\n",
    "    X1_grid, X2_grid = jnp.meshgrid(x1, x2)\n",
    "\n",
    "    x1_flat = X1_grid.flatten()\n",
    "    x2_flat = X2_grid.flatten()\n",
    "    t_flat = jnp.zeros_like(x2_flat)\n",
    "\n",
    "    result = jnp.stack((x1_flat, x2_flat, t_flat), axis=-1)\n",
    "\n",
    "    rho = jax.vmap(model)(result)\n",
    "\n",
    "    return jnp.mean(rho**2)"
   ]
  },
  {
   "cell_type": "code",
   "execution_count": 125,
   "metadata": {},
   "outputs": [
    {
     "data": {
      "text/plain": [
       "Array(0.04392358, dtype=float32)"
      ]
     },
     "execution_count": 125,
     "metadata": {},
     "output_type": "execute_result"
    }
   ],
   "source": [
    "time_loss(model, l, L)"
   ]
  },
  {
   "cell_type": "code",
   "execution_count": 230,
   "metadata": {},
   "outputs": [],
   "source": [
    "def loss(model, func, input, l, L, T, sigma1, sigma2, a, b, steps=20):\n",
    "\n",
    "    return (walls_loss(model, func, l, L, T, sigma1, sigma2, steps) +\n",
    "            in_loss(model, func, l, T, sigma1, sigma2, a, steps) + out_loss(model, func, L, l, T, sigma1, sigma2, b, steps) + \n",
    "            time_loss(model, l, L, steps))\n",
    "\n",
    "    #return time_loss(model, l, L, steps)"
   ]
  },
  {
   "cell_type": "code",
   "execution_count": 231,
   "metadata": {},
   "outputs": [
    {
     "data": {
      "text/plain": [
       "Array(0.04925239, dtype=float32)"
      ]
     },
     "execution_count": 231,
     "metadata": {},
     "output_type": "execute_result"
    }
   ],
   "source": [
    "loss(model, func, batch_input_data, l, L, T, sigma1, sigma2, a, b)"
   ]
  },
  {
   "cell_type": "code",
   "execution_count": 232,
   "metadata": {},
   "outputs": [],
   "source": [
    "# Define a Multilayer Perceptron\n",
    "\n",
    "class MLP(eqx.Module):\n",
    "    layers: list  # Type annotation indicating that layers is a list. Needed to work properly.\n",
    "\n",
    "\n",
    "    def __init__(self, key, input_dim, hidden_dims, n_layers, output_dim):\n",
    "        \"\"\"Define the MLP\n",
    "\n",
    "        Args:\n",
    "            key (jax key): Random Jey\n",
    "            input_dim (int): Input layer dimension\n",
    "            hidden_dims (int): Hidden layers dimension\n",
    "            n_layers (_type_): Number of hidden layers\n",
    "            output_dim (_type_): Output layer dimension\n",
    "        \"\"\"\n",
    "\n",
    "\n",
    "        \n",
    "        # jax handle random number generation in a different way. Favoring reproducibility.\n",
    "        # This gives each layer a rnd initialization.\n",
    "        keys = jax.random.split(key, n_layers + 1)\n",
    "        \n",
    "        dims = [input_dim] + [hidden_dims] * n_layers + [output_dim]\n",
    "        self.layers = [eqx.nn.Linear(dims[i], dims[i + 1], key=keys[i]) for i in range(len(dims) - 1)]\n",
    "\n",
    "    \n",
    "    def __call__(self, x):\n",
    "        \"\"\"Forward-pass the input through the network\n",
    "\n",
    "        Args:\n",
    "            x (jnp.array): Input\n",
    "\n",
    "        Returns:\n",
    "            jnp.array: NN output\n",
    "        \"\"\"\n",
    "        for layer in self.layers[:-1]:\n",
    "            x = jax.nn.softplus(layer(x))\n",
    "        x = self.layers[-1](x)\n",
    "        return x"
   ]
  },
  {
   "cell_type": "code",
   "execution_count": 233,
   "metadata": {},
   "outputs": [],
   "source": [
    "# Define a Multilayer Perceptron With a Skip Connection\n",
    "\n",
    "class MLP(eqx.Module):\n",
    "    layers: list  # Type annotation indicating that layers is a list. Needed to work properly.\n",
    "    gate: eqx.nn.Linear  # Learnable gating mechanism\n",
    "\n",
    "\n",
    "    def __init__(self, key, input_dim, hidden_dims, n_layers, output_dim):\n",
    "        \"\"\"Define the MLP\n",
    "\n",
    "        Args:\n",
    "            key (jax key): Random Jey\n",
    "            input_dim (int): Input layer dimension\n",
    "            hidden_dims (int): Hidden layers dimension\n",
    "            n_layers (_type_): Number of hidden layers\n",
    "            output_dim (_type_): Output layer dimension\n",
    "        \"\"\"\n",
    "\n",
    "\n",
    "        \n",
    "        # jax handle random number generation in a different way. Favoring reproducibility.\n",
    "        # This gives each layer a rnd initialization.\n",
    "        keys = jax.random.split(key, n_layers + 2)\n",
    "        \n",
    "        dims = [input_dim] + [hidden_dims] * n_layers + [output_dim]\n",
    "        self.layers = [eqx.nn.Linear(dims[i], dims[i + 1], key=keys[i]) for i in range(len(dims) - 1)]\n",
    "\n",
    "        # Skip connection\n",
    "        self.gate = eqx.nn.Linear(1, 1, key=keys[-1]) # Linear layer for the third input\n",
    "\n",
    "    \n",
    "    def __call__(self, x):\n",
    "        \"\"\"Forward-pass the input through the network\n",
    "\n",
    "        Args:\n",
    "            x (jnp.array): Input\n",
    "\n",
    "        Returns:\n",
    "            jnp.array: NN output\n",
    "        \"\"\"\n",
    "\n",
    "        skip_connection = x # Copy of input\n",
    "\n",
    "\n",
    "        for layer in self.layers[:-1]:\n",
    "            x = jax.nn.sigmoid(layer(x))\n",
    "            \n",
    "        x = self.layers[-1](x)\n",
    "\n",
    "        # Apply the skip connection\n",
    "\n",
    "        gate_input = skip_connection[2].reshape(1, 1)  # Reshape to match gate input dimensions\n",
    "        gate_output = self.gate(gate_input)\n",
    "\n",
    "        x = x * gate_output\n",
    "\n",
    "        return x.squeeze() "
   ]
  },
  {
   "cell_type": "code",
   "execution_count": 234,
   "metadata": {},
   "outputs": [],
   "source": [
    "def generate_latin_hypercube_samples(num_samples, x1, x2, t):\n",
    "    # Define the ranges\n",
    "    parameter_ranges = jnp.array([x1, x2, t])\n",
    "    \n",
    "    # Create a Latin Hypercube Sampler\n",
    "    sampler = qmc.LatinHypercube(d=len(parameter_ranges))\n",
    "    \n",
    "    # Sample points in the hypercube\n",
    "    sample_points = sampler.random(n=num_samples)\n",
    "    \n",
    "    # Scale the points\n",
    "    scaled_samples = qmc.scale(sample_points, parameter_ranges[:, 0], parameter_ranges[:, 1])\n",
    "    \n",
    "    return jnp.array(scaled_samples)"
   ]
  },
  {
   "cell_type": "code",
   "execution_count": 235,
   "metadata": {},
   "outputs": [
    {
     "data": {
      "text/plain": [
       "Array([[ 0.6636403 ,  0.25620908,  4.035728  ],\n",
       "       [ 1.3505154 ,  0.42716667,  4.741586  ],\n",
       "       [ 0.45676744, -0.2759313 ,  0.71862596],\n",
       "       [ 1.0843239 , -0.1361747 ,  2.2414076 ],\n",
       "       [ 0.87707293,  0.3376015 ,  1.4177188 ],\n",
       "       [ 0.20658468, -0.0301923 ,  2.8638105 ],\n",
       "       [ 1.957134  ,  0.01632917,  3.9925673 ],\n",
       "       [ 0.05431437, -0.4103561 ,  3.0654287 ],\n",
       "       [ 1.4939775 ,  0.12555225,  0.0103209 ],\n",
       "       [ 1.790397  , -0.3862622 ,  1.8302498 ]], dtype=float32)"
      ]
     },
     "execution_count": 235,
     "metadata": {},
     "output_type": "execute_result"
    }
   ],
   "source": [
    "generate_latin_hypercube_samples(10, [0,L], [-l,l], [0,T])"
   ]
  },
  {
   "cell_type": "code",
   "execution_count": 236,
   "metadata": {},
   "outputs": [],
   "source": [
    "# Initialize the model with multiple hidden layers and scalar output layer\n",
    "model_key = jax.random.PRNGKey(1)\n",
    "\n",
    "\n",
    "output_dim = 'scalar'\n",
    "\n",
    "model = MLP(model_key, input_dim=input_dim, hidden_dims=500, n_layers=2, output_dim=output_dim)"
   ]
  },
  {
   "cell_type": "code",
   "execution_count": 237,
   "metadata": {},
   "outputs": [],
   "source": [
    "# Optimizer definition\n",
    "lr = 0.001\n",
    "optimizer = optax.adam(learning_rate=lr)\n",
    "opt_state = optimizer.init(model)"
   ]
  },
  {
   "cell_type": "code",
   "execution_count": 238,
   "metadata": {},
   "outputs": [],
   "source": [
    "@eqx.filter_jit # decorator that applies Just-in-time compilation just to the relevant parts. Improves performance.\n",
    "def train_step(model, opt_state, func, input, l, L, T, sigma1, sigma2, a, b, steps=20):\n",
    "    loss_value, grads = jax.value_and_grad(loss)(model, func, input, l, L, T, sigma1, sigma2, a, b, steps) # Compute the loss and gradient\n",
    "    updates, opt_state = optimizer.update(grads, opt_state) # Apply the backward propagation\n",
    "    model = eqx.apply_updates(model, updates) # Update the NN\n",
    "    return model, opt_state, loss_value"
   ]
  },
  {
   "cell_type": "code",
   "execution_count": 239,
   "metadata": {},
   "outputs": [
    {
     "name": "stdout",
     "output_type": "stream",
     "text": [
      "Epoch 0, Loss: 7.923731803894043\n",
      "Epoch 100, Loss: 0.8932534456253052\n",
      "Epoch 200, Loss: 0.8341742753982544\n",
      "Epoch 300, Loss: 0.7752888798713684\n",
      "Epoch 400, Loss: 0.7053406238555908\n",
      "Epoch 500, Loss: 0.6368539929389954\n",
      "Epoch 600, Loss: 0.5787384510040283\n",
      "Epoch 700, Loss: 0.5247810482978821\n",
      "Epoch 800, Loss: 0.463478147983551\n",
      "Epoch 900, Loss: 0.38716423511505127\n",
      "Epoch 1000, Loss: 0.3074760437011719\n",
      "Epoch 1100, Loss: 0.26596471667289734\n",
      "Epoch 1200, Loss: 0.22970356047153473\n",
      "Epoch 1300, Loss: 0.19872082769870758\n",
      "Epoch 1400, Loss: 0.16078835725784302\n",
      "Epoch 1500, Loss: 0.0957837849855423\n",
      "Epoch 1600, Loss: 0.02659878507256508\n",
      "Epoch 1700, Loss: 0.0226955134421587\n",
      "Epoch 1800, Loss: 0.018176639452576637\n",
      "Epoch 1900, Loss: 0.02846907265484333\n",
      "Epoch 2000, Loss: 0.01641063392162323\n",
      "Epoch 2100, Loss: 0.025491029024124146\n",
      "Epoch 2200, Loss: 0.016456857323646545\n",
      "Epoch 2300, Loss: 0.014456106349825859\n",
      "Epoch 2400, Loss: 0.013694792054593563\n",
      "Epoch 2500, Loss: 0.01298876665532589\n",
      "Epoch 2600, Loss: 0.012298252433538437\n",
      "Epoch 2700, Loss: 0.011640869081020355\n",
      "Epoch 2800, Loss: 0.011034003458917141\n",
      "Epoch 2900, Loss: 0.010478196665644646\n",
      "Epoch 3000, Loss: 0.009959897957742214\n",
      "Epoch 3100, Loss: 0.029935039579868317\n",
      "Epoch 3200, Loss: 0.013742065988481045\n",
      "Epoch 3300, Loss: 0.010392962023615837\n",
      "Epoch 3400, Loss: 0.00978066585958004\n",
      "Epoch 3500, Loss: 0.009349178522825241\n",
      "Epoch 3600, Loss: 0.008957953192293644\n",
      "Epoch 3700, Loss: 0.008587992750108242\n",
      "Epoch 3800, Loss: 0.008240638300776482\n",
      "Epoch 3900, Loss: 0.007917538285255432\n",
      "Epoch 4000, Loss: 0.007613664492964745\n",
      "Epoch 4100, Loss: 0.04330578073859215\n",
      "Epoch 4200, Loss: 0.019938601180911064\n",
      "Epoch 4300, Loss: 0.010228411294519901\n",
      "Epoch 4400, Loss: 0.008360584266483784\n",
      "Epoch 4500, Loss: 0.007964096032083035\n",
      "Epoch 4600, Loss: 0.007710959296673536\n",
      "Epoch 4700, Loss: 0.007481843698769808\n",
      "Epoch 4800, Loss: 0.007259578909724951\n",
      "Epoch 4900, Loss: 0.007038491778075695\n",
      "Epoch 5000, Loss: 0.006815794855356216\n",
      "Epoch 5100, Loss: 0.012768534012138844\n",
      "Epoch 5200, Loss: 0.00697401724755764\n",
      "Epoch 5300, Loss: 0.0066803027875721455\n",
      "Epoch 5400, Loss: 0.00650399224832654\n",
      "Epoch 5500, Loss: 0.006316283717751503\n",
      "Epoch 5600, Loss: 0.006112521514296532\n",
      "Epoch 5700, Loss: 0.0058922008611261845\n",
      "Epoch 5800, Loss: 0.00565651198849082\n",
      "Epoch 5900, Loss: 0.0054092491045594215\n",
      "Epoch 6000, Loss: 0.00636606989428401\n",
      "Epoch 6100, Loss: 0.016065029427409172\n",
      "Epoch 6200, Loss: 0.006865701638162136\n",
      "Epoch 6300, Loss: 0.00584357650950551\n",
      "Epoch 6400, Loss: 0.005613734479993582\n",
      "Epoch 6500, Loss: 0.005417033564299345\n",
      "Epoch 6600, Loss: 0.005218604113906622\n",
      "Epoch 6700, Loss: 0.0050136251375079155\n",
      "Epoch 6800, Loss: 0.004802508279681206\n",
      "Epoch 6900, Loss: 0.004587272182106972\n",
      "Epoch 7000, Loss: 0.004370850510895252\n",
      "Epoch 7100, Loss: 0.005594269372522831\n",
      "Epoch 7200, Loss: 0.004172703716903925\n",
      "Epoch 7300, Loss: 0.004037429578602314\n",
      "Epoch 7400, Loss: 0.003912145271897316\n",
      "Epoch 7500, Loss: 0.003785116830840707\n",
      "Epoch 7600, Loss: 0.0036500897258520126\n",
      "Epoch 7700, Loss: 0.003507582936435938\n",
      "Epoch 7800, Loss: 0.0033625231590121984\n",
      "Epoch 7900, Loss: 0.003219854785129428\n",
      "Epoch 8000, Loss: 0.0030830928590148687\n",
      "Epoch 8100, Loss: 0.0032436575274914503\n",
      "Epoch 8200, Loss: 0.0030482488218694925\n",
      "Epoch 8300, Loss: 0.0029457388445734978\n",
      "Epoch 8400, Loss: 0.0028495555743575096\n",
      "Epoch 8500, Loss: 0.0027643260546028614\n",
      "Epoch 8600, Loss: 0.002687169471755624\n",
      "Epoch 8700, Loss: 0.0026150040794163942\n",
      "Epoch 8800, Loss: 0.002546342322602868\n",
      "Epoch 8900, Loss: 0.002480513183400035\n",
      "Epoch 9000, Loss: 0.0026735509745776653\n",
      "Epoch 9100, Loss: 0.004286608658730984\n",
      "Epoch 9200, Loss: 0.0032797919120639563\n",
      "Epoch 9300, Loss: 0.003144665155559778\n",
      "Epoch 9400, Loss: 0.0030225999653339386\n",
      "Epoch 9500, Loss: 0.002906366717070341\n",
      "Epoch 9600, Loss: 0.002796817570924759\n",
      "Epoch 9700, Loss: 0.002695131814107299\n",
      "Epoch 9800, Loss: 0.0026033790782094\n",
      "Epoch 9900, Loss: 0.0025235565844923258\n",
      "Final Loss: 0.002455441514030099\n"
     ]
    },
    {
     "ename": "",
     "evalue": "",
     "output_type": "error",
     "traceback": [
      "\u001b[1;31mThe Kernel crashed while executing code in the current cell or a previous cell. \n",
      "\u001b[1;31mPlease review the code in the cell(s) to identify a possible cause of the failure. \n",
      "\u001b[1;31mClick <a href='https://aka.ms/vscodeJupyterKernelCrash'>here</a> for more info. \n",
      "\u001b[1;31mView Jupyter <a href='command:jupyter.viewOutput'>log</a> for further details."
     ]
    }
   ],
   "source": [
    "# Training loop\n",
    "num_epochs = 10000\n",
    "losses = []\n",
    "\n",
    "\n",
    "\n",
    "sample_n = 50\n",
    "x = generate_latin_hypercube_samples(sample_n, [0,L], [-l,l], [0,T]) # Latin Hypercube sample\n",
    "\n",
    "sample_points = x.copy()\n",
    "\n",
    "for epoch in range(num_epochs):\n",
    "    \n",
    "    model, opt_state, loss_value = train_step(model, opt_state, func, x, l, L, T, sigma1, sigma2, a, b, steps=20)\n",
    "    if epoch % 100 == 0:\n",
    "        x = generate_latin_hypercube_samples(sample_n, [0,L], [-l,l], [0,T]) # Latin Hypercube sample\n",
    "        sample_points = jnp.vstack((sample_points, x))\n",
    "        losses.append(loss_value)\n",
    "        print(f\"Epoch {epoch}, Loss: {loss_value}\")\n",
    "\n",
    "\n",
    "    if epoch % 1000 == 0:\n",
    "        lr *= 0.45\n",
    "        optimizer = optax.adam(learning_rate=lr)\n",
    "        opt_state = optimizer.init(model)  # Re-initialize optimizer state with new learning rate\n",
    "\n",
    "        \n",
    "\n",
    "# Print final loss\n",
    "x = generate_latin_hypercube_samples(sample_n, [0,L], [-l,l], [0,T]) # Latin Hypercube sample\n",
    "final_loss = loss(model, func, x, l, L, T, sigma1, sigma2, a, b, steps=20)\n",
    "print(f\"Final Loss: {final_loss}\")"
   ]
  },
  {
   "cell_type": "code",
   "execution_count": 212,
   "metadata": {},
   "outputs": [
    {
     "data": {
      "image/png": "[encoded data removed]",
      "text/plain": [
       "<Figure size 640x480 with 1 Axes>"
      ]
     },
     "metadata": {},
     "output_type": "display_data"
    }
   ],
   "source": [
    "plt.plot(losses)\n",
    "plt.yscale('log')\n",
    "plt.xlabel('Epoch x100')\n",
    "plt.ylabel('Loss')\n",
    "plt.title('Loss Evolution')\n",
    "plt.show()"
   ]
  },
  {
   "cell_type": "code",
   "execution_count": 213,
   "metadata": {},
   "outputs": [
    {
     "data": {
      "text/plain": [
       "Array(0.0302239, dtype=float32)"
      ]
     },
     "execution_count": 213,
     "metadata": {},
     "output_type": "execute_result"
    }
   ],
   "source": [
    "out_loss(model, func, L, l, T, sigma1, sigma2, b)"
   ]
  },
  {
   "cell_type": "code",
   "execution_count": 214,
   "metadata": {},
   "outputs": [
    {
     "name": "stdout",
     "output_type": "stream",
     "text": [
      "2.7039924\n",
      "0.0021697287\n",
      "0.00457479\n",
      "0.0302239\n",
      "0.012283973\n"
     ]
    }
   ],
   "source": [
    "print(pde_loss(model, func, batch_input_data,  sigma1=sigma1, sigma2=sigma2))\n",
    "print(walls_loss(model, func, l, L, T, sigma1, sigma2))\n",
    "print(in_loss(model, func, l, T, sigma1, sigma2, a))\n",
    "print(out_loss(model, func, L, l, T, sigma1, sigma2, b))\n",
    "print(time_loss(model, l, L))"
   ]
  },
  {
   "cell_type": "code",
   "execution_count": 229,
   "metadata": {},
   "outputs": [
    {
     "data": {
      "image/png": "[encoded data removed]",
      "text/plain": [
       "<Figure size 800x600 with 2 Axes>"
      ]
     },
     "metadata": {},
     "output_type": "display_data"
    }
   ],
   "source": [
    "# Define a function to evaluate the network on a grid\n",
    "def evaluate_on_grid(neural_network, x1_range, x2_range, x3_fixed, num_points_x1, num_points_x2):\n",
    "    # Create equally spaced points for x1 and x2\n",
    "    x1 = jnp.linspace(*x1_range, num_points_x1)\n",
    "    x2 = jnp.linspace(*x2_range, num_points_x2)\n",
    "    \n",
    "    # Create a meshgrid\n",
    "    X1_grid, X2_grid = jnp.meshgrid(x1, x2)\n",
    "    \n",
    "    # Flatten the grids\n",
    "    x1_flat = X1_grid.flatten()\n",
    "    x2_flat = X2_grid.flatten()\n",
    "    \n",
    "    # Create the constant x3 array\n",
    "    x3_flat = jnp.full_like(x1_flat, x3_fixed)\n",
    "    \n",
    "    # Stack the inputs together\n",
    "    inputs = jnp.stack((x1_flat, x2_flat, x3_flat), axis=-1)\n",
    "    \n",
    "    # Evaluate the network on each input\n",
    "    outputs = jnp.array([neural_network(inp) for inp in inputs])\n",
    "    \n",
    "    # Reshape the outputs to match the grid\n",
    "    outputs_grid = outputs.reshape(num_points_x2, num_points_x1)\n",
    "    \n",
    "    return X1_grid, X2_grid, outputs_grid\n",
    "\n",
    "# Example usage\n",
    "params = None  # Replace with actual parameters of your network\n",
    "x1_range = (0, L)\n",
    "x2_range = (-l, l)\n",
    "x3_fixed = 1\n",
    "num_points_x1 = 50\n",
    "num_points_x2 = 50\n",
    "\n",
    "X1_grid, X2_grid, outputs_grid = evaluate_on_grid(model, x1_range, x2_range, x3_fixed, num_points_x1, num_points_x2)\n",
    "\n",
    "# Plotting the heatmap\n",
    "plt.figure(figsize=(8, 6))\n",
    "plt.contourf(X1_grid, X2_grid, outputs_grid, levels=50, cmap='viridis')\n",
    "plt.colorbar(label='Network Output')\n",
    "plt.xlabel('x1')\n",
    "plt.ylabel('x2')\n",
    "plt.title('Heatmap of Neural Network Output')\n",
    "plt.show()"
   ]
  },
  {
   "cell_type": "code",
   "execution_count": 216,
   "metadata": {},
   "outputs": [
    {
     "data": {
      "image/png": "[encoded data removed]",
      "text/plain": [
       "<Figure size 800x600 with 2 Axes>"
      ]
     },
     "metadata": {},
     "output_type": "display_data"
    }
   ],
   "source": [
    "def evaluate_on_grid(neural_network, x1_range, x3_range, x2_fixed, num_points_x1, num_points_x3):\n",
    "    # Create equally spaced points for x1 and x3\n",
    "    x1 = jnp.linspace(*x1_range, num_points_x1)\n",
    "    x3 = jnp.linspace(*x3_range, num_points_x3)\n",
    "    \n",
    "    # Create a meshgrid\n",
    "    X1_grid, X3_grid = jnp.meshgrid(x1, x3)\n",
    "    \n",
    "    # Flatten the grids\n",
    "    x1_flat = X1_grid.flatten()\n",
    "    x3_flat = X3_grid.flatten()\n",
    "    \n",
    "    # Create the constant x2 array\n",
    "    x2_flat = jnp.full_like(x1_flat, x2_fixed)\n",
    "    \n",
    "    # Stack the inputs together\n",
    "    inputs = jnp.stack((x1_flat, x2_flat, x3_flat), axis=-1)\n",
    "    \n",
    "    # Evaluate the network on each input\n",
    "    outputs = jnp.array([neural_network(inp) for inp in inputs])\n",
    "    \n",
    "    # Reshape the outputs to match the grid\n",
    "    outputs_grid = outputs.reshape(num_points_x3, num_points_x1)\n",
    "    \n",
    "    return X1_grid, X3_grid, outputs_grid\n",
    "\n",
    "# Example usage\n",
    "params = None  # Replace with actual parameters of your network\n",
    "x1_range = (0, L)\n",
    "x3_range = (0, T)\n",
    "x2_fixed = 0\n",
    "num_points_x1 = 100\n",
    "num_points_x3 = 100\n",
    "\n",
    "X1_grid, X3_grid, outputs_grid = evaluate_on_grid(model, x1_range, x3_range, x2_fixed, num_points_x1, num_points_x3)\n",
    "\n",
    "# Plotting the heatmap\n",
    "plt.figure(figsize=(8, 6))\n",
    "plt.contourf(X1_grid, X3_grid, outputs_grid, levels=50, cmap='viridis')\n",
    "plt.colorbar(label='Network Output')\n",
    "plt.xlabel('x1')\n",
    "plt.ylabel('t')\n",
    "plt.title('Heatmap of Neural Network Output with x2=0')\n",
    "plt.show()"
   ]
  },
  {
   "cell_type": "code",
   "execution_count": 81,
   "metadata": {},
   "outputs": [],
   "source": [
    "d=0.1\n",
    "t = 1"
   ]
  },
  {
   "cell_type": "code",
   "execution_count": 67,
   "metadata": {},
   "outputs": [
    {
     "data": {
      "text/plain": [
       "Array([[[-1.02314341e+00,  3.05922389e-01,  1.33926924e-02],\n",
       "        [ 3.05922389e-01, -1.29695415e-01,  3.87590945e-01],\n",
       "        [ 1.33926757e-02,  3.87590855e-01,  5.11156507e-02]],\n",
       "\n",
       "       [[-4.40914668e-02,  2.27595959e-02, -1.22350045e-01],\n",
       "        [ 2.27595549e-02,  1.96366664e-02,  1.02300480e-01],\n",
       "        [-1.22350037e-01,  1.02300458e-01,  5.46588041e-02]],\n",
       "\n",
       "       [[-2.78910622e-04, -1.52377207e-02, -6.98310584e-02],\n",
       "        [-1.52377021e-02,  3.24197598e-02,  6.34557456e-02],\n",
       "        [-6.98310435e-02,  6.34557828e-02,  5.15914783e-02]]],      dtype=float32)"
      ]
     },
     "execution_count": 67,
     "metadata": {},
     "output_type": "execute_result"
    }
   ],
   "source": [
    "jax.vmap(jax.hessian(model))(batch_input_data)"
   ]
  },
  {
   "cell_type": "code",
   "execution_count": null,
   "metadata": {},
   "outputs": [],
   "source": []
  }
 ],
 "metadata": {
  "kernelspec": {
   "display_name": "venv",
   "language": "python",
   "name": "python3"
  },
  "language_info": {
   "codemirror_mode": {
    "name": "ipython",
    "version": 3
   },
   "file_extension": ".py",
   "mimetype": "text/x-python",
   "name": "python",
   "nbconvert_exporter": "python",
   "pygments_lexer": "ipython3",
   "version": "3.12.4"
  }
 },
 "nbformat": 4,
 "nbformat_minor": 2
}
