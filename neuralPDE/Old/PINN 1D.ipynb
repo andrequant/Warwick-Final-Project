{
 "cells": [
  {
   "cell_type": "markdown",
   "metadata": {},
   "source": [
    "## Applying PINN to the PDE - 1D Version"
   ]
  },
  {
   "cell_type": "markdown",
   "metadata": {},
   "source": [
    "We are interessed in solving\n",
    "\n",
    "$$\n",
    "\\frac{\\partial \\rho}{\\partial t} = \\nabla \\cdot \\left(\\Sigma \\nabla\\rho(x,t) - \\rho(x,t) F(\\rho(x,t)) \\right)\n",
    "\n",
    "$$\n",
    "\n",
    "\n",
    "\n",
    "Where $x=x_1$. $\\Sigma = \\rm{diag} (\\sigma_1^2, \\sigma_2^2)$. $F: \\mathbb{R} \\mapsto \\mathbb{R}$, $F(\\rho) = f(\\rho).\n",
    "\n",
    "On the domain\n",
    "\n",
    "$$\n",
    "\\Omega = \\{x \\in [0,L]\\}\n",
    "$$\n",
    "\n",
    "With boundary conditions\n",
    "\n",
    "$$\n",
    "j \\cdot n = -a (\\rho_{max} - \\rho) \\quad \\forall x \\in \\Gamma_{in}\n",
    "$$\n",
    "\n",
    "$$\n",
    "j \\cdot n = b \\rho \\quad \\forall x \\in \\Gamma_{out}\n",
    "$$\n",
    "\n",
    "\n",
    "where\n",
    "\n",
    "$$\n",
    "\\Gamma_{in} = \\{(x_1, x_2) \\in \\Omega: x_1 = 0\\}\n",
    "$$\n",
    "\n",
    "$$\n",
    "\\Gamma_{out} = \\{(x_1, x_2) \\in \\Omega: x_1 = L\\}\n",
    "$$\n",
    "\n",
    "\n",
    "With $j = -\\Sigma \\nabla \\rho + \\rho F(\\rho)$, in 1-D, $j = -\\sigma_1 \\frac{\\partial \\rho}{\\partial x_1} + \\rho f(\\rho)$ and $n$ the outer normal vector, i.e. vector points toward the interior:\n",
    "\n",
    "$$\n",
    "n = -1 \\quad \\rm{for} \\quad \\Gamma_{in}\n",
    "$$\n",
    "\n",
    "$$\n",
    "n = 1\\quad \\rm{for} \\quad \\Gamma_{out}\n",
    "$$\n"
   ]
  },
  {
   "cell_type": "markdown",
   "metadata": {},
   "source": [
    "In a more explicit manner, the PDE can be written as\n",
    "\n",
    "$$\n",
    "\\frac{\\partial \\rho}{\\partial t} = \\sigma_1 \\frac{\\partial^2 \\rho}{\\partial x_1^2} - \\frac{\\partial \\rho}{\\partial x_1} \\left(f(\\rho(x,t)) + \\rho(x,t) \\frac{d f(\\rho(x,t))}{d \\rho} \\right)\n",
    "$$"
   ]
  },
  {
   "cell_type": "code",
   "execution_count": 1,
   "metadata": {},
   "outputs": [],
   "source": [
    "import numpy as np\n",
    "import matplotlib.pyplot as plt\n",
    "import jax\n",
    "import jax.numpy as jnp\n",
    "import equinox as eqx\n",
    "\n",
    "import optax\n",
    "\n",
    "import timeit\n",
    "\n",
    "from scipy.stats import qmc"
   ]
  },
  {
   "cell_type": "code",
   "execution_count": 2,
   "metadata": {},
   "outputs": [],
   "source": [
    "# Correct that to import from the other file\n",
    "\n",
    "from abc import ABC, abstractmethod\n",
    "\n",
    "class FundamentalDiagram():\n",
    "    def __init__(self, params):\n",
    "        self.params = params\n",
    "\n",
    "    def __call__(self,density):\n",
    "        return self.flux(density)\n",
    "    \n",
    "    @abstractmethod\n",
    "    def flux(self, density):\n",
    "        pass\n",
    "\n",
    "    @abstractmethod\n",
    "    def __str__(self):\n",
    "        pass\n",
    "\n",
    "\n",
    "\n",
    "class Greenshield(FundamentalDiagram):\n",
    "    def __init__(self, params):\n",
    "        super().__init__(params)\n",
    "        self.v_max = self.params[0]\n",
    "        self.p_max = self.params[1]\n",
    "    \n",
    "    def flux(self, density):\n",
    "        return self.v_max * (1 - (density/self.p_max))\n",
    "    \n",
    "    def d_flux(self, density):\n",
    "        return - self.v_max/self.p_max + 0*density\n",
    "    \n",
    "    def __str__(self):\n",
    "        return \"Greenshield\""
   ]
  },
  {
   "cell_type": "code",
   "execution_count": 3,
   "metadata": {},
   "outputs": [],
   "source": [
    "model_key = jax.random.PRNGKey(1)\n",
    "\n",
    "input_dim = 2\n",
    "output_dim = 'scalar'\n",
    "\n",
    "layers_size = 10\n",
    "n_layers = 1\n",
    "\n",
    "model = eqx.nn.MLP(in_size=input_dim, out_size=output_dim, width_size=layers_size, depth=n_layers,\n",
    "                    activation=jax.nn.sigmoid, use_final_bias=False, key=model_key)"
   ]
  },
  {
   "cell_type": "code",
   "execution_count": 4,
   "metadata": {},
   "outputs": [],
   "source": [
    "# input = (x1, x2, t)"
   ]
  },
  {
   "cell_type": "code",
   "execution_count": 7,
   "metadata": {},
   "outputs": [],
   "source": [
    "sigma1 = 0.5**2\n",
    "\n",
    "\n",
    "L = 3\n",
    "T = 30\n",
    "\n",
    "a = 0.9\n",
    "b = 0.975\n",
    "\n",
    "\n",
    "v_max = 1.5\n",
    "p_max = 1 # rho_max cannot be learned Susana's paper"
   ]
  },
  {
   "cell_type": "code",
   "execution_count": 8,
   "metadata": {},
   "outputs": [],
   "source": [
    "func = Greenshield([v_max, p_max])"
   ]
  },
  {
   "cell_type": "code",
   "execution_count": 9,
   "metadata": {},
   "outputs": [],
   "source": [
    "# Example batch input\n",
    "\n",
    "batch_input_data = jnp.array([\n",
    "    [1.0, 2.0],\n",
    "    [3.0, 4.0],\n",
    "    [5.0, 6.0]\n",
    "])"
   ]
  },
  {
   "cell_type": "code",
   "execution_count": 10,
   "metadata": {},
   "outputs": [],
   "source": [
    "def pde_loss(model, func, input, sigma1):\n",
    "    \n",
    "    # p = rho\n",
    "\n",
    "    rho, grad = jax.vmap(jax.value_and_grad(model))(input)\n",
    "    hess = jax.vmap(jax.hessian(model))(input)\n",
    "\n",
    "    dp_dx1 = grad[:, 0] \n",
    "    dp_dt = grad[:, 1]\n",
    "    d2p_dx12 = hess[:, 0, 0]\n",
    "\n",
    "\n",
    "    fp = func.flux(rho)\n",
    "    df_p = func.d_flux(rho)\n",
    "\n",
    "    rhs = sigma1*d2p_dx12 - dp_dx1 * (fp + rho*df_p)\n",
    "\n",
    "    return jnp.mean((dp_dt - sigma1*d2p_dx12 + dp_dx1*(fp + rho*df_p))**2)\n",
    "\n",
    "    #return jnp.mean((dp_dt - rhs)**2)"
   ]
  },
  {
   "cell_type": "code",
   "execution_count": 11,
   "metadata": {},
   "outputs": [
    {
     "data": {
      "text/plain": [
       "Array(0.00348904, dtype=float32)"
      ]
     },
     "execution_count": 11,
     "metadata": {},
     "output_type": "execute_result"
    }
   ],
   "source": [
    "pde_loss(model, func, batch_input_data,  sigma1=sigma1)"
   ]
  },
  {
   "cell_type": "code",
   "execution_count": 12,
   "metadata": {},
   "outputs": [
    {
     "data": {
      "text/plain": [
       "Array([[1., 2.],\n",
       "       [3., 4.],\n",
       "       [5., 6.]], dtype=float32)"
      ]
     },
     "execution_count": 12,
     "metadata": {},
     "output_type": "execute_result"
    }
   ],
   "source": [
    "batch_input_data"
   ]
  },
  {
   "cell_type": "code",
   "execution_count": 13,
   "metadata": {},
   "outputs": [],
   "source": [
    "def j(model, func, input, sigma1):\n",
    "    rho, grad = jax.vmap(jax.value_and_grad(model))(input)\n",
    "\n",
    "    i_0 = - sigma1*grad[:, 0] + rho * func(rho)\n",
    "\n",
    "    return i_0, rho"
   ]
  },
  {
   "cell_type": "code",
   "execution_count": 14,
   "metadata": {},
   "outputs": [],
   "source": [
    "def in_loss(model, func, T, sigma1, a, steps=20):\n",
    "\n",
    "    t = jnp.linspace(0.0, T, steps)\n",
    "\n",
    "    x1_flat = jnp.zeros_like(t)\n",
    "\n",
    "    result = jnp.stack((x1_flat, t), axis=-1)\n",
    "\n",
    "    in_ , rho = j(model, func, result, sigma1)\n",
    "\n",
    "    in_theorical = -a * (func.p_max - rho)\n",
    "\n",
    "\n",
    "\n",
    "    rho, grad = jax.vmap(jax.value_and_grad(model))(result)\n",
    "    #hess = jax.vmap(jax.hessian(model))(input)\n",
    "\n",
    "    dp_dx1 = grad[:, 0] \n",
    "    dp_dt = grad[:, 1]\n",
    "\n",
    "\n",
    "\n",
    "    return jnp.mean((sigma1*dp_dx1 - func.v_max * (1-2*rho) + a*(1-rho))**2)\n",
    "    #return jnp.mean((-in_ - in_theorical)**2)\n"
   ]
  },
  {
   "cell_type": "code",
   "execution_count": 15,
   "metadata": {},
   "outputs": [
    {
     "data": {
      "text/plain": [
       "Array(4.267332, dtype=float32)"
      ]
     },
     "execution_count": 15,
     "metadata": {},
     "output_type": "execute_result"
    }
   ],
   "source": [
    "in_loss(model, func, T, sigma1, a)"
   ]
  },
  {
   "cell_type": "code",
   "execution_count": 16,
   "metadata": {},
   "outputs": [],
   "source": [
    "def out_loss(model, func, T, sigma1, b, steps=20):\n",
    "\n",
    "    t = jnp.linspace(0.0, T, steps)\n",
    "\n",
    "    x1_flat = jnp.full_like(t, L)\n",
    "\n",
    "    result = jnp.stack((x1_flat, t), axis=-1)\n",
    "\n",
    "    out_ , rho = j(model, func, result, sigma1)\n",
    "\n",
    "    out_theorical = b * rho\n",
    "\n",
    "    \n",
    "    rho, grad = jax.vmap(jax.value_and_grad(model))(result)\n",
    "    #hess = jax.vmap(jax.hessian(model))(input)\n",
    "\n",
    "    dp_dx1 = grad[:, 0] \n",
    "\n",
    "\n",
    "\n",
    "    return jnp.mean((sigma1*dp_dx1 + func.v_max * (1-2*rho) - b*rho)**2)\n",
    "\n",
    "    #return jnp.mean((out_ - out_theorical)**2)"
   ]
  },
  {
   "cell_type": "code",
   "execution_count": 17,
   "metadata": {},
   "outputs": [],
   "source": [
    "def time_loss(model, L, steps=20):\n",
    "\n",
    "    x1 = jnp.linspace(0, L, steps)\n",
    "\n",
    "    t_flat = jnp.zeros_like(x1)\n",
    "\n",
    "    result = jnp.stack((x1, t_flat), axis=-1)\n",
    "\n",
    "    rho = jax.vmap(model)(result)\n",
    "\n",
    "    return jnp.mean(rho**2)"
   ]
  },
  {
   "cell_type": "code",
   "execution_count": 18,
   "metadata": {},
   "outputs": [
    {
     "data": {
      "text/plain": [
       "Array(0.47608837, dtype=float32)"
      ]
     },
     "execution_count": 18,
     "metadata": {},
     "output_type": "execute_result"
    }
   ],
   "source": [
    "time_loss(model, L)"
   ]
  },
  {
   "cell_type": "code",
   "execution_count": 19,
   "metadata": {},
   "outputs": [],
   "source": [
    "def loss(model, func, input, L, T, sigma1, a, b, steps=20):\n",
    "\n",
    "    return (2*pde_loss(model, func, input,  sigma1)+ in_loss(model, func, T, sigma1, a, steps) + \n",
    "            out_loss(model, func, T, sigma1, b, steps)\n",
    "            + time_loss(model, L, steps))"
   ]
  },
  {
   "cell_type": "code",
   "execution_count": 20,
   "metadata": {},
   "outputs": [
    {
     "data": {
      "text/plain": [
       "Array(23.137255, dtype=float32)"
      ]
     },
     "execution_count": 20,
     "metadata": {},
     "output_type": "execute_result"
    }
   ],
   "source": [
    "loss(model, func, batch_input_data, L, T, sigma1, a, b)"
   ]
  },
  {
   "cell_type": "code",
   "execution_count": 21,
   "metadata": {},
   "outputs": [],
   "source": [
    "# # Define a Multilayer Perceptron With a Skip Connection\n",
    "\n",
    "# class MLP(eqx.Module):\n",
    "#     layers: list  # Type annotation indicating that layers is a list. Needed to work properly.\n",
    "#     gate: eqx.nn.Linear  # Learnable gating mechanism\n",
    "\n",
    "\n",
    "#     def __init__(self, key, input_dim, hidden_dims, n_layers, output_dim):\n",
    "#         \"\"\"Define the MLP\n",
    "\n",
    "#         Args:\n",
    "#             key (jax key): Random Jey\n",
    "#             input_dim (int): Input layer dimension\n",
    "#             hidden_dims (int): Hidden layers dimension\n",
    "#             n_layers (_type_): Number of hidden layers\n",
    "#             output_dim (_type_): Output layer dimension\n",
    "#         \"\"\"\n",
    "\n",
    "\n",
    "        \n",
    "#         # jax handle random number generation in a different way. Favoring reproducibility.\n",
    "#         # This gives each layer a rnd initialization.\n",
    "#         keys = jax.random.split(key, n_layers + 2)\n",
    "        \n",
    "#         dims = [input_dim] + [hidden_dims] * n_layers + [output_dim]\n",
    "#         self.layers = [eqx.nn.Linear(dims[i], dims[i + 1], key=keys[i]) for i in range(len(dims) - 1)]\n",
    "\n",
    "#         # Skip connection\n",
    "#         self.gate = eqx.nn.Linear(1, 1, key=keys[-1]) # Linear layer for the third input\n",
    "\n",
    "    \n",
    "#     def __call__(self, x):\n",
    "#         \"\"\"Forward-pass the input through the network\n",
    "\n",
    "#         Args:\n",
    "#             x (jnp.array): Input\n",
    "\n",
    "#         Returns:\n",
    "#             jnp.array: NN output\n",
    "#         \"\"\"\n",
    "\n",
    "#         skip_connection = x # Copy of input\n",
    "\n",
    "#         n = \n",
    "#         for layer in self.layers[:-1]:\n",
    "#             x = jax.nn.tanh(layer(x))\n",
    "            \n",
    "#         x = self.layers[-1](x)\n",
    "\n",
    "#         # Apply the skip connection\n",
    "\n",
    "#         gate_input = skip_connection[2].reshape(1, 1)  # Reshape to match gate input dimensions\n",
    "#         gate_output = self.gate(gate_input)\n",
    "\n",
    "#         x = x * gate_output\n",
    "\n",
    "#         return x.squeeze() "
   ]
  },
  {
   "cell_type": "code",
   "execution_count": 22,
   "metadata": {},
   "outputs": [],
   "source": [
    "def generate_latin_hypercube_samples(num_samples, x1, t):\n",
    "    # Define the ranges\n",
    "    parameter_ranges = jnp.array([x1, t])\n",
    "    \n",
    "    # Create a Latin Hypercube Sampler\n",
    "    sampler = qmc.LatinHypercube(d=len(parameter_ranges))\n",
    "    \n",
    "    # Sample points in the hypercube\n",
    "    sample_points = sampler.random(n=num_samples)\n",
    "    \n",
    "    # Scale the points\n",
    "    scaled_samples = qmc.scale(sample_points, parameter_ranges[:, 0], parameter_ranges[:, 1])\n",
    "    \n",
    "    return jnp.array(scaled_samples)"
   ]
  },
  {
   "cell_type": "code",
   "execution_count": 34,
   "metadata": {},
   "outputs": [],
   "source": [
    "# Define a Multilayer Perceptron\n",
    "\n",
    "class MLP(eqx.Module):\n",
    "    layers: list  # Type annotation indicating that layers is a list. Needed to work properly.\n",
    "\n",
    "\n",
    "    def __init__(self, key, input_dim, hidden_dims, n_layers, output_dim):\n",
    "        \"\"\"Define the MLP\n",
    "\n",
    "        Args:\n",
    "            key (jax key): Random Jey\n",
    "            input_dim (int): Input layer dimension\n",
    "            hidden_dims (int): Hidden layers dimension\n",
    "            n_layers (_type_): Number of hidden layers\n",
    "            output_dim (_type_): Output layer dimension\n",
    "        \"\"\"\n",
    "\n",
    "\n",
    "        \n",
    "        # jax handle random number generation in a different way. Favoring reproducibility.\n",
    "        # This gives each layer a rnd initialization.\n",
    "        keys = jax.random.split(key, n_layers + 1)\n",
    "        \n",
    "        dims = [input_dim] + [hidden_dims] * n_layers + [output_dim]\n",
    "        self.layers = [eqx.nn.Linear(dims[i], dims[i + 1], key=keys[i]) for i in range(len(dims) - 1)]\n",
    "\n",
    "    \n",
    "    def __call__(self, x):\n",
    "        \"\"\"Forward-pass the input through the network\n",
    "\n",
    "        Args:\n",
    "            x (jnp.array): Input\n",
    "\n",
    "        Returns:\n",
    "            jnp.array: NN output\n",
    "        \"\"\"\n",
    "        for layer in self.layers[:-1]:\n",
    "            x = jax.nn.gelu(layer(x))\n",
    "            # So far, softplus seems to be the best\n",
    "            # squareplus is curious\n",
    "            # celu shallow (1 layer) got the steady state thing and the curious curve on the x,y plane at steady state.\n",
    "            # swish got somewhat excelent results, but the PDE loss is high\n",
    "        \n",
    "        #x = jax.nn.gelu(self.layers[-2](x))\n",
    "        x = self.layers[-1](x)\n",
    "        return x"
   ]
  },
  {
   "cell_type": "code",
   "execution_count": 35,
   "metadata": {},
   "outputs": [],
   "source": [
    "@eqx.filter_jit # decorator that applies Just-in-time compilation just to the relevant parts. Improves performance.\n",
    "def train_step(model, opt_state, func, input, L, T, sigma1, a, b, steps=20):\n",
    "    loss_value, grads = jax.value_and_grad(loss)(model, func, input, L, T, sigma1, a, b, steps) # Compute the loss and gradient\n",
    "    updates, opt_state = optimizer.update(grads, opt_state) # Apply the backward propagation\n",
    "    model = eqx.apply_updates(model, updates) # Update the NN\n",
    "    return model, opt_state, loss_value"
   ]
  },
  {
   "cell_type": "code",
   "execution_count": 36,
   "metadata": {},
   "outputs": [],
   "source": [
    "# Initialize the model with multiple hidden layers and scalar output layer\n",
    "model_key = jax.random.PRNGKey(1)\n",
    "\n",
    "\n",
    "output_dim = 'scalar'\n",
    "\n",
    "model = MLP(model_key, input_dim=2, hidden_dims=256, n_layers=6, output_dim=output_dim)"
   ]
  },
  {
   "cell_type": "code",
   "execution_count": 37,
   "metadata": {},
   "outputs": [],
   "source": [
    "# Optimizer definition\n",
    "lr = 10e-4\n",
    "optimizer = optax.adam(learning_rate=lr)\n",
    "opt_state = optimizer.init(model)"
   ]
  },
  {
   "cell_type": "code",
   "execution_count": 38,
   "metadata": {},
   "outputs": [
    {
     "name": "stdout",
     "output_type": "stream",
     "text": [
      "Epoch 0, Loss: 2.752964973449707\n",
      "Epoch 100, Loss: 0.02922014333307743\n",
      "Epoch 200, Loss: 0.028169475495815277\n",
      "Epoch 300, Loss: 0.03367675468325615\n",
      "Epoch 400, Loss: 0.020857220515608788\n",
      "Epoch 500, Loss: 0.023133059963583946\n",
      "Epoch 600, Loss: 0.01244884543120861\n",
      "Epoch 700, Loss: 0.011076855473220348\n",
      "Epoch 800, Loss: 0.00958830863237381\n",
      "Epoch 900, Loss: 0.01119096390902996\n",
      "Epoch 1000, Loss: 0.00796844344586134\n",
      "Epoch 1100, Loss: 0.012958205305039883\n",
      "Epoch 1200, Loss: 0.011659642681479454\n",
      "Epoch 1300, Loss: 0.8259215354919434\n",
      "Epoch 1400, Loss: 0.011539747938513756\n",
      "Epoch 1500, Loss: 0.007044671569019556\n",
      "Epoch 1600, Loss: 0.008934386074543\n",
      "Epoch 1700, Loss: 0.0046511366963386536\n",
      "Epoch 1800, Loss: 0.00991805549710989\n",
      "Epoch 1900, Loss: 0.004804493859410286\n",
      "Epoch 2000, Loss: 0.01692284271121025\n",
      "Epoch 2100, Loss: 0.015882989391684532\n",
      "Epoch 2200, Loss: 0.04768338426947594\n",
      "Epoch 2300, Loss: 0.007772496435791254\n",
      "Epoch 2400, Loss: 0.008985398337244987\n",
      "Epoch 2500, Loss: 0.020626990124583244\n",
      "Epoch 2600, Loss: 0.015399984084069729\n",
      "Epoch 2700, Loss: 0.01321408897638321\n",
      "Epoch 2800, Loss: 0.008525649085640907\n",
      "Epoch 2900, Loss: 0.017559010535478592\n",
      "Epoch 3000, Loss: 0.02694682776927948\n",
      "Epoch 3100, Loss: 0.011119266040623188\n",
      "Epoch 3200, Loss: 0.006194219924509525\n",
      "Epoch 3300, Loss: 0.0030204863287508488\n",
      "Epoch 3400, Loss: 0.00010848180681932718\n",
      "Epoch 3500, Loss: 0.0001035807144944556\n",
      "Epoch 3600, Loss: 9.971475810743868e-05\n",
      "Epoch 3700, Loss: 0.0001022952637868002\n",
      "Epoch 3800, Loss: 9.122371557168663e-05\n",
      "Epoch 3900, Loss: 7.005161751294509e-05\n",
      "Epoch 4000, Loss: 5.759218038292602e-05\n",
      "Epoch 4100, Loss: 0.00024244761152658612\n",
      "Epoch 4200, Loss: 0.00010528095299378037\n",
      "Epoch 4300, Loss: 6.28378038527444e-05\n",
      "Epoch 4400, Loss: 0.0001318360591540113\n",
      "Epoch 4500, Loss: 4.371433169580996e-05\n",
      "Epoch 4600, Loss: 6.274379848036915e-05\n",
      "Epoch 4700, Loss: 2.3429400243912823e-05\n",
      "Epoch 4800, Loss: 2.1468145860126242e-05\n",
      "Epoch 4900, Loss: 1.7093712813220918e-05\n",
      "Epoch 5000, Loss: 1.0774832844617777e-05\n",
      "Epoch 5100, Loss: 0.00023376998433377594\n",
      "Epoch 5200, Loss: 0.00013541326916310936\n",
      "Epoch 5300, Loss: 9.259756188839674e-05\n",
      "Epoch 5400, Loss: 2.3290682293009013e-05\n",
      "Epoch 5500, Loss: 9.13390249479562e-06\n",
      "Epoch 5600, Loss: 6.131890404503793e-05\n",
      "Epoch 5700, Loss: 5.1417814574961085e-06\n",
      "Epoch 5800, Loss: 5.067007805337198e-06\n",
      "Epoch 5900, Loss: 0.00018180882034357637\n",
      "Epoch 6000, Loss: 2.9184463983256137e-06\n",
      "Epoch 6100, Loss: 0.00022210368479136378\n",
      "Epoch 6200, Loss: 0.00011443180846981704\n",
      "Epoch 6300, Loss: 0.00011495797662064433\n",
      "Epoch 6400, Loss: 0.00010320767614757642\n",
      "Epoch 6500, Loss: 9.718953515402973e-05\n",
      "Epoch 6600, Loss: 2.116395626217127e-05\n",
      "Epoch 6700, Loss: 1.3941299584985245e-05\n",
      "Epoch 6800, Loss: 1.0889160876104143e-05\n",
      "Epoch 6900, Loss: 7.508038834203035e-06\n",
      "Epoch 7000, Loss: 5.32807962372317e-06\n",
      "Epoch 7100, Loss: 0.00029327257652767\n",
      "Epoch 7200, Loss: 0.00011686996003845707\n",
      "Epoch 7300, Loss: 0.0001257598923984915\n",
      "Epoch 7400, Loss: 8.581192378187552e-05\n",
      "Epoch 7500, Loss: 5.13413360749837e-05\n",
      "Epoch 7600, Loss: 6.885296170366928e-05\n",
      "Epoch 7700, Loss: 3.322675547678955e-05\n",
      "Epoch 7800, Loss: 3.6195160646457225e-05\n",
      "Epoch 7900, Loss: 2.7034366212319583e-05\n",
      "Epoch 8000, Loss: 2.8543508960865438e-05\n",
      "Epoch 8100, Loss: 0.010449700057506561\n",
      "Epoch 8200, Loss: 0.00032003718661144376\n",
      "Epoch 8300, Loss: 0.00018321676179766655\n",
      "Epoch 8400, Loss: 0.00015528002404607832\n",
      "Epoch 8500, Loss: 7.345643825829029e-05\n",
      "Epoch 8600, Loss: 3.1810315704206005e-05\n",
      "Epoch 8700, Loss: 5.191529999137856e-05\n",
      "Epoch 8800, Loss: 2.5495739464531653e-05\n",
      "Epoch 8900, Loss: 1.4121536878519692e-05\n",
      "Epoch 9000, Loss: 5.355670873541385e-05\n",
      "Epoch 9100, Loss: 0.00022899682517163455\n",
      "Epoch 9200, Loss: 0.03689948096871376\n",
      "Epoch 9300, Loss: 0.011006118729710579\n",
      "Epoch 9400, Loss: 0.007017588708549738\n",
      "Epoch 9500, Loss: 0.01039341650903225\n",
      "Epoch 9600, Loss: 0.0872407928109169\n",
      "Epoch 9700, Loss: 0.06553015857934952\n",
      "Epoch 9800, Loss: 0.03157036751508713\n",
      "Epoch 9900, Loss: 0.0047994088381528854\n",
      "Epoch 10000, Loss: 0.004070240538567305\n",
      "Epoch 10100, Loss: 0.012340466491878033\n",
      "Epoch 10200, Loss: 0.00012321266694925725\n",
      "Epoch 10300, Loss: 3.456478953012265e-05\n",
      "Epoch 10400, Loss: 2.3663036699872464e-05\n",
      "Epoch 10500, Loss: 2.214078813267406e-05\n",
      "Epoch 10600, Loss: 0.0002662739425431937\n",
      "Epoch 10700, Loss: 6.568842218257487e-05\n",
      "Epoch 10800, Loss: 4.543876457319129e-06\n",
      "Epoch 10900, Loss: 3.6283595363784116e-06\n",
      "Epoch 11000, Loss: 3.0567555313609773e-06\n",
      "Epoch 11100, Loss: 0.008706968277692795\n",
      "Epoch 11200, Loss: 8.767276449361816e-05\n",
      "Epoch 11300, Loss: 2.1988971639075316e-05\n",
      "Epoch 11400, Loss: 1.0503113117010798e-05\n",
      "Epoch 11500, Loss: 5.259378667687997e-06\n",
      "Epoch 11600, Loss: 4.446637831279077e-06\n",
      "Epoch 11700, Loss: 4.5000015234109014e-06\n",
      "Epoch 11800, Loss: 2.7380426672607427e-06\n",
      "Epoch 11900, Loss: 4.321066171542043e-06\n",
      "Epoch 12000, Loss: 2.8855256459792145e-06\n",
      "Epoch 12100, Loss: 0.0002567331539466977\n",
      "Epoch 12200, Loss: 3.265560735599138e-05\n",
      "Epoch 12300, Loss: 3.0086612241575494e-05\n",
      "Epoch 12400, Loss: 8.629527292214334e-05\n",
      "Epoch 12500, Loss: 9.529636372462846e-06\n",
      "Epoch 12600, Loss: 2.781274997687433e-05\n",
      "Epoch 12700, Loss: 1.2078009604010731e-05\n",
      "Epoch 12800, Loss: 9.480199878453277e-06\n",
      "Epoch 12900, Loss: 4.009581516584149e-06\n",
      "Epoch 13000, Loss: 5.274560407997342e-06\n",
      "Epoch 13100, Loss: 0.00019308798073325306\n",
      "Epoch 13200, Loss: 0.022700298577547073\n",
      "Epoch 13300, Loss: 0.010679320432245731\n",
      "Epoch 13400, Loss: 0.016515865921974182\n",
      "Epoch 13500, Loss: 0.0067283110693097115\n",
      "Epoch 13600, Loss: 0.011778919957578182\n",
      "Epoch 13700, Loss: 0.020132338628172874\n",
      "Epoch 13800, Loss: 0.006144811399281025\n",
      "Epoch 13900, Loss: 0.006824790965765715\n",
      "Epoch 14000, Loss: 0.01162466686218977\n",
      "Epoch 14100, Loss: 0.009433651342988014\n",
      "Epoch 14200, Loss: 0.0030411123298108578\n",
      "Epoch 14300, Loss: 0.012615780346095562\n",
      "Epoch 14400, Loss: 0.01003349106758833\n",
      "Epoch 14500, Loss: 0.0064728716388344765\n",
      "Epoch 14600, Loss: 0.004212663974612951\n",
      "Epoch 14700, Loss: 0.00033890007762238383\n",
      "Epoch 14800, Loss: 0.00010509166168048978\n",
      "Epoch 14900, Loss: 4.8829620027390774e-06\n",
      "Epoch 15000, Loss: 1.846028317231685e-05\n",
      "Epoch 15100, Loss: 0.0066213752143085\n",
      "Epoch 15200, Loss: 0.0021572683472186327\n",
      "Epoch 15300, Loss: 0.0096521507948637\n",
      "Epoch 15400, Loss: 0.006819374859333038\n",
      "Epoch 15500, Loss: 0.0038846475072205067\n",
      "Epoch 15600, Loss: 0.0011771777644753456\n",
      "Epoch 15700, Loss: 0.0049829790368676186\n",
      "Epoch 15800, Loss: 0.0009601916535757482\n",
      "Epoch 15900, Loss: 0.0016567889833822846\n",
      "Epoch 16000, Loss: 0.00016796198906376958\n",
      "Epoch 16100, Loss: 0.002447043778374791\n",
      "Epoch 16200, Loss: 1.0774420843517873e-05\n",
      "Epoch 16300, Loss: 2.631959432619624e-06\n",
      "Epoch 16400, Loss: 7.811473915353417e-05\n",
      "Epoch 16500, Loss: 1.609293462934147e-06\n",
      "Epoch 16600, Loss: 1.2046931487930124e-06\n",
      "Epoch 16700, Loss: 1.1708203828675323e-06\n",
      "Epoch 16800, Loss: 1.016297119349474e-06\n",
      "Epoch 16900, Loss: 1.0361219437982072e-06\n",
      "Epoch 17000, Loss: 9.397826374879514e-07\n",
      "Epoch 17100, Loss: 0.001117622829042375\n",
      "Epoch 17200, Loss: 0.00020403221424203366\n",
      "Epoch 17300, Loss: 3.5829907574225217e-06\n",
      "Epoch 17400, Loss: 1.9273320503998548e-06\n",
      "Epoch 17500, Loss: 1.5940509001666214e-06\n",
      "Epoch 17600, Loss: 1.3979285995446844e-06\n",
      "Epoch 17700, Loss: 1.149330273619853e-06\n",
      "Epoch 17800, Loss: 8.17212026049674e-07\n",
      "Epoch 17900, Loss: 1.5517096016992582e-06\n",
      "Epoch 18000, Loss: 5.336094659469381e-07\n",
      "Epoch 18100, Loss: 0.017717184498906136\n",
      "Epoch 18200, Loss: 0.008097453974187374\n",
      "Epoch 18300, Loss: 0.0005388357094489038\n",
      "Epoch 18400, Loss: 9.485888767812867e-07\n",
      "Epoch 18500, Loss: 0.00011834703764179721\n",
      "Epoch 18600, Loss: 2.644167216203641e-05\n",
      "Epoch 18700, Loss: 0.00030130770755931735\n",
      "Epoch 18800, Loss: 4.1475246348454675e-07\n",
      "Epoch 18900, Loss: 6.46934950054856e-06\n",
      "Epoch 19000, Loss: 3.5493218319970765e-07\n",
      "Epoch 19100, Loss: 0.009097031317651272\n",
      "Epoch 19200, Loss: 0.0034745652228593826\n",
      "Epoch 19300, Loss: 0.011400733143091202\n",
      "Epoch 19400, Loss: 0.002569769276306033\n",
      "Epoch 19500, Loss: 5.1034046919085085e-05\n",
      "Epoch 19600, Loss: 2.7994822175969603e-06\n",
      "Epoch 19700, Loss: 1.5579463479298283e-06\n",
      "Epoch 19800, Loss: 7.613746220158646e-07\n",
      "Epoch 19900, Loss: 5.392587922870007e-07\n",
      "Final Loss: 0.23644207417964935\n"
     ]
    }
   ],
   "source": [
    "# Training loop\n",
    "num_epochs = 20000\n",
    "losses = []\n",
    "\n",
    "\n",
    "\n",
    "sample_n = 50\n",
    "x = generate_latin_hypercube_samples(sample_n, [0,L], [0,T]) # Latin Hypercube sample\n",
    "\n",
    "sample_points = x.copy()\n",
    "\n",
    "for epoch in range(num_epochs):\n",
    "    \n",
    "    model, opt_state, loss_value = train_step(model, opt_state, func, x, L, T, sigma1, a, b, steps=20)\n",
    "    if epoch % 100 == 0:\n",
    "        #x = generate_latin_hypercube_samples(sample_n, [0,L], [0,T]) # Latin Hypercube sample\n",
    "        sample_points = jnp.vstack((sample_points, x))\n",
    "        losses.append(loss_value)\n",
    "        print(f\"Epoch {epoch}, Loss: {loss_value}\")\n",
    "\n",
    "\n",
    "    if epoch % 1000 == 0:\n",
    "        lr *= 0.4\n",
    "        optimizer = optax.adam(learning_rate=lr)\n",
    "        opt_state = optimizer.init(model)  # Re-initialize optimizer state with new learning rate\n",
    "\n",
    "        \n",
    "\n",
    "# Print final loss\n",
    "x = generate_latin_hypercube_samples(sample_n, [0,L], [0,T]) # Latin Hypercube sample\n",
    "final_loss = loss(model, func, x, L, T, sigma1, a, b, steps=20)\n",
    "print(f\"Final Loss: {final_loss}\")"
   ]
  },
  {
   "cell_type": "code",
   "execution_count": 28,
   "metadata": {},
   "outputs": [
    {
     "data": {
      "image/png": "[encoded data removed]",
      "text/plain": [
       "<Figure size 640x480 with 1 Axes>"
      ]
     },
     "metadata": {},
     "output_type": "display_data"
    }
   ],
   "source": [
    "plt.plot(losses)\n",
    "plt.yscale('log')\n",
    "plt.xlabel('Epoch x100')\n",
    "plt.ylabel('Loss')\n",
    "plt.title('Loss Evolution')\n",
    "plt.show()"
   ]
  },
  {
   "cell_type": "code",
   "execution_count": 29,
   "metadata": {},
   "outputs": [],
   "source": [
    "batch = generate_latin_hypercube_samples(10*sample_n, [0,L], [0,T]) "
   ]
  },
  {
   "cell_type": "code",
   "execution_count": 30,
   "metadata": {},
   "outputs": [
    {
     "name": "stdout",
     "output_type": "stream",
     "text": [
      "0.44539806\n",
      "0.0002450778\n",
      "0.0004949108\n",
      "0.0070240605\n"
     ]
    }
   ],
   "source": [
    "print(pde_loss(model, func, batch,  sigma1=sigma1))\n",
    "print(in_loss(model, func, T, sigma1, a))\n",
    "print(out_loss(model, func, T, sigma1,  b))\n",
    "print(time_loss(model, L))"
   ]
  },
  {
   "cell_type": "code",
   "execution_count": 31,
   "metadata": {},
   "outputs": [
    {
     "data": {
      "image/png": "[encoded data removed]",
      "text/plain": [
       "<Figure size 800x600 with 2 Axes>"
      ]
     },
     "metadata": {},
     "output_type": "display_data"
    }
   ],
   "source": [
    "n_points = 200\n",
    "x = jnp.linspace(0, L, n_points)\n",
    "t = jnp.linspace(0, T, n_points)\n",
    "X_grid, T_grid = jnp.meshgrid(x, t)\n",
    "inputs = jnp.stack((X_grid.flatten(), T_grid.flatten()), axis=-1)\n",
    "\n",
    "outputs = jax.vmap(model)(inputs)\n",
    "outputs = outputs.reshape(n_points, n_points)\n",
    "\n",
    "plt.figure(figsize=(8, 6))\n",
    "plt.contourf(X_grid, T_grid, outputs, levels=100, cmap='viridis')\n",
    "plt.colorbar(label='Network Output')\n",
    "plt.xlabel('x')\n",
    "plt.ylabel('t')\n",
    "plt.title('Heatmap of Neural Network Output')\n",
    "plt.show()"
   ]
  },
  {
   "cell_type": "code",
   "execution_count": 32,
   "metadata": {},
   "outputs": [
    {
     "data": {
      "image/png": "[encoded data removed]",
      "text/plain": [
       "<Figure size 640x480 with 1 Axes>"
      ]
     },
     "metadata": {},
     "output_type": "display_data"
    }
   ],
   "source": [
    "plt.plot(outputs[0], label='t = 0')\n",
    "plt.plot(outputs[8], label='t = 8')\n",
    "plt.plot(outputs[16], label='t = 16')\n",
    "plt.plot(outputs[24], label='t = 24')\n",
    "plt.plot(outputs[200], label='t = 200')\n",
    "#plt.ylim([0.3, 0.7])\n",
    "plt.legend()\n",
    "plt.show()"
   ]
  },
  {
   "cell_type": "code",
   "execution_count": 33,
   "metadata": {},
   "outputs": [
    {
     "data": {
      "image/png": "[encoded data removed]",
      "text/plain": [
       "<Figure size 640x480 with 1 Axes>"
      ]
     },
     "metadata": {},
     "output_type": "display_data"
    }
   ],
   "source": [
    "plt.plot(outputs.T[0], label='x = 0')\n",
    "plt.plot(outputs.T[100], label='x = 100')\n",
    "plt.plot(outputs.T[200], label='x = 200')\n",
    "plt.legend()\n",
    "plt.show()"
   ]
  },
  {
   "cell_type": "code",
   "execution_count": 185,
   "metadata": {},
   "outputs": [
    {
     "data": {
      "text/plain": [
       "200"
      ]
     },
     "execution_count": 185,
     "metadata": {},
     "output_type": "execute_result"
    }
   ],
   "source": [
    "len(outputs)"
   ]
  },
  {
   "cell_type": "code",
   "execution_count": null,
   "metadata": {},
   "outputs": [],
   "source": []
  }
 ],
 "metadata": {
  "kernelspec": {
   "display_name": "venv",
   "language": "python",
   "name": "python3"
  },
  "language_info": {
   "codemirror_mode": {
    "name": "ipython",
    "version": 3
   },
   "file_extension": ".py",
   "mimetype": "text/x-python",
   "name": "python",
   "nbconvert_exporter": "python",
   "pygments_lexer": "ipython3",
   "version": "3.12.4"
  }
 },
 "nbformat": 4,
 "nbformat_minor": 2
}
