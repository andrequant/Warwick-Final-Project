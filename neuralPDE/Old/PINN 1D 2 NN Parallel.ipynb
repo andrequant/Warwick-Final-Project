{
 "cells": [
  {
   "cell_type": "markdown",
   "metadata": {},
   "source": [
    "## Applying PINN to the PDE - 1D Version"
   ]
  },
  {
   "cell_type": "markdown",
   "metadata": {},
   "source": [
    "We are interessed in solving\n",
    "\n",
    "$$\n",
    "\\frac{\\partial \\rho}{\\partial t} = \\nabla \\cdot \\left(\\Sigma \\nabla\\rho(x,t) - \\rho(x,t) F(\\rho(x,t)) \\right)\n",
    "\n",
    "$$\n",
    "\n",
    "\n",
    "\n",
    "Where $x=x_1$. $\\Sigma = \\rm{diag} (\\sigma_1^2, \\sigma_2^2)$. $F: \\mathbb{R} \\mapsto \\mathbb{R}$, $F(\\rho) = f(\\rho).\n",
    "\n",
    "On the domain\n",
    "\n",
    "$$\n",
    "\\Omega = \\{x \\in [0,L]\\}\n",
    "$$\n",
    "\n",
    "With boundary conditions\n",
    "\n",
    "$$\n",
    "j \\cdot n = -a (\\rho_{max} - \\rho) \\quad \\forall x \\in \\Gamma_{in}\n",
    "$$\n",
    "\n",
    "$$\n",
    "j \\cdot n = b \\rho \\quad \\forall x \\in \\Gamma_{out}\n",
    "$$\n",
    "\n",
    "\n",
    "where\n",
    "\n",
    "$$\n",
    "\\Gamma_{in} = \\{(x_1, x_2) \\in \\Omega: x_1 = 0\\}\n",
    "$$\n",
    "\n",
    "$$\n",
    "\\Gamma_{out} = \\{(x_1, x_2) \\in \\Omega: x_1 = L\\}\n",
    "$$\n",
    "\n",
    "\n",
    "With $j = -\\Sigma \\nabla \\rho + \\rho F(\\rho)$, in 1-D, $j = -\\sigma_1 \\frac{\\partial \\rho}{\\partial x_1} + \\rho f(\\rho)$ and $n$ the outer normal vector, i.e. vector points toward the interior:\n",
    "\n",
    "$$\n",
    "n = -1 \\quad \\rm{for} \\quad \\Gamma_{in}\n",
    "$$\n",
    "\n",
    "$$\n",
    "n = 1\\quad \\rm{for} \\quad \\Gamma_{out}\n",
    "$$\n"
   ]
  },
  {
   "cell_type": "markdown",
   "metadata": {},
   "source": [
    "In a more explicit manner, the PDE can be written as\n",
    "\n",
    "$$\n",
    "\\frac{\\partial \\rho}{\\partial t} = \\sigma_1 \\frac{\\partial^2 \\rho}{\\partial x_1^2} - \\frac{\\partial \\rho}{\\partial x_1} \\left(f(\\rho(x,t)) + \\rho(x,t) \\frac{d f(\\rho(x,t))}{d \\rho} \\right)\n",
    "$$"
   ]
  },
  {
   "cell_type": "code",
   "execution_count": 1,
   "metadata": {},
   "outputs": [],
   "source": [
    "import numpy as np\n",
    "import matplotlib.pyplot as plt\n",
    "import jax\n",
    "import jax.numpy as jnp\n",
    "import equinox as eqx\n",
    "\n",
    "import optax\n",
    "\n",
    "import timeit\n",
    "\n",
    "from scipy.stats import qmc"
   ]
  },
  {
   "cell_type": "code",
   "execution_count": 2,
   "metadata": {},
   "outputs": [],
   "source": [
    "# Correct that to import from the other file\n",
    "\n",
    "from abc import ABC, abstractmethod\n",
    "\n",
    "class FundamentalDiagram():\n",
    "    def __init__(self, params):\n",
    "        self.params = params\n",
    "\n",
    "    def __call__(self,density):\n",
    "        return self.flux(density)\n",
    "    \n",
    "    @abstractmethod\n",
    "    def flux(self, density):\n",
    "        pass\n",
    "\n",
    "    @abstractmethod\n",
    "    def __str__(self):\n",
    "        pass\n",
    "\n",
    "\n",
    "\n",
    "class Greenshield(FundamentalDiagram):\n",
    "    def __init__(self, params):\n",
    "        super().__init__(params)\n",
    "        self.v_max = self.params[0]\n",
    "        self.p_max = self.params[1]\n",
    "    \n",
    "    def flux(self, density):\n",
    "        return self.v_max * (1 - (density/self.p_max))\n",
    "    \n",
    "    def d_flux(self, density):\n",
    "        return - self.v_max/self.p_max + 0*density\n",
    "    \n",
    "    def __str__(self):\n",
    "        return \"Greenshield\""
   ]
  },
  {
   "cell_type": "code",
   "execution_count": 3,
   "metadata": {},
   "outputs": [],
   "source": [
    "model_key = jax.random.PRNGKey(1)\n",
    "\n",
    "input_dim = 2\n",
    "output_dim = 'scalar'\n",
    "\n",
    "layers_size = 10\n",
    "n_layers = 1\n",
    "\n",
    "model = eqx.nn.MLP(in_size=input_dim, out_size=output_dim, width_size=layers_size, depth=n_layers,\n",
    "                    activation=jax.nn.sigmoid, use_final_bias=False, key=model_key)"
   ]
  },
  {
   "cell_type": "code",
   "execution_count": 4,
   "metadata": {},
   "outputs": [],
   "source": [
    "# input = (x1, x2, t)"
   ]
  },
  {
   "cell_type": "code",
   "execution_count": 5,
   "metadata": {},
   "outputs": [],
   "source": [
    "sigma1 = 0.5**2\n",
    "\n",
    "\n",
    "L = 3\n",
    "T = 20\n",
    "\n",
    "a = 0.9\n",
    "b = 0.975\n",
    "\n",
    "\n",
    "v_max = 2\n",
    "p_max = 1 # rho_max cannot be learned Susana's paper\n",
    "func = Greenshield([v_max, p_max])"
   ]
  },
  {
   "cell_type": "code",
   "execution_count": 6,
   "metadata": {},
   "outputs": [],
   "source": [
    "# Example batch input\n",
    "\n",
    "batch_input_data = jnp.array([\n",
    "    [1.0, 2.0],\n",
    "    [3.0, 4.0],\n",
    "    [5.0, 6.0]\n",
    "])"
   ]
  },
  {
   "cell_type": "code",
   "execution_count": 63,
   "metadata": {},
   "outputs": [],
   "source": [
    "def pde_loss(model, func, input, sigma1):\n",
    "    \n",
    "    # p = rho\n",
    "\n",
    "    rho, grad = jax.vmap(jax.value_and_grad(model))(input)\n",
    "    hess = jax.vmap(jax.hessian(model))(input)\n",
    "\n",
    "    dp_dx1 = grad[:, 0] \n",
    "    dp_dt = grad[:, 1]\n",
    "    d2p_dx12 = hess[:, 0, 0]\n",
    "\n",
    "    fp = func.flux(rho)\n",
    "    df_p = func.d_flux(rho)\n",
    "\n",
    "    rhs = sigma1*d2p_dx12 - dp_dx1 * (fp + rho*df_p)\n",
    "\n",
    "    return jnp.mean((dp_dt - rhs)**2)"
   ]
  },
  {
   "cell_type": "code",
   "execution_count": 8,
   "metadata": {},
   "outputs": [
    {
     "data": {
      "text/plain": [
       "Array(0.00674346, dtype=float32)"
      ]
     },
     "execution_count": 8,
     "metadata": {},
     "output_type": "execute_result"
    }
   ],
   "source": [
    "pde_loss(model, func, batch_input_data,  sigma1=sigma1)"
   ]
  },
  {
   "cell_type": "code",
   "execution_count": 9,
   "metadata": {},
   "outputs": [
    {
     "data": {
      "text/plain": [
       "Array([[1., 2.],\n",
       "       [3., 4.],\n",
       "       [5., 6.]], dtype=float32)"
      ]
     },
     "execution_count": 9,
     "metadata": {},
     "output_type": "execute_result"
    }
   ],
   "source": [
    "batch_input_data"
   ]
  },
  {
   "cell_type": "code",
   "execution_count": 10,
   "metadata": {},
   "outputs": [],
   "source": [
    "def j(model, func, input, sigma1):\n",
    "    rho, grad = jax.vmap(jax.value_and_grad(model))(input)\n",
    "\n",
    "    i_0 = - sigma1*grad[:, 0] + rho * func(rho)\n",
    "\n",
    "    return i_0, rho"
   ]
  },
  {
   "cell_type": "code",
   "execution_count": 11,
   "metadata": {},
   "outputs": [],
   "source": [
    "def in_loss(model, func, T, sigma1, a, steps=20):\n",
    "\n",
    "    t = jnp.linspace(0, T, steps)\n",
    "    x1_flat = jnp.zeros_like(t)\n",
    "    result = jnp.stack((x1_flat, t), axis=-1)\n",
    "    in_ , rho = j(model, func, result, sigma1)\n",
    "    in_theorical = -a * (func.p_max - rho)\n",
    "\n",
    "    return jnp.mean((-in_ - in_theorical)**2)\n"
   ]
  },
  {
   "cell_type": "code",
   "execution_count": 12,
   "metadata": {},
   "outputs": [],
   "source": [
    "def in_loss1(model, func, T, sigma1, a, steps=20):\n",
    "\n",
    "    t = jnp.linspace(0.2, T, steps)\n",
    "    x1_flat = jnp.zeros_like(t)\n",
    "    result = jnp.stack((x1_flat, t), axis=-1)\n",
    "    in_ , rho = j(model, func, result, sigma1)\n",
    "    in_theorical = -a * (func.p_max - rho)\n",
    "\n",
    "    return jnp.mean((-in_ - in_theorical)**2)\n"
   ]
  },
  {
   "cell_type": "code",
   "execution_count": 13,
   "metadata": {},
   "outputs": [],
   "source": [
    "def in_loss2(model, func, T, sigma1, a, steps=20):\n",
    "\n",
    "    t = jnp.linspace(0, 0.5, steps)\n",
    "    x1_flat = jnp.zeros_like(t)\n",
    "    result = jnp.stack((x1_flat, t), axis=-1)\n",
    "    in_ , rho = j(model, func, result, sigma1)\n",
    "    in_theorical = -a * (func.p_max - rho)\n",
    "\n",
    "    return jnp.mean((-in_ - in_theorical)**2)\n"
   ]
  },
  {
   "cell_type": "code",
   "execution_count": 14,
   "metadata": {},
   "outputs": [
    {
     "data": {
      "text/plain": [
       "Array(15.368701, dtype=float32)"
      ]
     },
     "execution_count": 14,
     "metadata": {},
     "output_type": "execute_result"
    }
   ],
   "source": [
    "in_loss(model, func, T, sigma1, a)"
   ]
  },
  {
   "cell_type": "code",
   "execution_count": 15,
   "metadata": {},
   "outputs": [],
   "source": [
    "def out_loss(model, func, T, sigma1, b, steps=20):\n",
    "\n",
    "    t = jnp.linspace(0, T, steps)\n",
    "    x1_flat = jnp.full_like(t, L)\n",
    "    result = jnp.stack((x1_flat, t), axis=-1)\n",
    "    out_ , rho = j(model, func, result, sigma1)\n",
    "    out_theorical = b * rho\n",
    "\n",
    "    return jnp.mean((out_ - out_theorical)**2)"
   ]
  },
  {
   "cell_type": "code",
   "execution_count": 16,
   "metadata": {},
   "outputs": [],
   "source": [
    "def out_loss1(model, func, T, sigma1, b, steps=20):\n",
    "\n",
    "    t = jnp.linspace(0.2, T, steps)\n",
    "    x1_flat = jnp.full_like(t, L)\n",
    "    result = jnp.stack((x1_flat, t), axis=-1)\n",
    "    out_ , rho = j(model, func, result, sigma1)\n",
    "    out_theorical = b * rho\n",
    "\n",
    "    return jnp.mean((out_ - out_theorical)**2)"
   ]
  },
  {
   "cell_type": "code",
   "execution_count": 17,
   "metadata": {},
   "outputs": [],
   "source": [
    "def out_loss2(model, func, T, sigma1, b, steps=20):\n",
    "\n",
    "    t = jnp.linspace(0, 0.5, steps)\n",
    "    x1_flat = jnp.full_like(t, L)\n",
    "    result = jnp.stack((x1_flat, t), axis=-1)\n",
    "    out_ , rho = j(model, func, result, sigma1)\n",
    "    out_theorical = b * rho\n",
    "\n",
    "    return jnp.mean((out_ - out_theorical)**2)"
   ]
  },
  {
   "cell_type": "code",
   "execution_count": 18,
   "metadata": {},
   "outputs": [
    {
     "data": {
      "text/plain": [
       "Array(2.9769294, dtype=float32)"
      ]
     },
     "execution_count": 18,
     "metadata": {},
     "output_type": "execute_result"
    }
   ],
   "source": [
    "out_loss1(model, func, T, sigma1, b)"
   ]
  },
  {
   "cell_type": "code",
   "execution_count": 19,
   "metadata": {},
   "outputs": [],
   "source": [
    "def time_loss(model, L, steps=20):\n",
    "\n",
    "    x1 = jnp.linspace(0, L, steps)\n",
    "    t_flat = jnp.zeros_like(x1)\n",
    "    result = jnp.stack((x1, t_flat), axis=-1)\n",
    "    rho = jax.vmap(model)(result)\n",
    "\n",
    "    return jnp.mean(rho**2)"
   ]
  },
  {
   "cell_type": "code",
   "execution_count": 20,
   "metadata": {},
   "outputs": [
    {
     "data": {
      "text/plain": [
       "Array(0.47608837, dtype=float32)"
      ]
     },
     "execution_count": 20,
     "metadata": {},
     "output_type": "execute_result"
    }
   ],
   "source": [
    "time_loss(model, L)"
   ]
  },
  {
   "cell_type": "code",
   "execution_count": 64,
   "metadata": {},
   "outputs": [],
   "source": [
    "def loss(model, func, input, L, T, sigma1, a, b, steps=20):\n",
    "\n",
    "    return (10*pde_loss(model, func, input,  sigma1)+ in_loss(model, func, T, sigma1, a, steps) + \n",
    "            out_loss(model, func, T, sigma1, b, steps)\n",
    "            + time_loss(model, L, steps))"
   ]
  },
  {
   "cell_type": "code",
   "execution_count": 65,
   "metadata": {},
   "outputs": [],
   "source": [
    "def loss1(model, func, input, L, T, sigma1, a, b, steps=20):\n",
    "\n",
    "    return (10*pde_loss(model, func, input,  sigma1)+ in_loss1(model, func, T, sigma1, a, steps) + \n",
    "            out_loss1(model, func, T, sigma1, b, steps)\n",
    "            + 0.01*time_loss(model, L, steps))"
   ]
  },
  {
   "cell_type": "code",
   "execution_count": 67,
   "metadata": {},
   "outputs": [],
   "source": [
    "def loss2(model, func, input, L, T, sigma1, a, b, steps=20):\n",
    "\n",
    "    return (pde_loss(model, func, input,  sigma1)+ in_loss2(model, func, T, sigma1, a, steps) + \n",
    "            out_loss2(model, func, T, sigma1, b, steps)\n",
    "            + time_loss(model, L, steps))"
   ]
  },
  {
   "cell_type": "code",
   "execution_count": 68,
   "metadata": {},
   "outputs": [
    {
     "data": {
      "text/plain": [
       "Array(0.6059608, dtype=float32)"
      ]
     },
     "execution_count": 68,
     "metadata": {},
     "output_type": "execute_result"
    }
   ],
   "source": [
    "loss2(model, func, batch_input_data, L, T, sigma1, a, b)"
   ]
  },
  {
   "cell_type": "code",
   "execution_count": 69,
   "metadata": {},
   "outputs": [],
   "source": [
    "def generate_latin_hypercube_samples(num_samples, x1, t):\n",
    "    # Define the ranges\n",
    "    parameter_ranges = jnp.array([x1, t])\n",
    "    \n",
    "    # Create a Latin Hypercube Sampler\n",
    "    sampler = qmc.LatinHypercube(d=len(parameter_ranges))\n",
    "    \n",
    "    # Sample points in the hypercube\n",
    "    sample_points = sampler.random(n=num_samples)\n",
    "    \n",
    "    # Scale the points\n",
    "    scaled_samples = qmc.scale(sample_points, parameter_ranges[:, 0], parameter_ranges[:, 1])\n",
    "    \n",
    "    return jnp.array(scaled_samples)"
   ]
  },
  {
   "cell_type": "code",
   "execution_count": 70,
   "metadata": {},
   "outputs": [],
   "source": [
    "# Define a Multilayer Perceptron\n",
    "\n",
    "class MLP(eqx.Module):\n",
    "    layers: list  # Type annotation indicating that layers is a list. Needed to work properly.\n",
    "\n",
    "\n",
    "    def __init__(self, key, input_dim, hidden_dims, n_layers, output_dim):\n",
    "        \"\"\"Define the MLP\n",
    "\n",
    "        Args:\n",
    "            key (jax key): Random Jey\n",
    "            input_dim (int): Input layer dimension\n",
    "            hidden_dims (int): Hidden layers dimension\n",
    "            n_layers (_type_): Number of hidden layers\n",
    "            output_dim (_type_): Output layer dimension\n",
    "        \"\"\"\n",
    "\n",
    "\n",
    "        \n",
    "        # jax handle random number generation in a different way. Favoring reproducibility.\n",
    "        # This gives each layer a rnd initialization.\n",
    "        keys = jax.random.split(key, n_layers + 1)\n",
    "        \n",
    "        dims = [input_dim] + [hidden_dims] * n_layers + [output_dim]\n",
    "        self.layers = [eqx.nn.Linear(dims[i], dims[i + 1], key=keys[i]) for i in range(len(dims) - 1)]\n",
    "\n",
    "    \n",
    "    def __call__(self, x):\n",
    "        \"\"\"Forward-pass the input through the network\n",
    "\n",
    "        Args:\n",
    "            x (jnp.array): Input\n",
    "\n",
    "        Returns:\n",
    "            jnp.array: NN output\n",
    "        \"\"\"\n",
    "        for layer in self.layers[:-2]:\n",
    "            x = jax.nn.gelu(layer(x))\n",
    "            # So far, softplus seems to be the best\n",
    "            # squareplus is curious\n",
    "            # celu shallow (1 layer) got the steady state thing and the curious curve on the x,y plane at steady state.\n",
    "            # swish got somewhat excelent results, but the PDE loss is high\n",
    "        \n",
    "        x = jax.nn.swish(self.layers[-2](x))\n",
    "        x = self.layers[-1](x)\n",
    "        return x"
   ]
  },
  {
   "cell_type": "code",
   "execution_count": 71,
   "metadata": {},
   "outputs": [],
   "source": [
    "from jax import jit\n",
    "\n",
    "class WeightedAverageNN(eqx.Module):\n",
    "    nn1: MLP\n",
    "    nn2: MLP\n",
    "    theta1: jnp.ndarray\n",
    "    theta2: jnp.ndarray\n",
    "\n",
    "    def __init__(self, key, nn1, nn2):\n",
    "        self.nn1 = nn1\n",
    "        self.nn2 = nn2\n",
    "        key1, key2 = jax.random.split(key)\n",
    "        self.theta1 = jax.random.normal(key1, ()) + 15.0\n",
    "        self.theta2 = jax.random.normal(key2, ()) + 10.0\n",
    "\n",
    "    @jit\n",
    "    def sigmoid(self, t):\n",
    "        return jax.nn.sigmoid(self.theta1 * t - self.theta2)\n",
    "\n",
    "    def __call__(self, z):\n",
    "        x, t = z[0], z[1]\n",
    "        output1 = self.nn1(jnp.stack([x, t], axis=-1))\n",
    "        output2 = self.nn2(jnp.stack([x, t], axis=-1))\n",
    "        f_t = self.sigmoid(t)\n",
    "        return output1 * f_t + output2 * (1 - f_t)\n"
   ]
  },
  {
   "cell_type": "code",
   "execution_count": 72,
   "metadata": {},
   "outputs": [],
   "source": [
    "# Initialize the model with multiple hidden layers and scalar output layer\n",
    "model_key1 = jax.random.PRNGKey(1)\n",
    "\n",
    "\n",
    "output_dim = 'scalar'\n",
    "\n",
    "model1 = MLP(model_key1, input_dim=2, hidden_dims=1024, n_layers=1, output_dim=output_dim)"
   ]
  },
  {
   "cell_type": "code",
   "execution_count": 73,
   "metadata": {},
   "outputs": [],
   "source": [
    "# Initialize the model with multiple hidden layers and scalar output layer\n",
    "model_key2 = jax.random.PRNGKey(5)\n",
    "\n",
    "\n",
    "output_dim = 'scalar'\n",
    "\n",
    "model2 = MLP(model_key2, input_dim=2, hidden_dims=1024, n_layers=1, output_dim=output_dim)"
   ]
  },
  {
   "cell_type": "code",
   "execution_count": 74,
   "metadata": {},
   "outputs": [],
   "source": [
    "key3 = jax.random.PRNGKey(9)\n",
    "\n",
    "\n",
    "model = WeightedAverageNN(key3, model1, model2)"
   ]
  },
  {
   "cell_type": "code",
   "execution_count": 75,
   "metadata": {},
   "outputs": [],
   "source": [
    "# Optimizer definition\n",
    "lr = 10e-3\n",
    "optimizer1 = optax.adam(learning_rate=lr)\n",
    "opt_state1 = optimizer1.init(model1)"
   ]
  },
  {
   "cell_type": "code",
   "execution_count": 76,
   "metadata": {},
   "outputs": [],
   "source": [
    "# Optimizer definition\n",
    "lr = 10e-3\n",
    "optimizer2 = optax.adam(learning_rate=lr)\n",
    "opt_state2 = optimizer2.init(model2)"
   ]
  },
  {
   "cell_type": "code",
   "execution_count": 77,
   "metadata": {},
   "outputs": [],
   "source": [
    "# Optimizer definition\n",
    "lr = 10e-4\n",
    "optimizer = optax.adam(learning_rate=lr)\n",
    "opt_state = optimizer.init(model)"
   ]
  },
  {
   "cell_type": "code",
   "execution_count": 78,
   "metadata": {},
   "outputs": [],
   "source": [
    "@eqx.filter_jit # decorator that applies Just-in-time compilation just to the relevant parts. Improves performance.\n",
    "def train_step1(model, opt_state, func, input, L, T, sigma1, a, b, steps=20):\n",
    "    loss_value, grads = jax.value_and_grad(loss1)(model, func, input, L, T, sigma1, a, b, steps) # Compute the loss and gradient\n",
    "    updates, opt_state = optimizer1.update(grads, opt_state) # Apply the backward propagation\n",
    "    model = eqx.apply_updates(model, updates) # Update the NN\n",
    "    return model, opt_state, loss_value"
   ]
  },
  {
   "cell_type": "code",
   "execution_count": 79,
   "metadata": {},
   "outputs": [],
   "source": [
    "@eqx.filter_jit # decorator that applies Just-in-time compilation just to the relevant parts. Improves performance.\n",
    "def train_step2(model, opt_state, func, input, L, T, sigma1, a, b, steps=20):\n",
    "    loss_value, grads = jax.value_and_grad(loss2)(model, func, input, L, T, sigma1, a, b, steps) # Compute the loss and gradient\n",
    "    updates, opt_state = optimizer2.update(grads, opt_state) # Apply the backward propagation\n",
    "    model = eqx.apply_updates(model, updates) # Update the NN\n",
    "    return model, opt_state, loss_value"
   ]
  },
  {
   "cell_type": "code",
   "execution_count": 80,
   "metadata": {},
   "outputs": [],
   "source": [
    "@eqx.filter_jit # decorator that applies Just-in-time compilation just to the relevant parts. Improves performance.\n",
    "def train_step(model, opt_state, func, input, L, T, sigma1, a, b, steps=20):\n",
    "    loss_value, grads = jax.value_and_grad(loss)(model, func, input, L, T, sigma1, a, b, steps) # Compute the loss and gradient\n",
    "    updates, opt_state = optimizer.update(grads, opt_state) # Apply the backward propagation\n",
    "    model = eqx.apply_updates(model, updates) # Update the NN\n",
    "    return model, opt_state, loss_value"
   ]
  },
  {
   "cell_type": "code",
   "execution_count": 81,
   "metadata": {},
   "outputs": [
    {
     "name": "stdout",
     "output_type": "stream",
     "text": [
      "Epoch 0, Loss: 90.81217956542969\n",
      "Epoch 100, Loss: 0.03452487662434578\n",
      "Epoch 200, Loss: 0.02163754217326641\n",
      "Epoch 300, Loss: 0.01807495206594467\n",
      "Epoch 400, Loss: 0.01672457903623581\n",
      "Epoch 500, Loss: 0.015714310109615326\n",
      "Epoch 600, Loss: 0.014825438149273396\n",
      "Epoch 700, Loss: 0.01395980641245842\n",
      "Epoch 800, Loss: 0.01306897308677435\n",
      "Epoch 900, Loss: 0.012188646011054516\n",
      "Epoch 1000, Loss: 0.01141309179365635\n",
      "Epoch 1100, Loss: 0.010806940495967865\n",
      "Epoch 1200, Loss: 0.01035123411566019\n",
      "Epoch 1300, Loss: 0.009984376840293407\n",
      "Epoch 1400, Loss: 0.009658976458013058\n",
      "Epoch 1500, Loss: 0.009351848624646664\n",
      "Epoch 1600, Loss: 0.009053497575223446\n",
      "Epoch 1700, Loss: 0.008760645985603333\n",
      "Epoch 1800, Loss: 0.008472959510982037\n",
      "Epoch 1900, Loss: 0.00819169357419014\n",
      "Epoch 2000, Loss: 0.007918745279312134\n",
      "Epoch 2100, Loss: 0.007656089961528778\n",
      "Epoch 2200, Loss: 0.007405420765280724\n",
      "Epoch 2300, Loss: 0.007167905569076538\n",
      "Epoch 2400, Loss: 0.00694403937086463\n",
      "Epoch 2500, Loss: 0.006733692716807127\n",
      "Epoch 2600, Loss: 0.006536060478538275\n",
      "Epoch 2700, Loss: 0.006349783856421709\n",
      "Epoch 2800, Loss: 0.006261362228542566\n",
      "Epoch 2900, Loss: 0.006760189309716225\n",
      "Epoch 3000, Loss: 0.005947047378867865\n",
      "Epoch 3100, Loss: 0.005861019715666771\n",
      "Epoch 3200, Loss: 0.00574595108628273\n",
      "Epoch 3300, Loss: 0.005761832930147648\n",
      "Epoch 3400, Loss: 0.00556976767256856\n",
      "Epoch 3500, Loss: 0.005488459020853043\n",
      "Epoch 3600, Loss: 0.00540910055860877\n",
      "Epoch 3700, Loss: 0.005342549178749323\n",
      "Epoch 3800, Loss: 0.0052679842337965965\n",
      "Epoch 3900, Loss: 0.005200093612074852\n",
      "Epoch 4000, Loss: 0.0051473886705935\n",
      "Epoch 4100, Loss: 0.005079891066998243\n",
      "Epoch 4200, Loss: 0.005021309480071068\n",
      "Epoch 4300, Loss: 0.0050066509284079075\n",
      "Epoch 4400, Loss: 0.0049166022799909115\n",
      "Epoch 4500, Loss: 0.00486599188297987\n",
      "Epoch 4600, Loss: 0.004848400130867958\n",
      "Epoch 4700, Loss: 0.00477795023471117\n",
      "Epoch 4800, Loss: 0.004734626971185207\n",
      "Epoch 4900, Loss: 0.005156436935067177\n",
      "Epoch 5000, Loss: 0.004658224526792765\n",
      "Epoch 5100, Loss: 0.004620283842086792\n",
      "Epoch 5200, Loss: 0.004597298335283995\n",
      "Epoch 5300, Loss: 0.004553241655230522\n",
      "Epoch 5400, Loss: 0.0045181866735219955\n",
      "Epoch 5500, Loss: 0.004484150558710098\n",
      "Epoch 5600, Loss: 0.004470087122172117\n",
      "Epoch 5700, Loss: 0.004425633233040571\n",
      "Epoch 5800, Loss: 0.004394201561808586\n",
      "Epoch 5900, Loss: 0.005389173980802298\n",
      "Epoch 6000, Loss: 0.004339075181633234\n",
      "Epoch 6100, Loss: 0.004309067968279123\n",
      "Epoch 6200, Loss: 0.004279165994375944\n",
      "Epoch 6300, Loss: 0.0049775526858866215\n",
      "Epoch 6400, Loss: 0.0042263842187821865\n",
      "Epoch 6500, Loss: 0.004197551403194666\n",
      "Epoch 6600, Loss: 0.0041682058945298195\n",
      "Epoch 6700, Loss: 0.004146920517086983\n",
      "Epoch 6800, Loss: 0.004115841817110777\n",
      "Epoch 6900, Loss: 0.0040866900235414505\n",
      "Epoch 7000, Loss: 0.004075830336660147\n",
      "Epoch 7100, Loss: 0.0040343692526221275\n",
      "Epoch 7200, Loss: 0.004005128052085638\n",
      "Epoch 7300, Loss: 0.004220477305352688\n",
      "Epoch 7400, Loss: 0.0039520785212516785\n",
      "Epoch 7500, Loss: 0.003922463860362768\n",
      "Epoch 7600, Loss: 0.003904162673279643\n",
      "Epoch 7700, Loss: 0.0038686394691467285\n",
      "Epoch 7800, Loss: 0.0038375421427190304\n",
      "Epoch 7900, Loss: 0.003805684158578515\n",
      "Epoch 8000, Loss: 0.006006166804581881\n",
      "Epoch 8100, Loss: 0.003744985442608595\n",
      "Epoch 8200, Loss: 0.0037073062267154455\n",
      "Epoch 8300, Loss: 0.0036600285675376654\n",
      "Epoch 8400, Loss: 0.00413857214152813\n",
      "Epoch 8500, Loss: 0.0035438104532659054\n",
      "Epoch 8600, Loss: 9854.0302734375\n",
      "Epoch 8700, Loss: 0.171237051486969\n",
      "Epoch 8800, Loss: 0.046709682792425156\n",
      "Epoch 8900, Loss: 0.030668189749121666\n",
      "Epoch 9000, Loss: 0.02415018528699875\n",
      "Epoch 9100, Loss: 0.020388545468449593\n",
      "Epoch 9200, Loss: 0.017861193045973778\n",
      "Epoch 9300, Loss: 0.015999503433704376\n",
      "Epoch 9400, Loss: 0.014534884132444859\n",
      "Epoch 9500, Loss: 0.013320617377758026\n",
      "Epoch 9600, Loss: 0.012272640131413937\n",
      "Epoch 9700, Loss: 0.011344688013195992\n",
      "Epoch 9800, Loss: 0.010510705411434174\n",
      "Epoch 9900, Loss: 0.00975564680993557\n",
      "Epoch 10000, Loss: 0.009070576168596745\n",
      "Epoch 10100, Loss: 0.008449945598840714\n",
      "Epoch 10200, Loss: 0.007889418862760067\n",
      "Epoch 10300, Loss: 0.007385320495814085\n",
      "Epoch 10400, Loss: 0.006934235338121653\n",
      "Epoch 10500, Loss: 0.006532593164592981\n",
      "Epoch 10600, Loss: 0.006176854483783245\n",
      "Epoch 10700, Loss: 0.005863329395651817\n",
      "Epoch 10800, Loss: 0.0055881692096591\n",
      "Epoch 10900, Loss: 0.005347936414182186\n",
      "Epoch 11000, Loss: 0.005138860084116459\n",
      "Epoch 11100, Loss: 0.0049574291333556175\n",
      "Epoch 11200, Loss: 0.004800206050276756\n",
      "Epoch 11300, Loss: 0.004663942847400904\n",
      "Epoch 11400, Loss: 0.0045458609238266945\n",
      "Epoch 11500, Loss: 0.0044432408176362514\n",
      "Epoch 11600, Loss: 0.004353726748377085\n",
      "Epoch 11700, Loss: 0.004275183193385601\n",
      "Epoch 11800, Loss: 0.004205765202641487\n",
      "Epoch 11900, Loss: 0.004143993370234966\n",
      "Epoch 12000, Loss: 0.004088526125997305\n",
      "Epoch 12100, Loss: 0.0040383124724030495\n",
      "Epoch 12200, Loss: 0.0039924271404743195\n",
      "Epoch 12300, Loss: 0.003950160462409258\n",
      "Epoch 12400, Loss: 0.0039109280332922935\n",
      "Epoch 12500, Loss: 0.003874253248795867\n",
      "Epoch 12600, Loss: 0.0038398071192204952\n",
      "Epoch 12700, Loss: 0.0038072867318987846\n",
      "Epoch 12800, Loss: 0.0037764792796224356\n",
      "Epoch 12900, Loss: 0.003747183596715331\n",
      "Epoch 13000, Loss: 0.003719269298017025\n",
      "Epoch 13100, Loss: 0.003692575031891465\n",
      "Epoch 13200, Loss: 0.0036669825203716755\n",
      "Epoch 13300, Loss: 0.003642398864030838\n",
      "Epoch 13400, Loss: 0.0036217300221323967\n",
      "Epoch 13500, Loss: 0.0035969256423413754\n",
      "Epoch 13600, Loss: 0.003580293385311961\n",
      "Epoch 13700, Loss: 0.0035551427863538265\n",
      "Epoch 13800, Loss: 0.0035347510129213333\n",
      "Epoch 13900, Loss: 0.00500201852992177\n",
      "Epoch 14000, Loss: 0.003496592864394188\n",
      "Epoch 14100, Loss: 0.003477866994217038\n",
      "Epoch 14200, Loss: 0.0034921998158097267\n",
      "Epoch 14300, Loss: 0.0034422376193106174\n",
      "Epoch 14400, Loss: 0.0034243734553456306\n",
      "Epoch 14500, Loss: 0.0034158958587795496\n",
      "Epoch 14600, Loss: 0.003390133148059249\n",
      "Epoch 14700, Loss: 0.0033727134577929974\n",
      "Epoch 14800, Loss: 0.003392067039385438\n",
      "Epoch 14900, Loss: 0.0033389420714229345\n",
      "Final Loss: 0.31468746066093445\n"
     ]
    }
   ],
   "source": [
    "# Training loop\n",
    "num_epochs = 15000\n",
    "losses = []\n",
    "\n",
    "\n",
    "\n",
    "sample_n = 50\n",
    "x = generate_latin_hypercube_samples(sample_n, [0,L], [0,T]) # Latin Hypercube sample\n",
    "\n",
    "sample_points = x.copy()\n",
    "\n",
    "for epoch in range(num_epochs):\n",
    "    \n",
    "    model1, opt_state1, loss_value1 = train_step1(model1, opt_state1, func, x, L, T, sigma1, a, b, steps=20)\n",
    "    model2, opt_state2, loss_value2 = train_step2(model2, opt_state2, func, x, L, T, sigma1, a, b, steps=20)\n",
    "    model, opt_state, loss_value = train_step(model, opt_state, func, x, L, T, sigma1, a, b, steps=20)\n",
    "    if epoch % 100 == 0:\n",
    "        losses.append(loss_value)\n",
    "        print(f\"Epoch {epoch}, Loss: {loss_value}\")\n",
    "\n",
    "\n",
    "    # if epoch % 1000 == 0:\n",
    "    #     lr *= 0.4\n",
    "    #     optimizer = optax.adam(learning_rate=lr)\n",
    "    #     opt_state = optimizer.init(model1)  # Re-initialize optimizer state with new learning rate\n",
    "\n",
    "        \n",
    "\n",
    "# Print final loss\n",
    "x = generate_latin_hypercube_samples(sample_n, [0,L], [0.2,T]) # Latin Hypercube sample\n",
    "final_loss = loss(model, func, x, L, T, sigma1, a, b, steps=20)\n",
    "print(f\"Final Loss: {final_loss}\")"
   ]
  },
  {
   "cell_type": "code",
   "execution_count": 82,
   "metadata": {},
   "outputs": [
    {
     "data": {
      "image/png": "[encoded data removed]",
      "text/plain": [
       "<Figure size 640x480 with 1 Axes>"
      ]
     },
     "metadata": {},
     "output_type": "display_data"
    }
   ],
   "source": [
    "plt.plot(losses)\n",
    "plt.yscale('log')\n",
    "plt.xlabel('Epoch x100')\n",
    "plt.ylabel('Loss')\n",
    "plt.title('Loss Evolution')\n",
    "plt.show()"
   ]
  },
  {
   "cell_type": "code",
   "execution_count": 83,
   "metadata": {},
   "outputs": [],
   "source": [
    "batch = generate_latin_hypercube_samples(10*sample_n, [0,L], [0,T]) "
   ]
  },
  {
   "cell_type": "code",
   "execution_count": 84,
   "metadata": {},
   "outputs": [
    {
     "name": "stdout",
     "output_type": "stream",
     "text": [
      "0.6759403\n",
      "0.00011525656\n",
      "0.0017833691\n",
      "0.001113392\n"
     ]
    }
   ],
   "source": [
    "print(pde_loss(model, func, batch,  sigma1=sigma1))\n",
    "print(in_loss(model, func, T, sigma1, a))\n",
    "print(out_loss(model, func, T, sigma1,  b))\n",
    "print(time_loss(model, L))"
   ]
  },
  {
   "cell_type": "code",
   "execution_count": 85,
   "metadata": {},
   "outputs": [
    {
     "data": {
      "image/png": "[encoded data removed]",
      "text/plain": [
       "<Figure size 800x600 with 2 Axes>"
      ]
     },
     "metadata": {},
     "output_type": "display_data"
    }
   ],
   "source": [
    "n_points = 200\n",
    "x = jnp.linspace(0, L, n_points)\n",
    "t = jnp.linspace(0, T, n_points)\n",
    "X_grid, T_grid = jnp.meshgrid(x, t)\n",
    "inputs = jnp.stack((X_grid.flatten(), T_grid.flatten()), axis=-1)\n",
    "\n",
    "outputs = jax.vmap(model)(inputs)\n",
    "outputs = outputs.reshape(n_points, n_points)\n",
    "\n",
    "plt.figure(figsize=(8, 6))\n",
    "plt.contourf(X_grid, T_grid, outputs, levels=50, cmap='viridis')\n",
    "plt.colorbar(label='Network Output')\n",
    "plt.xlabel('x')\n",
    "plt.ylabel('t')\n",
    "plt.title('Heatmap of Neural Network Output')\n",
    "plt.show()"
   ]
  },
  {
   "cell_type": "code",
   "execution_count": 86,
   "metadata": {},
   "outputs": [
    {
     "data": {
      "image/png": "[encoded data removed]",
      "text/plain": [
       "<Figure size 640x480 with 1 Axes>"
      ]
     },
     "metadata": {},
     "output_type": "display_data"
    }
   ],
   "source": [
    "plt.plot(outputs[0], label='t = 0')\n",
    "plt.plot(outputs[10], label='t = 8')\n",
    "plt.plot(outputs[20], label='t = 16')\n",
    "plt.plot(outputs[30], label='t = 24')\n",
    "plt.plot(outputs[200], label='t = 49')\n",
    "#plt.ylim([0.3, 0.7])\n",
    "plt.legend()\n",
    "plt.show()"
   ]
  },
  {
   "cell_type": "code",
   "execution_count": 87,
   "metadata": {},
   "outputs": [
    {
     "data": {
      "image/png": "[encoded data removed]",
      "text/plain": [
       "<Figure size 640x480 with 1 Axes>"
      ]
     },
     "metadata": {},
     "output_type": "display_data"
    }
   ],
   "source": [
    "plt.plot(outputs.T[0], label='x = 0')\n",
    "plt.plot(outputs.T[24], label='x = 24')\n",
    "plt.plot(outputs.T[49], label='x = 49')\n",
    "plt.legend()\n",
    "plt.show()"
   ]
  },
  {
   "cell_type": "code",
   "execution_count": 62,
   "metadata": {},
   "outputs": [
    {
     "data": {
      "text/plain": [
       "200"
      ]
     },
     "execution_count": 62,
     "metadata": {},
     "output_type": "execute_result"
    }
   ],
   "source": [
    "len(outputs)"
   ]
  },
  {
   "cell_type": "code",
   "execution_count": null,
   "metadata": {},
   "outputs": [],
   "source": []
  }
 ],
 "metadata": {
  "kernelspec": {
   "display_name": "venv",
   "language": "python",
   "name": "python3"
  },
  "language_info": {
   "codemirror_mode": {
    "name": "ipython",
    "version": 3
   },
   "file_extension": ".py",
   "mimetype": "text/x-python",
   "name": "python",
   "nbconvert_exporter": "python",
   "pygments_lexer": "ipython3",
   "version": "3.12.4"
  }
 },
 "nbformat": 4,
 "nbformat_minor": 2
}
