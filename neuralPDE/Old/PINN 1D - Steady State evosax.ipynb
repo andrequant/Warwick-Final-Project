{
 "cells": [
  {
   "cell_type": "code",
   "execution_count": 1,
   "metadata": {},
   "outputs": [],
   "source": [
    "# Idea inspired by https://arxiv.org/abs/1806.07366 (?)\n",
    "\n",
    "# This one use the package evosax for optimization\n",
    "# https://arxiv.org/pdf/2212.04180\n",
    "# https://github.com/RobertTLange/evosax"
   ]
  },
  {
   "cell_type": "markdown",
   "metadata": {},
   "source": [
    "\n",
    "Given our problem:\n",
    "\n",
    "$$\n",
    "\\frac{\\partial \\rho}{\\partial t} = \\sigma_1 \\frac{\\partial^2 \\rho}{\\partial x_1^2} - \\frac{\\partial \\rho}{\\partial x_1} \\left(v_m(1-2\\rho) \\right)\n",
    "$$\n",
    "\n",
    "$$\n",
    "\\sigma_1 \\frac{\\partial \\rho}{\\partial x_1} - \\rho v_m(1-\\rho) = -a (\\rho_{max} - \\rho) \\quad x = 0 \n",
    "$$\n",
    "\n",
    "$$\n",
    "-\\sigma_1 \\frac{\\partial \\rho}{\\partial x_1} + \\rho v_m(1-\\rho)= b \\rho \\quad x = L\n",
    "$$"
   ]
  },
  {
   "cell_type": "markdown",
   "metadata": {},
   "source": [
    "At steady-state:\n",
    "\n",
    "$$\n",
    "\\frac{\\partial \\rho}{\\partial t} = 0\n",
    "$$\n",
    "\n",
    "And so\n",
    "$$\n",
    "\\sigma_1 \\frac{\\partial^2 \\rho}{\\partial x_1^2} - \\frac{\\partial \\rho}{\\partial x_1} \\left(v_m(1-2\\rho) \\right) = 0\n",
    "$$"
   ]
  },
  {
   "cell_type": "code",
   "execution_count": 12,
   "metadata": {},
   "outputs": [],
   "source": [
    "import numpy as np\n",
    "import matplotlib.pyplot as plt\n",
    "import jax\n",
    "import jax.numpy as jnp\n",
    "import equinox as eqx\n",
    "import evosax\n",
    "import optax\n",
    "\n",
    "import timeit\n",
    "\n",
    "from scipy.stats import qmc"
   ]
  },
  {
   "cell_type": "code",
   "execution_count": 13,
   "metadata": {},
   "outputs": [],
   "source": [
    "# Define a Multilayer Perceptron\n",
    "\n",
    "class MLP(eqx.Module):\n",
    "    layers: list  # Type annotation indicating that layers is a list. Needed to work properly.\n",
    "\n",
    "\n",
    "    def __init__(self, key, input_dim, hidden_dims, n_layers, output_dim):\n",
    "        \"\"\"Define the MLP\n",
    "\n",
    "        Args:\n",
    "            key (jax key): Random Jey\n",
    "            input_dim (int): Input layer dimension\n",
    "            hidden_dims (int): Hidden layers dimension\n",
    "            n_layers (_type_): Number of hidden layers\n",
    "            output_dim (_type_): Output layer dimension\n",
    "        \"\"\"\n",
    "\n",
    "\n",
    "        \n",
    "        # jax handle random number generation in a different way. Favoring reproducibility.\n",
    "        # This gives each layer a rnd initialization.\n",
    "        keys = jax.random.split(key, n_layers + 1)\n",
    "        \n",
    "        dims = [input_dim] + [hidden_dims] * n_layers + [output_dim]\n",
    "        self.layers = [eqx.nn.Linear(dims[i], dims[i + 1], key=keys[i]) for i in range(len(dims) - 1)]\n",
    "\n",
    "    \n",
    "    def __call__(self, x):\n",
    "        \"\"\"Forward-pass the input through the network\n",
    "\n",
    "        Args:\n",
    "            x (jnp.array): Input\n",
    "\n",
    "        Returns:\n",
    "            jnp.array: NN output\n",
    "        \"\"\"\n",
    "        for layer in self.layers[:-1]:\n",
    "            x = jax.nn.mish(layer(x))\n",
    "        \n",
    "        x = self.layers[-1](x)\n",
    "        return x"
   ]
  },
  {
   "cell_type": "code",
   "execution_count": 14,
   "metadata": {},
   "outputs": [],
   "source": [
    "class ResNet(eqx.Module):\n",
    "    layers: list  # Type annotation indicating that layers is a list. Needed to work properly.\n",
    "\n",
    "    def __init__(self, key, input_dim, hidden_dims, n_layers, output_dim):\n",
    "        \"\"\"Define the ResNet\n",
    "\n",
    "        Args:\n",
    "            key (jax key): Random Key\n",
    "            input_dim (int): Input layer dimension\n",
    "            hidden_dims (int): Hidden layers dimension\n",
    "            n_layers (int): Number of hidden layers\n",
    "            output_dim (int): Output layer dimension\n",
    "        \"\"\"\n",
    "        # jax handle random number generation in a different way. Favoring reproducibility.\n",
    "        # This gives each layer a rnd initialization.\n",
    "        keys = jax.random.split(key, n_layers + 1)\n",
    "        \n",
    "        dims = [input_dim] + [hidden_dims] * n_layers + [output_dim]\n",
    "        self.layers = [eqx.nn.Linear(dims[i], dims[i + 1], key=keys[i]) for i in range(len(dims) - 1)]\n",
    "\n",
    "    def __call__(self, x):\n",
    "        \"\"\"Forward-pass the input through the network with residual connections\n",
    "\n",
    "        Args:\n",
    "            x (jnp.array): Input\n",
    "\n",
    "        Returns:\n",
    "            jnp.array: NN output\n",
    "        \"\"\"\n",
    "        for i, layer in enumerate(self.layers[:-1]):\n",
    "            if i % 2 == 0 and i != 0:\n",
    "                x = x + prev_x  # Add the previous input for residual connection\n",
    "            prev_x = x\n",
    "            x = jax.nn.sigmoid(layer(x))\n",
    "        \n",
    "        x = self.layers[-1](x)\n",
    "        return x"
   ]
  },
  {
   "cell_type": "code",
   "execution_count": 15,
   "metadata": {},
   "outputs": [],
   "source": [
    "sigma2 = 0.5**2\n",
    "\n",
    "L = 3.0\n",
    "\n",
    "\n",
    "a = 0.75\n",
    "b = 0.75\n",
    "\n",
    "v_max = 1.5\n",
    "p_max = 1 # rho_max cannot be learned Susana's paper"
   ]
  },
  {
   "cell_type": "code",
   "execution_count": 16,
   "metadata": {},
   "outputs": [],
   "source": [
    "def loss(model, sigma2, L, a, b, steps=50):\n",
    "\n",
    "    x_flat = jnp.linspace(0, L, steps)\n",
    "    inputs = jnp.concat([x_flat, jnp.array([0.0]), jnp.array([L])])\n",
    "    \n",
    "\n",
    "    rho, grad = jax.vmap(jax.value_and_grad(model))(inputs)\n",
    "    hess = jax.vmap(jax.hessian(model))(inputs)\n",
    "\n",
    "    dp_dx = grad\n",
    "    d2p_dx2 = hess\n",
    "\n",
    "    # PDE Loss\n",
    "    pde_loss = sigma2*d2p_dx2 - dp_dx*(v_max*(1-2*rho))\n",
    "\n",
    "    # in loss\n",
    "    in_loss = sigma2*dp_dx[-2] - rho[-2]*v_max*(1-rho[-2]) + a*(1-rho[-2])\n",
    "\n",
    "    # out loss\n",
    "    out_loss = -sigma2*dp_dx[-1] + rho[-1]*v_max*(1-rho[-1]) - b*rho[-1]\n",
    "\n",
    "    return jnp.average(pde_loss**2) + in_loss**2 + out_loss**2\n"
   ]
  },
  {
   "cell_type": "code",
   "execution_count": 17,
   "metadata": {},
   "outputs": [],
   "source": [
    "# Initialize the model with multiple hidden layers and scalar output layer\n",
    "model_key = jax.random.PRNGKey(1)\n",
    "\n",
    "input_dim = 'scalar'\n",
    "output_dim = 'scalar'\n",
    "\n",
    "model = MLP(model_key, input_dim=input_dim, hidden_dims=3, n_layers=3, output_dim=output_dim)"
   ]
  },
  {
   "cell_type": "code",
   "execution_count": 22,
   "metadata": {},
   "outputs": [
    {
     "name": "stdout",
     "output_type": "stream",
     "text": [
      "ParameterReshaper: 34 parameters detected for optimization.\n"
     ]
    }
   ],
   "source": [
    "# Initialize PSO optimizer\n",
    "\n",
    "num_particles = 50\n",
    "param_reshaper = evosax.ParameterReshaper(model)\n",
    "num_dims = param_reshaper.total_params\n",
    "pso = evosax.PSO(popsize=num_particles, num_dims=num_dims)"
   ]
  },
  {
   "cell_type": "code",
   "execution_count": 23,
   "metadata": {},
   "outputs": [
    {
     "ename": "TypeError",
     "evalue": "Strategy.initialize() got an unexpected keyword argument 'key'",
     "output_type": "error",
     "traceback": [
      "\u001b[1;31m---------------------------------------------------------------------------\u001b[0m",
      "\u001b[1;31mTypeError\u001b[0m                                 Traceback (most recent call last)",
      "Cell \u001b[1;32mIn[23], line 7\u001b[0m\n\u001b[0;32m      5\u001b[0m \u001b[38;5;66;03m# Initialize PSO particles\u001b[39;00m\n\u001b[0;32m      6\u001b[0m key, subkey \u001b[38;5;241m=\u001b[39m jax\u001b[38;5;241m.\u001b[39mrandom\u001b[38;5;241m.\u001b[39msplit(model_key)\n\u001b[1;32m----> 7\u001b[0m particles \u001b[38;5;241m=\u001b[39m \u001b[43mpso\u001b[49m\u001b[38;5;241;43m.\u001b[39;49m\u001b[43minitialize\u001b[49m\u001b[43m(\u001b[49m\u001b[43mkey\u001b[49m\u001b[38;5;241;43m=\u001b[39;49m\u001b[43msubkey\u001b[49m\u001b[43m)\u001b[49m\n\u001b[0;32m      9\u001b[0m \u001b[38;5;28;01mfor\u001b[39;00m epoch \u001b[38;5;129;01min\u001b[39;00m \u001b[38;5;28mrange\u001b[39m(num_epochs):\n\u001b[0;32m     10\u001b[0m     key, subkey \u001b[38;5;241m=\u001b[39m jax\u001b[38;5;241m.\u001b[39mrandom\u001b[38;5;241m.\u001b[39msplit(key)\n",
      "    \u001b[1;31m[... skipping hidden 10 frame]\u001b[0m\n",
      "File \u001b[1;32mc:\\Users\\andre\\OneDrive\\Documentos\\Warwick\\Individual Project\\Code\\Warwick-Final-Project\\venv\\Lib\\site-packages\\jax\\_src\\linear_util.py:192\u001b[0m, in \u001b[0;36mWrappedFun.call_wrapped\u001b[1;34m(self, *args, **kwargs)\u001b[0m\n\u001b[0;32m    189\u001b[0m gen \u001b[38;5;241m=\u001b[39m gen_static_args \u001b[38;5;241m=\u001b[39m out_store \u001b[38;5;241m=\u001b[39m \u001b[38;5;28;01mNone\u001b[39;00m\n\u001b[0;32m    191\u001b[0m \u001b[38;5;28;01mtry\u001b[39;00m:\n\u001b[1;32m--> 192\u001b[0m   ans \u001b[38;5;241m=\u001b[39m \u001b[38;5;28;43mself\u001b[39;49m\u001b[38;5;241;43m.\u001b[39;49m\u001b[43mf\u001b[49m\u001b[43m(\u001b[49m\u001b[38;5;241;43m*\u001b[39;49m\u001b[43margs\u001b[49m\u001b[43m,\u001b[49m\u001b[43m \u001b[49m\u001b[38;5;241;43m*\u001b[39;49m\u001b[38;5;241;43m*\u001b[39;49m\u001b[38;5;28;43mdict\u001b[39;49m\u001b[43m(\u001b[49m\u001b[38;5;28;43mself\u001b[39;49m\u001b[38;5;241;43m.\u001b[39;49m\u001b[43mparams\u001b[49m\u001b[43m,\u001b[49m\u001b[43m \u001b[49m\u001b[38;5;241;43m*\u001b[39;49m\u001b[38;5;241;43m*\u001b[39;49m\u001b[43mkwargs\u001b[49m\u001b[43m)\u001b[49m\u001b[43m)\u001b[49m\n\u001b[0;32m    193\u001b[0m \u001b[38;5;28;01mexcept\u001b[39;00m:\n\u001b[0;32m    194\u001b[0m   \u001b[38;5;66;03m# Some transformations yield from inside context managers, so we have to\u001b[39;00m\n\u001b[0;32m    195\u001b[0m   \u001b[38;5;66;03m# interrupt them before reraising the exception. Otherwise they will only\u001b[39;00m\n\u001b[0;32m    196\u001b[0m   \u001b[38;5;66;03m# get garbage-collected at some later time, running their cleanup tasks\u001b[39;00m\n\u001b[0;32m    197\u001b[0m   \u001b[38;5;66;03m# only after this exception is handled, which can corrupt the global\u001b[39;00m\n\u001b[0;32m    198\u001b[0m   \u001b[38;5;66;03m# state.\u001b[39;00m\n\u001b[0;32m    199\u001b[0m   \u001b[38;5;28;01mwhile\u001b[39;00m stack:\n",
      "\u001b[1;31mTypeError\u001b[0m: Strategy.initialize() got an unexpected keyword argument 'key'"
     ]
    }
   ],
   "source": [
    "# Training loop\n",
    "num_epochs = 250000\n",
    "losses = []\n",
    "\n",
    "# Initialize PSO particles\n",
    "key, subkey = jax.random.split(model_key)\n",
    "particles = pso.initialize(key=subkey)\n",
    "\n",
    "for epoch in range(num_epochs):\n",
    "    key, subkey = jax.random.split(key)\n",
    "    particles = pso.ask(key=subkey, particles=particles)\n",
    "    fitnesses = jax.vmap(lambda p: pso_loss(p, sigma2, L, a, b, steps))(particles)\n",
    "    particles = pso.tell(particles=particles, fitnesses=fitnesses)\n",
    "\n",
    "    if epoch % 100 == 0:\n",
    "        best_idx = jnp.argmin(fitnesses)\n",
    "        best_params = particles[best_idx]\n",
    "        loss_value = pso_loss(best_params, sigma2, L, a, b, steps=200)\n",
    "        losses.append(loss_value)\n",
    "        print(f\"Epoch {epoch}, Loss: {loss_value}\")\n",
    "\n",
    "# Print final loss\n",
    "best_idx = jnp.argmin(fitnesses)\n",
    "final_params = particles[best_idx]\n",
    "final_loss = pso_loss(final_params, sigma2, L, a, b, steps=20)\n",
    "print(f\"Final Loss: {final_loss}\")"
   ]
  },
  {
   "cell_type": "code",
   "execution_count": 5,
   "metadata": {},
   "outputs": [
    {
     "ename": "NameError",
     "evalue": "name 'losses' is not defined",
     "output_type": "error",
     "traceback": [
      "\u001b[1;31m---------------------------------------------------------------------------\u001b[0m",
      "\u001b[1;31mNameError\u001b[0m                                 Traceback (most recent call last)",
      "Cell \u001b[1;32mIn[5], line 1\u001b[0m\n\u001b[1;32m----> 1\u001b[0m plt\u001b[38;5;241m.\u001b[39mplot(\u001b[43mlosses\u001b[49m)\n\u001b[0;32m      2\u001b[0m plt\u001b[38;5;241m.\u001b[39myscale(\u001b[38;5;124m'\u001b[39m\u001b[38;5;124mlog\u001b[39m\u001b[38;5;124m'\u001b[39m)\n\u001b[0;32m      3\u001b[0m plt\u001b[38;5;241m.\u001b[39mxlabel(\u001b[38;5;124m'\u001b[39m\u001b[38;5;124mEpoch x100\u001b[39m\u001b[38;5;124m'\u001b[39m)\n",
      "\u001b[1;31mNameError\u001b[0m: name 'losses' is not defined"
     ]
    }
   ],
   "source": [
    "plt.plot(losses)\n",
    "plt.yscale('log')\n",
    "plt.xlabel('Epoch x100')\n",
    "plt.ylabel('Loss')\n",
    "plt.title('Loss Evolution')\n",
    "plt.show()"
   ]
  },
  {
   "cell_type": "code",
   "execution_count": 378,
   "metadata": {},
   "outputs": [
    {
     "data": {
      "image/png": "[encoded data removed]",
      "text/plain": [
       "<Figure size 640x480 with 1 Axes>"
      ]
     },
     "metadata": {},
     "output_type": "display_data"
    }
   ],
   "source": [
    "x_flat = jnp.linspace(0, L, 500)\n",
    "outputs = jax.vmap(model)(x_flat)\n",
    "\n",
    "plt.plot(outputs)\n",
    "#plt.plot(res_05)\n",
    "plt.ylim([0.1, 0.8])\n",
    "plt.show()"
   ]
  },
  {
   "cell_type": "code",
   "execution_count": null,
   "metadata": {},
   "outputs": [],
   "source": []
  },
  {
   "cell_type": "code",
   "execution_count": null,
   "metadata": {},
   "outputs": [],
   "source": []
  },
  {
   "cell_type": "code",
   "execution_count": 289,
   "metadata": {},
   "outputs": [],
   "source": [
    "def extract_weights(model):\n",
    "    weights = []\n",
    "    for layer in model.layers:\n",
    "        weights.append(layer.weight.flatten())\n",
    "        weights.append(layer.bias.flatten())\n",
    "    return jnp.concatenate(weights)"
   ]
  },
  {
   "cell_type": "code",
   "execution_count": 341,
   "metadata": {},
   "outputs": [],
   "source": [
    "w_30 = extract_weights(model)"
   ]
  },
  {
   "cell_type": "code",
   "execution_count": 248,
   "metadata": {},
   "outputs": [
    {
     "data": {
      "text/plain": [
       "Array([-0.23663503,  0.04501038,  0.06011234, -1.7434026 ,  1.1453986 ,\n",
       "        0.4586092 , -0.09523066, -0.0706974 ,  0.22513817,  0.34260044,\n",
       "        0.00224442, -0.1193314 ,  0.32790342, -0.43162364,  0.14924867,\n",
       "       -0.70392615, -0.34025213, -0.0547112 ,  0.08854806,  0.1537855 ,\n",
       "       -0.06872196, -0.60784125, -0.07926098, -0.65052944,  0.3703186 ,\n",
       "        0.30363142,  0.6894678 ,  0.04675508,  0.349182  ,  0.14411794,\n",
       "        0.20980333,  0.8380722 , -0.16536091,  0.03240588], dtype=float32)"
      ]
     },
     "execution_count": 248,
     "metadata": {},
     "output_type": "execute_result"
    }
   ],
   "source": [
    "w_15"
   ]
  },
  {
   "cell_type": "code",
   "execution_count": 260,
   "metadata": {},
   "outputs": [
    {
     "data": {
      "text/plain": [
       "Array([-0.01886487, -0.07763623,  0.0682521 , -1.7322133 ,  1.0825634 ,\n",
       "        0.5454949 , -0.19751894, -0.07382164,  0.31850702,  0.3293328 ,\n",
       "       -0.12012529,  0.00620866,  0.1894416 , -0.37295517,  0.19061677,\n",
       "       -0.6517513 , -0.3476283 ,  0.02140443,  0.04122147,  0.13946979,\n",
       "       -0.154498  , -0.6596227 , -0.1045586 , -0.7436725 ,  0.39917564,\n",
       "        0.29935205,  0.7526574 ,  0.05942841,  0.37012112,  0.14889094,\n",
       "        0.27526522,  0.8802568 , -0.24536434,  0.04323521], dtype=float32)"
      ]
     },
     "execution_count": 260,
     "metadata": {},
     "output_type": "execute_result"
    }
   ],
   "source": [
    "w_14"
   ]
  },
  {
   "cell_type": "code",
   "execution_count": 272,
   "metadata": {},
   "outputs": [
    {
     "data": {
      "text/plain": [
       "Array([-0.70581836, -0.21816447,  0.3103594 , -1.3245158 ,  2.0237687 ,\n",
       "        0.46241713, -1.0231875 ,  0.12140357,  0.47472465,  0.37860808,\n",
       "       -1.0041484 ,  1.2586603 , -0.32091677, -0.88251716,  0.4564254 ,\n",
       "       -0.40795338, -0.31685358, -0.16866374, -0.7281786 ,  0.4279303 ,\n",
       "       -0.03598702, -1.2421377 ,  0.18442698, -0.39214852,  1.0480672 ,\n",
       "        0.51951706,  2.0311275 ,  0.24034218,  0.576844  ,  0.12072784,\n",
       "        2.1704063 ,  1.200612  , -1.1574608 ,  0.1300677 ], dtype=float32)"
      ]
     },
     "execution_count": 272,
     "metadata": {},
     "output_type": "execute_result"
    }
   ],
   "source": [
    "w_10"
   ]
  },
  {
   "cell_type": "code",
   "execution_count": 291,
   "metadata": {},
   "outputs": [
    {
     "data": {
      "text/plain": [
       "Array([ 0.85398746,  0.9974071 ,  0.27375442, -2.4042788 , -0.8012333 ,\n",
       "        0.615171  , -0.37599793, -0.02460134,  0.5619073 ,  0.2229701 ,\n",
       "       -0.469443  , -0.37401405,  0.21095343, -0.6522791 ,  0.15386069,\n",
       "       -0.5644705 ,  0.12027179,  0.11973571,  0.18166065, -0.0159424 ,\n",
       "       -0.13871405, -0.4915764 , -0.2519924 , -0.9823736 ,  0.7459361 ,\n",
       "        0.18463553,  1.2154721 ,  0.09624726,  0.39142776,  0.21628962,\n",
       "        0.33447614,  0.96043116,  0.5631767 ,  0.06246009], dtype=float32)"
      ]
     },
     "execution_count": 291,
     "metadata": {},
     "output_type": "execute_result"
    }
   ],
   "source": [
    "w_20"
   ]
  },
  {
   "cell_type": "code",
   "execution_count": 345,
   "metadata": {},
   "outputs": [
    {
     "data": {
      "text/plain": [
       "Array([[1.        , 0.7528726 , 0.712824  , 0.39555433],\n",
       "       [0.7528726 , 0.9999999 , 0.98825145, 0.6991485 ],\n",
       "       [0.712824  , 0.98825145, 1.        , 0.6722142 ],\n",
       "       [0.39555433, 0.6991485 , 0.6722142 , 1.        ]], dtype=float32)"
      ]
     },
     "execution_count": 345,
     "metadata": {},
     "output_type": "execute_result"
    }
   ],
   "source": [
    "jnp.corrcoef(jnp.stack((w_10, w_14, w_15, w_20)))"
   ]
  },
  {
   "cell_type": "code",
   "execution_count": 344,
   "metadata": {},
   "outputs": [
    {
     "data": {
      "image/png": "[encoded data removed]",
      "text/plain": [
       "<Figure size 640x480 with 1 Axes>"
      ]
     },
     "metadata": {},
     "output_type": "display_data"
    }
   ],
   "source": [
    "plt.plot(w_10, label = '1.0')\n",
    "plt.plot(w_14, label = '1.4')\n",
    "plt.plot(w_15, label = '1.5')\n",
    "plt.plot(w_20, label = '2.0')\n",
    "\n",
    "plt.legend()\n",
    "plt.show()"
   ]
  },
  {
   "cell_type": "code",
   "execution_count": null,
   "metadata": {},
   "outputs": [],
   "source": []
  },
  {
   "cell_type": "code",
   "execution_count": null,
   "metadata": {},
   "outputs": [],
   "source": []
  },
  {
   "cell_type": "code",
   "execution_count": null,
   "metadata": {},
   "outputs": [],
   "source": []
  },
  {
   "cell_type": "code",
   "execution_count": 265,
   "metadata": {},
   "outputs": [],
   "source": [
    "def get_weights(model):\n",
    "    weights = []\n",
    "    for layer in model.layers:\n",
    "        weights.append(layer.weight)\n",
    "    return weights"
   ]
  },
  {
   "cell_type": "code",
   "execution_count": 274,
   "metadata": {},
   "outputs": [
    {
     "data": {
      "text/plain": [
       "[Array([[-0.5893153 ],\n",
       "        [-0.65002257]], dtype=float32),\n",
       " Array([[ 2.015867  , -3.0652652 ],\n",
       "        [ 0.94027215, -1.4652383 ]], dtype=float32),\n",
       " Array([[-0.3792793 , -1.5083473 ],\n",
       "        [-0.3230125 ,  0.47585058]], dtype=float32),\n",
       " Array([[0.19262725, 0.6272823 ]], dtype=float32)]"
      ]
     },
     "execution_count": 274,
     "metadata": {},
     "output_type": "execute_result"
    }
   ],
   "source": [
    "trained_weights = get_weights(model)\n",
    "trained_weights"
   ]
  },
  {
   "cell_type": "code",
   "execution_count": 273,
   "metadata": {},
   "outputs": [
    {
     "data": {
      "text/plain": [
       "[Array([[-0.10842768],\n",
       "        [-0.24311486]], dtype=float32),\n",
       " Array([[ 0.7329991 , -0.50644493],\n",
       "        [ 1.5691452 , -1.0729849 ]], dtype=float32),\n",
       " Array([[-0.7466465 , -0.15541852],\n",
       "        [-0.6989294 ,  0.32326072]], dtype=float32),\n",
       " Array([[0.2821968, 0.8004125]], dtype=float32)]"
      ]
     },
     "execution_count": 273,
     "metadata": {},
     "output_type": "execute_result"
    }
   ],
   "source": [
    "trained_weights_20"
   ]
  },
  {
   "cell_type": "code",
   "execution_count": null,
   "metadata": {},
   "outputs": [],
   "source": []
  },
  {
   "cell_type": "code",
   "execution_count": null,
   "metadata": {},
   "outputs": [],
   "source": []
  },
  {
   "cell_type": "code",
   "execution_count": null,
   "metadata": {},
   "outputs": [],
   "source": []
  },
  {
   "cell_type": "markdown",
   "metadata": {},
   "source": [
    "Ideia de distancia: Mede a distancia entre cada uma das matrizes. Coloque esses valores num vetor e meça a distancia euclidiana desse vetor. Pode colocar um peso para cada posição do vetor, sendo quando mais para a entrada, maior o peso, já que a parada se propaga, mas não tenho certeza se é necessário."
   ]
  },
  {
   "cell_type": "code",
   "execution_count": 68,
   "metadata": {},
   "outputs": [],
   "source": [
    "import jax.numpy as jnp\n",
    "\n",
    "def sum_squared_differences(list1, list2):\n",
    "    \"\"\"\n",
    "    Calculate the sum of squared differences element-wise for two lists of jnp.arrays.\n",
    "\n",
    "    Parameters:\n",
    "    list1 (list of jnp.array): First list of arrays.\n",
    "    list2 (list of jnp.array): Second list of arrays.\n",
    "\n",
    "    Returns:\n",
    "    float: Sum of squared differences.\n",
    "    \"\"\"\n",
    "    if len(list1) != len(list2):\n",
    "        raise ValueError(\"Both lists must have the same length\")\n",
    "    \n",
    "    total_sum = 0.0\n",
    "    for arr1, arr2 in zip(list1, list2):\n",
    "        total_sum += jnp.sum((arr1 - arr2) ** 2)\n",
    "    \n",
    "    return total_sum\n"
   ]
  },
  {
   "cell_type": "code",
   "execution_count": null,
   "metadata": {},
   "outputs": [],
   "source": []
  }
 ],
 "metadata": {
  "kernelspec": {
   "display_name": "venv",
   "language": "python",
   "name": "python3"
  },
  "language_info": {
   "codemirror_mode": {
    "name": "ipython",
    "version": 3
   },
   "file_extension": ".py",
   "mimetype": "text/x-python",
   "name": "python",
   "nbconvert_exporter": "python",
   "pygments_lexer": "ipython3",
   "version": "3.12.4"
  }
 },
 "nbformat": 4,
 "nbformat_minor": 2
}
