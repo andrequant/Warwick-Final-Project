{
 "cells": [
  {
   "cell_type": "code",
   "execution_count": 1,
   "metadata": {},
   "outputs": [],
   "source": [
    "import numpy as np\n",
    "import matplotlib.pyplot as plt\n",
    "import jax\n",
    "import jax.numpy as jnp\n",
    "import equinox as eqx\n",
    "\n",
    "import optax\n",
    "\n",
    "import timeit\n",
    "\n",
    "from scipy.stats import qmc"
   ]
  },
  {
   "cell_type": "code",
   "execution_count": 2,
   "metadata": {},
   "outputs": [],
   "source": [
    "model_key = jax.random.PRNGKey(1)\n",
    "\n",
    "input_dim = 2\n",
    "output_dim = 'scalar'\n",
    "\n",
    "layers_size = 10\n",
    "n_layers = 1\n",
    "\n",
    "model = eqx.nn.MLP(in_size=input_dim, out_size=output_dim, width_size=layers_size, depth=n_layers,\n",
    "                    activation=jax.nn.sigmoid, use_final_bias=False, key=model_key)"
   ]
  },
  {
   "cell_type": "code",
   "execution_count": 3,
   "metadata": {},
   "outputs": [],
   "source": [
    "sigma2 = 0.5**2\n",
    "\n",
    "L = 3.0\n",
    "\n",
    "\n",
    "a = 0.9\n",
    "b = 0.975\n",
    "\n",
    "v_max = 1.5\n",
    "p_max = 1 # rho_max cannot be learned Susana's paper"
   ]
  },
  {
   "cell_type": "code",
   "execution_count": 4,
   "metadata": {},
   "outputs": [],
   "source": [
    "# Example batch input\n",
    "\n",
    "batch_input_data = jnp.array([\n",
    "    [1.0, 2.0],\n",
    "    [3.0, 4.0],\n",
    "    [5.0, 6.0]\n",
    "])"
   ]
  },
  {
   "cell_type": "code",
   "execution_count": 5,
   "metadata": {},
   "outputs": [
    {
     "data": {
      "text/plain": [
       "Array([-0.7031001 , -0.69159174, -0.7158083 ], dtype=float32)"
      ]
     },
     "execution_count": 5,
     "metadata": {},
     "output_type": "execute_result"
    }
   ],
   "source": [
    "jax.vmap(model)(batch_input_data)"
   ]
  },
  {
   "cell_type": "code",
   "execution_count": 6,
   "metadata": {},
   "outputs": [],
   "source": [
    "def cosine_spacing(start, end, steps):\n",
    "    linspace = jnp.linspace(0, jnp.pi, steps)\n",
    "    cosine_values = (1 - jnp.cos(linspace))/2  # This maps the values to [0, 1]\n",
    "    return start + (end - start) * cosine_values"
   ]
  },
  {
   "cell_type": "code",
   "execution_count": 7,
   "metadata": {},
   "outputs": [],
   "source": [
    "import itertools"
   ]
  },
  {
   "cell_type": "code",
   "execution_count": 8,
   "metadata": {},
   "outputs": [],
   "source": [
    "x_flat = cosine_spacing(0, 5, 10)\n",
    "vm_flat = jnp.linspace(1, 3, 10)\n",
    "\n",
    "inputs = jnp.array(list(itertools.product(x_flat, vm_flat)))"
   ]
  },
  {
   "cell_type": "code",
   "execution_count": 9,
   "metadata": {},
   "outputs": [
    {
     "data": {
      "text/plain": [
       "Array([1.       , 1.2222222, 1.4444444, 1.6666667, 1.888889 , 2.1111112,\n",
       "       2.3333333, 2.5555558, 2.777778 , 3.       , 1.       , 1.2222222,\n",
       "       1.4444444, 1.6666667, 1.888889 , 2.1111112, 2.3333333, 2.5555558,\n",
       "       2.777778 , 3.       , 1.       , 1.2222222, 1.4444444, 1.6666667,\n",
       "       1.888889 , 2.1111112, 2.3333333, 2.5555558, 2.777778 , 3.       ,\n",
       "       1.       , 1.2222222, 1.4444444, 1.6666667, 1.888889 , 2.1111112,\n",
       "       2.3333333, 2.5555558, 2.777778 , 3.       , 1.       , 1.2222222,\n",
       "       1.4444444, 1.6666667, 1.888889 , 2.1111112, 2.3333333, 2.5555558,\n",
       "       2.777778 , 3.       , 1.       , 1.2222222, 1.4444444, 1.6666667,\n",
       "       1.888889 , 2.1111112, 2.3333333, 2.5555558, 2.777778 , 3.       ,\n",
       "       1.       , 1.2222222, 1.4444444, 1.6666667, 1.888889 , 2.1111112,\n",
       "       2.3333333, 2.5555558, 2.777778 , 3.       , 1.       , 1.2222222,\n",
       "       1.4444444, 1.6666667, 1.888889 , 2.1111112, 2.3333333, 2.5555558,\n",
       "       2.777778 , 3.       , 1.       , 1.2222222, 1.4444444, 1.6666667,\n",
       "       1.888889 , 2.1111112, 2.3333333, 2.5555558, 2.777778 , 3.       ,\n",
       "       1.       , 1.2222222, 1.4444444, 1.6666667, 1.888889 , 2.1111112,\n",
       "       2.3333333, 2.5555558, 2.777778 , 3.       ], dtype=float32)"
      ]
     },
     "execution_count": 9,
     "metadata": {},
     "output_type": "execute_result"
    }
   ],
   "source": [
    "inputs[:,1]"
   ]
  },
  {
   "cell_type": "code",
   "execution_count": 10,
   "metadata": {},
   "outputs": [],
   "source": [
    "def loss(model, sigma2, L, a, b, steps=50):\n",
    "\n",
    "    x_flat = cosine_spacing(0, L, steps)\n",
    "    x_flat = jnp.concat([x_flat, jnp.array([0.0]), jnp.array([L])])\n",
    "    vm_flat = jnp.linspace(1, 2, 10)\n",
    "\n",
    "    inputs = jnp.array(list(itertools.product(x_flat, vm_flat)))\n",
    "    \n",
    "\n",
    "    rho, grad = jax.vmap(jax.value_and_grad(model))(inputs)\n",
    "    hess = jax.vmap(jax.hessian(model))(inputs)\n",
    "\n",
    "    dp_dx = grad[:, 0]\n",
    "    d2p_dx2 = hess[:, 0, 0]\n",
    "\n",
    "    # PDE Loss\n",
    "    pde_loss = sigma2*d2p_dx2 - dp_dx*(inputs[:, 1]*(1-2*rho))\n",
    "\n",
    "    # Vm\n",
    "\n",
    "    # in loss\n",
    "    in_loss = sigma2*dp_dx[-2*steps:-steps] - rho[-2*steps:-steps]*inputs[-2*steps:-steps, 1]*(1-rho[-2*steps:-steps]) + a*(1-rho[-2*steps:-steps])\n",
    "\n",
    "    # out loss\n",
    "    out_loss = -sigma2*dp_dx[-steps:] + rho[-steps:]*inputs[-steps:, 1]*(1-rho[-steps]) - b*rho[-steps:]\n",
    "\n",
    "    return jnp.average(pde_loss**2) + jnp.average(in_loss**2) + jnp.average(out_loss**2)\n"
   ]
  },
  {
   "cell_type": "code",
   "execution_count": 11,
   "metadata": {},
   "outputs": [],
   "source": [
    "x_flat = cosine_spacing(0, L, 6)\n",
    "vm_flat = jnp.linspace(1, 3, 5)\n",
    "\n",
    "inputs = jnp.array(list(itertools.product(x_flat, vm_flat)))"
   ]
  },
  {
   "cell_type": "code",
   "execution_count": 12,
   "metadata": {},
   "outputs": [
    {
     "data": {
      "text/plain": [
       "Array([1.5, 2. ], dtype=float32)"
      ]
     },
     "execution_count": 12,
     "metadata": {},
     "output_type": "execute_result"
    }
   ],
   "source": [
    "inputs[1:3,2]"
   ]
  },
  {
   "cell_type": "code",
   "execution_count": 13,
   "metadata": {},
   "outputs": [
    {
     "data": {
      "text/plain": [
       "Array(10.755062, dtype=float32)"
      ]
     },
     "execution_count": 13,
     "metadata": {},
     "output_type": "execute_result"
    }
   ],
   "source": [
    "loss(model, 0.5**2, 3, a,b)"
   ]
  },
  {
   "cell_type": "code",
   "execution_count": 14,
   "metadata": {},
   "outputs": [],
   "source": [
    "# Define a Multilayer Perceptron\n",
    "\n",
    "class MLP(eqx.Module):\n",
    "    layers: list  # Type annotation indicating that layers is a list. Needed to work properly.\n",
    "\n",
    "\n",
    "    def __init__(self, key, input_dim, hidden_dims, n_layers, output_dim):\n",
    "        \"\"\"Define the MLP\n",
    "\n",
    "        Args:\n",
    "            key (jax key): Random Jey\n",
    "            input_dim (int): Input layer dimension\n",
    "            hidden_dims (int): Hidden layers dimension\n",
    "            n_layers (_type_): Number of hidden layers\n",
    "            output_dim (_type_): Output layer dimension\n",
    "        \"\"\"\n",
    "\n",
    "\n",
    "        \n",
    "        # jax handle random number generation in a different way. Favoring reproducibility.\n",
    "        # This gives each layer a rnd initialization.\n",
    "        keys = jax.random.split(key, n_layers + 1)\n",
    "        \n",
    "        dims = [input_dim] + [hidden_dims] * n_layers + [output_dim]\n",
    "        self.layers = [eqx.nn.Linear(dims[i], dims[i + 1], key=keys[i]) for i in range(len(dims) - 1)]\n",
    "\n",
    "    \n",
    "    def __call__(self, x):\n",
    "        \"\"\"Forward-pass the input through the network\n",
    "\n",
    "        Args:\n",
    "            x (jnp.array): Input\n",
    "\n",
    "        Returns:\n",
    "            jnp.array: NN output\n",
    "        \"\"\"\n",
    "        for layer in self.layers[:-1]:\n",
    "            x = jax.nn.soft_sign(layer(x))\n",
    "        \n",
    "        x = self.layers[-1](x)\n",
    "        return x"
   ]
  },
  {
   "cell_type": "code",
   "execution_count": 15,
   "metadata": {},
   "outputs": [],
   "source": [
    "@eqx.filter_jit # decorator that applies Just-in-time compilation just to the relevant parts. Improves performance.\n",
    "def train_step(model, opt_state, L, sigma2, a, b, steps=20):\n",
    "    loss_value, grads = jax.value_and_grad(loss)(model, sigma2, L, a, b) # Compute the loss and gradient\n",
    "    updates, opt_state = optimizer.update(grads, opt_state) # Apply the backward propagation\n",
    "    model = eqx.apply_updates(model, updates) # Update the NN\n",
    "    return model, opt_state, loss_value"
   ]
  },
  {
   "cell_type": "code",
   "execution_count": 64,
   "metadata": {},
   "outputs": [],
   "source": [
    "# Initialize the model with multiple hidden layers and scalar output layer\n",
    "model_key = jax.random.PRNGKey(1)\n",
    "\n",
    "input_dim = 2\n",
    "output_dim = 'scalar'\n",
    "\n",
    "model = MLP(model_key, input_dim=input_dim, hidden_dims=20, n_layers=8, output_dim=output_dim)"
   ]
  },
  {
   "cell_type": "code",
   "execution_count": 65,
   "metadata": {},
   "outputs": [],
   "source": [
    "# Optimizer definition\n",
    "lr = 10e-4\n",
    "optimizer = optax.noisy_sgd(learning_rate=lr, eta=0.05, gamma=0.4)\n",
    "opt_state = optimizer.init(model)"
   ]
  },
  {
   "cell_type": "code",
   "execution_count": 67,
   "metadata": {},
   "outputs": [
    {
     "name": "stdout",
     "output_type": "stream",
     "text": [
      "Epoch 0, Loss: 0.007170592434704304\n",
      "Epoch 1000, Loss: 0.006968115456402302\n",
      "Epoch 2000, Loss: 0.006884637754410505\n",
      "Epoch 3000, Loss: 0.00685121538117528\n",
      "Epoch 4000, Loss: 0.00679971557110548\n",
      "Epoch 5000, Loss: 0.006770770065486431\n",
      "Epoch 6000, Loss: 0.006740180309861898\n",
      "Epoch 7000, Loss: 0.006717682350426912\n",
      "Epoch 8000, Loss: 0.00671437056735158\n",
      "Epoch 9000, Loss: 0.006693209987133741\n",
      "Epoch 10000, Loss: 0.006674849893897772\n",
      "Epoch 11000, Loss: 0.006649482063949108\n",
      "Epoch 12000, Loss: 0.0066256457939744\n",
      "Epoch 13000, Loss: 0.006591069977730513\n",
      "Epoch 14000, Loss: 0.006574532017111778\n",
      "Epoch 15000, Loss: 0.006564986426383257\n",
      "Epoch 16000, Loss: 0.0065347785130143166\n",
      "Epoch 17000, Loss: 0.0065282718278467655\n",
      "Epoch 18000, Loss: 0.0065216803923249245\n",
      "Epoch 19000, Loss: 0.0065030320547521114\n",
      "Epoch 20000, Loss: 0.0065004220232367516\n",
      "Epoch 21000, Loss: 0.006498277653008699\n",
      "Epoch 22000, Loss: 0.006488439626991749\n",
      "Epoch 23000, Loss: 0.006467773579061031\n",
      "Epoch 24000, Loss: 0.0064606135711073875\n",
      "Epoch 25000, Loss: 0.006466175429522991\n",
      "Epoch 26000, Loss: 0.006456616334617138\n",
      "Epoch 27000, Loss: 0.006434729788452387\n",
      "Epoch 28000, Loss: 0.006433524657040834\n",
      "Epoch 29000, Loss: 0.006440421566367149\n",
      "Epoch 30000, Loss: 0.006425607483834028\n",
      "Epoch 31000, Loss: 0.0063935830257833\n",
      "Epoch 32000, Loss: 0.0064140623435378075\n",
      "Epoch 33000, Loss: 0.0063929250463843346\n",
      "Epoch 34000, Loss: 0.006396485026925802\n",
      "Epoch 35000, Loss: 0.006369739770889282\n",
      "Epoch 36000, Loss: 0.0063629974611103535\n",
      "Epoch 37000, Loss: 0.006354500073939562\n",
      "Epoch 38000, Loss: 0.006349670235067606\n",
      "Epoch 39000, Loss: 0.00634045759215951\n",
      "Epoch 40000, Loss: 0.006341259926557541\n",
      "Epoch 41000, Loss: 0.006313394755125046\n",
      "Epoch 42000, Loss: 0.006298058200627565\n",
      "Epoch 43000, Loss: 0.006290271878242493\n",
      "Epoch 44000, Loss: 0.006285167299211025\n",
      "Epoch 45000, Loss: 0.006269847042858601\n",
      "Epoch 46000, Loss: 0.006286138668656349\n",
      "Epoch 47000, Loss: 0.006293772254139185\n",
      "Epoch 48000, Loss: 0.006269924808293581\n",
      "Epoch 49000, Loss: 0.006260421127080917\n",
      "Epoch 50000, Loss: 0.0062643419951200485\n",
      "Epoch 51000, Loss: 0.006280578672885895\n",
      "Epoch 52000, Loss: 0.0062621100805699825\n",
      "Epoch 53000, Loss: 0.006250231061130762\n",
      "Epoch 54000, Loss: 0.006237273570150137\n",
      "Epoch 55000, Loss: 0.0062781586311757565\n",
      "Epoch 56000, Loss: 0.006278703920543194\n"
     ]
    },
    {
     "ename": "KeyboardInterrupt",
     "evalue": "",
     "output_type": "error",
     "traceback": [
      "\u001b[1;31m---------------------------------------------------------------------------\u001b[0m",
      "\u001b[1;31mKeyboardInterrupt\u001b[0m                         Traceback (most recent call last)",
      "Cell \u001b[1;32mIn[67], line 8\u001b[0m\n\u001b[0;32m      3\u001b[0m losses \u001b[38;5;241m=\u001b[39m []\n\u001b[0;32m      6\u001b[0m \u001b[38;5;28;01mfor\u001b[39;00m epoch \u001b[38;5;129;01min\u001b[39;00m \u001b[38;5;28mrange\u001b[39m(num_epochs):\n\u001b[1;32m----> 8\u001b[0m     model, opt_state, loss_value \u001b[38;5;241m=\u001b[39m \u001b[43mtrain_step\u001b[49m\u001b[43m(\u001b[49m\u001b[43mmodel\u001b[49m\u001b[43m,\u001b[49m\u001b[43m \u001b[49m\u001b[43mopt_state\u001b[49m\u001b[43m,\u001b[49m\u001b[43m \u001b[49m\u001b[43mL\u001b[49m\u001b[43m,\u001b[49m\u001b[43m \u001b[49m\u001b[43msigma2\u001b[49m\u001b[43m,\u001b[49m\u001b[43m \u001b[49m\u001b[43ma\u001b[49m\u001b[43m,\u001b[49m\u001b[43m \u001b[49m\u001b[43mb\u001b[49m\u001b[43m,\u001b[49m\u001b[43m \u001b[49m\u001b[43msteps\u001b[49m\u001b[38;5;241;43m=\u001b[39;49m\u001b[38;5;241;43m50\u001b[39;49m\u001b[43m)\u001b[49m\n\u001b[0;32m     10\u001b[0m     \u001b[38;5;28;01mif\u001b[39;00m epoch \u001b[38;5;241m%\u001b[39m \u001b[38;5;241m1000\u001b[39m \u001b[38;5;241m==\u001b[39m \u001b[38;5;241m0\u001b[39m:\n\u001b[0;32m     11\u001b[0m         losses\u001b[38;5;241m.\u001b[39mappend(loss_value)\n",
      "    \u001b[1;31m[... skipping hidden 3 frame]\u001b[0m\n",
      "File \u001b[1;32mc:\\Users\\andre\\OneDrive\\Documentos\\Warwick\\Individual Project\\Code\\Warwick-Final-Project\\venv\\Lib\\site-packages\\equinox\\_module.py:910\u001b[0m, in \u001b[0;36m_unflatten_module\u001b[1;34m(cls, aux, dynamic_field_values)\u001b[0m\n\u001b[0;32m    900\u001b[0m     aux \u001b[38;5;241m=\u001b[39m _FlattenedData(\n\u001b[0;32m    901\u001b[0m         \u001b[38;5;28mtuple\u001b[39m(dynamic_field_names),\n\u001b[0;32m    902\u001b[0m         \u001b[38;5;28mtuple\u001b[39m(static_field_names),\n\u001b[1;32m   (...)\u001b[0m\n\u001b[0;32m    905\u001b[0m         \u001b[38;5;28mtuple\u001b[39m(wrapper_field_values),\n\u001b[0;32m    906\u001b[0m     )\n\u001b[0;32m    907\u001b[0m     \u001b[38;5;28;01mreturn\u001b[39;00m \u001b[38;5;28mtuple\u001b[39m(dynamic_field_values), aux\n\u001b[1;32m--> 910\u001b[0m \u001b[38;5;28;01mdef\u001b[39;00m \u001b[38;5;21m_unflatten_module\u001b[39m(\u001b[38;5;28mcls\u001b[39m: \u001b[38;5;28mtype\u001b[39m[\u001b[38;5;124m\"\u001b[39m\u001b[38;5;124mModule\u001b[39m\u001b[38;5;124m\"\u001b[39m], aux: _FlattenedData, dynamic_field_values):\n\u001b[0;32m    911\u001b[0m     \u001b[38;5;66;03m# This doesn't go via `__init__`. A user may have done something nontrivial there,\u001b[39;00m\n\u001b[0;32m    912\u001b[0m     \u001b[38;5;66;03m# and the field values may be dummy values as used in various places throughout JAX.\u001b[39;00m\n\u001b[0;32m    913\u001b[0m     \u001b[38;5;66;03m# See also\u001b[39;00m\n\u001b[0;32m    914\u001b[0m     \u001b[38;5;66;03m# https://jax.readthedocs.io/en/latest/pytrees.html#custom-pytrees-and-initialization,\u001b[39;00m\n\u001b[0;32m    915\u001b[0m     \u001b[38;5;66;03m# which was (I believe) inspired by Equinox's approach here.\u001b[39;00m\n\u001b[0;32m    916\u001b[0m     module \u001b[38;5;241m=\u001b[39m \u001b[38;5;28mobject\u001b[39m\u001b[38;5;241m.\u001b[39m\u001b[38;5;21m__new__\u001b[39m(\u001b[38;5;28mcls\u001b[39m)\n\u001b[0;32m    917\u001b[0m     \u001b[38;5;28;01mfor\u001b[39;00m name, value \u001b[38;5;129;01min\u001b[39;00m \u001b[38;5;28mzip\u001b[39m(aux\u001b[38;5;241m.\u001b[39mdynamic_field_names, dynamic_field_values):\n",
      "\u001b[1;31mKeyboardInterrupt\u001b[0m: "
     ]
    }
   ],
   "source": [
    "# Training loop\n",
    "num_epochs = 150000\n",
    "losses = []\n",
    "\n",
    "\n",
    "for epoch in range(num_epochs):\n",
    "    \n",
    "    model, opt_state, loss_value = train_step(model, opt_state, L, sigma2, a, b, steps=50)\n",
    "\n",
    "    if epoch % 1000 == 0:\n",
    "        losses.append(loss_value)\n",
    "        print(f\"Epoch {epoch}, Loss: {loss_value}\")\n",
    "        #sigma2 = ss[i]\n",
    "        \n",
    "    if epoch % 1000 == 0:\n",
    "        lr *= 0.4\n",
    "        optimizer = optax.adam(learning_rate=lr)\n",
    "        opt_state = optimizer.init(model)  # Re-initialize optimizer state with new learning rate\n",
    "\n",
    "\n",
    "\n",
    "# Print final loss\n",
    "final_loss = loss(model, L, sigma2, a, b, steps=20)\n",
    "print(f\"Final Loss: {final_loss}\")"
   ]
  },
  {
   "cell_type": "code",
   "execution_count": 68,
   "metadata": {},
   "outputs": [
    {
     "data": {
      "image/png": "[encoded data removed]",
      "text/plain": [
       "<Figure size 640x480 with 1 Axes>"
      ]
     },
     "metadata": {},
     "output_type": "display_data"
    }
   ],
   "source": [
    "plt.plot(losses)\n",
    "plt.yscale('log')\n",
    "plt.xlabel('Epoch x100')\n",
    "plt.ylabel('Loss')\n",
    "plt.title('Loss Evolution')\n",
    "plt.show()"
   ]
  },
  {
   "cell_type": "code",
   "execution_count": 69,
   "metadata": {},
   "outputs": [
    {
     "data": {
      "image/png": "[encoded data removed]",
      "text/plain": [
       "<Figure size 640x480 with 1 Axes>"
      ]
     },
     "metadata": {},
     "output_type": "display_data"
    }
   ],
   "source": [
    "x_flat = jnp.linspace(0, L, 500)\n",
    "\n",
    "v_max = 1.5\n",
    "\n",
    "input = jnp.array([[x, v_max] for x in x_flat])\n",
    "\n",
    "outputs = jax.vmap(model)(input)\n",
    "\n",
    "plt.plot(outputs)\n",
    "\n",
    "plt.ylim([0.1, 0.8])\n",
    "plt.show()"
   ]
  },
  {
   "cell_type": "code",
   "execution_count": null,
   "metadata": {},
   "outputs": [],
   "source": []
  },
  {
   "cell_type": "code",
   "execution_count": null,
   "metadata": {},
   "outputs": [],
   "source": []
  }
 ],
 "metadata": {
  "kernelspec": {
   "display_name": "venv",
   "language": "python",
   "name": "python3"
  },
  "language_info": {
   "codemirror_mode": {
    "name": "ipython",
    "version": 3
   },
   "file_extension": ".py",
   "mimetype": "text/x-python",
   "name": "python",
   "nbconvert_exporter": "python",
   "pygments_lexer": "ipython3",
   "version": "3.12.4"
  }
 },
 "nbformat": 4,
 "nbformat_minor": 2
}
