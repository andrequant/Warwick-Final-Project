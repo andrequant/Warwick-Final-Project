{
 "cells": [
  {
   "cell_type": "code",
   "execution_count": 6,
   "metadata": {},
   "outputs": [
    {
     "ename": "AttributeError",
     "evalue": "module 'pina' has no attribute 'Condition'",
     "output_type": "error",
     "traceback": [
      "\u001b[1;31m---------------------------------------------------------------------------\u001b[0m",
      "\u001b[1;31mAttributeError\u001b[0m                            Traceback (most recent call last)",
      "Cell \u001b[1;32mIn[6], line 37\u001b[0m\n\u001b[0;32m     33\u001b[0m a \u001b[38;5;241m=\u001b[39m \u001b[38;5;241m0.5\u001b[39m\n\u001b[0;32m     34\u001b[0m b \u001b[38;5;241m=\u001b[39m \u001b[38;5;241m0.5\u001b[39m\n\u001b[0;32m     36\u001b[0m boundary_conditions \u001b[38;5;241m=\u001b[39m [\n\u001b[1;32m---> 37\u001b[0m     \u001b[43mpina\u001b[49m\u001b[38;5;241;43m.\u001b[39;49m\u001b[43mCondition\u001b[49m(\u001b[38;5;28;01mlambda\u001b[39;00m x1, t: x1 \u001b[38;5;241m==\u001b[39m \u001b[38;5;241m0\u001b[39m, \u001b[38;5;28;01mlambda\u001b[39;00m x1, t: \u001b[38;5;241m-\u001b[39ma \u001b[38;5;241m*\u001b[39m (rho_max \u001b[38;5;241m-\u001b[39m x1)),\n\u001b[0;32m     38\u001b[0m     pina\u001b[38;5;241m.\u001b[39mCondition(\u001b[38;5;28;01mlambda\u001b[39;00m x1, t: x1 \u001b[38;5;241m==\u001b[39m L, \u001b[38;5;28;01mlambda\u001b[39;00m x1, t: b \u001b[38;5;241m*\u001b[39m x1),\n\u001b[0;32m     39\u001b[0m ]\n\u001b[0;32m     41\u001b[0m \u001b[38;5;66;03m# Define the neural network model\u001b[39;00m\n\u001b[0;32m     42\u001b[0m model \u001b[38;5;241m=\u001b[39m pina\u001b[38;5;241m.\u001b[39mNN()\n",
      "\u001b[1;31mAttributeError\u001b[0m: module 'pina' has no attribute 'Condition'"
     ]
    }
   ],
   "source": [
    "import torch\n",
    "import pina\n",
    "from pina.problem import SpatialProblem, TimeDependentProblem\n",
    "\n",
    "# Define the PDE\n",
    "class TrafficFlow(TimeDependentProblem, SpatialProblem):\n",
    "    def __init__(self, sigma1, vmax, rho_max):\n",
    "        super(TrafficFlow, self).__init__()\n",
    "        self.sigma1 = sigma1\n",
    "        self.vmax = vmax\n",
    "        self.rho_max = rho_max\n",
    "\n",
    "    def f(self, rho):\n",
    "        return self.vmax * (1 - rho / self.rho_max)\n",
    "\n",
    "    def df(self, rho):\n",
    "        return -self.vmax / self.rho_max\n",
    "\n",
    "    def equation(self, x1, t):\n",
    "        rho = self.nn(x1, t)\n",
    "        rho_t = pina.gradients.gradient(rho, t)\n",
    "        rho_xx = pina.gradients.gradient(rho, x1, order=2)\n",
    "        rho_x = pina.gradients.gradient(rho, x1)\n",
    "        f_rho = self.f(rho)\n",
    "        df_rho = self.df(rho)\n",
    "        return rho_t - (self.sigma1 * rho_xx - rho_x * (f_rho + rho * df_rho))\n",
    "\n",
    "# Set boundary conditions\n",
    "sigma1 = 0.1\n",
    "vmax = 1.0\n",
    "rho_max = 1.0\n",
    "L = 1.0\n",
    "a = 0.5\n",
    "b = 0.5\n",
    "\n",
    "boundary_conditions = [\n",
    "    pina.Condition(lambda x1, t: x1 == 0, lambda x1, t: -a * (rho_max - x1)),\n",
    "    pina.Condition(lambda x1, t: x1 == L, lambda x1, t: b * x1),\n",
    "]\n",
    "\n",
    "# Define the neural network model\n",
    "model = pina.NN()\n",
    "\n",
    "# Create the PINA problem instance\n",
    "problem = pina.Problem(TrafficFlow(sigma1, vmax, rho_max), boundary_conditions)\n",
    "\n",
    "# Train the model\n",
    "trainer = pina.Trainer(problem, model)\n",
    "trainer.train(epochs=1000)\n",
    "\n",
    "# Evaluate and visualize\n",
    "x1 = torch.linspace(0, L, 100)\n",
    "t = torch.linspace(0, 1, 100)\n",
    "solution = model(x1, t)\n",
    "pina.plot_solution(solution)\n"
   ]
  },
  {
   "cell_type": "code",
   "execution_count": 4,
   "metadata": {},
   "outputs": [
    {
     "ename": "ImportError",
     "evalue": "cannot import name 'LabelTensor' from 'pina' (c:\\Users\\andre\\OneDrive\\Documentos\\Warwick\\Individual Project\\Code\\Warwick-Final-Project\\venv\\Lib\\site-packages\\pina\\__init__.py)",
     "output_type": "error",
     "traceback": [
      "\u001b[1;31m---------------------------------------------------------------------------\u001b[0m",
      "\u001b[1;31mImportError\u001b[0m                               Traceback (most recent call last)",
      "Cell \u001b[1;32mIn[4], line 4\u001b[0m\n\u001b[0;32m      2\u001b[0m \u001b[38;5;28;01mfrom\u001b[39;00m \u001b[38;5;21;01mpina\u001b[39;00m\u001b[38;5;21;01m.\u001b[39;00m\u001b[38;5;21;01mproblem\u001b[39;00m \u001b[38;5;28;01mimport\u001b[39;00m SpatialProblem, TimeDependentProblem\n\u001b[0;32m      3\u001b[0m \u001b[38;5;28;01mfrom\u001b[39;00m \u001b[38;5;21;01mpina\u001b[39;00m\u001b[38;5;21;01m.\u001b[39;00m\u001b[38;5;21;01mequation\u001b[39;00m \u001b[38;5;28;01mimport\u001b[39;00m Equation, FixedValue, FixedGradient, FixedFlux\n\u001b[1;32m----> 4\u001b[0m \u001b[38;5;28;01mfrom\u001b[39;00m \u001b[38;5;21;01mpina\u001b[39;00m\u001b[38;5;21;01m.\u001b[39;00m\u001b[38;5;21;01mgeometry\u001b[39;00m \u001b[38;5;28;01mimport\u001b[39;00m CartesianDomain\n\u001b[0;32m      5\u001b[0m \u001b[38;5;28;01mimport\u001b[39;00m \u001b[38;5;21;01mtorch\u001b[39;00m\n\u001b[0;32m      6\u001b[0m \u001b[38;5;28;01mfrom\u001b[39;00m \u001b[38;5;21;01mpina\u001b[39;00m\u001b[38;5;21;01m.\u001b[39;00m\u001b[38;5;21;01moperators\u001b[39;00m \u001b[38;5;28;01mimport\u001b[39;00m grad, laplacian\n",
      "File \u001b[1;32mc:\\Users\\andre\\OneDrive\\Documentos\\Warwick\\Individual Project\\Code\\Warwick-Final-Project\\venv\\Lib\\site-packages\\pina\\geometry\\__init__.py:21\u001b[0m\n\u001b[0;32m     19\u001b[0m \u001b[38;5;28;01mfrom\u001b[39;00m \u001b[38;5;21;01m.\u001b[39;00m\u001b[38;5;21;01mdifference_domain\u001b[39;00m \u001b[38;5;28;01mimport\u001b[39;00m Difference\n\u001b[0;32m     20\u001b[0m \u001b[38;5;28;01mfrom\u001b[39;00m \u001b[38;5;21;01m.\u001b[39;00m\u001b[38;5;21;01moperation_interface\u001b[39;00m \u001b[38;5;28;01mimport\u001b[39;00m OperationInterface\n\u001b[1;32m---> 21\u001b[0m \u001b[38;5;28;01mfrom\u001b[39;00m \u001b[38;5;21;01m.\u001b[39;00m\u001b[38;5;21;01msimplex\u001b[39;00m \u001b[38;5;28;01mimport\u001b[39;00m SimplexDomain\n",
      "File \u001b[1;32mc:\\Users\\andre\\OneDrive\\Documentos\\Warwick\\Individual Project\\Code\\Warwick-Final-Project\\venv\\Lib\\site-packages\\pina\\geometry\\simplex.py:4\u001b[0m\n\u001b[0;32m      2\u001b[0m \u001b[38;5;28;01mfrom\u001b[39;00m \u001b[38;5;21;01m.\u001b[39;00m\u001b[38;5;21;01mlocation\u001b[39;00m \u001b[38;5;28;01mimport\u001b[39;00m Location\n\u001b[0;32m      3\u001b[0m \u001b[38;5;28;01mfrom\u001b[39;00m \u001b[38;5;21;01mpina\u001b[39;00m\u001b[38;5;21;01m.\u001b[39;00m\u001b[38;5;21;01mgeometry\u001b[39;00m \u001b[38;5;28;01mimport\u001b[39;00m CartesianDomain\n\u001b[1;32m----> 4\u001b[0m \u001b[38;5;28;01mfrom\u001b[39;00m \u001b[38;5;21;01mpina\u001b[39;00m \u001b[38;5;28;01mimport\u001b[39;00m LabelTensor\n\u001b[0;32m      5\u001b[0m \u001b[38;5;28;01mfrom\u001b[39;00m \u001b[38;5;21;01m.\u001b[39;00m\u001b[38;5;21;01m.\u001b[39;00m\u001b[38;5;21;01mutils\u001b[39;00m \u001b[38;5;28;01mimport\u001b[39;00m check_consistency\n\u001b[0;32m      8\u001b[0m \u001b[38;5;28;01mclass\u001b[39;00m \u001b[38;5;21;01mSimplexDomain\u001b[39;00m(Location):\n",
      "\u001b[1;31mImportError\u001b[0m: cannot import name 'LabelTensor' from 'pina' (c:\\Users\\andre\\OneDrive\\Documentos\\Warwick\\Individual Project\\Code\\Warwick-Final-Project\\venv\\Lib\\site-packages\\pina\\__init__.py)"
     ]
    }
   ],
   "source": [
    "#useful imports\n",
    "from pina.problem import SpatialProblem, TimeDependentProblem\n",
    "from pina.equation import Equation, FixedValue, FixedGradient, FixedFlux\n",
    "from pina.geometry import CartesianDomain\n",
    "import torch\n",
    "from pina.operators import grad, laplacian\n",
    "from pina import Condition"
   ]
  },
  {
   "cell_type": "code",
   "execution_count": null,
   "metadata": {},
   "outputs": [],
   "source": []
  }
 ],
 "metadata": {
  "kernelspec": {
   "display_name": "venv",
   "language": "python",
   "name": "python3"
  },
  "language_info": {
   "codemirror_mode": {
    "name": "ipython",
    "version": 3
   },
   "file_extension": ".py",
   "mimetype": "text/x-python",
   "name": "python",
   "nbconvert_exporter": "python",
   "pygments_lexer": "ipython3",
   "version": "3.12.4"
  }
 },
 "nbformat": 4,
 "nbformat_minor": 2
}
