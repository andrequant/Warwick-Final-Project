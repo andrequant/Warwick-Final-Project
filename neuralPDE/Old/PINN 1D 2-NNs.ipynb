{
 "cells": [
  {
   "cell_type": "markdown",
   "metadata": {},
   "source": [
    "## Applying PINN to the PDE - 1D Version"
   ]
  },
  {
   "cell_type": "markdown",
   "metadata": {},
   "source": [
    "We are interessed in solving\n",
    "\n",
    "$$\n",
    "\\frac{\\partial \\rho}{\\partial t} = \\nabla \\cdot \\left(\\Sigma \\nabla\\rho(x,t) - \\rho(x,t) F(\\rho(x,t)) \\right)\n",
    "\n",
    "$$\n",
    "\n",
    "\n",
    "\n",
    "Where $x=x_1$. $\\Sigma = \\rm{diag} (\\sigma_1^2, \\sigma_2^2)$. $F: \\mathbb{R} \\mapsto \\mathbb{R}$, $F(\\rho) = f(\\rho).\n",
    "\n",
    "On the domain\n",
    "\n",
    "$$\n",
    "\\Omega = \\{x \\in [0,L]\\}\n",
    "$$\n",
    "\n",
    "With boundary conditions\n",
    "\n",
    "$$\n",
    "j \\cdot n = -a (\\rho_{max} - \\rho) \\quad \\forall x \\in \\Gamma_{in}\n",
    "$$\n",
    "\n",
    "$$\n",
    "j \\cdot n = b \\rho \\quad \\forall x \\in \\Gamma_{out}\n",
    "$$\n",
    "\n",
    "\n",
    "where\n",
    "\n",
    "$$\n",
    "\\Gamma_{in} = \\{(x_1, x_2) \\in \\Omega: x_1 = 0\\}\n",
    "$$\n",
    "\n",
    "$$\n",
    "\\Gamma_{out} = \\{(x_1, x_2) \\in \\Omega: x_1 = L\\}\n",
    "$$\n",
    "\n",
    "\n",
    "With $j = -\\Sigma \\nabla \\rho + \\rho F(\\rho)$, in 1-D, $j = -\\sigma_1 \\frac{\\partial \\rho}{\\partial x_1} + \\rho f(\\rho)$ and $n$ the outer normal vector, i.e. vector points toward the interior:\n",
    "\n",
    "$$\n",
    "n = -1 \\quad \\rm{for} \\quad \\Gamma_{in}\n",
    "$$\n",
    "\n",
    "$$\n",
    "n = 1\\quad \\rm{for} \\quad \\Gamma_{out}\n",
    "$$\n"
   ]
  },
  {
   "cell_type": "markdown",
   "metadata": {},
   "source": [
    "In a more explicit manner, the PDE can be written as\n",
    "\n",
    "$$\n",
    "\\frac{\\partial \\rho}{\\partial t} = \\sigma_1 \\frac{\\partial^2 \\rho}{\\partial x_1^2} - \\frac{\\partial \\rho}{\\partial x_1} \\left(f(\\rho(x,t)) + \\rho(x,t) \\frac{d f(\\rho(x,t))}{d \\rho} \\right)\n",
    "$$"
   ]
  },
  {
   "cell_type": "code",
   "execution_count": 251,
   "metadata": {},
   "outputs": [],
   "source": [
    "import numpy as np\n",
    "import matplotlib.pyplot as plt\n",
    "import jax\n",
    "import jax.numpy as jnp\n",
    "import equinox as eqx\n",
    "\n",
    "import optax\n",
    "\n",
    "import timeit\n",
    "\n",
    "from scipy.stats import qmc"
   ]
  },
  {
   "cell_type": "code",
   "execution_count": 252,
   "metadata": {},
   "outputs": [],
   "source": [
    "# Correct that to import from the other file\n",
    "\n",
    "from abc import ABC, abstractmethod\n",
    "\n",
    "class FundamentalDiagram():\n",
    "    def __init__(self, params):\n",
    "        self.params = params\n",
    "\n",
    "    def __call__(self,density):\n",
    "        return self.flux(density)\n",
    "    \n",
    "    @abstractmethod\n",
    "    def flux(self, density):\n",
    "        pass\n",
    "\n",
    "    @abstractmethod\n",
    "    def __str__(self):\n",
    "        pass\n",
    "\n",
    "\n",
    "\n",
    "class Greenshield(FundamentalDiagram):\n",
    "    def __init__(self, params):\n",
    "        super().__init__(params)\n",
    "        self.v_max = self.params[0]\n",
    "        self.p_max = self.params[1]\n",
    "    \n",
    "    def flux(self, density):\n",
    "        return self.v_max * (1 - (density/self.p_max))\n",
    "    \n",
    "    def d_flux(self, density):\n",
    "        return - self.v_max/self.p_max + 0*density\n",
    "    \n",
    "    def __str__(self):\n",
    "        return \"Greenshield\""
   ]
  },
  {
   "cell_type": "code",
   "execution_count": 3,
   "metadata": {},
   "outputs": [],
   "source": [
    "model_key = jax.random.PRNGKey(1)\n",
    "\n",
    "input_dim = 2\n",
    "output_dim = 'scalar'\n",
    "\n",
    "layers_size = 10\n",
    "n_layers = 1\n",
    "\n",
    "model = eqx.nn.MLP(in_size=input_dim, out_size=output_dim, width_size=layers_size, depth=n_layers,\n",
    "                    activation=jax.nn.sigmoid, use_final_bias=False, key=model_key)"
   ]
  },
  {
   "cell_type": "code",
   "execution_count": 4,
   "metadata": {},
   "outputs": [],
   "source": [
    "# input = (x1, x2, t)"
   ]
  },
  {
   "cell_type": "code",
   "execution_count": 253,
   "metadata": {},
   "outputs": [],
   "source": [
    "sigma1 = 0.1**2\n",
    "\n",
    "\n",
    "L = 5\n",
    "T = 10\n",
    "\n",
    "a = 0.9\n",
    "b = 0.975\n",
    "\n",
    "\n",
    "v_max = 4\n",
    "p_max = 1 # rho_max cannot be learned Susana's paper"
   ]
  },
  {
   "cell_type": "code",
   "execution_count": 254,
   "metadata": {},
   "outputs": [],
   "source": [
    "func = Greenshield([v_max, p_max])"
   ]
  },
  {
   "cell_type": "code",
   "execution_count": 255,
   "metadata": {},
   "outputs": [],
   "source": [
    "# Example batch input\n",
    "\n",
    "batch_input_data = jnp.array([\n",
    "    [1.0, 2.0],\n",
    "    [3.0, 4.0],\n",
    "    [5.0, 6.0]\n",
    "])"
   ]
  },
  {
   "cell_type": "code",
   "execution_count": 256,
   "metadata": {},
   "outputs": [],
   "source": [
    "def pde_loss(model, func, input, sigma1):\n",
    "    \n",
    "    # p = rho\n",
    "\n",
    "    rho, grad = jax.vmap(jax.value_and_grad(model))(input)\n",
    "    hess = jax.vmap(jax.hessian(model))(input)\n",
    "\n",
    "    dp_dx1 = grad[:, 0] \n",
    "    dp_dt = grad[:, 1]\n",
    "    d2p_dx12 = hess[:, 0, 0]\n",
    "\n",
    "\n",
    "    fp = func.flux(rho)\n",
    "    df_p = func.d_flux(rho)\n",
    "\n",
    "    rhs = sigma1*d2p_dx12 - dp_dx1 * (fp + rho*df_p)\n",
    "\n",
    "    return jnp.mean((dp_dt - rhs)**2)"
   ]
  },
  {
   "cell_type": "code",
   "execution_count": 257,
   "metadata": {},
   "outputs": [
    {
     "data": {
      "text/plain": [
       "Array(0.4535577, dtype=float32)"
      ]
     },
     "execution_count": 257,
     "metadata": {},
     "output_type": "execute_result"
    }
   ],
   "source": [
    "pde_loss(model, func, batch_input_data,  sigma1=sigma1)"
   ]
  },
  {
   "cell_type": "code",
   "execution_count": 258,
   "metadata": {},
   "outputs": [
    {
     "data": {
      "text/plain": [
       "Array([[1., 2.],\n",
       "       [3., 4.],\n",
       "       [5., 6.]], dtype=float32)"
      ]
     },
     "execution_count": 258,
     "metadata": {},
     "output_type": "execute_result"
    }
   ],
   "source": [
    "batch_input_data"
   ]
  },
  {
   "cell_type": "code",
   "execution_count": 259,
   "metadata": {},
   "outputs": [],
   "source": [
    "def j(model, func, input, sigma1):\n",
    "    rho, grad = jax.vmap(jax.value_and_grad(model))(input)\n",
    "\n",
    "    i_0 = - sigma1*grad[:, 0] + rho * func(rho)\n",
    "\n",
    "    return i_0, rho"
   ]
  },
  {
   "cell_type": "code",
   "execution_count": 305,
   "metadata": {},
   "outputs": [],
   "source": [
    "def in_loss(model, func, T, sigma1, a, steps=20):\n",
    "\n",
    "    t = jnp.linspace(0, T, steps)\n",
    "    x1_flat = jnp.zeros_like(t)\n",
    "    result = jnp.stack((x1_flat, t), axis=-1)\n",
    "    in_ , rho = j(model, func, result, sigma1)\n",
    "    in_theorical = -a * (func.p_max - rho)\n",
    "\n",
    "\n",
    "\n",
    "\n",
    "    return jnp.mean((-in_ - in_theorical)**2)\n"
   ]
  },
  {
   "cell_type": "code",
   "execution_count": 261,
   "metadata": {},
   "outputs": [],
   "source": [
    "def in_loss1(model, func, T, sigma1, a, steps=20):\n",
    "\n",
    "    t = jnp.linspace(1, T, steps)\n",
    "\n",
    "    x1_flat = jnp.zeros_like(t)\n",
    "\n",
    "    result = jnp.stack((x1_flat, t), axis=-1)\n",
    "\n",
    "    in_ , rho = j(model, func, result, sigma1)\n",
    "\n",
    "    in_theorical = -a * (func.p_max - rho)\n",
    "\n",
    "\n",
    "\n",
    "\n",
    "    return jnp.mean((-in_ - in_theorical)**2)\n"
   ]
  },
  {
   "cell_type": "code",
   "execution_count": 198,
   "metadata": {},
   "outputs": [],
   "source": [
    "def in_loss2(model, func, T, sigma1, a, steps=20):\n",
    "\n",
    "    t = jnp.linspace(0, 1, steps)\n",
    "\n",
    "    x1_flat = jnp.zeros_like(t)\n",
    "\n",
    "    result = jnp.stack((x1_flat, t), axis=-1)\n",
    "\n",
    "    in_ , rho = j(model, func, result, sigma1)\n",
    "\n",
    "    in_theorical = -a * (func.p_max - rho)\n",
    "\n",
    "\n",
    "\n",
    "\n",
    "    return jnp.mean((-in_ - in_theorical)**2)\n"
   ]
  },
  {
   "cell_type": "code",
   "execution_count": 199,
   "metadata": {},
   "outputs": [
    {
     "data": {
      "text/plain": [
       "Array(8.123635, dtype=float32)"
      ]
     },
     "execution_count": 199,
     "metadata": {},
     "output_type": "execute_result"
    }
   ],
   "source": [
    "in_loss(model, func, T, sigma1, a)"
   ]
  },
  {
   "cell_type": "code",
   "execution_count": 307,
   "metadata": {},
   "outputs": [],
   "source": [
    "def out_loss(model, func, T, sigma1, b, steps=20):\n",
    "\n",
    "    t = jnp.linspace(0, T, steps)\n",
    "    x1_flat = jnp.full_like(t, L)\n",
    "    result = jnp.stack((x1_flat, t), axis=-1)\n",
    "    out_ , rho = j(model, func, result, sigma1)\n",
    "    out_theorical = b * rho\n",
    "\n",
    "    return jnp.mean((out_ - out_theorical)**2)"
   ]
  },
  {
   "cell_type": "code",
   "execution_count": 201,
   "metadata": {},
   "outputs": [],
   "source": [
    "def out_loss1(model, func, T, sigma1, b, steps=20):\n",
    "\n",
    "    t = jnp.linspace(1, T, steps)\n",
    "\n",
    "    x1_flat = jnp.full_like(t, L)\n",
    "\n",
    "    result = jnp.stack((x1_flat, t), axis=-1)\n",
    "\n",
    "    out_ , rho = j(model, func, result, sigma1)\n",
    "\n",
    "    out_theorical = b * rho\n",
    "\n",
    "\n",
    "\n",
    "\n",
    "    return jnp.mean((out_ - out_theorical)**2)"
   ]
  },
  {
   "cell_type": "code",
   "execution_count": 202,
   "metadata": {},
   "outputs": [],
   "source": [
    "def out_loss2(model, func, T, sigma1, b, steps=20):\n",
    "\n",
    "    t = jnp.linspace(0, 1, steps)\n",
    "\n",
    "    x1_flat = jnp.full_like(t, L)\n",
    "\n",
    "    result = jnp.stack((x1_flat, t), axis=-1)\n",
    "\n",
    "    out_ , rho = j(model, func, result, sigma1)\n",
    "\n",
    "    out_theorical = b * rho\n",
    "\n",
    "\n",
    "\n",
    "\n",
    "    return jnp.mean((out_ - out_theorical)**2)"
   ]
  },
  {
   "cell_type": "code",
   "execution_count": 308,
   "metadata": {},
   "outputs": [
    {
     "data": {
      "text/plain": [
       "Array(0.12472039, dtype=float32)"
      ]
     },
     "execution_count": 308,
     "metadata": {},
     "output_type": "execute_result"
    }
   ],
   "source": [
    "out_loss(model, func, T, sigma1, b)"
   ]
  },
  {
   "cell_type": "code",
   "execution_count": 309,
   "metadata": {},
   "outputs": [],
   "source": [
    "def time_loss(model, L, steps=20):\n",
    "\n",
    "    x1 = jnp.linspace(0, L, steps)\n",
    "    t_flat = jnp.zeros_like(x1)\n",
    "    result = jnp.stack((x1, t_flat), axis=-1)\n",
    "    rho = jax.vmap(model)(result)\n",
    "\n",
    "    return jnp.mean(rho**2)"
   ]
  },
  {
   "cell_type": "code",
   "execution_count": 310,
   "metadata": {},
   "outputs": [
    {
     "data": {
      "text/plain": [
       "Array(0.00890628, dtype=float32)"
      ]
     },
     "execution_count": 310,
     "metadata": {},
     "output_type": "execute_result"
    }
   ],
   "source": [
    "time_loss(model, L)"
   ]
  },
  {
   "cell_type": "code",
   "execution_count": 311,
   "metadata": {},
   "outputs": [],
   "source": [
    "def loss(model, func, input, L, T, sigma1, a, b, steps=20):\n",
    "\n",
    "    return (pde_loss(model, func, input,  sigma1)+ in_loss(model, func, T, sigma1, a, steps) + \n",
    "            out_loss(model, func, T, sigma1, b, steps)\n",
    "            + 0.1*time_loss(model, L, steps))"
   ]
  },
  {
   "cell_type": "code",
   "execution_count": 358,
   "metadata": {},
   "outputs": [],
   "source": [
    "def loss1(model, func, input, L, T, sigma1, a, b, steps=20):\n",
    "\n",
    "    return (pde_loss(model, func, input,  sigma1)+ in_loss1(model, func, T, sigma1, a, steps) + \n",
    "            out_loss1(model, func, T, sigma1, b, steps)\n",
    "            + time_loss(model, L, steps))"
   ]
  },
  {
   "cell_type": "code",
   "execution_count": 205,
   "metadata": {},
   "outputs": [],
   "source": [
    "def loss2(model, func, input, L, T, sigma1, a, b, steps=20):\n",
    "\n",
    "    return (pde_loss(model, func, input,  sigma1)+ in_loss2(model, func, T, sigma1, a, steps) + \n",
    "            out_loss2(model, func, T, sigma1, b, steps)\n",
    "            + time_loss(model, L, steps))"
   ]
  },
  {
   "cell_type": "code",
   "execution_count": 312,
   "metadata": {},
   "outputs": [
    {
     "data": {
      "text/plain": [
       "Array(0.15917861, dtype=float32)"
      ]
     },
     "execution_count": 312,
     "metadata": {},
     "output_type": "execute_result"
    }
   ],
   "source": [
    "loss(model, func, batch_input_data, L, T, sigma1, a, b)"
   ]
  },
  {
   "cell_type": "code",
   "execution_count": 313,
   "metadata": {},
   "outputs": [],
   "source": [
    "def generate_latin_hypercube_samples(num_samples, x1, t):\n",
    "    # Define the ranges\n",
    "    parameter_ranges = jnp.array([x1, t])\n",
    "    \n",
    "    # Create a Latin Hypercube Sampler\n",
    "    sampler = qmc.LatinHypercube(d=len(parameter_ranges))\n",
    "    \n",
    "    # Sample points in the hypercube\n",
    "    sample_points = sampler.random(n=num_samples)\n",
    "    \n",
    "    # Scale the points\n",
    "    scaled_samples = qmc.scale(sample_points, parameter_ranges[:, 0], parameter_ranges[:, 1])\n",
    "    \n",
    "    return jnp.array(scaled_samples)"
   ]
  },
  {
   "cell_type": "code",
   "execution_count": 341,
   "metadata": {},
   "outputs": [],
   "source": [
    "# Define a Multilayer Perceptron\n",
    "\n",
    "class MLP(eqx.Module):\n",
    "    layers: list  # Type annotation indicating that layers is a list. Needed to work properly.\n",
    "\n",
    "\n",
    "    def __init__(self, key, input_dim, hidden_dims, n_layers, output_dim):\n",
    "        \"\"\"Define the MLP\n",
    "\n",
    "        Args:\n",
    "            key (jax key): Random Jey\n",
    "            input_dim (int): Input layer dimension\n",
    "            hidden_dims (int): Hidden layers dimension\n",
    "            n_layers (_type_): Number of hidden layers\n",
    "            output_dim (_type_): Output layer dimension\n",
    "        \"\"\"\n",
    "\n",
    "\n",
    "        \n",
    "        # jax handle random number generation in a different way. Favoring reproducibility.\n",
    "        # This gives each layer a rnd initialization.\n",
    "        keys = jax.random.split(key, n_layers + 1)\n",
    "        \n",
    "        dims = [input_dim] + [hidden_dims] * n_layers + [output_dim]\n",
    "        self.layers = [eqx.nn.Linear(dims[i], dims[i + 1], key=keys[i]) for i in range(len(dims) - 1)]\n",
    "\n",
    "    \n",
    "    def __call__(self, x):\n",
    "        \"\"\"Forward-pass the input through the network\n",
    "\n",
    "        Args:\n",
    "            x (jnp.array): Input\n",
    "\n",
    "        Returns:\n",
    "            jnp.array: NN output\n",
    "        \"\"\"\n",
    "        for layer in self.layers[:-1]:\n",
    "            x = jax.nn.gelu(layer(x))\n",
    "            # So far, softplus seems to be the best\n",
    "            # squareplus is curious\n",
    "            # celu shallow (1 layer) got the steady state thing and the curious curve on the x,y plane at steady state.\n",
    "            # swish got somewhat excelent results, but the PDE loss is high\n",
    "        \n",
    "        #x = jax.nn.gelu(self.layers[-2](x))\n",
    "        x = self.layers[-1](x)\n",
    "        return x"
   ]
  },
  {
   "cell_type": "code",
   "execution_count": 210,
   "metadata": {},
   "outputs": [],
   "source": [
    "class WeightedAverageNN(eqx.Module):\n",
    "    nn1: MLP\n",
    "    nn2: MLP\n",
    "    theta1: jnp.ndarray\n",
    "    theta2: jnp.ndarray\n",
    "\n",
    "    def __init__(self, key, nn1, nn2):\n",
    "        self.nn1 = nn1\n",
    "        self.nn2 = nn2\n",
    "        key1, key2 = jax.random.split(key)\n",
    "        self.theta1 = jax.random.normal(key1, ()) + 15.0\n",
    "        self.theta2 = jax.random.normal(key2, ()) + 10.0\n",
    "\n",
    "    @jit\n",
    "    def sigmoid(self, t):\n",
    "        return jax.nn.sigmoid(self.theta1 * t - self.theta2)\n",
    "\n",
    "    def __call__(self, z):\n",
    "        x, t = z[0], z[1]\n",
    "        output1 = self.nn1(jnp.stack([x, t], axis=-1))\n",
    "        output2 = self.nn2(jnp.stack([x, t], axis=-1))\n",
    "        f_t = self.sigmoid(t)\n",
    "        return output1 * f_t + output2 * (1 - f_t)\n"
   ]
  },
  {
   "cell_type": "code",
   "execution_count": 211,
   "metadata": {},
   "outputs": [],
   "source": [
    "import equinox as eqx\n",
    "import jax\n",
    "import jax.numpy as jnp\n",
    "from jax import jit\n",
    "\n",
    "class WeightedAverageNN(eqx.Module):\n",
    "    nn1: MLP\n",
    "    nn2: MLP\n",
    "    linear: eqx.nn.Linear\n",
    "\n",
    "    def __init__(self, key, nn1, nn2):\n",
    "        self.nn1 = nn1\n",
    "        self.nn2 = nn2\n",
    "        self.linear = eqx.nn.Linear(1, 1, key=key)\n",
    "        self.linear = eqx.tree_at(lambda l: l.weight, self.linear, jax.random.normal(key, (1, 1)) * 0.01 + 15.0)\n",
    "        self.linear = eqx.tree_at(lambda l: l.bias, self.linear, jax.random.normal(key, (1,)) * 0.01 + 10.0)\n",
    "\n",
    "    @jit\n",
    "    def sigmoid(self, t):\n",
    "        t = t.reshape(-1, 1)  # Reshape to ensure proper linear transformation\n",
    "        return jax.nn.sigmoid(self.linear(t)).reshape(-1)\n",
    "\n",
    "    @jit\n",
    "    def __call__(self, z):\n",
    "        x, t = z[0], z[ 1]\n",
    "        output1 = self.nn1(jnp.stack([x, t], axis=-1))\n",
    "        output2 = self.nn2(jnp.stack([x, t], axis=-1))\n",
    "        f_t = self.sigmoid(t)[0]\n",
    "        return output1 * f_t + output2 * (1 - f_t)\n"
   ]
  },
  {
   "cell_type": "code",
   "execution_count": 359,
   "metadata": {},
   "outputs": [],
   "source": [
    "@eqx.filter_jit # decorator that applies Just-in-time compilation just to the relevant parts. Improves performance.\n",
    "def train_step(model, opt_state, func, input, L, T, sigma1, a, b, steps=20):\n",
    "    loss_value, grads = jax.value_and_grad(loss1)(model, func, input, L, T, sigma1, a, b, steps) # Compute the loss and gradient\n",
    "    updates, opt_state = optimizer.update(grads, opt_state) # Apply the backward propagation\n",
    "    model = eqx.apply_updates(model, updates) # Update the NN\n",
    "    return model, opt_state, loss_value"
   ]
  },
  {
   "cell_type": "code",
   "execution_count": 243,
   "metadata": {},
   "outputs": [],
   "source": [
    "# Initialize the model with multiple hidden layers and scalar output layer\n",
    "model_key = jax.random.PRNGKey(1)\n",
    "key1, key2, key3 = jax.random.split(model_key, 3)\n",
    "\n",
    "input_dim = 2\n",
    "output_dim = 'scalar'\n",
    "\n",
    "layers_size = 10\n",
    "n_layers = 1\n",
    "\n",
    "# Initialize the individual NNs\n",
    "nn1 = MLP(key1, input_dim=2, hidden_dims=256, n_layers=1, output_dim=output_dim)\n",
    "nn2 = MLP(key2, input_dim=2, hidden_dims=256, n_layers=1, output_dim=output_dim)\n",
    "\n",
    "# Initialize the weighted average NN\n",
    "#model = WeightedAverageNN(key3, nn1, nn2)\n"
   ]
  },
  {
   "cell_type": "code",
   "execution_count": 360,
   "metadata": {},
   "outputs": [],
   "source": [
    "# Initialize the model with multiple hidden layers and scalar output layer\n",
    "model_key = jax.random.PRNGKey(1)\n",
    "\n",
    "\n",
    "output_dim = 'scalar'\n",
    "\n",
    "model = MLP(model_key, input_dim=2, hidden_dims=10, n_layers=1, output_dim=output_dim)"
   ]
  },
  {
   "cell_type": "code",
   "execution_count": 361,
   "metadata": {},
   "outputs": [],
   "source": [
    "# Optimizer definition\n",
    "lr = 10e-4\n",
    "optimizer = optax.adam(learning_rate=lr)\n",
    "opt_state = optimizer.init(model)"
   ]
  },
  {
   "cell_type": "code",
   "execution_count": 362,
   "metadata": {},
   "outputs": [
    {
     "name": "stdout",
     "output_type": "stream",
     "text": [
      "Epoch 0, Loss: 585.050537109375\n",
      "Epoch 100, Loss: 45.48197937011719\n",
      "Epoch 200, Loss: 10.438085556030273\n",
      "Epoch 300, Loss: 3.317085027694702\n",
      "Epoch 400, Loss: 1.503609538078308\n",
      "Epoch 500, Loss: 0.8525213003158569\n",
      "Epoch 600, Loss: 0.5380853414535522\n",
      "Epoch 700, Loss: 0.36913618445396423\n",
      "Epoch 800, Loss: 0.2873222827911377\n",
      "Epoch 900, Loss: 0.2516835331916809\n",
      "Epoch 1000, Loss: 0.2334362417459488\n",
      "Epoch 1100, Loss: 0.2217315137386322\n",
      "Epoch 1200, Loss: 0.21339701116085052\n",
      "Epoch 1300, Loss: 0.20718374848365784\n",
      "Epoch 1400, Loss: 0.20238016545772552\n",
      "Epoch 1500, Loss: 0.1985253393650055\n",
      "Epoch 1600, Loss: 0.19531476497650146\n",
      "Epoch 1700, Loss: 0.19254548847675323\n",
      "Epoch 1800, Loss: 0.19007627665996552\n",
      "Epoch 1900, Loss: 0.18779593706130981\n",
      "Epoch 2000, Loss: 0.18558625876903534\n",
      "Epoch 2100, Loss: 0.1832442432641983\n",
      "Epoch 2200, Loss: 0.18027351796627045\n",
      "Epoch 2300, Loss: 0.17606736719608307\n",
      "Epoch 2400, Loss: 0.17144978046417236\n",
      "Epoch 2500, Loss: 0.16729503870010376\n",
      "Epoch 2600, Loss: 0.16380895674228668\n",
      "Epoch 2700, Loss: 0.16093508899211884\n",
      "Epoch 2800, Loss: 0.15851901471614838\n",
      "Epoch 2900, Loss: 0.15639470517635345\n",
      "Final Loss: 0.15430571138858795\n"
     ]
    }
   ],
   "source": [
    "# Training loop\n",
    "num_epochs = 3000\n",
    "losses = []\n",
    "\n",
    "\n",
    "\n",
    "sample_n = 400\n",
    "x = generate_latin_hypercube_samples(sample_n, [0,L], [0,T]) # Latin Hypercube sample\n",
    "\n",
    "sample_points = x.copy()\n",
    "\n",
    "for epoch in range(num_epochs):\n",
    "    \n",
    "    model, opt_state, loss_value = train_step(model, opt_state, func, x, L, T, sigma1, a, b, steps=20)\n",
    "    if epoch % 100 == 0:\n",
    "        #x = generate_latin_hypercube_samples(sample_n, [0,L], [0,T]) # Latin Hypercube sample\n",
    "        sample_points = jnp.vstack((sample_points, x))\n",
    "        losses.append(loss_value)\n",
    "        print(f\"Epoch {epoch}, Loss: {loss_value}\")\n",
    "\n",
    "\n",
    "    # if epoch % 1000 == 0:\n",
    "    #     lr *= 0.4\n",
    "    #     optimizer = optax.adam(learning_rate=lr)\n",
    "    #     opt_state = optimizer.init(model)  # Re-initialize optimizer state with new learning rate\n",
    "\n",
    "        \n",
    "\n",
    "# Print final loss\n",
    "x = generate_latin_hypercube_samples(sample_n, [0,L], [0,T]) # Latin Hypercube sample\n",
    "final_loss = loss1(model, func, x, L, T, sigma1, a, b, steps=20)\n",
    "print(f\"Final Loss: {final_loss}\")"
   ]
  },
  {
   "cell_type": "code",
   "execution_count": 363,
   "metadata": {},
   "outputs": [
    {
     "data": {
      "image/png": "[encoded data removed]",
      "text/plain": [
       "<Figure size 640x480 with 1 Axes>"
      ]
     },
     "metadata": {},
     "output_type": "display_data"
    }
   ],
   "source": [
    "plt.plot(losses)\n",
    "plt.yscale('log')\n",
    "plt.xlabel('Epoch x100')\n",
    "plt.ylabel('Loss')\n",
    "plt.title('Loss Evolution')\n",
    "plt.show()"
   ]
  },
  {
   "cell_type": "code",
   "execution_count": 364,
   "metadata": {},
   "outputs": [],
   "source": [
    "batch = generate_latin_hypercube_samples(10*sample_n, [0,L], [0,T]) "
   ]
  },
  {
   "cell_type": "code",
   "execution_count": 365,
   "metadata": {},
   "outputs": [
    {
     "name": "stdout",
     "output_type": "stream",
     "text": [
      "6.00572\n",
      "0.042492032\n",
      "0.12501527\n",
      "0.0054981667\n"
     ]
    }
   ],
   "source": [
    "print(pde_loss(nn1, func, batch,  sigma1=sigma1))\n",
    "print(in_loss(model, func, T, sigma1, a))\n",
    "print(out_loss(model, func, T, sigma1,  b))\n",
    "print(time_loss(model, L))"
   ]
  },
  {
   "cell_type": "code",
   "execution_count": 366,
   "metadata": {},
   "outputs": [
    {
     "data": {
      "image/png": "[encoded data removed]",
      "text/plain": [
       "<Figure size 800x600 with 2 Axes>"
      ]
     },
     "metadata": {},
     "output_type": "display_data"
    }
   ],
   "source": [
    "n_points = 200\n",
    "x = jnp.linspace(0, 3, n_points)\n",
    "t = jnp.linspace(0, T, n_points)\n",
    "X_grid, T_grid = jnp.meshgrid(x, t)\n",
    "inputs = jnp.stack((X_grid.flatten(), T_grid.flatten()), axis=-1)\n",
    "\n",
    "outputs = jax.vmap(nn2)(inputs)\n",
    "outputs = outputs.reshape(n_points, n_points)\n",
    "\n",
    "plt.figure(figsize=(8, 6))\n",
    "plt.contourf(X_grid, T_grid, outputs, levels=50, cmap='viridis')\n",
    "plt.colorbar(label='Network Output')\n",
    "plt.xlabel('x')\n",
    "plt.ylabel('t')\n",
    "plt.title('Heatmap of Neural Network Output')\n",
    "plt.show()"
   ]
  },
  {
   "cell_type": "code",
   "execution_count": 367,
   "metadata": {},
   "outputs": [
    {
     "data": {
      "image/png": "[encoded data removed]",
      "text/plain": [
       "<Figure size 640x480 with 1 Axes>"
      ]
     },
     "metadata": {},
     "output_type": "display_data"
    }
   ],
   "source": [
    "plt.plot(outputs[0], label='t = 0')\n",
    "plt.plot(outputs[8], label='t = 8')\n",
    "plt.plot(outputs[16], label='t = 16')\n",
    "plt.plot(outputs[24], label='t = 24')\n",
    "plt.plot(outputs[49], label='t = 49')\n",
    "#plt.ylim([0.3, 0.7])\n",
    "plt.legend()\n",
    "plt.show()"
   ]
  },
  {
   "cell_type": "code",
   "execution_count": 368,
   "metadata": {},
   "outputs": [
    {
     "data": {
      "image/png": "[encoded data removed]",
      "text/plain": [
       "<Figure size 640x480 with 1 Axes>"
      ]
     },
     "metadata": {},
     "output_type": "display_data"
    }
   ],
   "source": [
    "plt.plot(outputs.T[0], label='x = 0')\n",
    "plt.plot(outputs.T[24], label='x = 24')\n",
    "plt.plot(outputs.T[49], label='x = 49')\n",
    "plt.legend()\n",
    "plt.show()"
   ]
  },
  {
   "cell_type": "code",
   "execution_count": 1114,
   "metadata": {},
   "outputs": [
    {
     "data": {
      "text/plain": [
       "200"
      ]
     },
     "execution_count": 1114,
     "metadata": {},
     "output_type": "execute_result"
    }
   ],
   "source": [
    "len(outputs)"
   ]
  },
  {
   "cell_type": "code",
   "execution_count": null,
   "metadata": {},
   "outputs": [],
   "source": []
  }
 ],
 "metadata": {
  "kernelspec": {
   "display_name": "venv",
   "language": "python",
   "name": "python3"
  },
  "language_info": {
   "codemirror_mode": {
    "name": "ipython",
    "version": 3
   },
   "file_extension": ".py",
   "mimetype": "text/x-python",
   "name": "python",
   "nbconvert_exporter": "python",
   "pygments_lexer": "ipython3",
   "version": "3.12.4"
  }
 },
 "nbformat": 4,
 "nbformat_minor": 2
}
