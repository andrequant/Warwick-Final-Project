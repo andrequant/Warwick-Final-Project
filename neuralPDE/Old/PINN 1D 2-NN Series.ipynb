{
 "cells": [
  {
   "cell_type": "markdown",
   "metadata": {},
   "source": [
    "## Applying PINN to the PDE - 1D Version"
   ]
  },
  {
   "cell_type": "markdown",
   "metadata": {},
   "source": [
    "We are interessed in solving\n",
    "\n",
    "$$\n",
    "\\frac{\\partial \\rho}{\\partial t} = \\nabla \\cdot \\left(\\Sigma \\nabla\\rho(x,t) - \\rho(x,t) F(\\rho(x,t)) \\right)\n",
    "\n",
    "$$\n",
    "\n",
    "\n",
    "\n",
    "Where $x=x_1$. $\\Sigma = \\rm{diag} (\\sigma_1^2, \\sigma_2^2)$. $F: \\mathbb{R} \\mapsto \\mathbb{R}$, $F(\\rho) = f(\\rho).\n",
    "\n",
    "On the domain\n",
    "\n",
    "$$\n",
    "\\Omega = \\{x \\in [0,L]\\}\n",
    "$$\n",
    "\n",
    "With boundary conditions\n",
    "\n",
    "$$\n",
    "j \\cdot n = -a (\\rho_{max} - \\rho) \\quad \\forall x \\in \\Gamma_{in}\n",
    "$$\n",
    "\n",
    "$$\n",
    "j \\cdot n = b \\rho \\quad \\forall x \\in \\Gamma_{out}\n",
    "$$\n",
    "\n",
    "\n",
    "where\n",
    "\n",
    "$$\n",
    "\\Gamma_{in} = \\{(x_1, x_2) \\in \\Omega: x_1 = 0\\}\n",
    "$$\n",
    "\n",
    "$$\n",
    "\\Gamma_{out} = \\{(x_1, x_2) \\in \\Omega: x_1 = L\\}\n",
    "$$\n",
    "\n",
    "\n",
    "With $j = -\\Sigma \\nabla \\rho + \\rho F(\\rho)$, in 1-D, $j = -\\sigma_1 \\frac{\\partial \\rho}{\\partial x_1} + \\rho f(\\rho)$ and $n$ the outer normal vector, i.e. vector points toward the interior:\n",
    "\n",
    "$$\n",
    "n = -1 \\quad \\rm{for} \\quad \\Gamma_{in}\n",
    "$$\n",
    "\n",
    "$$\n",
    "n = 1\\quad \\rm{for} \\quad \\Gamma_{out}\n",
    "$$\n"
   ]
  },
  {
   "cell_type": "markdown",
   "metadata": {},
   "source": [
    "In a more explicit manner, the PDE can be written as\n",
    "\n",
    "$$\n",
    "\\frac{\\partial \\rho}{\\partial t} = \\sigma_1 \\frac{\\partial^2 \\rho}{\\partial x_1^2} - \\frac{\\partial \\rho}{\\partial x_1} \\left(f(\\rho(x,t)) + \\rho(x,t) \\frac{d f(\\rho(x,t))}{d \\rho} \\right)\n",
    "$$"
   ]
  },
  {
   "cell_type": "code",
   "execution_count": 1,
   "metadata": {},
   "outputs": [],
   "source": [
    "import numpy as np\n",
    "import matplotlib.pyplot as plt\n",
    "import jax\n",
    "import jax.numpy as jnp\n",
    "import equinox as eqx\n",
    "\n",
    "import optax\n",
    "\n",
    "import timeit\n",
    "\n",
    "from scipy.stats import qmc"
   ]
  },
  {
   "cell_type": "code",
   "execution_count": 2,
   "metadata": {},
   "outputs": [],
   "source": [
    "# Correct that to import from the other file\n",
    "\n",
    "from abc import ABC, abstractmethod\n",
    "\n",
    "class FundamentalDiagram():\n",
    "    def __init__(self, params):\n",
    "        self.params = params\n",
    "\n",
    "    def __call__(self,density):\n",
    "        return self.flux(density)\n",
    "    \n",
    "    @abstractmethod\n",
    "    def flux(self, density):\n",
    "        pass\n",
    "\n",
    "    @abstractmethod\n",
    "    def __str__(self):\n",
    "        pass\n",
    "\n",
    "\n",
    "\n",
    "class Greenshield(FundamentalDiagram):\n",
    "    def __init__(self, params):\n",
    "        super().__init__(params)\n",
    "        self.v_max = self.params[0]\n",
    "        self.p_max = self.params[1]\n",
    "    \n",
    "    def flux(self, density):\n",
    "        return self.v_max * (1 - (density/self.p_max))\n",
    "    \n",
    "    def d_flux(self, density):\n",
    "        return - self.v_max/self.p_max + 0*density\n",
    "    \n",
    "    def __str__(self):\n",
    "        return \"Greenshield\""
   ]
  },
  {
   "cell_type": "code",
   "execution_count": 3,
   "metadata": {},
   "outputs": [],
   "source": [
    "model_key = jax.random.PRNGKey(1)\n",
    "\n",
    "input_dim = 2\n",
    "output_dim = 'scalar'\n",
    "\n",
    "layers_size = 10\n",
    "n_layers = 1\n",
    "\n",
    "model = eqx.nn.MLP(in_size=input_dim, out_size=output_dim, width_size=layers_size, depth=n_layers,\n",
    "                    activation=jax.nn.sigmoid, use_final_bias=False, key=model_key)"
   ]
  },
  {
   "cell_type": "code",
   "execution_count": 4,
   "metadata": {},
   "outputs": [],
   "source": [
    "# input = (x1, x2, t)"
   ]
  },
  {
   "cell_type": "code",
   "execution_count": 287,
   "metadata": {},
   "outputs": [],
   "source": [
    "sigma1 = 0.5**2\n",
    "\n",
    "\n",
    "L = 3\n",
    "T = 20\n",
    "\n",
    "a = 0.9\n",
    "b = 0.975\n",
    "\n",
    "\n",
    "v_max = 2\n",
    "p_max = 1 # rho_max cannot be learned Susana's paper\n",
    "func = Greenshield([v_max, p_max])"
   ]
  },
  {
   "cell_type": "code",
   "execution_count": 7,
   "metadata": {},
   "outputs": [],
   "source": [
    "# Example batch input\n",
    "\n",
    "batch_input_data = jnp.array([\n",
    "    [1.0, 2.0],\n",
    "    [3.0, 4.0],\n",
    "    [5.0, 6.0]\n",
    "])"
   ]
  },
  {
   "cell_type": "code",
   "execution_count": 8,
   "metadata": {},
   "outputs": [],
   "source": [
    "def pde_loss(model, func, input, sigma1):\n",
    "    \n",
    "    # p = rho\n",
    "\n",
    "    rho, grad = jax.vmap(jax.value_and_grad(model))(input)\n",
    "    hess = jax.vmap(jax.hessian(model))(input)\n",
    "\n",
    "    dp_dx1 = grad[:, 0] \n",
    "    dp_dt = grad[:, 1]\n",
    "    d2p_dx12 = hess[:, 0, 0]\n",
    "\n",
    "\n",
    "    fp = func.flux(rho)\n",
    "    df_p = func.d_flux(rho)\n",
    "\n",
    "    rhs = sigma1*d2p_dx12 - dp_dx1 * (fp + rho*df_p)\n",
    "\n",
    "    return jnp.mean((dp_dt - rhs)**2)"
   ]
  },
  {
   "cell_type": "code",
   "execution_count": 9,
   "metadata": {},
   "outputs": [
    {
     "data": {
      "text/plain": [
       "Array(0.03133956, dtype=float32)"
      ]
     },
     "execution_count": 9,
     "metadata": {},
     "output_type": "execute_result"
    }
   ],
   "source": [
    "pde_loss(model, func, batch_input_data,  sigma1=sigma1)"
   ]
  },
  {
   "cell_type": "code",
   "execution_count": 10,
   "metadata": {},
   "outputs": [
    {
     "data": {
      "text/plain": [
       "Array([[1., 2.],\n",
       "       [3., 4.],\n",
       "       [5., 6.]], dtype=float32)"
      ]
     },
     "execution_count": 10,
     "metadata": {},
     "output_type": "execute_result"
    }
   ],
   "source": [
    "batch_input_data"
   ]
  },
  {
   "cell_type": "code",
   "execution_count": 11,
   "metadata": {},
   "outputs": [],
   "source": [
    "def j(model, func, input, sigma1):\n",
    "    rho, grad = jax.vmap(jax.value_and_grad(model))(input)\n",
    "\n",
    "    i_0 = - sigma1*grad[:, 0] + rho * func(rho)\n",
    "\n",
    "    return i_0, rho"
   ]
  },
  {
   "cell_type": "code",
   "execution_count": 12,
   "metadata": {},
   "outputs": [],
   "source": [
    "def in_loss(model, func, T, sigma1, a, steps=20):\n",
    "\n",
    "    t = jnp.linspace(0, T, steps)\n",
    "    x1_flat = jnp.zeros_like(t)\n",
    "    result = jnp.stack((x1_flat, t), axis=-1)\n",
    "    in_ , rho = j(model, func, result, sigma1)\n",
    "    in_theorical = -a * (func.p_max - rho)\n",
    "\n",
    "    return jnp.mean((-in_ - in_theorical)**2)\n"
   ]
  },
  {
   "cell_type": "code",
   "execution_count": 65,
   "metadata": {},
   "outputs": [],
   "source": [
    "def in_loss1(model, func, T, sigma1, a, steps=20):\n",
    "\n",
    "    t = jnp.linspace(0.2, T, steps)\n",
    "    x1_flat = jnp.zeros_like(t)\n",
    "    result = jnp.stack((x1_flat, t), axis=-1)\n",
    "    in_ , rho = j(model, func, result, sigma1)\n",
    "    in_theorical = -a * (func.p_max - rho)\n",
    "\n",
    "    return jnp.mean((-in_ - in_theorical)**2)\n"
   ]
  },
  {
   "cell_type": "code",
   "execution_count": 222,
   "metadata": {},
   "outputs": [],
   "source": [
    "def in_loss2(model, func, T, sigma1, a, steps=20):\n",
    "\n",
    "    t = jnp.linspace(0, 0.5, steps)\n",
    "    x1_flat = jnp.zeros_like(t)\n",
    "    result = jnp.stack((x1_flat, t), axis=-1)\n",
    "    in_ , rho = j(model, func, result, sigma1)\n",
    "    in_theorical = -a * (func.p_max - rho)\n",
    "\n",
    "    return jnp.mean((-in_ - in_theorical)**2)\n"
   ]
  },
  {
   "cell_type": "code",
   "execution_count": 223,
   "metadata": {},
   "outputs": [
    {
     "data": {
      "text/plain": [
       "Array(0.00321501, dtype=float32)"
      ]
     },
     "execution_count": 223,
     "metadata": {},
     "output_type": "execute_result"
    }
   ],
   "source": [
    "in_loss(model, func, T, sigma1, a)"
   ]
  },
  {
   "cell_type": "code",
   "execution_count": 224,
   "metadata": {},
   "outputs": [],
   "source": [
    "def out_loss(model, func, T, sigma1, b, steps=20):\n",
    "\n",
    "    t = jnp.linspace(0, T, steps)\n",
    "    x1_flat = jnp.full_like(t, L)\n",
    "    result = jnp.stack((x1_flat, t), axis=-1)\n",
    "    out_ , rho = j(model, func, result, sigma1)\n",
    "    out_theorical = b * rho\n",
    "\n",
    "    return jnp.mean((out_ - out_theorical)**2)"
   ]
  },
  {
   "cell_type": "code",
   "execution_count": 225,
   "metadata": {},
   "outputs": [],
   "source": [
    "def out_loss1(model, func, T, sigma1, b, steps=20):\n",
    "\n",
    "    t = jnp.linspace(0.2, T, steps)\n",
    "    x1_flat = jnp.full_like(t, L)\n",
    "    result = jnp.stack((x1_flat, t), axis=-1)\n",
    "    out_ , rho = j(model, func, result, sigma1)\n",
    "    out_theorical = b * rho\n",
    "\n",
    "    return jnp.mean((out_ - out_theorical)**2)"
   ]
  },
  {
   "cell_type": "code",
   "execution_count": 226,
   "metadata": {},
   "outputs": [],
   "source": [
    "def out_loss2(model, func, T, sigma1, b, steps=20):\n",
    "\n",
    "    t = jnp.linspace(0, 0.5, steps)\n",
    "    x1_flat = jnp.full_like(t, L)\n",
    "    result = jnp.stack((x1_flat, t), axis=-1)\n",
    "    out_ , rho = j(model, func, result, sigma1)\n",
    "    out_theorical = b * rho\n",
    "\n",
    "    return jnp.mean((out_ - out_theorical)**2)"
   ]
  },
  {
   "cell_type": "code",
   "execution_count": 227,
   "metadata": {},
   "outputs": [
    {
     "data": {
      "text/plain": [
       "Array(0.00670768, dtype=float32)"
      ]
     },
     "execution_count": 227,
     "metadata": {},
     "output_type": "execute_result"
    }
   ],
   "source": [
    "out_loss1(model, func, T, sigma1, b)"
   ]
  },
  {
   "cell_type": "code",
   "execution_count": 228,
   "metadata": {},
   "outputs": [],
   "source": [
    "def time_loss(model, L, steps=20):\n",
    "\n",
    "    x1 = jnp.linspace(0, L, steps)\n",
    "    t_flat = jnp.zeros_like(x1)\n",
    "    result = jnp.stack((x1, t_flat), axis=-1)\n",
    "    rho = jax.vmap(model)(result)\n",
    "\n",
    "    return jnp.mean(rho**2)"
   ]
  },
  {
   "cell_type": "code",
   "execution_count": 229,
   "metadata": {},
   "outputs": [
    {
     "data": {
      "text/plain": [
       "Array(0.00204338, dtype=float32)"
      ]
     },
     "execution_count": 229,
     "metadata": {},
     "output_type": "execute_result"
    }
   ],
   "source": [
    "time_loss(model, L)"
   ]
  },
  {
   "cell_type": "code",
   "execution_count": 356,
   "metadata": {},
   "outputs": [],
   "source": [
    "def loss(model, func, input, L, T, sigma1, a, b, steps=20):\n",
    "\n",
    "    return (10*pde_loss(model, func, input,  sigma1)+ in_loss(model, func, T, sigma1, a, steps) + \n",
    "            out_loss(model, func, T, sigma1, b, steps)\n",
    "            + time_loss(model, L, steps))"
   ]
  },
  {
   "cell_type": "code",
   "execution_count": 358,
   "metadata": {},
   "outputs": [],
   "source": [
    "def loss1(model, func, input, L, T, sigma1, a, b, steps=20):\n",
    "\n",
    "    return (10*pde_loss(model, func, input,  sigma1)+ in_loss1(model, func, T, sigma1, a, steps) + \n",
    "            out_loss1(model, func, T, sigma1, b, steps)\n",
    "            + 0.01*time_loss(model, L, steps))"
   ]
  },
  {
   "cell_type": "code",
   "execution_count": 360,
   "metadata": {},
   "outputs": [],
   "source": [
    "def loss2(model, func, input, L, T, sigma1, a, b, steps=20):\n",
    "\n",
    "    return (10*pde_loss(model, func, input,  sigma1)+ in_loss2(model, func, T, sigma1, a, steps) + \n",
    "            out_loss2(model, func, T, sigma1, b, steps)\n",
    "            + time_loss(model, L, steps))"
   ]
  },
  {
   "cell_type": "code",
   "execution_count": 361,
   "metadata": {},
   "outputs": [
    {
     "data": {
      "text/plain": [
       "Array(0.07244704, dtype=float32)"
      ]
     },
     "execution_count": 361,
     "metadata": {},
     "output_type": "execute_result"
    }
   ],
   "source": [
    "loss2(model, func, batch_input_data, L, T, sigma1, a, b)"
   ]
  },
  {
   "cell_type": "code",
   "execution_count": 362,
   "metadata": {},
   "outputs": [],
   "source": [
    "def generate_latin_hypercube_samples(num_samples, x1, t):\n",
    "    # Define the ranges\n",
    "    parameter_ranges = jnp.array([x1, t])\n",
    "    \n",
    "    # Create a Latin Hypercube Sampler\n",
    "    sampler = qmc.LatinHypercube(d=len(parameter_ranges))\n",
    "    \n",
    "    # Sample points in the hypercube\n",
    "    sample_points = sampler.random(n=num_samples)\n",
    "    \n",
    "    # Scale the points\n",
    "    scaled_samples = qmc.scale(sample_points, parameter_ranges[:, 0], parameter_ranges[:, 1])\n",
    "    \n",
    "    return jnp.array(scaled_samples)"
   ]
  },
  {
   "cell_type": "code",
   "execution_count": 363,
   "metadata": {},
   "outputs": [],
   "source": [
    "# Define a Multilayer Perceptron\n",
    "\n",
    "class MLP(eqx.Module):\n",
    "    layers: list  # Type annotation indicating that layers is a list. Needed to work properly.\n",
    "\n",
    "\n",
    "    def __init__(self, key, input_dim, hidden_dims, n_layers, output_dim):\n",
    "        \"\"\"Define the MLP\n",
    "\n",
    "        Args:\n",
    "            key (jax key): Random Jey\n",
    "            input_dim (int): Input layer dimension\n",
    "            hidden_dims (int): Hidden layers dimension\n",
    "            n_layers (_type_): Number of hidden layers\n",
    "            output_dim (_type_): Output layer dimension\n",
    "        \"\"\"\n",
    "\n",
    "\n",
    "        \n",
    "        # jax handle random number generation in a different way. Favoring reproducibility.\n",
    "        # This gives each layer a rnd initialization.\n",
    "        keys = jax.random.split(key, n_layers + 1)\n",
    "        \n",
    "        dims = [input_dim] + [hidden_dims] * n_layers + [output_dim]\n",
    "        self.layers = [eqx.nn.Linear(dims[i], dims[i + 1], key=keys[i]) for i in range(len(dims) - 1)]\n",
    "\n",
    "    \n",
    "    def __call__(self, x):\n",
    "        \"\"\"Forward-pass the input through the network\n",
    "\n",
    "        Args:\n",
    "            x (jnp.array): Input\n",
    "\n",
    "        Returns:\n",
    "            jnp.array: NN output\n",
    "        \"\"\"\n",
    "        for layer in self.layers[:-2]:\n",
    "            x = jax.nn.gelu(layer(x))\n",
    "            # So far, softplus seems to be the best\n",
    "            # squareplus is curious\n",
    "            # celu shallow (1 layer) got the steady state thing and the curious curve on the x,y plane at steady state.\n",
    "            # swish got somewhat excelent results, but the PDE loss is high\n",
    "        \n",
    "        x = jax.nn.swish(self.layers[-2](x))\n",
    "        x = self.layers[-1](x)\n",
    "        return x"
   ]
  },
  {
   "cell_type": "code",
   "execution_count": 364,
   "metadata": {},
   "outputs": [],
   "source": [
    "from jax import jit\n",
    "\n",
    "class WeightedAverageNN(eqx.Module):\n",
    "    nn1: MLP\n",
    "    nn2: MLP\n",
    "    theta1: jnp.ndarray\n",
    "    theta2: jnp.ndarray\n",
    "\n",
    "    def __init__(self, key, nn1, nn2):\n",
    "        self.nn1 = nn1\n",
    "        self.nn2 = nn2\n",
    "        key1, key2 = jax.random.split(key)\n",
    "        self.theta1 = jax.random.normal(key1, ()) + 15.0\n",
    "        self.theta2 = jax.random.normal(key2, ()) + 10.0\n",
    "\n",
    "    @jit\n",
    "    def sigmoid(self, t):\n",
    "        return jax.nn.sigmoid(self.theta1 * t - self.theta2)\n",
    "\n",
    "    def __call__(self, z):\n",
    "        x, t = z[0], z[1]\n",
    "        output1 = self.nn1(jnp.stack([x, t], axis=-1))\n",
    "        output2 = self.nn2(jnp.stack([x, t], axis=-1))\n",
    "        f_t = self.sigmoid(t)\n",
    "        return output1 * f_t + output2 * (1 - f_t)\n"
   ]
  },
  {
   "cell_type": "code",
   "execution_count": 383,
   "metadata": {},
   "outputs": [],
   "source": [
    "# Initialize the model with multiple hidden layers and scalar output layer\n",
    "model_key1 = jax.random.PRNGKey(1)\n",
    "\n",
    "\n",
    "output_dim = 'scalar'\n",
    "\n",
    "model1 = MLP(model_key1, input_dim=2, hidden_dims=1024, n_layers=1, output_dim=output_dim)"
   ]
  },
  {
   "cell_type": "code",
   "execution_count": 384,
   "metadata": {},
   "outputs": [],
   "source": [
    "# Optimizer definition\n",
    "lr = 10e-3\n",
    "optimizer = optax.adam(learning_rate=lr)\n",
    "opt_state = optimizer.init(model1)"
   ]
  },
  {
   "cell_type": "code",
   "execution_count": 385,
   "metadata": {},
   "outputs": [],
   "source": [
    "@eqx.filter_jit # decorator that applies Just-in-time compilation just to the relevant parts. Improves performance.\n",
    "def train_step(model, opt_state, func, input, L, T, sigma1, a, b, steps=20):\n",
    "    loss_value, grads = jax.value_and_grad(loss1)(model, func, input, L, T, sigma1, a, b, steps) # Compute the loss and gradient\n",
    "    updates, opt_state = optimizer.update(grads, opt_state) # Apply the backward propagation\n",
    "    model = eqx.apply_updates(model, updates) # Update the NN\n",
    "    return model, opt_state, loss_value"
   ]
  },
  {
   "cell_type": "code",
   "execution_count": 386,
   "metadata": {},
   "outputs": [
    {
     "name": "stdout",
     "output_type": "stream",
     "text": [
      "Epoch 0, Loss: 91.49496459960938\n",
      "Epoch 100, Loss: 0.3102550208568573\n",
      "Epoch 200, Loss: 0.20814353227615356\n",
      "Epoch 300, Loss: 0.17407819628715515\n",
      "Epoch 400, Loss: 0.14476116001605988\n",
      "Epoch 500, Loss: 0.12073808908462524\n",
      "Epoch 600, Loss: 0.10152662545442581\n",
      "Epoch 700, Loss: 0.08636926114559174\n",
      "Epoch 800, Loss: 0.07449892908334732\n",
      "Epoch 900, Loss: 0.06523431092500687\n",
      "Epoch 1000, Loss: 0.05800296738743782\n",
      "Epoch 1100, Loss: 1.5654247999191284\n",
      "Epoch 1200, Loss: 0.25811445713043213\n",
      "Epoch 1300, Loss: 0.11743437498807907\n",
      "Epoch 1400, Loss: 0.06879997998476028\n",
      "Epoch 1500, Loss: 0.04678075388073921\n",
      "Epoch 1600, Loss: 0.03496146202087402\n",
      "Epoch 1700, Loss: 0.027794864028692245\n",
      "Epoch 1800, Loss: 0.02301856316626072\n",
      "Epoch 1900, Loss: 0.01958760805428028\n",
      "Epoch 2000, Loss: 0.016977768391370773\n",
      "Epoch 2100, Loss: 1.695967197418213\n",
      "Epoch 2200, Loss: 0.22732554376125336\n",
      "Epoch 2300, Loss: 0.10845054686069489\n",
      "Epoch 2400, Loss: 0.07120241969823837\n",
      "Epoch 2500, Loss: 0.05574493855237961\n",
      "Epoch 2600, Loss: 0.04748975858092308\n",
      "Epoch 2700, Loss: 0.04218720644712448\n",
      "Epoch 2800, Loss: 0.03841646760702133\n",
      "Epoch 2900, Loss: 0.03555990383028984\n",
      "Epoch 3000, Loss: 0.03327908366918564\n",
      "Epoch 3100, Loss: 0.04968750849366188\n",
      "Epoch 3200, Loss: 0.019996095448732376\n",
      "Epoch 3300, Loss: 0.014004054479300976\n",
      "Epoch 3400, Loss: 0.011231547221541405\n",
      "Epoch 3500, Loss: 0.009464451111853123\n",
      "Epoch 3600, Loss: 0.008177964016795158\n",
      "Epoch 3700, Loss: 0.00719874631613493\n",
      "Epoch 3800, Loss: 0.006429641041904688\n",
      "Epoch 3900, Loss: 0.005799465347081423\n",
      "Epoch 4000, Loss: 0.005261976271867752\n",
      "Epoch 4100, Loss: 0.047188498079776764\n",
      "Epoch 4200, Loss: 0.016346286982297897\n",
      "Epoch 4300, Loss: 0.011834139004349709\n",
      "Epoch 4400, Loss: 0.010161682963371277\n",
      "Epoch 4500, Loss: 0.007703030947595835\n",
      "Epoch 4600, Loss: 0.006467793602496386\n",
      "Epoch 4700, Loss: 0.005679727997630835\n",
      "Epoch 4800, Loss: 0.005069000646471977\n",
      "Epoch 4900, Loss: 0.004567361436784267\n",
      "Epoch 5000, Loss: 0.004144935868680477\n",
      "Epoch 5100, Loss: 0.016972234472632408\n",
      "Epoch 5200, Loss: 0.003809118876233697\n",
      "Epoch 5300, Loss: 0.003565728198736906\n",
      "Epoch 5400, Loss: 0.0033386098220944405\n",
      "Epoch 5500, Loss: 0.003121216082945466\n",
      "Epoch 5600, Loss: 0.0029183325823396444\n",
      "Epoch 5700, Loss: 0.0027348233852535486\n",
      "Epoch 5800, Loss: 0.002574818441644311\n",
      "Epoch 5900, Loss: 0.002440054900944233\n",
      "Epoch 6000, Loss: 0.0023284999188035727\n",
      "Epoch 6100, Loss: 0.010377692990005016\n",
      "Epoch 6200, Loss: 0.0036356837954372168\n",
      "Epoch 6300, Loss: 0.0028595472685992718\n",
      "Epoch 6400, Loss: 0.0023586817551404238\n",
      "Epoch 6500, Loss: 0.0020579458214342594\n",
      "Epoch 6600, Loss: 0.0018855659291148186\n",
      "Epoch 6700, Loss: 0.001786574604921043\n",
      "Epoch 6800, Loss: 0.0017259669257327914\n",
      "Epoch 6900, Loss: 0.0016840052558109164\n",
      "Epoch 7000, Loss: 0.0016504937084391713\n",
      "Epoch 7100, Loss: 0.006579061038792133\n",
      "Epoch 7200, Loss: 0.002471142215654254\n",
      "Epoch 7300, Loss: 0.002138243056833744\n",
      "Epoch 7400, Loss: 0.001907646656036377\n",
      "Epoch 7500, Loss: 0.0017371776048094034\n",
      "Epoch 7600, Loss: 0.0016172536415979266\n",
      "Epoch 7700, Loss: 0.0015377982053905725\n",
      "Epoch 7800, Loss: 0.001485874643549323\n",
      "Epoch 7900, Loss: 0.0014503588899970055\n",
      "Epoch 8000, Loss: 0.0014236635761335492\n",
      "Epoch 8100, Loss: 0.0036637482699006796\n",
      "Epoch 8200, Loss: 0.002498655579984188\n",
      "Epoch 8300, Loss: 0.0018970357486978173\n",
      "Epoch 8400, Loss: 0.001615177490748465\n",
      "Epoch 8500, Loss: 0.0014938662061467767\n",
      "Epoch 8600, Loss: 0.0014317132299765944\n",
      "Epoch 8700, Loss: 0.0013885976513847709\n",
      "Epoch 8800, Loss: 0.0013522919034585357\n",
      "Epoch 8900, Loss: 0.0013188367011025548\n",
      "Epoch 9000, Loss: 0.0012855840614065528\n",
      "Epoch 9100, Loss: 0.0023282167967408895\n",
      "Epoch 9200, Loss: 0.0014192023081704974\n",
      "Epoch 9300, Loss: 0.0012667038245126605\n",
      "Epoch 9400, Loss: 0.0012122845510020852\n",
      "Epoch 9500, Loss: 0.001178927137516439\n",
      "Epoch 9600, Loss: 0.0011490429751574993\n",
      "Epoch 9700, Loss: 0.0011159911518916488\n",
      "Epoch 9800, Loss: 0.001076258486136794\n",
      "Epoch 9900, Loss: 0.0010263662552461028\n",
      "Epoch 10000, Loss: 0.0009615235612727702\n",
      "Epoch 10100, Loss: 0.0051354579627513885\n",
      "Epoch 10200, Loss: 0.0015693072928115726\n",
      "Epoch 10300, Loss: 0.001077737775631249\n",
      "Epoch 10400, Loss: 0.0009603765211068094\n",
      "Epoch 10500, Loss: 0.0009142081253230572\n",
      "Epoch 10600, Loss: 0.0008819454233162105\n",
      "Epoch 10700, Loss: 0.0008511852938681841\n",
      "Epoch 10800, Loss: 0.0008186936029233038\n",
      "Epoch 10900, Loss: 0.0007831865805201232\n",
      "Epoch 11000, Loss: 0.0007433840655721724\n",
      "Epoch 11100, Loss: 0.0023000272922217846\n",
      "Epoch 11200, Loss: 0.0012274638283997774\n",
      "Epoch 11300, Loss: 0.0009662862285040319\n",
      "Epoch 11400, Loss: 0.0008300008485093713\n",
      "Epoch 11500, Loss: 0.0007519972859881818\n",
      "Epoch 11600, Loss: 0.0006999445613473654\n",
      "Epoch 11700, Loss: 0.000656795920804143\n",
      "Epoch 11800, Loss: 0.0006103318883106112\n",
      "Epoch 11900, Loss: 0.0005244478234089911\n",
      "Epoch 12000, Loss: 0.00043488910887390375\n",
      "Epoch 12100, Loss: 0.002220557304099202\n",
      "Epoch 12200, Loss: 0.0009660280193202198\n",
      "Epoch 12300, Loss: 0.0008141681901179254\n",
      "Epoch 12400, Loss: 0.000721283140592277\n",
      "Epoch 12500, Loss: 0.0006282898830249906\n",
      "Epoch 12600, Loss: 0.00047656538663432\n",
      "Epoch 12700, Loss: 0.00038296353886835277\n",
      "Epoch 12800, Loss: 0.00035431922879070044\n",
      "Epoch 12900, Loss: 0.00032874176395125687\n",
      "Epoch 13000, Loss: 0.0003031684609595686\n",
      "Epoch 13100, Loss: 0.0022682214621454477\n",
      "Epoch 13200, Loss: 0.0009440124267712235\n",
      "Epoch 13300, Loss: 0.0007125771953724325\n",
      "Epoch 13400, Loss: 0.0005865120328962803\n",
      "Epoch 13500, Loss: 0.0004929470596835017\n",
      "Epoch 13600, Loss: 0.0003892314853146672\n",
      "Epoch 13700, Loss: 0.00026319638709537685\n",
      "Epoch 13800, Loss: 0.0002354692405788228\n",
      "Epoch 13900, Loss: 0.0002194256812799722\n",
      "Epoch 14000, Loss: 0.00020560171105898917\n",
      "Epoch 14100, Loss: 0.0010393675183877349\n",
      "Epoch 14200, Loss: 0.0005158028798177838\n",
      "Epoch 14300, Loss: 0.00024796873913146555\n",
      "Epoch 14400, Loss: 0.00014406566333491355\n",
      "Epoch 14500, Loss: 0.00013258305261842906\n",
      "Epoch 14600, Loss: 0.00012288257130421698\n",
      "Epoch 14700, Loss: 0.00011413985339459032\n",
      "Epoch 14800, Loss: 0.0001062975061358884\n",
      "Epoch 14900, Loss: 9.931357635650784e-05\n",
      "Epoch 15000, Loss: 9.311556641478091e-05\n",
      "Epoch 15100, Loss: 0.000843962247017771\n",
      "Epoch 15200, Loss: 0.0004500604991335422\n",
      "Epoch 15300, Loss: 0.00032157564419321716\n",
      "Epoch 15400, Loss: 0.00013413764827419072\n",
      "Epoch 15500, Loss: 0.00010529808059800416\n",
      "Epoch 15600, Loss: 9.543397754896432e-05\n",
      "Epoch 15700, Loss: 8.957186219049618e-05\n",
      "Epoch 15800, Loss: 8.555104432161897e-05\n",
      "Epoch 15900, Loss: 8.245569915743545e-05\n",
      "Epoch 16000, Loss: 7.983321120264009e-05\n",
      "Epoch 16100, Loss: 0.0009747438016347587\n",
      "Epoch 16200, Loss: 0.00044741525198332965\n",
      "Epoch 16300, Loss: 0.00010206222941633314\n",
      "Epoch 16400, Loss: 8.787839760771021e-05\n",
      "Epoch 16500, Loss: 8.231004903791472e-05\n",
      "Epoch 16600, Loss: 7.818116137059405e-05\n",
      "Epoch 16700, Loss: 7.489821291528642e-05\n",
      "Epoch 16800, Loss: 7.213558274088427e-05\n",
      "Epoch 16900, Loss: 6.969754031160846e-05\n",
      "Epoch 17000, Loss: 6.747651059413329e-05\n",
      "Epoch 17100, Loss: 0.0010180120589211583\n",
      "Epoch 17200, Loss: 0.00026248552603647113\n",
      "Epoch 17300, Loss: 0.00015710608568042517\n",
      "Epoch 17400, Loss: 0.00012217303446959704\n",
      "Epoch 17500, Loss: 0.00010585082782199606\n",
      "Epoch 17600, Loss: 9.556090662954375e-05\n",
      "Epoch 17700, Loss: 8.792847802396864e-05\n",
      "Epoch 17800, Loss: 8.203726611100137e-05\n",
      "Epoch 17900, Loss: 7.748252392048016e-05\n",
      "Epoch 18000, Loss: 7.397131412290037e-05\n",
      "Epoch 18100, Loss: 0.002142078708857298\n",
      "Epoch 18200, Loss: 0.0006211594445630908\n",
      "Epoch 18300, Loss: 0.00037695118226110935\n",
      "Epoch 18400, Loss: 0.00011533495126059279\n",
      "Epoch 18500, Loss: 8.854163024807349e-05\n",
      "Epoch 18600, Loss: 8.081523992586881e-05\n",
      "Epoch 18700, Loss: 7.615610957145691e-05\n",
      "Epoch 18800, Loss: 7.293005910469219e-05\n",
      "Epoch 18900, Loss: 7.05189595464617e-05\n",
      "Epoch 19000, Loss: 6.861329893581569e-05\n",
      "Epoch 19100, Loss: 0.006160733290016651\n",
      "Epoch 19200, Loss: 0.003972437232732773\n",
      "Epoch 19300, Loss: 0.00343420822173357\n",
      "Epoch 19400, Loss: 0.002972226357087493\n",
      "Epoch 19500, Loss: 0.0025240802206099033\n",
      "Epoch 19600, Loss: 0.0020773785654455423\n",
      "Epoch 19700, Loss: 0.0016735675744712353\n",
      "Epoch 19800, Loss: 0.0013611045433208346\n",
      "Epoch 19900, Loss: 0.0011316932504996657\n",
      "Final Loss: 0.002118105301633477\n"
     ]
    }
   ],
   "source": [
    "# Training loop\n",
    "num_epochs = 20000\n",
    "losses = []\n",
    "\n",
    "\n",
    "\n",
    "sample_n = 20\n",
    "x = generate_latin_hypercube_samples(sample_n, [0,L], [0,T]) # Latin Hypercube sample\n",
    "\n",
    "sample_points = x.copy()\n",
    "\n",
    "for epoch in range(num_epochs):\n",
    "    \n",
    "    model1, opt_state, loss_value = train_step(model1, opt_state, func, x, L, T, sigma1, a, b, steps=20)\n",
    "    if epoch % 100 == 0:\n",
    "        #x = generate_latin_hypercube_samples(sample_n, [0,L], [0,T]) # Latin Hypercube sample\n",
    "        sample_points = jnp.vstack((sample_points, x))\n",
    "        losses.append(loss_value)\n",
    "        print(f\"Epoch {epoch}, Loss: {loss_value}\")\n",
    "\n",
    "\n",
    "    if epoch % 1000 == 0:\n",
    "        lr *= 0.4\n",
    "        optimizer = optax.adam(learning_rate=lr)\n",
    "        opt_state = optimizer.init(model1)  # Re-initialize optimizer state with new learning rate\n",
    "\n",
    "        \n",
    "\n",
    "# Print final loss\n",
    "x = generate_latin_hypercube_samples(sample_n, [0,L], [0.2,T]) # Latin Hypercube sample\n",
    "final_loss = loss1(model1, func, x, L, T, sigma1, a, b, steps=20)\n",
    "print(f\"Final Loss: {final_loss}\")"
   ]
  },
  {
   "cell_type": "code",
   "execution_count": 387,
   "metadata": {},
   "outputs": [],
   "source": [
    "# Initialize the model with multiple hidden layers and scalar output layer\n",
    "model_key2 = jax.random.PRNGKey(5)\n",
    "\n",
    "\n",
    "output_dim = 'scalar'\n",
    "\n",
    "model2 = MLP(model_key2, input_dim=2, hidden_dims=1024, n_layers=1, output_dim=output_dim)"
   ]
  },
  {
   "cell_type": "code",
   "execution_count": 388,
   "metadata": {},
   "outputs": [],
   "source": [
    "# Optimizer definition\n",
    "lr = 10e-3\n",
    "optimizer = optax.adam(learning_rate=lr)\n",
    "opt_state = optimizer.init(model2)"
   ]
  },
  {
   "cell_type": "code",
   "execution_count": 389,
   "metadata": {},
   "outputs": [],
   "source": [
    "@eqx.filter_jit # decorator that applies Just-in-time compilation just to the relevant parts. Improves performance.\n",
    "def train_step(model, opt_state, func, input, L, T, sigma1, a, b, steps=20):\n",
    "    loss_value, grads = jax.value_and_grad(loss2)(model, func, input, L, T, sigma1, a, b, steps) # Compute the loss and gradient\n",
    "    updates, opt_state = optimizer.update(grads, opt_state) # Apply the backward propagation\n",
    "    model = eqx.apply_updates(model, updates) # Update the NN\n",
    "    return model, opt_state, loss_value"
   ]
  },
  {
   "cell_type": "code",
   "execution_count": 390,
   "metadata": {},
   "outputs": [
    {
     "name": "stdout",
     "output_type": "stream",
     "text": [
      "Epoch 0, Loss: 1.3379758596420288\n",
      "Epoch 100, Loss: 0.14317099750041962\n",
      "Epoch 200, Loss: 0.05682665854692459\n",
      "Epoch 300, Loss: 0.04415130242705345\n",
      "Epoch 400, Loss: 0.03721077740192413\n",
      "Epoch 500, Loss: 0.03282701224088669\n",
      "Epoch 600, Loss: 0.030134795233607292\n",
      "Epoch 700, Loss: 0.02841341309249401\n",
      "Epoch 800, Loss: 0.027205828577280045\n",
      "Epoch 900, Loss: 0.026273151859641075\n",
      "Epoch 1000, Loss: 0.025508565828204155\n",
      "Epoch 1100, Loss: 0.14799576997756958\n",
      "Epoch 1200, Loss: 0.03637470304965973\n",
      "Epoch 1300, Loss: 0.028339071199297905\n",
      "Epoch 1400, Loss: 0.024931643158197403\n",
      "Epoch 1500, Loss: 0.023552875965833664\n",
      "Epoch 1600, Loss: 0.023002488538622856\n",
      "Epoch 1700, Loss: 0.022765126079320908\n",
      "Epoch 1800, Loss: 0.022629976272583008\n",
      "Epoch 1900, Loss: 0.02252097800374031\n",
      "Epoch 2000, Loss: 0.02241445891559124\n",
      "Epoch 2100, Loss: 0.040077243000268936\n",
      "Epoch 2200, Loss: 0.028054604306817055\n",
      "Epoch 2300, Loss: 0.023248542100191116\n",
      "Epoch 2400, Loss: 0.02116580680012703\n",
      "Epoch 2500, Loss: 0.020304439589381218\n",
      "Epoch 2600, Loss: 0.019922737032175064\n",
      "Epoch 2700, Loss: 0.01972709409892559\n",
      "Epoch 2800, Loss: 0.019597545266151428\n",
      "Epoch 2900, Loss: 0.01948617957532406\n",
      "Epoch 3000, Loss: 0.01937602460384369\n",
      "Epoch 3100, Loss: 0.03225396201014519\n",
      "Epoch 3200, Loss: 0.021362869068980217\n",
      "Epoch 3300, Loss: 0.019417401403188705\n",
      "Epoch 3400, Loss: 0.01895303651690483\n",
      "Epoch 3500, Loss: 0.0187720637768507\n",
      "Epoch 3600, Loss: 0.018656320869922638\n",
      "Epoch 3700, Loss: 0.01854654587805271\n",
      "Epoch 3800, Loss: 0.01842840202152729\n",
      "Epoch 3900, Loss: 0.01829841360449791\n",
      "Epoch 4000, Loss: 0.01815490983426571\n",
      "Epoch 4100, Loss: 0.01998903602361679\n",
      "Epoch 4200, Loss: 0.0180305577814579\n",
      "Epoch 4300, Loss: 0.017677756026387215\n",
      "Epoch 4400, Loss: 0.017516998574137688\n",
      "Epoch 4500, Loss: 0.017361994832754135\n",
      "Epoch 4600, Loss: 0.01719614304602146\n",
      "Epoch 4700, Loss: 0.01701735518872738\n",
      "Epoch 4800, Loss: 0.016824761405587196\n",
      "Epoch 4900, Loss: 0.018519936129450798\n",
      "Epoch 5000, Loss: 0.016550343483686447\n",
      "Epoch 5100, Loss: 0.019696570932865143\n",
      "Epoch 5200, Loss: 0.01711900159716606\n",
      "Epoch 5300, Loss: 0.016558583825826645\n",
      "Epoch 5400, Loss: 0.016380764544010162\n",
      "Epoch 5500, Loss: 0.016281478106975555\n",
      "Epoch 5600, Loss: 0.016191430389881134\n",
      "Epoch 5700, Loss: 0.016098445281386375\n",
      "Epoch 5800, Loss: 0.015999920666217804\n",
      "Epoch 5900, Loss: 0.01589519903063774\n",
      "Epoch 6000, Loss: 0.015784507617354393\n",
      "Epoch 6100, Loss: 0.017697598785161972\n",
      "Epoch 6200, Loss: 0.0158223956823349\n",
      "Epoch 6300, Loss: 0.015596091747283936\n",
      "Epoch 6400, Loss: 0.01548962201923132\n",
      "Epoch 6500, Loss: 0.01539431232959032\n",
      "Epoch 6600, Loss: 0.015299893915653229\n",
      "Epoch 6700, Loss: 0.01520600076764822\n",
      "Epoch 6800, Loss: 0.015113280154764652\n",
      "Epoch 6900, Loss: 0.015022661536931992\n",
      "Epoch 7000, Loss: 0.014935026876628399\n",
      "Epoch 7100, Loss: 0.020045462995767593\n",
      "Epoch 7200, Loss: 0.015986472368240356\n",
      "Epoch 7300, Loss: 0.01526031456887722\n",
      "Epoch 7400, Loss: 0.015079746022820473\n",
      "Epoch 7500, Loss: 0.014996892772614956\n",
      "Epoch 7600, Loss: 0.014934532344341278\n",
      "Epoch 7700, Loss: 0.014879534021019936\n",
      "Epoch 7800, Loss: 0.01482786051928997\n",
      "Epoch 7900, Loss: 0.014777864329516888\n",
      "Epoch 8000, Loss: 0.014728870242834091\n",
      "Epoch 8100, Loss: 0.015298250131309032\n",
      "Epoch 8200, Loss: 0.014831122010946274\n",
      "Epoch 8300, Loss: 0.01471705175936222\n",
      "Epoch 8400, Loss: 0.014630154706537724\n",
      "Epoch 8500, Loss: 0.014560969546437263\n",
      "Epoch 8600, Loss: 0.014502080157399178\n",
      "Epoch 8700, Loss: 0.014449270442128181\n",
      "Epoch 8800, Loss: 0.014400600455701351\n",
      "Epoch 8900, Loss: 0.014354939572513103\n",
      "Epoch 9000, Loss: 0.01471715047955513\n",
      "Epoch 9100, Loss: 0.01524127647280693\n",
      "Epoch 9200, Loss: 0.014702179469168186\n",
      "Epoch 9300, Loss: 0.014586069621145725\n",
      "Epoch 9400, Loss: 0.014471098780632019\n",
      "Epoch 9500, Loss: 0.01435786858201027\n",
      "Epoch 9600, Loss: 0.014249731786549091\n",
      "Epoch 9700, Loss: 0.014593752101063728\n",
      "Epoch 9800, Loss: 0.016823215410113335\n",
      "Epoch 9900, Loss: 0.01575894095003605\n",
      "Epoch 10000, Loss: 0.14961421489715576\n",
      "Epoch 10100, Loss: 0.019523542374372482\n",
      "Epoch 10200, Loss: 0.01446274109184742\n",
      "Epoch 10300, Loss: 0.01423631701618433\n",
      "Epoch 10400, Loss: 0.014154531061649323\n",
      "Epoch 10500, Loss: 0.014084244146943092\n",
      "Epoch 10600, Loss: 0.014018386602401733\n",
      "Epoch 10700, Loss: 0.013955087400972843\n",
      "Epoch 10800, Loss: 0.013893292285501957\n",
      "Epoch 10900, Loss: 0.013832530938088894\n",
      "Epoch 11000, Loss: 0.013772771693766117\n",
      "Epoch 11100, Loss: 0.01908310502767563\n",
      "Epoch 11200, Loss: 0.014600047841668129\n",
      "Epoch 11300, Loss: 0.014006037265062332\n",
      "Epoch 11400, Loss: 0.013886083848774433\n",
      "Epoch 11500, Loss: 0.013810821808874607\n",
      "Epoch 11600, Loss: 0.013743613846600056\n",
      "Epoch 11700, Loss: 0.01368123572319746\n",
      "Epoch 11800, Loss: 0.013622320257127285\n",
      "Epoch 11900, Loss: 0.013566066510975361\n",
      "Epoch 12000, Loss: 0.013512047939002514\n",
      "Epoch 12100, Loss: 0.01365050021559\n",
      "Epoch 12200, Loss: 0.013392560184001923\n",
      "Epoch 12300, Loss: 0.013311214745044708\n",
      "Epoch 12400, Loss: 0.013236033730208874\n",
      "Epoch 12500, Loss: 0.013155370950698853\n",
      "Epoch 12600, Loss: 0.013189908117055893\n",
      "Epoch 12700, Loss: 0.014648525975644588\n",
      "Epoch 12800, Loss: 0.012920868583023548\n",
      "Epoch 12900, Loss: 0.012842496857047081\n",
      "Epoch 13000, Loss: 0.014254090376198292\n",
      "Epoch 13100, Loss: 0.015456220135092735\n",
      "Epoch 13200, Loss: 0.01336036715656519\n",
      "Epoch 13300, Loss: 0.013164076022803783\n",
      "Epoch 13400, Loss: 0.012992225587368011\n",
      "Epoch 13500, Loss: 0.012829234823584557\n",
      "Epoch 13600, Loss: 0.012682137079536915\n",
      "Epoch 13700, Loss: 0.012553512118756771\n",
      "Epoch 13800, Loss: 0.01244109682738781\n",
      "Epoch 13900, Loss: 0.01233945693820715\n",
      "Epoch 14000, Loss: 0.012242360040545464\n",
      "Epoch 14100, Loss: 0.01542349811643362\n",
      "Epoch 14200, Loss: 0.012980908155441284\n",
      "Epoch 14300, Loss: 0.012641536071896553\n",
      "Epoch 14400, Loss: 0.012376811355352402\n",
      "Epoch 14500, Loss: 0.012151574715971947\n",
      "Epoch 14600, Loss: 0.04561886191368103\n",
      "Epoch 14700, Loss: 0.011828416958451271\n",
      "Epoch 14800, Loss: 0.011700266972184181\n",
      "Epoch 14900, Loss: 0.01364534068852663\n",
      "Epoch 15000, Loss: 0.011483630165457726\n",
      "Epoch 15100, Loss: 0.012989894486963749\n",
      "Epoch 15200, Loss: 0.0120987044647336\n",
      "Epoch 15300, Loss: 0.01172514446079731\n",
      "Epoch 15400, Loss: 0.011443020775914192\n",
      "Epoch 15500, Loss: 0.011301957070827484\n",
      "Epoch 15600, Loss: 0.01111996453255415\n",
      "Epoch 15700, Loss: 0.011006777174770832\n",
      "Epoch 15800, Loss: 0.010903405956923962\n",
      "Epoch 15900, Loss: 0.010890182107686996\n",
      "Epoch 16000, Loss: 0.010704551823437214\n",
      "Epoch 16100, Loss: 0.016822580248117447\n",
      "Epoch 16200, Loss: 0.011888374574482441\n",
      "Epoch 16300, Loss: 0.011437986977398396\n",
      "Epoch 16400, Loss: 0.011182214133441448\n",
      "Epoch 16500, Loss: 0.0109785757958889\n",
      "Epoch 16600, Loss: 0.010818743146955967\n",
      "Epoch 16700, Loss: 0.010695263743400574\n",
      "Epoch 16800, Loss: 0.010598612017929554\n",
      "Epoch 16900, Loss: 0.01052009966224432\n",
      "Epoch 17000, Loss: 0.010453222319483757\n",
      "Epoch 17100, Loss: 0.01308010146021843\n",
      "Epoch 17200, Loss: 0.011176428757607937\n",
      "Epoch 17300, Loss: 0.010716723278164864\n",
      "Epoch 17400, Loss: 0.010443603619933128\n",
      "Epoch 17500, Loss: 0.01029185950756073\n",
      "Epoch 17600, Loss: 0.010202483274042606\n",
      "Epoch 17700, Loss: 0.010136890225112438\n",
      "Epoch 17800, Loss: 0.010079050436615944\n",
      "Epoch 17900, Loss: 0.010040869005024433\n",
      "Epoch 18000, Loss: 0.009975950233638287\n",
      "Epoch 18100, Loss: 0.019673708826303482\n",
      "Epoch 18200, Loss: 0.012048546224832535\n",
      "Epoch 18300, Loss: 0.01110504288226366\n",
      "Epoch 18400, Loss: 0.010701901279389858\n",
      "Epoch 18500, Loss: 0.010428773239254951\n",
      "Epoch 18600, Loss: 0.010234760120511055\n",
      "Epoch 18700, Loss: 0.01009797677397728\n",
      "Epoch 18800, Loss: 0.009999488480389118\n",
      "Epoch 18900, Loss: 0.009925274178385735\n",
      "Epoch 19000, Loss: 0.0098666250705719\n",
      "Epoch 19100, Loss: 0.021139267832040787\n",
      "Epoch 19200, Loss: 0.012351613491773605\n",
      "Epoch 19300, Loss: 0.01104495394974947\n",
      "Epoch 19400, Loss: 0.010556734167039394\n",
      "Epoch 19500, Loss: 0.010255877859890461\n",
      "Epoch 19600, Loss: 0.010059342719614506\n",
      "Epoch 19700, Loss: 0.009935677982866764\n",
      "Epoch 19800, Loss: 0.009857963770627975\n",
      "Epoch 19900, Loss: 0.009806104935705662\n",
      "Final Loss: 0.014016756787896156\n"
     ]
    }
   ],
   "source": [
    "# Training loop\n",
    "num_epochs = 20000\n",
    "losses = []\n",
    "\n",
    "\n",
    "\n",
    "sample_n = 20\n",
    "x = generate_latin_hypercube_samples(sample_n, [0,L], [0,0.5]) # Latin Hypercube sample\n",
    "\n",
    "sample_points = x.copy()\n",
    "\n",
    "for epoch in range(num_epochs):\n",
    "    \n",
    "    model2, opt_state, loss_value = train_step(model2, opt_state, func, x, L, T, sigma1, a, b, steps=20)\n",
    "    if epoch % 100 == 0:\n",
    "        #x = generate_latin_hypercube_samples(sample_n, [0,L], [0,T]) # Latin Hypercube sample\n",
    "        #sample_points = jnp.vstack((sample_points, x))\n",
    "        losses.append(loss_value)\n",
    "        print(f\"Epoch {epoch}, Loss: {loss_value}\")\n",
    "\n",
    "\n",
    "    if epoch % 1000 == 0:\n",
    "        lr *= 0.4\n",
    "        optimizer = optax.adam(learning_rate=lr)\n",
    "        opt_state = optimizer.init(model1)  # Re-initialize optimizer state with new learning rate\n",
    "\n",
    "        \n",
    "\n",
    "# Print final loss\n",
    "x = generate_latin_hypercube_samples(sample_n, [0,L], [0,0.2]) # Latin Hypercube sample\n",
    "final_loss = loss2(model2, func, x, L, T, sigma1, a, b, steps=20)\n",
    "print(f\"Final Loss: {final_loss}\")"
   ]
  },
  {
   "cell_type": "code",
   "execution_count": 391,
   "metadata": {},
   "outputs": [],
   "source": [
    "key3 = jax.random.PRNGKey(9)\n",
    "\n",
    "\n",
    "model = WeightedAverageNN(key3, model1, model2)"
   ]
  },
  {
   "cell_type": "code",
   "execution_count": 392,
   "metadata": {},
   "outputs": [],
   "source": [
    "# Optimizer definition\n",
    "lr = 10e-3\n",
    "optimizer = optax.adam(learning_rate=lr)\n",
    "opt_state = optimizer.init(model)"
   ]
  },
  {
   "cell_type": "code",
   "execution_count": 393,
   "metadata": {},
   "outputs": [],
   "source": [
    "@eqx.filter_jit # decorator that applies Just-in-time compilation just to the relevant parts. Improves performance.\n",
    "def train_step(model, opt_state, func, input, L, T, sigma1, a, b, steps=20):\n",
    "    loss_value, grads = jax.value_and_grad(loss)(model, func, input, L, T, sigma1, a, b, steps) # Compute the loss and gradient\n",
    "    updates, opt_state = optimizer.update(grads, opt_state) # Apply the backward propagation\n",
    "    model = eqx.apply_updates(model, updates) # Update the NN\n",
    "    return model, opt_state, loss_value"
   ]
  },
  {
   "cell_type": "code",
   "execution_count": 394,
   "metadata": {},
   "outputs": [
    {
     "name": "stdout",
     "output_type": "stream",
     "text": [
      "Epoch 0, Loss: 0.01542644202709198\n",
      "Epoch 100, Loss: 0.010066427290439606\n",
      "Epoch 200, Loss: 0.005737592000514269\n",
      "Epoch 300, Loss: 0.005083219613879919\n",
      "Epoch 400, Loss: 0.004913071636110544\n",
      "Epoch 500, Loss: 0.004775017034262419\n",
      "Epoch 600, Loss: 0.004634183831512928\n",
      "Epoch 700, Loss: 0.004485194571316242\n",
      "Epoch 800, Loss: 0.0043262215331196785\n",
      "Epoch 900, Loss: 0.004156377632170916\n",
      "Epoch 1000, Loss: 0.003975196275860071\n",
      "Epoch 1100, Loss: 0.0037826166953891516\n",
      "Epoch 1200, Loss: 0.0035794926807284355\n",
      "Epoch 1300, Loss: 0.003368615871295333\n",
      "Epoch 1400, Loss: 0.0031558526679873466\n",
      "Epoch 1500, Loss: 0.0029501807875931263\n",
      "Epoch 1600, Loss: 0.0027612082194536924\n",
      "Epoch 1700, Loss: 0.002594552468508482\n",
      "Epoch 1800, Loss: 0.0024488179478794336\n",
      "Epoch 1900, Loss: 0.0023272945545613766\n",
      "Epoch 2000, Loss: 0.002192623680457473\n",
      "Epoch 2100, Loss: 0.002071137074381113\n",
      "Epoch 2200, Loss: 0.0019532772712409496\n",
      "Epoch 2300, Loss: 0.0018376403022557497\n",
      "Epoch 2400, Loss: 0.0017872728640213609\n",
      "Epoch 2500, Loss: 0.0016130192670971155\n",
      "Epoch 2600, Loss: 0.0015092517714947462\n",
      "Epoch 2700, Loss: 0.0014112652279436588\n",
      "Epoch 2800, Loss: 0.0013195584760978818\n",
      "Epoch 2900, Loss: 0.0021658926270902157\n",
      "Epoch 3000, Loss: 0.0011601102305576205\n",
      "Epoch 3100, Loss: 0.0010909884003922343\n",
      "Epoch 3200, Loss: 0.001028785016387701\n",
      "Epoch 3300, Loss: 0.0009724719566293061\n",
      "Epoch 3400, Loss: 0.0009405456366948783\n",
      "Epoch 3500, Loss: 0.0008794959867373109\n",
      "Epoch 3600, Loss: 0.0020018815994262695\n",
      "Epoch 3700, Loss: 0.0007987366989254951\n",
      "Epoch 3800, Loss: 0.0007663156138733029\n",
      "Epoch 3900, Loss: 0.0007576353382319212\n",
      "Epoch 4000, Loss: 0.0007002742495387793\n",
      "Epoch 4100, Loss: 0.0006616140599362552\n",
      "Epoch 4200, Loss: 0.0006257632048800588\n",
      "Epoch 4300, Loss: 0.0006013303645886481\n",
      "Epoch 4400, Loss: 0.0005585910403169692\n",
      "Epoch 4500, Loss: 0.0005299653275869787\n",
      "Epoch 4600, Loss: 0.0010358919389545918\n",
      "Epoch 4700, Loss: 0.00046246772399172187\n",
      "Epoch 4800, Loss: 0.0004403083003126085\n",
      "Epoch 4900, Loss: 0.00040459231240674853\n",
      "Epoch 5000, Loss: 0.00037519753095693886\n",
      "Epoch 5100, Loss: 0.002212021965533495\n",
      "Epoch 5200, Loss: 0.00032277946593239903\n",
      "Epoch 5300, Loss: 0.0003076374705415219\n",
      "Epoch 5400, Loss: 0.00027765054255723953\n",
      "Epoch 5500, Loss: 0.0002585194888524711\n",
      "Epoch 5600, Loss: 0.00046905968338251114\n",
      "Epoch 5700, Loss: 0.0002789615246001631\n",
      "Epoch 5800, Loss: 0.0006978115998208523\n",
      "Epoch 5900, Loss: 0.0003076201246585697\n",
      "Epoch 6000, Loss: 0.0007003301871009171\n",
      "Epoch 6100, Loss: 0.001920337206684053\n",
      "Epoch 6200, Loss: 0.0006043958128429949\n",
      "Epoch 6300, Loss: 0.0006974741700105369\n",
      "Epoch 6400, Loss: 0.00017147185280919075\n",
      "Epoch 6500, Loss: 0.0002539973065722734\n",
      "Epoch 6600, Loss: 0.0011709461687132716\n",
      "Epoch 6700, Loss: 0.00016154948389157653\n",
      "Epoch 6800, Loss: 0.0002641836181282997\n",
      "Epoch 6900, Loss: 0.00015989782696124166\n",
      "Epoch 7000, Loss: 0.000112849724246189\n",
      "Epoch 7100, Loss: 0.00012636215251404792\n",
      "Epoch 7200, Loss: 0.0005888070445507765\n",
      "Epoch 7300, Loss: 8.425279520452023e-05\n",
      "Epoch 7400, Loss: 0.0002807486162055284\n",
      "Epoch 7500, Loss: 0.00048445415450260043\n",
      "Epoch 7600, Loss: 0.00020541338017210364\n",
      "Epoch 7700, Loss: 0.0002138055133400485\n",
      "Epoch 7800, Loss: 0.0007277255062945187\n",
      "Epoch 7900, Loss: 0.00011488620657473803\n",
      "Epoch 8000, Loss: 0.00074157485505566\n",
      "Epoch 8100, Loss: 0.0004041199281346053\n",
      "Epoch 8200, Loss: 5.675341162714176e-05\n",
      "Epoch 8300, Loss: 0.0005107822944410145\n",
      "Epoch 8400, Loss: 0.11271607875823975\n",
      "Epoch 8500, Loss: 0.025272633880376816\n",
      "Epoch 8600, Loss: 0.01799897849559784\n",
      "Epoch 8700, Loss: 0.013255704194307327\n",
      "Epoch 8800, Loss: 0.009743528440594673\n",
      "Epoch 8900, Loss: 0.007261480204761028\n",
      "Epoch 9000, Loss: 0.005675705149769783\n",
      "Epoch 9100, Loss: 0.004672100767493248\n",
      "Epoch 9200, Loss: 0.003998130094259977\n",
      "Epoch 9300, Loss: 0.0035135301295667887\n",
      "Epoch 9400, Loss: 0.0031456726137548685\n",
      "Epoch 9500, Loss: 0.0028557972982525826\n",
      "Epoch 9600, Loss: 0.0026204960886389017\n",
      "Epoch 9700, Loss: 0.002424087841063738\n",
      "Epoch 9800, Loss: 0.0022548395209014416\n",
      "Epoch 9900, Loss: 0.0021028430201113224\n",
      "Final Loss: 0.35035645961761475\n"
     ]
    }
   ],
   "source": [
    "# Training loop\n",
    "num_epochs = 10000\n",
    "losses = []\n",
    "\n",
    "\n",
    "\n",
    "sample_n = 20\n",
    "x = generate_latin_hypercube_samples(sample_n, [0,L], [0,T]) # Latin Hypercube sample\n",
    "\n",
    "sample_points = x.copy()\n",
    "\n",
    "for epoch in range(num_epochs):\n",
    "    \n",
    "    model, opt_state, loss_value = train_step(model, opt_state, func, x, L, T, sigma1, a, b, steps=20)\n",
    "    if epoch % 100 == 0:\n",
    "        #x = generate_latin_hypercube_samples(sample_n, [0,L], [0,T]) # Latin Hypercube sample\n",
    "        sample_points = jnp.vstack((sample_points, x))\n",
    "        losses.append(loss_value)\n",
    "        print(f\"Epoch {epoch}, Loss: {loss_value}\")\n",
    "\n",
    "\n",
    "    # if epoch % 1000 == 0:\n",
    "    #     lr *= 0.4\n",
    "    #     optimizer = optax.adam(learning_rate=lr)\n",
    "    #     opt_state = optimizer.init(model)  # Re-initialize optimizer state with new learning rate\n",
    "\n",
    "        \n",
    "\n",
    "# Print final loss\n",
    "x = generate_latin_hypercube_samples(sample_n, [0,L], [0,T]) # Latin Hypercube sample\n",
    "final_loss = loss(model, func, x, L, T, sigma1, a, b, steps=20)\n",
    "print(f\"Final Loss: {final_loss}\")"
   ]
  },
  {
   "cell_type": "code",
   "execution_count": 395,
   "metadata": {},
   "outputs": [
    {
     "data": {
      "image/png": "[encoded data removed]",
      "text/plain": [
       "<Figure size 640x480 with 1 Axes>"
      ]
     },
     "metadata": {},
     "output_type": "display_data"
    }
   ],
   "source": [
    "plt.plot(losses)\n",
    "plt.yscale('log')\n",
    "plt.xlabel('Epoch x100')\n",
    "plt.ylabel('Loss')\n",
    "plt.title('Loss Evolution')\n",
    "plt.show()"
   ]
  },
  {
   "cell_type": "code",
   "execution_count": 396,
   "metadata": {},
   "outputs": [],
   "source": [
    "# batch = generate_latin_hypercube_samples(10*sample_n, [0,L], [0,T]) "
   ]
  },
  {
   "cell_type": "code",
   "execution_count": 401,
   "metadata": {},
   "outputs": [
    {
     "name": "stdout",
     "output_type": "stream",
     "text": [
      "1.3540798\n",
      "6.0045237e-05\n",
      "0.0014277137\n",
      "0.00024486976\n"
     ]
    }
   ],
   "source": [
    "print(pde_loss(model, func, batch,  sigma1=sigma1))\n",
    "print(in_loss(model, func, T, sigma1, a))\n",
    "print(out_loss(model, func, T, sigma1,  b))\n",
    "print(time_loss(model, L))"
   ]
  },
  {
   "cell_type": "code",
   "execution_count": 402,
   "metadata": {},
   "outputs": [
    {
     "data": {
      "image/png": "[encoded data removed]",
      "text/plain": [
       "<Figure size 800x600 with 2 Axes>"
      ]
     },
     "metadata": {},
     "output_type": "display_data"
    }
   ],
   "source": [
    "n_points = 200\n",
    "x = jnp.linspace(0, L, n_points)\n",
    "t = jnp.linspace(0, T, n_points)\n",
    "X_grid, T_grid = jnp.meshgrid(x, t)\n",
    "inputs = jnp.stack((X_grid.flatten(), T_grid.flatten()), axis=-1)\n",
    "\n",
    "outputs = jax.vmap(model)(inputs)\n",
    "outputs = outputs.reshape(n_points, n_points)\n",
    "\n",
    "plt.figure(figsize=(8, 6))\n",
    "plt.contourf(X_grid, T_grid, outputs, levels=50, cmap='viridis')\n",
    "plt.colorbar(label='Network Output')\n",
    "plt.xlabel('x')\n",
    "plt.ylabel('t')\n",
    "plt.title('Heatmap of Neural Network Output')\n",
    "plt.show()"
   ]
  },
  {
   "cell_type": "code",
   "execution_count": 403,
   "metadata": {},
   "outputs": [
    {
     "data": {
      "image/png": "[encoded data removed]",
      "text/plain": [
       "<Figure size 640x480 with 1 Axes>"
      ]
     },
     "metadata": {},
     "output_type": "display_data"
    }
   ],
   "source": [
    "plt.plot(outputs[0], label='t = 0')\n",
    "plt.plot(outputs[10], label='t = 8')\n",
    "plt.plot(outputs[20], label='t = 16')\n",
    "plt.plot(outputs[30], label='t = 24')\n",
    "plt.plot(outputs[200], label='t = 49')\n",
    "#plt.ylim([0.3, 0.7])\n",
    "plt.legend()\n",
    "plt.show()"
   ]
  },
  {
   "cell_type": "code",
   "execution_count": 404,
   "metadata": {},
   "outputs": [
    {
     "data": {
      "image/png": "[encoded data removed]",
      "text/plain": [
       "<Figure size 640x480 with 1 Axes>"
      ]
     },
     "metadata": {},
     "output_type": "display_data"
    }
   ],
   "source": [
    "plt.plot(outputs.T[0], label='x = 0')\n",
    "plt.plot(outputs.T[24], label='x = 24')\n",
    "plt.plot(outputs.T[49], label='x = 49')\n",
    "plt.legend()\n",
    "plt.show()"
   ]
  },
  {
   "cell_type": "code",
   "execution_count": 311,
   "metadata": {},
   "outputs": [
    {
     "data": {
      "text/plain": [
       "200"
      ]
     },
     "execution_count": 311,
     "metadata": {},
     "output_type": "execute_result"
    }
   ],
   "source": [
    "len(outputs)"
   ]
  },
  {
   "cell_type": "code",
   "execution_count": null,
   "metadata": {},
   "outputs": [],
   "source": []
  }
 ],
 "metadata": {
  "kernelspec": {
   "display_name": "venv",
   "language": "python",
   "name": "python3"
  },
  "language_info": {
   "codemirror_mode": {
    "name": "ipython",
    "version": 3
   },
   "file_extension": ".py",
   "mimetype": "text/x-python",
   "name": "python",
   "nbconvert_exporter": "python",
   "pygments_lexer": "ipython3",
   "version": "3.12.4"
  }
 },
 "nbformat": 4,
 "nbformat_minor": 2
}
