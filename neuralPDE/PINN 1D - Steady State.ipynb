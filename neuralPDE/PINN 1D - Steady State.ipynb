{
 "cells": [
  {
   "cell_type": "code",
   "execution_count": 1,
   "metadata": {},
   "outputs": [],
   "source": [
    "# Idea inspired by https://arxiv.org/abs/1806.07366 (?)"
   ]
  },
  {
   "cell_type": "markdown",
   "metadata": {},
   "source": [
    "\n",
    "Given our problem:\n",
    "\n",
    "$$\n",
    "\\frac{\\partial \\rho}{\\partial t} = \\sigma_1 \\frac{\\partial^2 \\rho}{\\partial x_1^2} - \\frac{\\partial \\rho}{\\partial x_1} \\left(v_m(1-2\\rho) \\right)\n",
    "$$\n",
    "\n",
    "$$\n",
    "\\sigma_1 \\frac{\\partial \\rho}{\\partial x_1} - \\rho v_m(1-\\rho) = -a (\\rho_{max} - \\rho) \\quad x = 0 \n",
    "$$\n",
    "\n",
    "$$\n",
    "-\\sigma_1 \\frac{\\partial \\rho}{\\partial x_1} + \\rho v_m(1-\\rho)= b \\rho \\quad x = L\n",
    "$$"
   ]
  },
  {
   "cell_type": "markdown",
   "metadata": {},
   "source": [
    "At steady-state:\n",
    "\n",
    "$$\n",
    "\\frac{\\partial \\rho}{\\partial t} = 0\n",
    "$$\n",
    "\n",
    "And so\n",
    "$$\n",
    "\\sigma_1 \\frac{\\partial^2 \\rho}{\\partial x_1^2} - \\frac{\\partial \\rho}{\\partial x_1} \\left(v_m(1-2\\rho) \\right) = 0\n",
    "$$"
   ]
  },
  {
   "cell_type": "code",
   "execution_count": 412,
   "metadata": {},
   "outputs": [],
   "source": [
    "import numpy as np\n",
    "import matplotlib.pyplot as plt\n",
    "import jax\n",
    "import jax.numpy as jnp\n",
    "import equinox as eqx\n",
    "\n",
    "import optax\n",
    "\n",
    "import timeit\n",
    "\n",
    "from scipy.stats import qmc"
   ]
  },
  {
   "cell_type": "code",
   "execution_count": 413,
   "metadata": {},
   "outputs": [],
   "source": [
    "model_key = jax.random.PRNGKey(1)\n",
    "\n",
    "input_dim = 'scalar'\n",
    "output_dim = 'scalar'\n",
    "\n",
    "layers_size = 10\n",
    "n_layers = 1\n",
    "\n",
    "model = eqx.nn.MLP(in_size=input_dim, out_size=output_dim, width_size=layers_size, depth=n_layers,\n",
    "                    activation=jax.nn.sigmoid, use_final_bias=False, key=model_key)"
   ]
  },
  {
   "cell_type": "code",
   "execution_count": 414,
   "metadata": {},
   "outputs": [],
   "source": [
    "# Example batch input\n",
    "\n",
    "batch_input_data = jnp.array([\n",
    "    [1.0, 2.0],\n",
    "    [3.0, 4.0],\n",
    "    [5.0, 6.0]\n",
    "])"
   ]
  },
  {
   "cell_type": "code",
   "execution_count": 415,
   "metadata": {},
   "outputs": [],
   "source": [
    "def cosine_spacing(start, end, steps):\n",
    "    linspace = jnp.linspace(0, jnp.pi, steps)\n",
    "    cosine_values = (1 - jnp.cos(linspace))/2  # This maps the values to [0, 1]\n",
    "    return start + (end - start) * cosine_values"
   ]
  },
  {
   "cell_type": "code",
   "execution_count": 416,
   "metadata": {},
   "outputs": [
    {
     "data": {
      "text/plain": [
       "Array(11.915622, dtype=float32)"
      ]
     },
     "execution_count": 416,
     "metadata": {},
     "output_type": "execute_result"
    }
   ],
   "source": [
    "loss(model, sigma2, L, a, b)"
   ]
  },
  {
   "cell_type": "code",
   "execution_count": 417,
   "metadata": {},
   "outputs": [],
   "source": [
    "def custom_activation(y):\n",
    "    # Ensure the input is within the valid range to avoid domain errors\n",
    "    y = jnp.clip(y, -0.99, 0.99)\n",
    "    return 0.5 * jnp.log((1 + y) / (1+jnp.abs(1 - y)))"
   ]
  },
  {
   "cell_type": "code",
   "execution_count": 953,
   "metadata": {},
   "outputs": [],
   "source": [
    "# Define a Multilayer Perceptron\n",
    "\n",
    "class MLP(eqx.Module):\n",
    "    layers: list  # Type annotation indicating that layers is a list. Needed to work properly.\n",
    "\n",
    "\n",
    "    def __init__(self, key, input_dim, hidden_dims, n_layers, output_dim):\n",
    "        \"\"\"Define the MLP\n",
    "\n",
    "        Args:\n",
    "            key (jax key): Random Jey\n",
    "            input_dim (int): Input layer dimension\n",
    "            hidden_dims (int): Hidden layers dimension\n",
    "            n_layers (_type_): Number of hidden layers\n",
    "            output_dim (_type_): Output layer dimension\n",
    "        \"\"\"\n",
    "\n",
    "\n",
    "        \n",
    "        # jax handle random number generation in a different way. Favoring reproducibility.\n",
    "        # This gives each layer a rnd initialization.\n",
    "        keys = jax.random.split(key, n_layers + 1)\n",
    "        \n",
    "        dims = [input_dim] + [hidden_dims] * n_layers + [output_dim]\n",
    "        self.layers = [eqx.nn.Linear(dims[i], dims[i + 1], key=keys[i]) for i in range(len(dims) - 1)]\n",
    "\n",
    "    \n",
    "    def __call__(self, x):\n",
    "        \"\"\"Forward-pass the input through the network\n",
    "\n",
    "        Args:\n",
    "            x (jnp.array): Input\n",
    "\n",
    "        Returns:\n",
    "            jnp.array: NN output\n",
    "        \"\"\"\n",
    "        for layer in self.layers[:-1]:\n",
    "            x = jax.nn.gelu(layer(x))\n",
    "        \n",
    "        x = self.layers[-1](x)\n",
    "        return x"
   ]
  },
  {
   "cell_type": "code",
   "execution_count": 954,
   "metadata": {},
   "outputs": [],
   "source": [
    "class ResNet(eqx.Module):\n",
    "    layers: list  # Type annotation indicating that layers is a list. Needed to work properly.\n",
    "\n",
    "    def __init__(self, key, input_dim, hidden_dims, n_layers, output_dim):\n",
    "        \"\"\"Define the ResNet\n",
    "\n",
    "        Args:\n",
    "            key (jax key): Random Key\n",
    "            input_dim (int): Input layer dimension\n",
    "            hidden_dims (int): Hidden layers dimension\n",
    "            n_layers (int): Number of hidden layers\n",
    "            output_dim (int): Output layer dimension\n",
    "        \"\"\"\n",
    "        # jax handle random number generation in a different way. Favoring reproducibility.\n",
    "        # This gives each layer a rnd initialization.\n",
    "        keys = jax.random.split(key, n_layers + 1)\n",
    "        \n",
    "        dims = [input_dim] + [hidden_dims] * n_layers + [output_dim]\n",
    "        self.layers = [eqx.nn.Linear(dims[i], dims[i + 1], key=keys[i]) for i in range(len(dims) - 1)]\n",
    "\n",
    "    def __call__(self, x):\n",
    "        \"\"\"Forward-pass the input through the network with residual connections\n",
    "\n",
    "        Args:\n",
    "            x (jnp.array): Input\n",
    "\n",
    "        Returns:\n",
    "            jnp.array: NN output\n",
    "        \"\"\"\n",
    "        for i, layer in enumerate(self.layers[:-1]):\n",
    "            if i % 2 == 0 and i != 0:\n",
    "                x = x + prev_x  # Add the previous input for residual connection\n",
    "            prev_x = x\n",
    "            x = jax.nn.sigmoid(layer(x))\n",
    "        \n",
    "        x = self.layers[-1](x)\n",
    "        return x"
   ]
  },
  {
   "cell_type": "code",
   "execution_count": 955,
   "metadata": {},
   "outputs": [],
   "source": [
    "sigma2 = 0.5**2\n",
    "\n",
    "L = 3.0\n",
    "\n",
    "\n",
    "a = 0.2\n",
    "b = 0.4\n",
    "\n",
    "v_max = 1.5\n",
    "p_max = 1 # rho_max cannot be learned Susana's paper"
   ]
  },
  {
   "cell_type": "code",
   "execution_count": 956,
   "metadata": {},
   "outputs": [],
   "source": [
    "def loss(model, sigma2, L, a, b, steps=50):\n",
    "\n",
    "    x_flat = cosine_spacing(0, L, steps)\n",
    "    inputs = jnp.concat([x_flat, jnp.array([0.0]), jnp.array([L])])\n",
    "    \n",
    "\n",
    "    rho, grad = jax.vmap(jax.value_and_grad(model))(inputs)\n",
    "    hess = jax.vmap(jax.hessian(model))(inputs)\n",
    "\n",
    "    dp_dx = grad\n",
    "    d2p_dx2 = hess\n",
    "\n",
    "    # PDE Loss\n",
    "    pde_loss = sigma2*d2p_dx2 - dp_dx*(v_max*(1-2*rho))\n",
    "\n",
    "    # in loss\n",
    "    in_loss = sigma2*dp_dx[-2] - rho[-2]*v_max*(1-rho[-2]) + a*(1-rho[-2])\n",
    "\n",
    "    # out loss\n",
    "    out_loss = -sigma2*dp_dx[-1] + rho[-1]*v_max*(1-rho[-1]) - b*rho[-1]\n",
    "\n",
    "    return jnp.average(pde_loss**2) + in_loss**2 + out_loss**2\n"
   ]
  },
  {
   "cell_type": "code",
   "execution_count": 957,
   "metadata": {},
   "outputs": [],
   "source": [
    "@eqx.filter_jit # decorator that applies Just-in-time compilation just to the relevant parts. Improves performance.\n",
    "def train_step(model, opt_state, L, sigma2, a, b, steps=20):\n",
    "    loss_value, grads = jax.value_and_grad(loss)(model, sigma2, L, a, b) # Compute the loss and gradient\n",
    "    updates, opt_state = optimizer.update(grads, opt_state) # Apply the backward propagation\n",
    "    model = eqx.apply_updates(model, updates) # Update the NN\n",
    "    return model, opt_state, loss_value"
   ]
  },
  {
   "cell_type": "code",
   "execution_count": 958,
   "metadata": {},
   "outputs": [],
   "source": [
    "# Erros < 1e-9\n",
    "# Adam: 20.3\n",
    "# Adabelief: 18.6\n",
    "# adamax: 21\n",
    "# noisy_sgd: 4.3\n",
    "# optimistic_gradient_descent: 6.6\n",
    "# SGD: 5.9\n"
   ]
  },
  {
   "cell_type": "code",
   "execution_count": 962,
   "metadata": {},
   "outputs": [],
   "source": [
    "# Initialize the model with multiple hidden layers and scalar output layer\n",
    "model_key = jax.random.PRNGKey(1)\n",
    "\n",
    "input_dim = 'scalar'\n",
    "output_dim = 'scalar'\n",
    "\n",
    "model = MLP(model_key, input_dim=input_dim, hidden_dims=5, n_layers=4, output_dim=output_dim)"
   ]
  },
  {
   "cell_type": "code",
   "execution_count": 963,
   "metadata": {},
   "outputs": [],
   "source": [
    "# Optimizer definition\n",
    "lr = 10e-3\n",
    "optimizer = optax.noisy_sgd(learning_rate=lr)\n",
    "opt_state = optimizer.init(model)\n",
    "opt = 'sgd'"
   ]
  },
  {
   "cell_type": "code",
   "execution_count": 964,
   "metadata": {},
   "outputs": [
    {
     "name": "stdout",
     "output_type": "stream",
     "text": [
      "Epoch 100, Loss: 0.00924824457615614\n",
      "Epoch 200, Loss: 0.008978904224932194\n",
      "Epoch 300, Loss: 0.008688758127391338\n",
      "Epoch 400, Loss: 0.00836840458214283\n",
      "Epoch 500, Loss: 0.007961655035614967\n",
      "Epoch 600, Loss: 0.007534362841397524\n",
      "Epoch 700, Loss: 0.006953750271350145\n",
      "Epoch 800, Loss: 0.006389047484844923\n",
      "Epoch 900, Loss: 0.005789699964225292\n",
      "Epoch 1000, Loss: 0.005241962615400553\n",
      "Epoch 1100, Loss: 0.004626616835594177\n",
      "Epoch 1200, Loss: 0.004090557806193829\n",
      "Epoch 1300, Loss: 0.003684521187096834\n",
      "Epoch 1400, Loss: 0.0033631916157901287\n",
      "Epoch 1500, Loss: 0.003175162710249424\n",
      "Epoch 1600, Loss: 0.003056094516068697\n",
      "Epoch 1700, Loss: 0.0029986731242388487\n",
      "Epoch 1800, Loss: 0.0029719704762101173\n",
      "Epoch 1900, Loss: 0.0029508541338145733\n",
      "Epoch 2000, Loss: 0.0029329052194952965\n",
      "Epoch 2100, Loss: 0.0029201211873441935\n",
      "Epoch 2200, Loss: 0.0029134266078472137\n",
      "Epoch 2300, Loss: 0.0028982828371226788\n",
      "Epoch 2400, Loss: 0.0028829292859882116\n",
      "Epoch 2500, Loss: 0.0028626807034015656\n",
      "Epoch 2600, Loss: 0.002844275673851371\n",
      "Epoch 2700, Loss: 0.0028332804795354605\n",
      "Epoch 2800, Loss: 0.00282105291262269\n",
      "Epoch 2900, Loss: 0.0028069268446415663\n",
      "Epoch 3000, Loss: 0.002786521799862385\n",
      "Epoch 3100, Loss: 0.002772056730464101\n",
      "Epoch 3200, Loss: 0.002762729534879327\n",
      "Epoch 3300, Loss: 0.0027455470990389585\n",
      "Epoch 3400, Loss: 0.002732224762439728\n",
      "Epoch 3500, Loss: 0.0027229299303144217\n",
      "Epoch 3600, Loss: 0.002716868417337537\n",
      "Epoch 3700, Loss: 0.002707919804379344\n",
      "Epoch 3800, Loss: 0.0026972396299242973\n",
      "Epoch 3900, Loss: 0.0026944181881844997\n",
      "Epoch 4000, Loss: 0.0026883124373853207\n",
      "Epoch 4100, Loss: 0.002673679031431675\n",
      "Epoch 4200, Loss: 0.0026660251896828413\n",
      "Epoch 4300, Loss: 0.0026554197538644075\n",
      "Epoch 4400, Loss: 0.002645970555022359\n",
      "Epoch 4500, Loss: 0.002633758122101426\n",
      "Epoch 4600, Loss: 0.0026231822557747364\n",
      "Epoch 4700, Loss: 0.0026131158228963614\n",
      "Epoch 4800, Loss: 0.0026027082931250334\n",
      "Epoch 4900, Loss: 0.0025971007999032736\n",
      "Epoch 5000, Loss: 0.0025925051886588335\n",
      "Epoch 5100, Loss: 0.002585224574431777\n",
      "Epoch 5200, Loss: 0.002578546991571784\n",
      "Epoch 5300, Loss: 0.00257102376781404\n",
      "Epoch 5400, Loss: 0.0025637520011514425\n",
      "Epoch 5500, Loss: 0.0025507837999612093\n",
      "Epoch 5600, Loss: 0.002537393243983388\n",
      "Epoch 5700, Loss: 0.002534397877752781\n",
      "Epoch 5800, Loss: 0.0025254026986658573\n",
      "Epoch 5900, Loss: 0.0025200084783136845\n",
      "Epoch 6000, Loss: 0.0025080570485442877\n",
      "Epoch 6100, Loss: 0.0024982187896966934\n",
      "Epoch 6200, Loss: 0.0024923300370573997\n",
      "Epoch 6300, Loss: 0.002485003788024187\n",
      "Epoch 6400, Loss: 0.002473365282639861\n",
      "Epoch 6500, Loss: 0.002467838581651449\n",
      "Epoch 6600, Loss: 0.002463103737682104\n",
      "Epoch 6700, Loss: 0.002455357229337096\n",
      "Epoch 6800, Loss: 0.002450359519571066\n",
      "Epoch 6900, Loss: 0.0024453196674585342\n",
      "Epoch 7000, Loss: 0.002441766206175089\n",
      "Epoch 7100, Loss: 0.002438022056594491\n",
      "Epoch 7200, Loss: 0.00243406486697495\n",
      "Epoch 7300, Loss: 0.0024288466665893793\n",
      "Epoch 7400, Loss: 0.0024228792171925306\n",
      "Epoch 7500, Loss: 0.0024168682284653187\n",
      "Epoch 7600, Loss: 0.00241342862136662\n",
      "Epoch 7700, Loss: 0.002407507738098502\n",
      "Epoch 7800, Loss: 0.002399907913058996\n",
      "Epoch 7900, Loss: 0.002394671319052577\n",
      "Epoch 8000, Loss: 0.002390196081250906\n",
      "Epoch 8100, Loss: 0.0023853296879678965\n",
      "Epoch 8200, Loss: 0.0023797438479959965\n",
      "Epoch 8300, Loss: 0.0023758357856422663\n",
      "Epoch 8400, Loss: 0.002372186863794923\n",
      "Epoch 8500, Loss: 0.002366261091083288\n",
      "Epoch 8600, Loss: 0.002360649174079299\n",
      "Epoch 8700, Loss: 0.00235673482529819\n",
      "Epoch 8800, Loss: 0.0023548693861812353\n",
      "Epoch 8900, Loss: 0.002352459356188774\n",
      "Epoch 9000, Loss: 0.002348299603909254\n",
      "Epoch 9100, Loss: 0.002345629269257188\n",
      "Epoch 9200, Loss: 0.0023415698669850826\n",
      "Epoch 9300, Loss: 0.002339512575417757\n",
      "Epoch 9400, Loss: 0.002335467142984271\n",
      "Epoch 9500, Loss: 0.0023336391896009445\n",
      "Epoch 9600, Loss: 0.0023304717615246773\n",
      "Epoch 9700, Loss: 0.0023279234301298857\n",
      "Epoch 9800, Loss: 0.0023250433150678873\n",
      "Epoch 9900, Loss: 0.0023229150101542473\n",
      "Epoch 10000, Loss: 0.002319459104910493\n",
      "Epoch 10100, Loss: 0.002196777844801545\n",
      "Epoch 10200, Loss: 0.002180966082960367\n",
      "Epoch 10300, Loss: 0.002169494517147541\n",
      "Epoch 10400, Loss: 0.0021440705750137568\n",
      "Epoch 10500, Loss: 0.002109645865857601\n",
      "Epoch 10600, Loss: 0.0020969901233911514\n",
      "Epoch 10700, Loss: 0.002089495537802577\n",
      "Epoch 10800, Loss: 0.0020558449905365705\n",
      "Epoch 10900, Loss: 0.00200967607088387\n",
      "Epoch 11000, Loss: 0.0019385117338970304\n",
      "Epoch 11100, Loss: 0.0011591005604714155\n",
      "Epoch 11200, Loss: 2.5011882826220244e-05\n",
      "Epoch 11300, Loss: 1.5166492630669381e-05\n",
      "Epoch 11400, Loss: 1.0402879524917807e-05\n",
      "Epoch 11500, Loss: 7.57351972424658e-06\n",
      "Epoch 11600, Loss: 5.816022621729644e-06\n",
      "Epoch 11700, Loss: 4.637682650354691e-06\n",
      "Epoch 11800, Loss: 3.787701189139625e-06\n",
      "Epoch 11900, Loss: 3.1433453386853216e-06\n",
      "Epoch 12000, Loss: 2.6394513952254783e-06\n",
      "Epoch 12100, Loss: 2.2362555682775564e-06\n",
      "Epoch 12200, Loss: 2.0186471374472603e-06\n",
      "Epoch 12300, Loss: 1.6516364667040762e-06\n",
      "Epoch 12400, Loss: 2.2310030090011423e-06\n",
      "Epoch 12500, Loss: 1.2646671621041605e-06\n",
      "Epoch 12600, Loss: 1.1388182201699237e-06\n",
      "Epoch 12700, Loss: 1.0003692523241625e-06\n",
      "Epoch 12800, Loss: 6.878921794850612e-06\n",
      "Epoch 12900, Loss: 8.159818207786884e-07\n",
      "Epoch 13000, Loss: 3.557633817763417e-06\n",
      "Epoch 13100, Loss: 6.909259582243976e-07\n",
      "Epoch 13200, Loss: 6.279602757786051e-07\n",
      "Epoch 13300, Loss: 6.450057981055579e-07\n",
      "Epoch 13400, Loss: 5.45673117358092e-07\n",
      "Epoch 13500, Loss: 4.105620064365212e-06\n",
      "Epoch 13600, Loss: 4.84691952351568e-07\n",
      "Epoch 13700, Loss: 4.5531228920481226e-07\n",
      "Epoch 13800, Loss: 4.7252541435227613e-07\n",
      "Epoch 13900, Loss: 4.1600171130085073e-07\n",
      "Epoch 14000, Loss: 2.7489970761962468e-06\n",
      "Epoch 14100, Loss: 3.884412080878974e-07\n",
      "Epoch 14200, Loss: 3.6624859944822674e-07\n",
      "Epoch 14300, Loss: 5.287442377266416e-07\n",
      "Epoch 14400, Loss: 3.436626343500393e-07\n",
      "Epoch 14500, Loss: 3.3015422218340973e-07\n",
      "Epoch 14600, Loss: 3.60502980356614e-07\n",
      "Epoch 14700, Loss: 3.1219735774357105e-07\n",
      "Epoch 14800, Loss: 3.041019454030902e-07\n",
      "Epoch 14900, Loss: 2.9716969152104866e-07\n",
      "Epoch 15000, Loss: 2.8558775966303074e-07\n",
      "Epoch 15100, Loss: 3.3703858548506105e-07\n",
      "Epoch 15200, Loss: 2.718764164910681e-07\n",
      "Epoch 15300, Loss: 2.654201125551481e-07\n",
      "Epoch 15400, Loss: 2.759880430858175e-07\n",
      "Epoch 15500, Loss: 2.510160754809476e-07\n",
      "Epoch 15600, Loss: 3.150142674712697e-06\n",
      "Epoch 15700, Loss: 2.3957218786563317e-07\n",
      "Epoch 15800, Loss: 4.148158495809184e-06\n",
      "Epoch 15900, Loss: 2.3168121288108523e-07\n",
      "Epoch 16000, Loss: 2.2204626759503299e-07\n",
      "Epoch 16100, Loss: 2.470136166721204e-07\n",
      "Epoch 16200, Loss: 2.122588114161772e-07\n",
      "Epoch 16300, Loss: 8.481523764203303e-06\n",
      "Epoch 16400, Loss: 2.0392660360357695e-07\n",
      "Epoch 16500, Loss: 1.9768513936924137e-07\n",
      "Epoch 16600, Loss: 4.1699345842971525e-07\n",
      "Epoch 16700, Loss: 1.897036412401576e-07\n",
      "Epoch 16800, Loss: 2.5679185000626603e-07\n",
      "Epoch 16900, Loss: 1.9103197246295167e-07\n",
      "Epoch 17000, Loss: 1.7708489963297325e-07\n",
      "Epoch 17100, Loss: 2.1506204461729794e-07\n",
      "Epoch 17200, Loss: 1.6981833539375657e-07\n",
      "Epoch 17300, Loss: 4.085129330633208e-05\n",
      "Epoch 17400, Loss: 1.6336106511971593e-07\n",
      "Epoch 17500, Loss: 1.6434479732652107e-07\n",
      "Epoch 17600, Loss: 1.6532548841041717e-07\n",
      "Epoch 17700, Loss: 1.5157900179474382e-07\n",
      "Epoch 17800, Loss: 3.4159342021666816e-07\n",
      "Epoch 17900, Loss: 1.4571634210369666e-07\n",
      "Epoch 18000, Loss: 6.102266070229234e-06\n",
      "Epoch 18100, Loss: 1.4112065116478334e-07\n",
      "Epoch 18200, Loss: 1.363157338118981e-07\n",
      "Epoch 18300, Loss: 1.3972342571832996e-07\n",
      "Epoch 18400, Loss: 1.3058024705969729e-07\n",
      "Epoch 18500, Loss: 8.844077115099935e-07\n",
      "Epoch 18600, Loss: 1.2578723840306338e-07\n",
      "Epoch 18700, Loss: 2.4940663934103213e-07\n",
      "Epoch 18800, Loss: 1.2630306400751579e-07\n",
      "Epoch 18900, Loss: 1.1770331553861979e-07\n",
      "Epoch 19000, Loss: 4.3282031469971116e-07\n",
      "Epoch 19100, Loss: 1.134250595669073e-07\n",
      "Epoch 19200, Loss: 2.278916690556798e-05\n",
      "Epoch 19300, Loss: 1.1024045676322203e-07\n",
      "Epoch 19400, Loss: 1.080029363720314e-07\n",
      "Epoch 19500, Loss: 1.1631449581273046e-07\n",
      "Epoch 19600, Loss: 1.0181596366010126e-07\n",
      "Epoch 19700, Loss: 1.813429690855628e-07\n",
      "Final Loss: 0.014382514171302319\n"
     ]
    }
   ],
   "source": [
    "# Training loop\n",
    "num_epochs = 250000\n",
    "losses = []\n",
    "\n",
    "sigma2 = 0.5**2\n",
    "loss_value = 100\n",
    "\n",
    "#for epoch in range(num_epochs):\n",
    "epoch = 0\n",
    "while loss_value > 1e-7:\n",
    "    \n",
    "    model, opt_state, loss_value = train_step(model, opt_state, L, sigma2, a, b, steps=200)\n",
    "    epoch += 1 \n",
    "\n",
    "    if epoch % 100 == 0:\n",
    "        losses.append(loss_value)\n",
    "        print(f\"Epoch {epoch}, Loss: {loss_value}\")\n",
    "\n",
    "        \n",
    "    if epoch % 10000 == 0:\n",
    "        lr *= 0.4\n",
    "        optimizer = optax.adam(learning_rate=lr)\n",
    "        opt_state = optimizer.init(model)  # Re-initialize optimizer state with new learning rate\n",
    "\n",
    "\n",
    "\n",
    "# Print final loss\n",
    "final_loss = loss(model, L, sigma2, a, b, steps=20)\n",
    "print(f\"Final Loss: {final_loss}\")"
   ]
  },
  {
   "cell_type": "code",
   "execution_count": 965,
   "metadata": {},
   "outputs": [
    {
     "data": {
      "image/png": "[encoded data removed]",
      "text/plain": [
       "<Figure size 640x480 with 1 Axes>"
      ]
     },
     "metadata": {},
     "output_type": "display_data"
    }
   ],
   "source": [
    "plt.plot(losses)\n",
    "plt.yscale('log')\n",
    "plt.xlabel('Epoch x100')\n",
    "plt.ylabel('Loss')\n",
    "plt.title('Loss Evolution')\n",
    "plt.show()"
   ]
  },
  {
   "cell_type": "code",
   "execution_count": 966,
   "metadata": {},
   "outputs": [
    {
     "data": {
      "image/png": "[encoded data removed]",
      "text/plain": [
       "<Figure size 640x480 with 1 Axes>"
      ]
     },
     "metadata": {},
     "output_type": "display_data"
    }
   ],
   "source": [
    "x_flat = jnp.linspace(0, L, 500)\n",
    "outputs = jax.vmap(model)(x_flat)\n",
    "\n",
    "plt.plot(outputs)\n",
    "#plt.plot(res_05)\n",
    "plt.ylim([0.1, 0.8])\n",
    "plt.show()"
   ]
  },
  {
   "cell_type": "code",
   "execution_count": null,
   "metadata": {},
   "outputs": [],
   "source": []
  },
  {
   "cell_type": "code",
   "execution_count": 603,
   "metadata": {},
   "outputs": [],
   "source": [
    "def extract_weights(model):\n",
    "    weights = []\n",
    "    for layer in model.layers:\n",
    "        weights.append(layer.weight.flatten())\n",
    "        weights.append(layer.bias.flatten())\n",
    "    return jnp.concatenate(weights)"
   ]
  },
  {
   "cell_type": "code",
   "execution_count": 604,
   "metadata": {},
   "outputs": [],
   "source": [
    "w_30 = extract_weights(model)"
   ]
  },
  {
   "cell_type": "code",
   "execution_count": 248,
   "metadata": {},
   "outputs": [
    {
     "data": {
      "text/plain": [
       "Array([-0.23663503,  0.04501038,  0.06011234, -1.7434026 ,  1.1453986 ,\n",
       "        0.4586092 , -0.09523066, -0.0706974 ,  0.22513817,  0.34260044,\n",
       "        0.00224442, -0.1193314 ,  0.32790342, -0.43162364,  0.14924867,\n",
       "       -0.70392615, -0.34025213, -0.0547112 ,  0.08854806,  0.1537855 ,\n",
       "       -0.06872196, -0.60784125, -0.07926098, -0.65052944,  0.3703186 ,\n",
       "        0.30363142,  0.6894678 ,  0.04675508,  0.349182  ,  0.14411794,\n",
       "        0.20980333,  0.8380722 , -0.16536091,  0.03240588], dtype=float32)"
      ]
     },
     "execution_count": 248,
     "metadata": {},
     "output_type": "execute_result"
    }
   ],
   "source": [
    "w_15"
   ]
  },
  {
   "cell_type": "code",
   "execution_count": 260,
   "metadata": {},
   "outputs": [
    {
     "data": {
      "text/plain": [
       "Array([-0.01886487, -0.07763623,  0.0682521 , -1.7322133 ,  1.0825634 ,\n",
       "        0.5454949 , -0.19751894, -0.07382164,  0.31850702,  0.3293328 ,\n",
       "       -0.12012529,  0.00620866,  0.1894416 , -0.37295517,  0.19061677,\n",
       "       -0.6517513 , -0.3476283 ,  0.02140443,  0.04122147,  0.13946979,\n",
       "       -0.154498  , -0.6596227 , -0.1045586 , -0.7436725 ,  0.39917564,\n",
       "        0.29935205,  0.7526574 ,  0.05942841,  0.37012112,  0.14889094,\n",
       "        0.27526522,  0.8802568 , -0.24536434,  0.04323521], dtype=float32)"
      ]
     },
     "execution_count": 260,
     "metadata": {},
     "output_type": "execute_result"
    }
   ],
   "source": [
    "w_14"
   ]
  },
  {
   "cell_type": "code",
   "execution_count": 272,
   "metadata": {},
   "outputs": [
    {
     "data": {
      "text/plain": [
       "Array([-0.70581836, -0.21816447,  0.3103594 , -1.3245158 ,  2.0237687 ,\n",
       "        0.46241713, -1.0231875 ,  0.12140357,  0.47472465,  0.37860808,\n",
       "       -1.0041484 ,  1.2586603 , -0.32091677, -0.88251716,  0.4564254 ,\n",
       "       -0.40795338, -0.31685358, -0.16866374, -0.7281786 ,  0.4279303 ,\n",
       "       -0.03598702, -1.2421377 ,  0.18442698, -0.39214852,  1.0480672 ,\n",
       "        0.51951706,  2.0311275 ,  0.24034218,  0.576844  ,  0.12072784,\n",
       "        2.1704063 ,  1.200612  , -1.1574608 ,  0.1300677 ], dtype=float32)"
      ]
     },
     "execution_count": 272,
     "metadata": {},
     "output_type": "execute_result"
    }
   ],
   "source": [
    "w_10"
   ]
  },
  {
   "cell_type": "code",
   "execution_count": 291,
   "metadata": {},
   "outputs": [
    {
     "data": {
      "text/plain": [
       "Array([ 0.85398746,  0.9974071 ,  0.27375442, -2.4042788 , -0.8012333 ,\n",
       "        0.615171  , -0.37599793, -0.02460134,  0.5619073 ,  0.2229701 ,\n",
       "       -0.469443  , -0.37401405,  0.21095343, -0.6522791 ,  0.15386069,\n",
       "       -0.5644705 ,  0.12027179,  0.11973571,  0.18166065, -0.0159424 ,\n",
       "       -0.13871405, -0.4915764 , -0.2519924 , -0.9823736 ,  0.7459361 ,\n",
       "        0.18463553,  1.2154721 ,  0.09624726,  0.39142776,  0.21628962,\n",
       "        0.33447614,  0.96043116,  0.5631767 ,  0.06246009], dtype=float32)"
      ]
     },
     "execution_count": 291,
     "metadata": {},
     "output_type": "execute_result"
    }
   ],
   "source": [
    "w_20"
   ]
  },
  {
   "cell_type": "code",
   "execution_count": 345,
   "metadata": {},
   "outputs": [
    {
     "data": {
      "text/plain": [
       "Array([[1.        , 0.7528726 , 0.712824  , 0.39555433],\n",
       "       [0.7528726 , 0.9999999 , 0.98825145, 0.6991485 ],\n",
       "       [0.712824  , 0.98825145, 1.        , 0.6722142 ],\n",
       "       [0.39555433, 0.6991485 , 0.6722142 , 1.        ]], dtype=float32)"
      ]
     },
     "execution_count": 345,
     "metadata": {},
     "output_type": "execute_result"
    }
   ],
   "source": [
    "jnp.corrcoef(jnp.stack((w_10, w_14, w_15, w_20)))"
   ]
  },
  {
   "cell_type": "code",
   "execution_count": 605,
   "metadata": {},
   "outputs": [
    {
     "data": {
      "image/png": "[encoded data removed]",
      "text/plain": [
       "<Figure size 640x480 with 1 Axes>"
      ]
     },
     "metadata": {},
     "output_type": "display_data"
    }
   ],
   "source": [
    "plt.plot(w_10, label = '1.0')\n",
    "plt.plot(w_14, label = '1.4')\n",
    "plt.plot(w_15, label = '1.5')\n",
    "plt.plot(w_20, label = '2.0')\n",
    "plt.plot(w_30, label = '3.0')\n",
    "\n",
    "plt.legend()\n",
    "plt.show()"
   ]
  },
  {
   "cell_type": "code",
   "execution_count": null,
   "metadata": {},
   "outputs": [],
   "source": []
  },
  {
   "cell_type": "code",
   "execution_count": null,
   "metadata": {},
   "outputs": [],
   "source": []
  },
  {
   "cell_type": "code",
   "execution_count": null,
   "metadata": {},
   "outputs": [],
   "source": []
  },
  {
   "cell_type": "code",
   "execution_count": 265,
   "metadata": {},
   "outputs": [],
   "source": [
    "def get_weights(model):\n",
    "    weights = []\n",
    "    for layer in model.layers:\n",
    "        weights.append(layer.weight)\n",
    "    return weights"
   ]
  },
  {
   "cell_type": "code",
   "execution_count": 274,
   "metadata": {},
   "outputs": [
    {
     "data": {
      "text/plain": [
       "[Array([[-0.5893153 ],\n",
       "        [-0.65002257]], dtype=float32),\n",
       " Array([[ 2.015867  , -3.0652652 ],\n",
       "        [ 0.94027215, -1.4652383 ]], dtype=float32),\n",
       " Array([[-0.3792793 , -1.5083473 ],\n",
       "        [-0.3230125 ,  0.47585058]], dtype=float32),\n",
       " Array([[0.19262725, 0.6272823 ]], dtype=float32)]"
      ]
     },
     "execution_count": 274,
     "metadata": {},
     "output_type": "execute_result"
    }
   ],
   "source": [
    "trained_weights = get_weights(model)\n",
    "trained_weights"
   ]
  },
  {
   "cell_type": "code",
   "execution_count": 273,
   "metadata": {},
   "outputs": [
    {
     "data": {
      "text/plain": [
       "[Array([[-0.10842768],\n",
       "        [-0.24311486]], dtype=float32),\n",
       " Array([[ 0.7329991 , -0.50644493],\n",
       "        [ 1.5691452 , -1.0729849 ]], dtype=float32),\n",
       " Array([[-0.7466465 , -0.15541852],\n",
       "        [-0.6989294 ,  0.32326072]], dtype=float32),\n",
       " Array([[0.2821968, 0.8004125]], dtype=float32)]"
      ]
     },
     "execution_count": 273,
     "metadata": {},
     "output_type": "execute_result"
    }
   ],
   "source": [
    "trained_weights_20"
   ]
  },
  {
   "cell_type": "code",
   "execution_count": null,
   "metadata": {},
   "outputs": [],
   "source": []
  },
  {
   "cell_type": "code",
   "execution_count": null,
   "metadata": {},
   "outputs": [],
   "source": []
  },
  {
   "cell_type": "code",
   "execution_count": null,
   "metadata": {},
   "outputs": [],
   "source": []
  },
  {
   "cell_type": "markdown",
   "metadata": {},
   "source": [
    "Ideia de distancia: Mede a distancia entre cada uma das matrizes. Coloque esses valores num vetor e meça a distancia euclidiana desse vetor. Pode colocar um peso para cada posição do vetor, sendo quando mais para a entrada, maior o peso, já que a parada se propaga, mas não tenho certeza se é necessário."
   ]
  },
  {
   "cell_type": "code",
   "execution_count": 68,
   "metadata": {},
   "outputs": [],
   "source": [
    "import jax.numpy as jnp\n",
    "\n",
    "def sum_squared_differences(list1, list2):\n",
    "    \"\"\"\n",
    "    Calculate the sum of squared differences element-wise for two lists of jnp.arrays.\n",
    "\n",
    "    Parameters:\n",
    "    list1 (list of jnp.array): First list of arrays.\n",
    "    list2 (list of jnp.array): Second list of arrays.\n",
    "\n",
    "    Returns:\n",
    "    float: Sum of squared differences.\n",
    "    \"\"\"\n",
    "    if len(list1) != len(list2):\n",
    "        raise ValueError(\"Both lists must have the same length\")\n",
    "    \n",
    "    total_sum = 0.0\n",
    "    for arr1, arr2 in zip(list1, list2):\n",
    "        total_sum += jnp.sum((arr1 - arr2) ** 2)\n",
    "    \n",
    "    return total_sum\n"
   ]
  },
  {
   "cell_type": "code",
   "execution_count": null,
   "metadata": {},
   "outputs": [],
   "source": []
  }
 ],
 "metadata": {
  "kernelspec": {
   "display_name": "venv",
   "language": "python",
   "name": "python3"
  },
  "language_info": {
   "codemirror_mode": {
    "name": "ipython",
    "version": 3
   },
   "file_extension": ".py",
   "mimetype": "text/x-python",
   "name": "python",
   "nbconvert_exporter": "python",
   "pygments_lexer": "ipython3",
   "version": "3.12.4"
  }
 },
 "nbformat": 4,
 "nbformat_minor": 2
}
