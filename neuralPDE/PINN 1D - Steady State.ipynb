{
 "cells": [
  {
   "cell_type": "code",
   "execution_count": 1,
   "metadata": {},
   "outputs": [],
   "source": [
    "# Idea inspired by https://arxiv.org/abs/1806.07366 (?)"
   ]
  },
  {
   "cell_type": "markdown",
   "metadata": {},
   "source": [
    "\n",
    "Given our problem:\n",
    "\n",
    "$$\n",
    "\\frac{\\partial \\rho}{\\partial t} = \\sigma_1 \\frac{\\partial^2 \\rho}{\\partial x_1^2} - \\frac{\\partial \\rho}{\\partial x_1} \\left(v_m(1-2\\rho) \\right)\n",
    "$$\n",
    "\n",
    "$$\n",
    "\\sigma_1 \\frac{\\partial \\rho}{\\partial x_1} - \\rho v_m(1-\\rho) = -a (\\rho_{max} - \\rho) \\quad x = 0 \n",
    "$$\n",
    "\n",
    "$$\n",
    "-\\sigma_1 \\frac{\\partial \\rho}{\\partial x_1} + \\rho v_m(1-\\rho)= b \\rho \\quad x = L\n",
    "$$"
   ]
  },
  {
   "cell_type": "markdown",
   "metadata": {},
   "source": [
    "At steady-state:\n",
    "\n",
    "$$\n",
    "\\frac{\\partial \\rho}{\\partial t} = 0\n",
    "$$\n",
    "\n",
    "And so\n",
    "$$\n",
    "\\sigma_1 \\frac{\\partial^2 \\rho}{\\partial x_1^2} - \\frac{\\partial \\rho}{\\partial x_1} \\left(v_m(1-2\\rho) \\right) = 0\n",
    "$$"
   ]
  },
  {
   "cell_type": "code",
   "execution_count": 2,
   "metadata": {},
   "outputs": [],
   "source": [
    "import numpy as np\n",
    "import matplotlib.pyplot as plt\n",
    "import jax\n",
    "import jax.numpy as jnp\n",
    "import equinox as eqx\n",
    "\n",
    "import optax\n",
    "\n",
    "import timeit\n",
    "\n",
    "from scipy.stats import qmc"
   ]
  },
  {
   "cell_type": "code",
   "execution_count": 3,
   "metadata": {},
   "outputs": [],
   "source": [
    "model_key = jax.random.PRNGKey(1)\n",
    "\n",
    "input_dim = 'scalar'\n",
    "output_dim = 'scalar'\n",
    "\n",
    "layers_size = 10\n",
    "n_layers = 1\n",
    "\n",
    "model = eqx.nn.MLP(in_size=input_dim, out_size=output_dim, width_size=layers_size, depth=n_layers,\n",
    "                    activation=jax.nn.sigmoid, use_final_bias=False, key=model_key)"
   ]
  },
  {
   "cell_type": "code",
   "execution_count": 54,
   "metadata": {},
   "outputs": [],
   "source": [
    "sigma2 = 0.5**2\n",
    "\n",
    "L = 3.0\n",
    "\n",
    "\n",
    "a = 0.9\n",
    "b = 0.975\n",
    "\n",
    "v_max = 2.7\n",
    "p_max = 1 # rho_max cannot be learned Susana's paper"
   ]
  },
  {
   "cell_type": "code",
   "execution_count": 55,
   "metadata": {},
   "outputs": [],
   "source": [
    "# Example batch input\n",
    "\n",
    "batch_input_data = jnp.array([\n",
    "    [1.0, 2.0],\n",
    "    [3.0, 4.0],\n",
    "    [5.0, 6.0]\n",
    "])"
   ]
  },
  {
   "cell_type": "code",
   "execution_count": 56,
   "metadata": {},
   "outputs": [],
   "source": [
    "def cosine_spacing(start, end, steps):\n",
    "    linspace = jnp.linspace(0, jnp.pi, steps)\n",
    "    cosine_values = (1 - jnp.cos(linspace))/2  # This maps the values to [0, 1]\n",
    "    return start + (end - start) * cosine_values"
   ]
  },
  {
   "cell_type": "code",
   "execution_count": 57,
   "metadata": {},
   "outputs": [],
   "source": [
    "def loss(model, sigma2, L, a, b, steps=50):\n",
    "\n",
    "    x_flat = cosine_spacing(0, L, steps)\n",
    "    inputs = jnp.concat([x_flat, jnp.array([0.0]), jnp.array([L])])\n",
    "    \n",
    "\n",
    "    rho, grad = jax.vmap(jax.value_and_grad(model))(inputs)\n",
    "    hess = jax.vmap(jax.hessian(model))(inputs)\n",
    "\n",
    "    dp_dx = grad\n",
    "    d2p_dx2 = hess\n",
    "\n",
    "    # PDE Loss\n",
    "    pde_loss = sigma2*d2p_dx2 - dp_dx*(v_max*(1-2*rho))\n",
    "\n",
    "    # in loss\n",
    "    in_loss = sigma2*dp_dx[-2] - rho[-2]*v_max*(1-rho[-2]) + a*(1-rho[-2])\n",
    "\n",
    "    # out loss\n",
    "    out_loss = -sigma2*dp_dx[-1] + rho[-1]*v_max*(1-rho[-1]) - b*rho[-1]\n",
    "\n",
    "    return jnp.average(pde_loss**2) + in_loss**2 + out_loss**2\n"
   ]
  },
  {
   "cell_type": "code",
   "execution_count": 58,
   "metadata": {},
   "outputs": [
    {
     "data": {
      "text/plain": [
       "Array(0.19105121, dtype=float32)"
      ]
     },
     "execution_count": 58,
     "metadata": {},
     "output_type": "execute_result"
    }
   ],
   "source": [
    "loss(model, sigma2, L, a, b)"
   ]
  },
  {
   "cell_type": "code",
   "execution_count": 59,
   "metadata": {},
   "outputs": [],
   "source": [
    "def custom_activation(y):\n",
    "    # Ensure the input is within the valid range to avoid domain errors\n",
    "    y = jnp.clip(y, -0.99, 0.99)\n",
    "    return 0.5 * jnp.log((1 + y) / (1+jnp.abs(1 - y)))"
   ]
  },
  {
   "cell_type": "code",
   "execution_count": 60,
   "metadata": {},
   "outputs": [],
   "source": [
    "# Define a Multilayer Perceptron\n",
    "\n",
    "class MLP(eqx.Module):\n",
    "    layers: list  # Type annotation indicating that layers is a list. Needed to work properly.\n",
    "\n",
    "\n",
    "    def __init__(self, key, input_dim, hidden_dims, n_layers, output_dim):\n",
    "        \"\"\"Define the MLP\n",
    "\n",
    "        Args:\n",
    "            key (jax key): Random Jey\n",
    "            input_dim (int): Input layer dimension\n",
    "            hidden_dims (int): Hidden layers dimension\n",
    "            n_layers (_type_): Number of hidden layers\n",
    "            output_dim (_type_): Output layer dimension\n",
    "        \"\"\"\n",
    "\n",
    "\n",
    "        \n",
    "        # jax handle random number generation in a different way. Favoring reproducibility.\n",
    "        # This gives each layer a rnd initialization.\n",
    "        keys = jax.random.split(key, n_layers + 1)\n",
    "        \n",
    "        dims = [input_dim] + [hidden_dims] * n_layers + [output_dim]\n",
    "        self.layers = [eqx.nn.Linear(dims[i], dims[i + 1], key=keys[i]) for i in range(len(dims) - 1)]\n",
    "\n",
    "    \n",
    "    def __call__(self, x):\n",
    "        \"\"\"Forward-pass the input through the network\n",
    "\n",
    "        Args:\n",
    "            x (jnp.array): Input\n",
    "\n",
    "        Returns:\n",
    "            jnp.array: NN output\n",
    "        \"\"\"\n",
    "        for layer in self.layers[:-1]:\n",
    "            x = jax.nn.mish(layer(x))\n",
    "        \n",
    "        x = self.layers[-1](x)\n",
    "        return x"
   ]
  },
  {
   "cell_type": "code",
   "execution_count": 61,
   "metadata": {},
   "outputs": [],
   "source": [
    "class ResNet(eqx.Module):\n",
    "    layers: list  # Type annotation indicating that layers is a list. Needed to work properly.\n",
    "\n",
    "    def __init__(self, key, input_dim, hidden_dims, n_layers, output_dim):\n",
    "        \"\"\"Define the ResNet\n",
    "\n",
    "        Args:\n",
    "            key (jax key): Random Key\n",
    "            input_dim (int): Input layer dimension\n",
    "            hidden_dims (int): Hidden layers dimension\n",
    "            n_layers (int): Number of hidden layers\n",
    "            output_dim (int): Output layer dimension\n",
    "        \"\"\"\n",
    "        # jax handle random number generation in a different way. Favoring reproducibility.\n",
    "        # This gives each layer a rnd initialization.\n",
    "        keys = jax.random.split(key, n_layers + 1)\n",
    "        \n",
    "        dims = [input_dim] + [hidden_dims] * n_layers + [output_dim]\n",
    "        self.layers = [eqx.nn.Linear(dims[i], dims[i + 1], key=keys[i]) for i in range(len(dims) - 1)]\n",
    "\n",
    "    def __call__(self, x):\n",
    "        \"\"\"Forward-pass the input through the network with residual connections\n",
    "\n",
    "        Args:\n",
    "            x (jnp.array): Input\n",
    "\n",
    "        Returns:\n",
    "            jnp.array: NN output\n",
    "        \"\"\"\n",
    "        for i, layer in enumerate(self.layers[:-1]):\n",
    "            if i % 2 == 0 and i != 0:\n",
    "                x = x + prev_x  # Add the previous input for residual connection\n",
    "            prev_x = x\n",
    "            x = jax.nn.sigmoid(layer(x))\n",
    "        \n",
    "        x = self.layers[-1](x)\n",
    "        return x"
   ]
  },
  {
   "cell_type": "code",
   "execution_count": 62,
   "metadata": {},
   "outputs": [],
   "source": [
    "@eqx.filter_jit # decorator that applies Just-in-time compilation just to the relevant parts. Improves performance.\n",
    "def train_step(model, opt_state, L, sigma2, a, b, steps=20):\n",
    "    loss_value, grads = jax.value_and_grad(loss)(model, sigma2, L, a, b) # Compute the loss and gradient\n",
    "    updates, opt_state = optimizer.update(grads, opt_state) # Apply the backward propagation\n",
    "    model = eqx.apply_updates(model, updates) # Update the NN\n",
    "    return model, opt_state, loss_value"
   ]
  },
  {
   "cell_type": "code",
   "execution_count": 63,
   "metadata": {},
   "outputs": [],
   "source": [
    "# Initialize the model with multiple hidden layers and scalar output layer\n",
    "model_key = jax.random.PRNGKey(1)\n",
    "\n",
    "input_dim = 'scalar'\n",
    "output_dim = 'scalar'\n",
    "\n",
    "model = MLP(model_key, input_dim=input_dim, hidden_dims=4, n_layers=4, output_dim=output_dim)"
   ]
  },
  {
   "cell_type": "code",
   "execution_count": 72,
   "metadata": {},
   "outputs": [],
   "source": [
    "# Optimizer definition\n",
    "lr = 10e-4\n",
    "optimizer = optax.adam(learning_rate=lr)\n",
    "opt_state = optimizer.init(model)"
   ]
  },
  {
   "cell_type": "code",
   "execution_count": 73,
   "metadata": {},
   "outputs": [
    {
     "name": "stdout",
     "output_type": "stream",
     "text": [
      "Epoch 0, Loss: 0.005907747428864241\n",
      "Epoch 100, Loss: 0.0059057301841676235\n",
      "Epoch 200, Loss: 0.005904024001210928\n",
      "Epoch 300, Loss: 0.0059016430750489235\n",
      "Epoch 400, Loss: 0.005898620933294296\n",
      "Epoch 500, Loss: 0.005895446985960007\n",
      "Epoch 600, Loss: 0.005891748704016209\n",
      "Epoch 700, Loss: 0.005887725856155157\n",
      "Epoch 800, Loss: 0.005883305799216032\n",
      "Epoch 900, Loss: 0.005878622643649578\n",
      "Epoch 1000, Loss: 0.00587341096252203\n",
      "Epoch 1100, Loss: 0.005871411878615618\n",
      "Epoch 1200, Loss: 0.005869362037628889\n",
      "Epoch 1300, Loss: 0.005867019295692444\n",
      "Epoch 1400, Loss: 0.005863934755325317\n",
      "Epoch 1500, Loss: 0.005860458128154278\n",
      "Epoch 1600, Loss: 0.005856665316969156\n",
      "Epoch 1700, Loss: 0.005852490663528442\n",
      "Epoch 1800, Loss: 0.005847662687301636\n",
      "Epoch 1900, Loss: 0.005842810496687889\n",
      "Epoch 2000, Loss: 0.00583734130486846\n",
      "Epoch 2100, Loss: 0.00583510659635067\n",
      "Epoch 2200, Loss: 0.005833059083670378\n",
      "Epoch 2300, Loss: 0.005830321926623583\n",
      "Epoch 2400, Loss: 0.005827216897159815\n",
      "Epoch 2500, Loss: 0.005823501851409674\n",
      "Epoch 2600, Loss: 0.0058194794692099094\n",
      "Epoch 2700, Loss: 0.0058148871175944805\n",
      "Epoch 2800, Loss: 0.00580996461212635\n",
      "Epoch 2900, Loss: 0.005804710555821657\n",
      "Epoch 3000, Loss: 0.005799010396003723\n",
      "Epoch 3100, Loss: 0.005796254612505436\n",
      "Epoch 3200, Loss: 0.005793149583041668\n",
      "Epoch 3300, Loss: 0.005789122078567743\n",
      "Epoch 3400, Loss: 0.005784492939710617\n",
      "Epoch 3500, Loss: 0.005779051687568426\n",
      "Epoch 3600, Loss: 0.0057729631662368774\n",
      "Epoch 3700, Loss: 0.005766363348811865\n",
      "Epoch 3800, Loss: 0.005758922081440687\n",
      "Epoch 3900, Loss: 0.005751135293394327\n",
      "Epoch 4000, Loss: 0.005743003450334072\n",
      "Epoch 4100, Loss: 0.005741520319133997\n",
      "Epoch 4200, Loss: 0.00573941133916378\n",
      "Epoch 4300, Loss: 0.0057368166744709015\n",
      "Epoch 4400, Loss: 0.005733825266361237\n",
      "Epoch 4500, Loss: 0.005730362609028816\n",
      "Epoch 4600, Loss: 0.0057265497744083405\n",
      "Epoch 4700, Loss: 0.005722399801015854\n",
      "Epoch 4800, Loss: 0.005717941094189882\n",
      "Epoch 4900, Loss: 0.005713081918656826\n",
      "Epoch 5000, Loss: 0.005707794800400734\n",
      "Epoch 5100, Loss: 0.005705106537789106\n",
      "Epoch 5200, Loss: 0.005702523048967123\n",
      "Epoch 5300, Loss: 0.005699072498828173\n",
      "Epoch 5400, Loss: 0.005694971419870853\n",
      "Epoch 5500, Loss: 0.005690304096788168\n",
      "Epoch 5600, Loss: 0.005685131065547466\n",
      "Epoch 5700, Loss: 0.0056794630363583565\n",
      "Epoch 5800, Loss: 0.005673055537045002\n",
      "Epoch 5900, Loss: 0.00566621869802475\n",
      "Epoch 6000, Loss: 0.005658830516040325\n",
      "Epoch 6100, Loss: 0.005655671935528517\n",
      "Epoch 6200, Loss: 0.005652084946632385\n",
      "Epoch 6300, Loss: 0.0056475005112588406\n",
      "Epoch 6400, Loss: 0.005642069038003683\n",
      "Epoch 6500, Loss: 0.005635783076286316\n",
      "Epoch 6600, Loss: 0.005628867540508509\n",
      "Epoch 6700, Loss: 0.005621049087494612\n",
      "Epoch 6800, Loss: 0.0056125205010175705\n",
      "Epoch 6900, Loss: 0.005603191442787647\n",
      "Epoch 7000, Loss: 0.005593102425336838\n",
      "Epoch 7100, Loss: 0.005589038133621216\n",
      "Epoch 7200, Loss: 0.005584390833973885\n",
      "Epoch 7300, Loss: 0.005578155163675547\n",
      "Epoch 7400, Loss: 0.005571004468947649\n",
      "Epoch 7500, Loss: 0.005562553182244301\n",
      "Epoch 7600, Loss: 0.005553128197789192\n",
      "Epoch 7700, Loss: 0.0055426135659217834\n",
      "Epoch 7800, Loss: 0.00553120719268918\n",
      "Epoch 7900, Loss: 0.005518506281077862\n",
      "Epoch 8000, Loss: 0.0055047147907316685\n",
      "Epoch 8100, Loss: 0.005501669831573963\n",
      "Epoch 8200, Loss: 0.005497910548001528\n",
      "Epoch 8300, Loss: 0.005493209231644869\n",
      "Epoch 8400, Loss: 0.00548756355419755\n",
      "Epoch 8500, Loss: 0.0054810247384011745\n",
      "Epoch 8600, Loss: 0.005473932716995478\n",
      "Epoch 8700, Loss: 0.005465751979500055\n",
      "Epoch 8800, Loss: 0.005456908605992794\n",
      "Epoch 8900, Loss: 0.005447242874652147\n",
      "Epoch 9000, Loss: 0.005436811596155167\n",
      "Epoch 9100, Loss: 0.005432148929685354\n",
      "Epoch 9200, Loss: 0.005426542833447456\n",
      "Epoch 9300, Loss: 0.0054191844537854195\n",
      "Epoch 9400, Loss: 0.0054106018505990505\n",
      "Epoch 9500, Loss: 0.005400733090937138\n",
      "Epoch 9600, Loss: 0.005389489699155092\n",
      "Epoch 9700, Loss: 0.0053769624792039394\n",
      "Epoch 9800, Loss: 0.005363081581890583\n",
      "Epoch 9900, Loss: 0.005347697529941797\n",
      "Epoch 10000, Loss: 0.00533084012567997\n",
      "Epoch 10100, Loss: 0.005325580947101116\n",
      "Epoch 10200, Loss: 0.00531922560185194\n",
      "Epoch 10300, Loss: 0.0053111473098397255\n",
      "Epoch 10400, Loss: 0.005301509518176317\n",
      "Epoch 10500, Loss: 0.005290296394377947\n",
      "Epoch 10600, Loss: 0.005277660675346851\n",
      "Epoch 10700, Loss: 0.0052635991014540195\n",
      "Epoch 10800, Loss: 0.00524793891236186\n",
      "Epoch 10900, Loss: 0.005230623297393322\n",
      "Epoch 11000, Loss: 0.005211574956774712\n",
      "Epoch 11100, Loss: 0.005205133929848671\n",
      "Epoch 11200, Loss: 0.005197036080062389\n",
      "Epoch 11300, Loss: 0.005186871159821749\n",
      "Epoch 11400, Loss: 0.005174561869353056\n",
      "Epoch 11500, Loss: 0.005160312168300152\n",
      "Epoch 11600, Loss: 0.005144313909113407\n",
      "Epoch 11700, Loss: 0.0051260702311992645\n",
      "Epoch 11800, Loss: 0.005105979740619659\n",
      "Epoch 11900, Loss: 0.005083663389086723\n",
      "Epoch 12000, Loss: 0.005059016868472099\n",
      "Epoch 12100, Loss: 0.005049778614193201\n",
      "Epoch 12200, Loss: 0.005037332884967327\n",
      "Epoch 12300, Loss: 0.005021382588893175\n",
      "Epoch 12400, Loss: 0.005002233665436506\n",
      "Epoch 12500, Loss: 0.004979921504855156\n",
      "Epoch 12600, Loss: 0.004954369273036718\n",
      "Epoch 12700, Loss: 0.0049254558980464935\n",
      "Epoch 12800, Loss: 0.004892842844128609\n",
      "Epoch 12900, Loss: 0.004856261424720287\n",
      "Epoch 13000, Loss: 0.004815199878066778\n",
      "Epoch 13100, Loss: 0.0048019238747656345\n",
      "Epoch 13200, Loss: 0.004783548880368471\n",
      "Epoch 13300, Loss: 0.004759776871651411\n",
      "Epoch 13400, Loss: 0.004730778280645609\n",
      "Epoch 13500, Loss: 0.004696589894592762\n",
      "Epoch 13600, Loss: 0.004656895063817501\n",
      "Epoch 13700, Loss: 0.004610722418874502\n",
      "Epoch 13800, Loss: 0.0045574200339615345\n",
      "Epoch 13900, Loss: 0.004495272412896156\n",
      "Epoch 14000, Loss: 0.004422259051352739\n",
      "Epoch 14100, Loss: 0.004395283292979002\n",
      "Epoch 14200, Loss: 0.004354303702712059\n",
      "Epoch 14300, Loss: 0.00429877545684576\n",
      "Epoch 14400, Loss: 0.004227533936500549\n",
      "Epoch 14500, Loss: 0.004137221723794937\n",
      "Epoch 14600, Loss: 0.004021812230348587\n",
      "Epoch 14700, Loss: 0.0038705840706825256\n",
      "Epoch 14800, Loss: 0.003663925686851144\n",
      "Epoch 14900, Loss: 0.00336302537471056\n",
      "Epoch 15000, Loss: 0.002884801011532545\n",
      "Epoch 15100, Loss: 0.0023218353744596243\n",
      "Epoch 15200, Loss: 0.0013213136699050665\n",
      "Epoch 15300, Loss: 0.0002515552332624793\n",
      "Epoch 15400, Loss: 7.04330814187415e-05\n",
      "Epoch 15500, Loss: 6.362036219798028e-05\n",
      "Epoch 15600, Loss: 6.135069270385429e-05\n",
      "Epoch 15700, Loss: 6.004501847201027e-05\n",
      "Epoch 15800, Loss: 5.901499753235839e-05\n",
      "Epoch 15900, Loss: 5.807530033052899e-05\n",
      "Epoch 16000, Loss: 5.716561645385809e-05\n",
      "Epoch 16100, Loss: 5.5354321375489235e-05\n",
      "Epoch 16200, Loss: 5.322204378899187e-05\n",
      "Epoch 16300, Loss: 5.098637120681815e-05\n",
      "Epoch 16400, Loss: 4.869080294156447e-05\n",
      "Epoch 16500, Loss: 4.632682976080105e-05\n",
      "Epoch 16600, Loss: 4.3877193093067035e-05\n",
      "Epoch 16700, Loss: 4.132435788051225e-05\n",
      "Epoch 16800, Loss: 3.864686004817486e-05\n",
      "Epoch 16900, Loss: 3.582073259167373e-05\n",
      "Epoch 17000, Loss: 3.282152465544641e-05\n",
      "Epoch 17100, Loss: 3.19009086524602e-05\n",
      "Epoch 17200, Loss: 3.0518509447574615e-05\n",
      "Epoch 17300, Loss: 2.8744676455971785e-05\n",
      "Epoch 17400, Loss: 2.665108877408784e-05\n",
      "Epoch 17500, Loss: 2.426404353172984e-05\n",
      "Epoch 17600, Loss: 2.160028634534683e-05\n",
      "Epoch 17700, Loss: 1.8672439182410017e-05\n",
      "Epoch 17800, Loss: 1.5541327229584567e-05\n",
      "Epoch 17900, Loss: 1.2338262422417756e-05\n",
      "Epoch 18000, Loss: 9.304340892413165e-06\n",
      "Epoch 18100, Loss: 8.491652806696948e-06\n",
      "Epoch 18200, Loss: 7.357611139013898e-06\n",
      "Epoch 18300, Loss: 6.069526989449514e-06\n",
      "Epoch 18400, Loss: 4.825784799322719e-06\n",
      "Epoch 18500, Loss: 3.7809013520018198e-06\n",
      "Epoch 18600, Loss: 3.016615892192931e-06\n",
      "Epoch 18700, Loss: 2.5213155367964646e-06\n",
      "Epoch 18800, Loss: 2.221978320449125e-06\n",
      "Epoch 18900, Loss: 2.035821808021865e-06\n",
      "Epoch 19000, Loss: 1.9051591380048194e-06\n",
      "Epoch 19100, Loss: 1.8787437738865265e-06\n",
      "Epoch 19200, Loss: 1.8516626596465358e-06\n",
      "Epoch 19300, Loss: 1.8182292933488498e-06\n",
      "Epoch 19400, Loss: 1.780875322765496e-06\n",
      "Epoch 19500, Loss: 1.7405266135028796e-06\n",
      "Epoch 19600, Loss: 1.697792981758539e-06\n",
      "Epoch 19700, Loss: 1.6532654854017892e-06\n",
      "Epoch 19800, Loss: 1.6077073041742551e-06\n",
      "Epoch 19900, Loss: 1.5611335584253538e-06\n",
      "Epoch 20000, Loss: 1.5139141851250315e-06\n",
      "Epoch 20100, Loss: 1.4975167914599297e-06\n",
      "Epoch 20200, Loss: 1.4824313439021353e-06\n",
      "Epoch 20300, Loss: 1.463449848415621e-06\n",
      "Epoch 20400, Loss: 1.4407864910026547e-06\n",
      "Epoch 20500, Loss: 1.4153783922665752e-06\n",
      "Epoch 20600, Loss: 1.387452130074962e-06\n",
      "Epoch 20700, Loss: 1.3574195918408805e-06\n",
      "Epoch 20800, Loss: 1.3255618114271783e-06\n",
      "Epoch 20900, Loss: 1.2921450434077997e-06\n",
      "Epoch 21000, Loss: 1.2573086678457912e-06\n",
      "Epoch 21100, Loss: 1.2395885278237984e-06\n",
      "Epoch 21200, Loss: 1.2236523616593331e-06\n",
      "Epoch 21300, Loss: 1.2033636949126958e-06\n",
      "Epoch 21400, Loss: 1.1793281373684295e-06\n",
      "Epoch 21500, Loss: 1.1524407454999164e-06\n",
      "Epoch 21600, Loss: 1.1231537655476131e-06\n",
      "Epoch 21700, Loss: 1.0914815220530727e-06\n",
      "Epoch 21800, Loss: 1.0583503353700507e-06\n",
      "Epoch 21900, Loss: 1.02503895504924e-06\n",
      "Epoch 22000, Loss: 9.886285852189758e-07\n",
      "Epoch 22100, Loss: 9.841262453846866e-07\n",
      "Epoch 22200, Loss: 9.781197150005028e-07\n",
      "Epoch 22300, Loss: 9.704014019007445e-07\n",
      "Epoch 22400, Loss: 9.609304925106699e-07\n",
      "Epoch 22500, Loss: 9.504928470960294e-07\n",
      "Epoch 22600, Loss: 9.388090234097035e-07\n",
      "Epoch 22700, Loss: 9.257535111828474e-07\n",
      "Epoch 22800, Loss: 9.118656976170314e-07\n",
      "Epoch 22900, Loss: 8.967622306954581e-07\n",
      "Epoch 23000, Loss: 8.809937526166323e-07\n",
      "Epoch 23100, Loss: 8.686962473802851e-07\n",
      "Epoch 23200, Loss: 8.584920010434871e-07\n",
      "Epoch 23300, Loss: 8.455372153548524e-07\n",
      "Epoch 23400, Loss: 8.299945193357416e-07\n",
      "Epoch 23500, Loss: 8.12645112091559e-07\n",
      "Epoch 23600, Loss: 7.935027497296687e-07\n",
      "Epoch 23700, Loss: 7.730293418717338e-07\n",
      "Epoch 23800, Loss: 7.513115747315169e-07\n",
      "Epoch 23900, Loss: 7.309993179660523e-07\n",
      "Epoch 24000, Loss: 7.082725232976372e-07\n",
      "Epoch 24100, Loss: 7.047979124763515e-07\n",
      "Epoch 24200, Loss: 7.014180596343067e-07\n",
      "Epoch 24300, Loss: 6.971249604248442e-07\n",
      "Epoch 24400, Loss: 6.918409098943812e-07\n",
      "Epoch 24500, Loss: 6.859126528979687e-07\n",
      "Epoch 24600, Loss: 6.791536861783243e-07\n",
      "Epoch 24700, Loss: 6.718198051203217e-07\n",
      "Epoch 24800, Loss: 6.638957756877062e-07\n",
      "Epoch 24900, Loss: 6.553966613864759e-07\n",
      "Epoch 25000, Loss: 6.463190516114992e-07\n",
      "Epoch 25100, Loss: 6.3954286133594e-07\n",
      "Epoch 25200, Loss: 6.35388801129011e-07\n",
      "Epoch 25300, Loss: 6.301321491264389e-07\n",
      "Epoch 25400, Loss: 6.23678033662145e-07\n",
      "Epoch 25500, Loss: 6.164102046568587e-07\n",
      "Epoch 25600, Loss: 6.083338917051151e-07\n",
      "Epoch 25700, Loss: 5.995797778268752e-07\n",
      "Epoch 25800, Loss: 5.900321298213385e-07\n",
      "Epoch 25900, Loss: 5.798855795546842e-07\n",
      "Epoch 26000, Loss: 5.693658522432088e-07\n",
      "Epoch 26100, Loss: 5.646887188959226e-07\n",
      "Epoch 26200, Loss: 5.613303528662072e-07\n",
      "Epoch 26300, Loss: 5.569114591708058e-07\n",
      "Epoch 26400, Loss: 5.52001381493028e-07\n",
      "Epoch 26500, Loss: 5.463948014039488e-07\n",
      "Epoch 26600, Loss: 5.401310545494198e-07\n",
      "Epoch 26700, Loss: 5.334637762643979e-07\n",
      "Epoch 26800, Loss: 5.263188995741075e-07\n",
      "Epoch 26900, Loss: 5.190577212488279e-07\n",
      "Epoch 27000, Loss: 5.120515425005578e-07\n",
      "Epoch 27100, Loss: 5.1076955287499e-07\n",
      "Epoch 27200, Loss: 5.085040015728737e-07\n",
      "Epoch 27300, Loss: 5.05858395172254e-07\n",
      "Epoch 27400, Loss: 5.028066425438737e-07\n",
      "Epoch 27500, Loss: 4.991549076294177e-07\n",
      "Epoch 27600, Loss: 4.952344170305878e-07\n",
      "Epoch 27700, Loss: 4.908578716822376e-07\n",
      "Epoch 27800, Loss: 4.861190632254875e-07\n",
      "Epoch 27900, Loss: 4.811288931705349e-07\n",
      "Epoch 28000, Loss: 4.75709015290704e-07\n",
      "Epoch 28100, Loss: 4.71506155008683e-07\n",
      "Epoch 28200, Loss: 4.6924654384383757e-07\n",
      "Epoch 28300, Loss: 4.6581243395849015e-07\n",
      "Epoch 28400, Loss: 4.620647473529971e-07\n",
      "Epoch 28500, Loss: 4.5798759629178676e-07\n",
      "Epoch 28600, Loss: 4.53273969469592e-07\n",
      "Epoch 28700, Loss: 4.4824585643254977e-07\n",
      "Epoch 28800, Loss: 4.4315530089988897e-07\n",
      "Epoch 28900, Loss: 4.3723275666707195e-07\n",
      "Epoch 29000, Loss: 4.3119578663208813e-07\n",
      "Epoch 29100, Loss: 4.3000628124900686e-07\n",
      "Epoch 29200, Loss: 4.2803409883163113e-07\n",
      "Epoch 29300, Loss: 4.257463217527402e-07\n",
      "Epoch 29400, Loss: 4.22951444534192e-07\n",
      "Epoch 29500, Loss: 4.2000297639788187e-07\n",
      "Epoch 29600, Loss: 4.224704071020824e-07\n",
      "Epoch 29700, Loss: 4.141199099194637e-07\n",
      "Epoch 29800, Loss: 4.102582522591547e-07\n",
      "Epoch 29900, Loss: 4.0665102574166667e-07\n",
      "Final Loss: 0.07508745789527893\n"
     ]
    }
   ],
   "source": [
    "# Training loop\n",
    "num_epochs = 30000\n",
    "losses = []\n",
    "\n",
    "sigma2 = 0.5**2\n",
    "sigma2_target = 0.1\n",
    "n_sigma = int(num_epochs/100)\n",
    "i = 0\n",
    "ss = jnp.linspace(sigma2,sigma2_target, n_sigma)\n",
    "\n",
    "for epoch in range(num_epochs):\n",
    "    \n",
    "    model, opt_state, loss_value = train_step(model, opt_state, L, sigma2, a, b, steps=200)\n",
    "\n",
    "    if epoch % 100 == 0:\n",
    "        losses.append(loss_value)\n",
    "        print(f\"Epoch {epoch}, Loss: {loss_value}\")\n",
    "        i += 1\n",
    "        #sigma2 = ss[i]\n",
    "        \n",
    "    if epoch % 1000 == 0:\n",
    "        lr *= 0.4\n",
    "        optimizer = optax.adam(learning_rate=lr)\n",
    "        opt_state = optimizer.init(model)  # Re-initialize optimizer state with new learning rate\n",
    "\n",
    "\n",
    "\n",
    "# Print final loss\n",
    "final_loss = loss(model, L, sigma2, a, b, steps=20)\n",
    "print(f\"Final Loss: {final_loss}\")"
   ]
  },
  {
   "cell_type": "code",
   "execution_count": 74,
   "metadata": {},
   "outputs": [
    {
     "data": {
      "image/png": "[encoded data removed]",
      "text/plain": [
       "<Figure size 640x480 with 1 Axes>"
      ]
     },
     "metadata": {},
     "output_type": "display_data"
    }
   ],
   "source": [
    "plt.plot(losses)\n",
    "plt.yscale('log')\n",
    "plt.xlabel('Epoch x100')\n",
    "plt.ylabel('Loss')\n",
    "plt.title('Loss Evolution')\n",
    "plt.show()"
   ]
  },
  {
   "cell_type": "code",
   "execution_count": 68,
   "metadata": {},
   "outputs": [],
   "source": [
    "#res_05 = outputs"
   ]
  },
  {
   "cell_type": "code",
   "execution_count": 75,
   "metadata": {},
   "outputs": [
    {
     "data": {
      "image/png": "[encoded data removed]",
      "text/plain": [
       "<Figure size 640x480 with 1 Axes>"
      ]
     },
     "metadata": {},
     "output_type": "display_data"
    }
   ],
   "source": [
    "x_flat = jnp.linspace(0, L, 500)\n",
    "outputs = jax.vmap(model)(x_flat)\n",
    "\n",
    "plt.plot(outputs)\n",
    "#plt.plot(res_05)\n",
    "plt.ylim([0.1, 0.8])\n",
    "plt.show()"
   ]
  },
  {
   "cell_type": "code",
   "execution_count": 76,
   "metadata": {},
   "outputs": [],
   "source": [
    "def get_weights(model):\n",
    "    weights = []\n",
    "    for layer in model.layers:\n",
    "        weights.append(layer.weight)\n",
    "    return weights"
   ]
  },
  {
   "cell_type": "code",
   "execution_count": 23,
   "metadata": {},
   "outputs": [
    {
     "data": {
      "text/plain": [
       "[Array([[ 1.0596178 ],\n",
       "        [-0.44736302],\n",
       "        [-0.68521196],\n",
       "        [-0.565549  ]], dtype=float32),\n",
       " Array([[-0.17298228,  0.8841624 ,  0.22569665,  0.39481416],\n",
       "        [-0.13314998, -0.18485181,  0.33994904,  0.16126776],\n",
       "        [ 0.03072917,  0.32190248,  0.58577627, -0.6250462 ],\n",
       "        [ 0.45974353,  1.1454675 ,  0.47788265,  0.70734036]],      dtype=float32),\n",
       " Array([[-0.33807167,  0.525232  ,  0.5043887 , -0.39541814],\n",
       "        [-0.6221204 ,  0.05184008, -0.12415724, -1.3920519 ],\n",
       "        [ 0.48048645,  0.4489588 ,  0.40015188, -0.36377138],\n",
       "        [ 0.18731272,  0.7513014 ,  0.8051817 ,  0.14068326]],      dtype=float32),\n",
       " Array([[-1.0861645 ,  0.3257358 , -0.66240525,  0.30426377],\n",
       "        [ 0.7262845 , -0.25629887,  0.02190049,  0.32309386],\n",
       "        [ 0.6902374 ,  0.10812131,  0.46093065,  0.4441268 ],\n",
       "        [-0.89317477,  0.74946445, -0.8695133 , -0.15031508]],      dtype=float32),\n",
       " Array([[-0.8105052 ,  0.64833456,  0.23405978, -0.7654243 ]], dtype=float32)]"
      ]
     },
     "execution_count": 23,
     "metadata": {},
     "output_type": "execute_result"
    }
   ],
   "source": [
    "#trained_weights_15 = get_weights(model)\n",
    "trained_weights_15"
   ]
  },
  {
   "cell_type": "code",
   "execution_count": 40,
   "metadata": {},
   "outputs": [
    {
     "data": {
      "text/plain": [
       "[Array([[ 0.93385595],\n",
       "        [-0.49872112],\n",
       "        [-0.776284  ],\n",
       "        [-0.5552859 ]], dtype=float32),\n",
       " Array([[-0.25801656,  0.85642326,  0.2961412 ,  0.32772648],\n",
       "        [-0.14869079, -0.3547818 ,  0.36909753,  0.1810419 ],\n",
       "        [ 0.02522978,  0.29815617,  0.64508176, -0.71165967],\n",
       "        [ 0.4599936 ,  1.1179985 ,  0.47261152,  0.7105125 ]],      dtype=float32),\n",
       " Array([[-0.3224796 ,  0.5945921 ,  0.58557475, -0.4513523 ],\n",
       "        [-0.88597256, -0.9433289 , -0.119699  , -2.097181  ],\n",
       "        [ 0.44306403,  0.45090294,  0.36492342, -0.39333257],\n",
       "        [ 0.20858665,  0.79989207,  0.89533526,  0.0964454 ]],      dtype=float32),\n",
       " Array([[-1.1069872 ,  0.11471776, -0.7876751 ,  0.28527948],\n",
       "        [ 0.86798334, -0.09788066,  0.02925325,  0.3710884 ],\n",
       "        [ 0.85265017,  0.28275466,  0.6038414 ,  0.52436644],\n",
       "        [-0.83385175,  0.4739598 , -0.93709874, -0.13281468]],      dtype=float32),\n",
       " Array([[-0.7676016 ,  0.6215346 ,  0.38430035, -1.1761361 ]], dtype=float32)]"
      ]
     },
     "execution_count": 40,
     "metadata": {},
     "output_type": "execute_result"
    }
   ],
   "source": [
    "#trained_weights_14 = get_weights(model)\n",
    "trained_weights_14"
   ]
  },
  {
   "cell_type": "code",
   "execution_count": 47,
   "metadata": {},
   "outputs": [
    {
     "ename": "ValueError",
     "evalue": "Non-hashable static arguments are not supported. An error occurred while trying to hash an object of type <class 'jaxlib.xla_extension.ArrayImpl'>, [ 1.0596178  -0.44736302 -0.68521196 -0.565549  ]. The error was:\nTypeError: unhashable type: 'jaxlib.xla_extension.ArrayImpl'\n",
     "output_type": "error",
     "traceback": [
      "\u001b[1;31m---------------------------------------------------------------------------\u001b[0m",
      "\u001b[1;31mValueError\u001b[0m                                Traceback (most recent call last)",
      "Cell \u001b[1;32mIn[47], line 1\u001b[0m\n\u001b[1;32m----> 1\u001b[0m \u001b[43mjnp\u001b[49m\u001b[38;5;241;43m.\u001b[39;49m\u001b[43mlinalg\u001b[49m\u001b[38;5;241;43m.\u001b[39;49m\u001b[43mnorm\u001b[49m\u001b[43m(\u001b[49m\u001b[43mjnp\u001b[49m\u001b[38;5;241;43m.\u001b[39;49m\u001b[43marray\u001b[49m\u001b[43m(\u001b[49m\u001b[43mtrained_weights_14\u001b[49m\u001b[43m[\u001b[49m\u001b[38;5;241;43m0\u001b[39;49m\u001b[43m]\u001b[49m\u001b[38;5;241;43m.\u001b[39;49m\u001b[43mflatten\u001b[49m\u001b[43m(\u001b[49m\u001b[43m)\u001b[49m\u001b[43m)\u001b[49m\u001b[43m,\u001b[49m\u001b[43mjnp\u001b[49m\u001b[38;5;241;43m.\u001b[39;49m\u001b[43marray\u001b[49m\u001b[43m(\u001b[49m\u001b[43mtrained_weights_15\u001b[49m\u001b[43m[\u001b[49m\u001b[38;5;241;43m0\u001b[39;49m\u001b[43m]\u001b[49m\u001b[38;5;241;43m.\u001b[39;49m\u001b[43mflatten\u001b[49m\u001b[43m(\u001b[49m\u001b[43m)\u001b[49m\u001b[43m)\u001b[49m\u001b[43m)\u001b[49m\n",
      "\u001b[1;31mValueError\u001b[0m: Non-hashable static arguments are not supported. An error occurred while trying to hash an object of type <class 'jaxlib.xla_extension.ArrayImpl'>, [ 1.0596178  -0.44736302 -0.68521196 -0.565549  ]. The error was:\nTypeError: unhashable type: 'jaxlib.xla_extension.ArrayImpl'\n"
     ]
    }
   ],
   "source": [
    "jnp.linalg.norm(jnp.array(trained_weights_14[0].flatten()),jnp.array(trained_weights_15[0].flatten()))"
   ]
  },
  {
   "cell_type": "code",
   "execution_count": 51,
   "metadata": {},
   "outputs": [
    {
     "data": {
      "text/plain": [
       "Array(0.16386926, dtype=float32)"
      ]
     },
     "execution_count": 51,
     "metadata": {},
     "output_type": "execute_result"
    }
   ],
   "source": [
    "jnp.sqrt(jnp.sum((trained_weights_14[0]-trained_weights_15[0])**2))"
   ]
  },
  {
   "cell_type": "code",
   "execution_count": 52,
   "metadata": {},
   "outputs": [
    {
     "data": {
      "text/plain": [
       "Array(0.24541287, dtype=float32)"
      ]
     },
     "execution_count": 52,
     "metadata": {},
     "output_type": "execute_result"
    }
   ],
   "source": [
    "jnp.sqrt(jnp.sum((trained_weights_14[1]-trained_weights_15[1])**2))"
   ]
  },
  {
   "cell_type": "code",
   "execution_count": 53,
   "metadata": {},
   "outputs": [
    {
     "data": {
      "text/plain": [
       "Array(1.2603164, dtype=float32)"
      ]
     },
     "execution_count": 53,
     "metadata": {},
     "output_type": "execute_result"
    }
   ],
   "source": [
    "jnp.sqrt(jnp.sum((trained_weights_14[2]-trained_weights_15[2])**2))"
   ]
  },
  {
   "cell_type": "code",
   "execution_count": 77,
   "metadata": {},
   "outputs": [
    {
     "data": {
      "text/plain": [
       "[Array([[ 1.1848702 ],\n",
       "        [-0.56646764],\n",
       "        [-1.6314828 ],\n",
       "        [-0.7950644 ]], dtype=float32),\n",
       " Array([[ 0.22652012,  0.72692746, -0.47854367,  0.75541484],\n",
       "        [ 0.29648235, -0.3059581 , -0.44507766,  0.7146783 ],\n",
       "        [-0.9584553 ,  0.6519268 , -0.6531801 ,  5.8594813 ],\n",
       "        [ 0.5406875 ,  1.0317189 , -0.55976593,  0.8633731 ]],      dtype=float32),\n",
       " Array([[ 0.03487471,  0.647956  , -0.20573185,  0.46085098],\n",
       "        [-0.42881837,  0.3406453 ,  0.20427062, -0.45131075],\n",
       "        [ 0.8984702 ,  0.22545823,  0.36466193,  0.7261899 ],\n",
       "        [ 0.47540715,  0.5470714 ,  0.43285576,  0.87255955]],      dtype=float32),\n",
       " Array([[-1.627454  ,  1.402595  , -1.2911488 , -0.54125017],\n",
       "        [ 1.218107  , -0.8811902 , -0.56896275,  0.2706774 ],\n",
       "        [ 1.2518961 , -1.0385354 ,  0.30759665,  0.74126923],\n",
       "        [-0.73179704,  0.8235996 , -0.34580424, -0.5061834 ]],      dtype=float32),\n",
       " Array([[-2.1027176 ,  0.4244722 ,  0.15616556, -1.3405079 ]], dtype=float32)]"
      ]
     },
     "execution_count": 77,
     "metadata": {},
     "output_type": "execute_result"
    }
   ],
   "source": [
    "#trained_weights_27 = get_weights(model)\n",
    "trained_weights_27"
   ]
  },
  {
   "cell_type": "code",
   "execution_count": 78,
   "metadata": {},
   "outputs": [
    {
     "data": {
      "text/plain": [
       "Array(0.98892874, dtype=float32)"
      ]
     },
     "execution_count": 78,
     "metadata": {},
     "output_type": "execute_result"
    }
   ],
   "source": [
    "jnp.sqrt(jnp.sum((trained_weights_27[0]-trained_weights_15[0])**2))"
   ]
  },
  {
   "cell_type": "code",
   "execution_count": 79,
   "metadata": {},
   "outputs": [
    {
     "data": {
      "text/plain": [
       "Array(6.9082675, dtype=float32)"
      ]
     },
     "execution_count": 79,
     "metadata": {},
     "output_type": "execute_result"
    }
   ],
   "source": [
    "jnp.sqrt(jnp.sum((trained_weights_27[1]-trained_weights_15[1])**2))"
   ]
  },
  {
   "cell_type": "code",
   "execution_count": 80,
   "metadata": {},
   "outputs": [
    {
     "data": {
      "text/plain": [
       "Array(2.1721342, dtype=float32)"
      ]
     },
     "execution_count": 80,
     "metadata": {},
     "output_type": "execute_result"
    }
   ],
   "source": [
    "jnp.sqrt(jnp.sum((trained_weights_27[2]-trained_weights_15[2])**2))"
   ]
  },
  {
   "cell_type": "code",
   "execution_count": null,
   "metadata": {},
   "outputs": [],
   "source": []
  }
 ],
 "metadata": {
  "kernelspec": {
   "display_name": "venv",
   "language": "python",
   "name": "python3"
  },
  "language_info": {
   "codemirror_mode": {
    "name": "ipython",
    "version": 3
   },
   "file_extension": ".py",
   "mimetype": "text/x-python",
   "name": "python",
   "nbconvert_exporter": "python",
   "pygments_lexer": "ipython3",
   "version": "3.12.4"
  }
 },
 "nbformat": 4,
 "nbformat_minor": 2
}
