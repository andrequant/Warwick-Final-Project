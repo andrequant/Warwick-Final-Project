{
 "cells": [
  {
   "cell_type": "code",
   "execution_count": 1,
   "metadata": {},
   "outputs": [],
   "source": [
    "import numpy as np\n",
    "import matplotlib.pyplot as plt\n",
    "import jax\n",
    "import jax.numpy as jnp\n",
    "import equinox as eqx\n",
    "\n",
    "import optax\n",
    "\n",
    "import timeit\n",
    "\n",
    "from scipy.stats import qmc"
   ]
  },
  {
   "cell_type": "code",
   "execution_count": 14,
   "metadata": {},
   "outputs": [],
   "source": [
    "model_key = jax.random.PRNGKey(1)\n",
    "\n",
    "input_dim = 2\n",
    "output_dim = 'scalar'\n",
    "\n",
    "layers_size = 10\n",
    "n_layers = 1\n",
    "\n",
    "model = eqx.nn.MLP(in_size=input_dim, out_size=output_dim, width_size=layers_size, depth=n_layers,\n",
    "                    activation=jax.nn.sigmoid, use_final_bias=False, key=model_key)"
   ]
  },
  {
   "cell_type": "code",
   "execution_count": 15,
   "metadata": {},
   "outputs": [],
   "source": [
    "sigma2 = 0.5**2\n",
    "\n",
    "L = 3.0\n",
    "\n",
    "\n",
    "a = 0.9\n",
    "b = 0.975\n",
    "\n",
    "v_max = 1.5\n",
    "p_max = 1 # rho_max cannot be learned Susana's paper"
   ]
  },
  {
   "cell_type": "code",
   "execution_count": 16,
   "metadata": {},
   "outputs": [],
   "source": [
    "# Example batch input\n",
    "\n",
    "batch_input_data = jnp.array([\n",
    "    [1.0, 2.0],\n",
    "    [3.0, 4.0],\n",
    "    [5.0, 6.0]\n",
    "])"
   ]
  },
  {
   "cell_type": "code",
   "execution_count": 17,
   "metadata": {},
   "outputs": [
    {
     "data": {
      "text/plain": [
       "Array([-0.7031001 , -0.69159174, -0.7158083 ], dtype=float32)"
      ]
     },
     "execution_count": 17,
     "metadata": {},
     "output_type": "execute_result"
    }
   ],
   "source": [
    "jax.vmap(model)(batch_input_data)"
   ]
  },
  {
   "cell_type": "code",
   "execution_count": 18,
   "metadata": {},
   "outputs": [],
   "source": [
    "def cosine_spacing(start, end, steps):\n",
    "    linspace = jnp.linspace(0, jnp.pi, steps)\n",
    "    cosine_values = (1 - jnp.cos(linspace))/2  # This maps the values to [0, 1]\n",
    "    return start + (end - start) * cosine_values"
   ]
  },
  {
   "cell_type": "code",
   "execution_count": 19,
   "metadata": {},
   "outputs": [],
   "source": [
    "import itertools"
   ]
  },
  {
   "cell_type": "code",
   "execution_count": 20,
   "metadata": {},
   "outputs": [],
   "source": [
    "    x_flat = cosine_spacing(0, 5, 10)\n",
    "    vm_flat = jnp.linspace(1, 3, 10)\n",
    "\n",
    "    inputs = jnp.array(list(itertools.product(x_flat, vm_flat)))"
   ]
  },
  {
   "cell_type": "code",
   "execution_count": 21,
   "metadata": {},
   "outputs": [
    {
     "data": {
      "text/plain": [
       "Array([1.       , 1.2222222, 1.4444444, 1.6666667, 1.888889 , 2.1111112,\n",
       "       2.3333333, 2.5555558, 2.777778 , 3.       , 1.       , 1.2222222,\n",
       "       1.4444444, 1.6666667, 1.888889 , 2.1111112, 2.3333333, 2.5555558,\n",
       "       2.777778 , 3.       , 1.       , 1.2222222, 1.4444444, 1.6666667,\n",
       "       1.888889 , 2.1111112, 2.3333333, 2.5555558, 2.777778 , 3.       ,\n",
       "       1.       , 1.2222222, 1.4444444, 1.6666667, 1.888889 , 2.1111112,\n",
       "       2.3333333, 2.5555558, 2.777778 , 3.       , 1.       , 1.2222222,\n",
       "       1.4444444, 1.6666667, 1.888889 , 2.1111112, 2.3333333, 2.5555558,\n",
       "       2.777778 , 3.       , 1.       , 1.2222222, 1.4444444, 1.6666667,\n",
       "       1.888889 , 2.1111112, 2.3333333, 2.5555558, 2.777778 , 3.       ,\n",
       "       1.       , 1.2222222, 1.4444444, 1.6666667, 1.888889 , 2.1111112,\n",
       "       2.3333333, 2.5555558, 2.777778 , 3.       , 1.       , 1.2222222,\n",
       "       1.4444444, 1.6666667, 1.888889 , 2.1111112, 2.3333333, 2.5555558,\n",
       "       2.777778 , 3.       , 1.       , 1.2222222, 1.4444444, 1.6666667,\n",
       "       1.888889 , 2.1111112, 2.3333333, 2.5555558, 2.777778 , 3.       ,\n",
       "       1.       , 1.2222222, 1.4444444, 1.6666667, 1.888889 , 2.1111112,\n",
       "       2.3333333, 2.5555558, 2.777778 , 3.       ], dtype=float32)"
      ]
     },
     "execution_count": 21,
     "metadata": {},
     "output_type": "execute_result"
    }
   ],
   "source": [
    "inputs[:,1]"
   ]
  },
  {
   "cell_type": "code",
   "execution_count": 122,
   "metadata": {},
   "outputs": [],
   "source": [
    "def loss(model, sigma2, L, a, b, steps=50):\n",
    "\n",
    "    x_flat = cosine_spacing(0, L, steps)\n",
    "    x_flat = jnp.concat([x_flat, jnp.array([0.0]), jnp.array([L])])\n",
    "    vm_flat = jnp.linspace(1, 2, 10)\n",
    "\n",
    "    inputs = jnp.array(list(itertools.product(x_flat, vm_flat)))\n",
    "    \n",
    "\n",
    "    rho, grad = jax.vmap(jax.value_and_grad(model))(inputs)\n",
    "    hess = jax.vmap(jax.hessian(model))(inputs)\n",
    "\n",
    "    dp_dx = grad[:, 0]\n",
    "    d2p_dx2 = hess[:, 0, 0]\n",
    "\n",
    "    # PDE Loss\n",
    "    pde_loss = sigma2*d2p_dx2 - dp_dx*(inputs[:, 1]*(1-2*rho))\n",
    "\n",
    "    # Vm\n",
    "\n",
    "    # in loss\n",
    "    in_loss = sigma2*dp_dx[-2*steps:-steps] - rho[-2*steps:-steps]*inputs[-2*steps:-steps, 1]*(1-rho[-2*steps:-steps]) + a*(1-rho[-2*steps:-steps])\n",
    "\n",
    "    # out loss\n",
    "    out_loss = -sigma2*dp_dx[-steps:] + rho[-steps:]*inputs[-steps:, 1]*(1-rho[-steps]) - b*rho[-steps:]\n",
    "\n",
    "    return jnp.average(pde_loss**2) + jnp.average(in_loss**2) + jnp.average(out_loss**2)\n"
   ]
  },
  {
   "cell_type": "code",
   "execution_count": 123,
   "metadata": {},
   "outputs": [],
   "source": [
    "x_flat = cosine_spacing(0, L, 6)\n",
    "vm_flat = jnp.linspace(1, 3, 5)\n",
    "\n",
    "inputs = jnp.array(list(itertools.product(x_flat, vm_flat)))"
   ]
  },
  {
   "cell_type": "code",
   "execution_count": 124,
   "metadata": {},
   "outputs": [
    {
     "data": {
      "text/plain": [
       "Array([1.5, 2. ], dtype=float32)"
      ]
     },
     "execution_count": 124,
     "metadata": {},
     "output_type": "execute_result"
    }
   ],
   "source": [
    "inputs[1:3,2]"
   ]
  },
  {
   "cell_type": "code",
   "execution_count": 125,
   "metadata": {},
   "outputs": [
    {
     "data": {
      "text/plain": [
       "Array(0.03028963, dtype=float32)"
      ]
     },
     "execution_count": 125,
     "metadata": {},
     "output_type": "execute_result"
    }
   ],
   "source": [
    "loss(model, 0.5**2, 3, a,b)"
   ]
  },
  {
   "cell_type": "code",
   "execution_count": 126,
   "metadata": {},
   "outputs": [],
   "source": [
    "# Define a Multilayer Perceptron\n",
    "\n",
    "class MLP(eqx.Module):\n",
    "    layers: list  # Type annotation indicating that layers is a list. Needed to work properly.\n",
    "\n",
    "\n",
    "    def __init__(self, key, input_dim, hidden_dims, n_layers, output_dim):\n",
    "        \"\"\"Define the MLP\n",
    "\n",
    "        Args:\n",
    "            key (jax key): Random Jey\n",
    "            input_dim (int): Input layer dimension\n",
    "            hidden_dims (int): Hidden layers dimension\n",
    "            n_layers (_type_): Number of hidden layers\n",
    "            output_dim (_type_): Output layer dimension\n",
    "        \"\"\"\n",
    "\n",
    "\n",
    "        \n",
    "        # jax handle random number generation in a different way. Favoring reproducibility.\n",
    "        # This gives each layer a rnd initialization.\n",
    "        keys = jax.random.split(key, n_layers + 1)\n",
    "        \n",
    "        dims = [input_dim] + [hidden_dims] * n_layers + [output_dim]\n",
    "        self.layers = [eqx.nn.Linear(dims[i], dims[i + 1], key=keys[i]) for i in range(len(dims) - 1)]\n",
    "\n",
    "    \n",
    "    def __call__(self, x):\n",
    "        \"\"\"Forward-pass the input through the network\n",
    "\n",
    "        Args:\n",
    "            x (jnp.array): Input\n",
    "\n",
    "        Returns:\n",
    "            jnp.array: NN output\n",
    "        \"\"\"\n",
    "        for layer in self.layers[:-1]:\n",
    "            x = jax.nn.soft_sign(layer(x))\n",
    "        \n",
    "        x = self.layers[-1](x)\n",
    "        return x"
   ]
  },
  {
   "cell_type": "code",
   "execution_count": 127,
   "metadata": {},
   "outputs": [],
   "source": [
    "@eqx.filter_jit # decorator that applies Just-in-time compilation just to the relevant parts. Improves performance.\n",
    "def train_step(model, opt_state, L, sigma2, a, b, steps=20):\n",
    "    loss_value, grads = jax.value_and_grad(loss)(model, sigma2, L, a, b) # Compute the loss and gradient\n",
    "    updates, opt_state = optimizer.update(grads, opt_state) # Apply the backward propagation\n",
    "    model = eqx.apply_updates(model, updates) # Update the NN\n",
    "    return model, opt_state, loss_value"
   ]
  },
  {
   "cell_type": "code",
   "execution_count": 142,
   "metadata": {},
   "outputs": [],
   "source": [
    "# Initialize the model with multiple hidden layers and scalar output layer\n",
    "model_key = jax.random.PRNGKey(1)\n",
    "\n",
    "input_dim = 2\n",
    "output_dim = 'scalar'\n",
    "\n",
    "model = MLP(model_key, input_dim=input_dim, hidden_dims=128, n_layers=2, output_dim=output_dim)"
   ]
  },
  {
   "cell_type": "code",
   "execution_count": 143,
   "metadata": {},
   "outputs": [],
   "source": [
    "# Optimizer definition\n",
    "lr = 10e-5\n",
    "optimizer = optax.adam(learning_rate=lr)\n",
    "opt_state = optimizer.init(model)"
   ]
  },
  {
   "cell_type": "code",
   "execution_count": 144,
   "metadata": {},
   "outputs": [
    {
     "name": "stdout",
     "output_type": "stream",
     "text": [
      "Epoch 0, Loss: 1.0569422245025635\n",
      "Epoch 100, Loss: 0.0308833047747612\n",
      "Epoch 200, Loss: 0.02829347923398018\n",
      "Epoch 300, Loss: 0.027404118329286575\n",
      "Epoch 400, Loss: 0.026607859879732132\n",
      "Epoch 500, Loss: 0.02571091055870056\n",
      "Epoch 600, Loss: 0.024730341508984566\n",
      "Epoch 700, Loss: 0.02368452399969101\n",
      "Epoch 800, Loss: 0.022589728236198425\n",
      "Epoch 900, Loss: 0.021435486152768135\n",
      "Epoch 1000, Loss: 0.020174948498606682\n",
      "Epoch 1100, Loss: 0.013352634385228157\n",
      "Epoch 1200, Loss: 0.01062395516782999\n",
      "Epoch 1300, Loss: 0.009828370064496994\n",
      "Epoch 1400, Loss: 0.009442692622542381\n",
      "Epoch 1500, Loss: 0.00923257227987051\n",
      "Epoch 1600, Loss: 0.00900992751121521\n",
      "Epoch 1700, Loss: 0.00894639641046524\n",
      "Epoch 1800, Loss: 0.008942258544266224\n",
      "Epoch 1900, Loss: 0.009119532071053982\n",
      "Epoch 2000, Loss: 0.009060541167855263\n",
      "Epoch 2100, Loss: 0.009142803028225899\n",
      "Epoch 2200, Loss: 0.009087638929486275\n",
      "Epoch 2300, Loss: 0.009142681024968624\n",
      "Epoch 2400, Loss: 0.009178650565445423\n",
      "Epoch 2500, Loss: 0.009110501036047935\n",
      "Epoch 2600, Loss: 0.009141568094491959\n",
      "Epoch 2700, Loss: 0.009021325036883354\n",
      "Epoch 2800, Loss: 0.008830861188471317\n",
      "Epoch 2900, Loss: 0.00881114974617958\n",
      "Epoch 3000, Loss: 0.008807124570012093\n",
      "Epoch 3100, Loss: 0.008801661431789398\n",
      "Epoch 3200, Loss: 0.00877420138567686\n",
      "Epoch 3300, Loss: 0.008684706874191761\n",
      "Epoch 3400, Loss: 0.00863263476639986\n",
      "Epoch 3500, Loss: 0.008509975858032703\n",
      "Epoch 3600, Loss: 0.008509498089551926\n",
      "Epoch 3700, Loss: 0.008528896607458591\n",
      "Epoch 3800, Loss: 0.008513230830430984\n",
      "Epoch 3900, Loss: 0.008605760522186756\n",
      "Epoch 4000, Loss: 0.008570036850869656\n",
      "Epoch 4100, Loss: 0.008588886819779873\n",
      "Epoch 4200, Loss: 0.008600912056863308\n",
      "Epoch 4300, Loss: 0.008586879819631577\n",
      "Epoch 4400, Loss: 0.008633135817945004\n",
      "Epoch 4500, Loss: 0.00867825374007225\n",
      "Epoch 4600, Loss: 0.008560225367546082\n",
      "Epoch 4700, Loss: 0.008535877801477909\n",
      "Epoch 4800, Loss: 0.008535738103091717\n",
      "Epoch 4900, Loss: 0.008516792207956314\n",
      "Epoch 5000, Loss: 0.008473514579236507\n",
      "Epoch 5100, Loss: 0.008474201895296574\n",
      "Epoch 5200, Loss: 0.008494479581713676\n",
      "Epoch 5300, Loss: 0.0085007194429636\n",
      "Epoch 5400, Loss: 0.008533932268619537\n",
      "Epoch 5500, Loss: 0.008509980514645576\n",
      "Epoch 5600, Loss: 0.008445246145129204\n",
      "Epoch 5700, Loss: 0.008337372913956642\n",
      "Epoch 5800, Loss: 0.008294171653687954\n",
      "Epoch 5900, Loss: 0.008326450362801552\n",
      "Epoch 6000, Loss: 0.008304094895720482\n",
      "Epoch 6100, Loss: 0.008304229006171227\n",
      "Epoch 6200, Loss: 0.008337097242474556\n",
      "Epoch 6300, Loss: 0.008391967043280602\n",
      "Epoch 6400, Loss: 0.008357805199921131\n",
      "Epoch 6500, Loss: 0.008369254879653454\n",
      "Epoch 6600, Loss: 0.008358594961464405\n",
      "Epoch 6700, Loss: 0.00835596676915884\n",
      "Epoch 6800, Loss: 0.008322066627442837\n",
      "Epoch 6900, Loss: 0.008242467418313026\n",
      "Epoch 7000, Loss: 0.008151207119226456\n",
      "Epoch 7100, Loss: 0.008103174157440662\n",
      "Epoch 7200, Loss: 0.008121680468320847\n",
      "Epoch 7300, Loss: 0.008089845068752766\n",
      "Epoch 7400, Loss: 0.008056110702455044\n",
      "Epoch 7500, Loss: 0.008192802779376507\n",
      "Epoch 7600, Loss: 0.008208230137825012\n",
      "Epoch 7700, Loss: 0.008137867785990238\n",
      "Epoch 7800, Loss: 0.008007138036191463\n",
      "Epoch 7900, Loss: 0.00802268274128437\n",
      "Epoch 8000, Loss: 0.00794010329991579\n",
      "Epoch 8100, Loss: 0.007974090054631233\n",
      "Epoch 8200, Loss: 0.008037300780415535\n",
      "Epoch 8300, Loss: 0.008063611574470997\n",
      "Epoch 8400, Loss: 0.007984922267496586\n",
      "Epoch 8500, Loss: 0.007996618747711182\n",
      "Epoch 8600, Loss: 0.007949715480208397\n",
      "Epoch 8700, Loss: 0.007900295779109001\n",
      "Epoch 8800, Loss: 0.007920865900814533\n",
      "Epoch 8900, Loss: 0.007911760360002518\n",
      "Epoch 9000, Loss: 0.007899071089923382\n",
      "Epoch 9100, Loss: 0.007900509051978588\n",
      "Epoch 9200, Loss: 0.007935729809105396\n",
      "Epoch 9300, Loss: 0.00794164463877678\n",
      "Epoch 9400, Loss: 0.007955859415233135\n",
      "Epoch 9500, Loss: 0.007899383082985878\n",
      "Epoch 9600, Loss: 0.00789141096174717\n",
      "Epoch 9700, Loss: 0.008057638071477413\n",
      "Epoch 9800, Loss: 0.007866837084293365\n",
      "Epoch 9900, Loss: 0.007720700930804014\n",
      "Epoch 10000, Loss: 0.007983772084116936\n",
      "Epoch 10100, Loss: 0.008121448568999767\n",
      "Epoch 10200, Loss: 0.008053780533373356\n",
      "Epoch 10300, Loss: 0.007968454621732235\n",
      "Epoch 10400, Loss: 0.007945841178297997\n",
      "Epoch 10500, Loss: 0.007881224155426025\n",
      "Epoch 10600, Loss: 0.007850663736462593\n",
      "Epoch 10700, Loss: 0.00780305452644825\n",
      "Epoch 10800, Loss: 0.0077714161016047\n",
      "Epoch 10900, Loss: 0.007709417026489973\n",
      "Epoch 11000, Loss: 0.007650636602193117\n",
      "Epoch 11100, Loss: 0.007681616581976414\n",
      "Epoch 11200, Loss: 0.007697905879467726\n",
      "Epoch 11300, Loss: 0.0076607149094343185\n",
      "Epoch 11400, Loss: 0.007672722451388836\n",
      "Epoch 11500, Loss: 0.0076837255619466305\n",
      "Epoch 11600, Loss: 0.007693360093981028\n",
      "Epoch 11700, Loss: 0.007704304531216621\n",
      "Epoch 11800, Loss: 0.007702521048486233\n",
      "Epoch 11900, Loss: 0.00770660862326622\n",
      "Epoch 12000, Loss: 0.0076856245286762714\n",
      "Epoch 12100, Loss: 0.007715430110692978\n",
      "Epoch 12200, Loss: 0.007725067902356386\n",
      "Epoch 12300, Loss: 0.007726437412202358\n",
      "Epoch 12400, Loss: 0.007703624200075865\n",
      "Epoch 12500, Loss: 0.007700152695178986\n",
      "Epoch 12600, Loss: 0.007672879379242659\n",
      "Epoch 12700, Loss: 0.00765414210036397\n",
      "Epoch 12800, Loss: 0.00763674033805728\n",
      "Epoch 12900, Loss: 0.007650583982467651\n",
      "Epoch 13000, Loss: 0.007630599197000265\n",
      "Epoch 13100, Loss: 0.007614452857524157\n",
      "Epoch 13200, Loss: 0.007618645206093788\n",
      "Epoch 13300, Loss: 0.007641957141458988\n",
      "Epoch 13400, Loss: 0.007619030307978392\n",
      "Epoch 13500, Loss: 0.0076386937871575356\n",
      "Epoch 13600, Loss: 0.007627693936228752\n",
      "Epoch 13700, Loss: 0.007627653889358044\n",
      "Epoch 13800, Loss: 0.00761024234816432\n",
      "Epoch 13900, Loss: 0.0076143802143633366\n",
      "Epoch 14000, Loss: 0.00758403493091464\n",
      "Epoch 14100, Loss: 0.007591283414512873\n",
      "Epoch 14200, Loss: 0.007583416998386383\n",
      "Epoch 14300, Loss: 0.007572242524474859\n",
      "Epoch 14400, Loss: 0.007580977864563465\n",
      "Epoch 14500, Loss: 0.007573516573756933\n",
      "Epoch 14600, Loss: 0.007584504317492247\n",
      "Epoch 14700, Loss: 0.007585986517369747\n",
      "Epoch 14800, Loss: 0.00756673002615571\n",
      "Epoch 14900, Loss: 0.007557214703410864\n",
      "Epoch 15000, Loss: 0.007573341019451618\n",
      "Epoch 15100, Loss: 0.007582071702927351\n",
      "Epoch 15200, Loss: 0.007578491698950529\n",
      "Epoch 15300, Loss: 0.007528937421739101\n",
      "Epoch 15400, Loss: 0.007509774528443813\n",
      "Epoch 15500, Loss: 0.007484349422156811\n",
      "Epoch 15600, Loss: 0.007524407003074884\n",
      "Epoch 15700, Loss: 0.007545603439211845\n",
      "Epoch 15800, Loss: 0.007560842204838991\n",
      "Epoch 15900, Loss: 0.0075278934091329575\n",
      "Epoch 16000, Loss: 0.007504662033170462\n",
      "Epoch 16100, Loss: 0.0075044408440589905\n",
      "Epoch 16200, Loss: 0.0075048054568469524\n",
      "Epoch 16300, Loss: 0.007508056703954935\n",
      "Epoch 16400, Loss: 0.007505452260375023\n",
      "Epoch 16500, Loss: 0.007485680282115936\n",
      "Epoch 16600, Loss: 0.007477388717234135\n",
      "Epoch 16700, Loss: 0.007485696580260992\n",
      "Epoch 16800, Loss: 0.007481733337044716\n",
      "Epoch 16900, Loss: 0.007475301623344421\n",
      "Epoch 17000, Loss: 0.007453955244272947\n",
      "Epoch 17100, Loss: 0.007446144707500935\n",
      "Epoch 17200, Loss: 0.007447818759828806\n",
      "Epoch 17300, Loss: 0.007450421806424856\n",
      "Epoch 17400, Loss: 0.0074524362571537495\n",
      "Epoch 17500, Loss: 0.007456829771399498\n",
      "Epoch 17600, Loss: 0.007455197628587484\n",
      "Epoch 17700, Loss: 0.007453938480466604\n",
      "Epoch 17800, Loss: 0.007448869291692972\n",
      "Epoch 17900, Loss: 0.0074439761228859425\n",
      "Epoch 18000, Loss: 0.0074339862912893295\n",
      "Epoch 18100, Loss: 0.007428016513586044\n",
      "Epoch 18200, Loss: 0.007447897922247648\n",
      "Epoch 18300, Loss: 0.007436657324433327\n",
      "Epoch 18400, Loss: 0.007428699638694525\n",
      "Epoch 18500, Loss: 0.007422968745231628\n",
      "Epoch 18600, Loss: 0.007437541149556637\n",
      "Epoch 18700, Loss: 0.007397224195301533\n",
      "Epoch 18800, Loss: 0.007386527955532074\n",
      "Epoch 18900, Loss: 0.007388214580714703\n",
      "Epoch 19000, Loss: 0.007390274200588465\n",
      "Epoch 19100, Loss: 0.007390992250293493\n",
      "Epoch 19200, Loss: 0.007375700399279594\n",
      "Epoch 19300, Loss: 0.007367872167378664\n",
      "Epoch 19400, Loss: 0.0073822420090436935\n",
      "Epoch 19500, Loss: 0.007375744171440601\n",
      "Epoch 19600, Loss: 0.007386599201709032\n",
      "Epoch 19700, Loss: 0.007364396471530199\n",
      "Epoch 19800, Loss: 0.007360826246440411\n",
      "Epoch 19900, Loss: 0.007344539277255535\n",
      "Epoch 20000, Loss: 0.007335734087973833\n",
      "Epoch 20100, Loss: 0.007337274495512247\n",
      "Epoch 20200, Loss: 0.00734079722315073\n",
      "Epoch 20300, Loss: 0.007313056383281946\n",
      "Epoch 20400, Loss: 0.007326063234359026\n",
      "Epoch 20500, Loss: 0.007320576347410679\n",
      "Epoch 20600, Loss: 0.0073321000672876835\n",
      "Epoch 20700, Loss: 0.007315782364457846\n",
      "Epoch 20800, Loss: 0.007302601356059313\n",
      "Epoch 20900, Loss: 0.007309527602046728\n",
      "Epoch 21000, Loss: 0.007304613012820482\n",
      "Epoch 21100, Loss: 0.007298036012798548\n",
      "Epoch 21200, Loss: 0.007301139645278454\n",
      "Epoch 21300, Loss: 0.007308450061827898\n",
      "Epoch 21400, Loss: 0.007304463069885969\n",
      "Epoch 21500, Loss: 0.007295951247215271\n",
      "Epoch 21600, Loss: 0.007310545537620783\n",
      "Epoch 21700, Loss: 0.007298818789422512\n",
      "Epoch 21800, Loss: 0.007311759050935507\n",
      "Epoch 21900, Loss: 0.007278263568878174\n",
      "Epoch 22000, Loss: 0.007305953651666641\n",
      "Epoch 22100, Loss: 0.007282464299350977\n",
      "Epoch 22200, Loss: 0.007302769925445318\n",
      "Epoch 22300, Loss: 0.007263742387294769\n",
      "Epoch 22400, Loss: 0.007290489971637726\n"
     ]
    },
    {
     "ename": "KeyboardInterrupt",
     "evalue": "",
     "output_type": "error",
     "traceback": [
      "\u001b[1;31m---------------------------------------------------------------------------\u001b[0m",
      "\u001b[1;31mKeyboardInterrupt\u001b[0m                         Traceback (most recent call last)",
      "Cell \u001b[1;32mIn[144], line 8\u001b[0m\n\u001b[0;32m      3\u001b[0m losses \u001b[38;5;241m=\u001b[39m []\n\u001b[0;32m      6\u001b[0m \u001b[38;5;28;01mfor\u001b[39;00m epoch \u001b[38;5;129;01min\u001b[39;00m \u001b[38;5;28mrange\u001b[39m(num_epochs):\n\u001b[1;32m----> 8\u001b[0m     model, opt_state, loss_value \u001b[38;5;241m=\u001b[39m \u001b[43mtrain_step\u001b[49m\u001b[43m(\u001b[49m\u001b[43mmodel\u001b[49m\u001b[43m,\u001b[49m\u001b[43m \u001b[49m\u001b[43mopt_state\u001b[49m\u001b[43m,\u001b[49m\u001b[43m \u001b[49m\u001b[43mL\u001b[49m\u001b[43m,\u001b[49m\u001b[43m \u001b[49m\u001b[43msigma2\u001b[49m\u001b[43m,\u001b[49m\u001b[43m \u001b[49m\u001b[43ma\u001b[49m\u001b[43m,\u001b[49m\u001b[43m \u001b[49m\u001b[43mb\u001b[49m\u001b[43m,\u001b[49m\u001b[43m \u001b[49m\u001b[43msteps\u001b[49m\u001b[38;5;241;43m=\u001b[39;49m\u001b[38;5;241;43m50\u001b[39;49m\u001b[43m)\u001b[49m\n\u001b[0;32m     10\u001b[0m     \u001b[38;5;28;01mif\u001b[39;00m epoch \u001b[38;5;241m%\u001b[39m \u001b[38;5;241m100\u001b[39m \u001b[38;5;241m==\u001b[39m \u001b[38;5;241m0\u001b[39m:\n\u001b[0;32m     11\u001b[0m         losses\u001b[38;5;241m.\u001b[39mappend(loss_value)\n",
      "    \u001b[1;31m[... skipping hidden 3 frame]\u001b[0m\n",
      "File \u001b[1;32mc:\\Users\\andre\\OneDrive\\Documentos\\Warwick\\Individual Project\\Code\\Warwick-Final-Project\\venv\\Lib\\site-packages\\equinox\\_module.py:910\u001b[0m, in \u001b[0;36m_unflatten_module\u001b[1;34m(cls, aux, dynamic_field_values)\u001b[0m\n\u001b[0;32m    900\u001b[0m     aux \u001b[38;5;241m=\u001b[39m _FlattenedData(\n\u001b[0;32m    901\u001b[0m         \u001b[38;5;28mtuple\u001b[39m(dynamic_field_names),\n\u001b[0;32m    902\u001b[0m         \u001b[38;5;28mtuple\u001b[39m(static_field_names),\n\u001b[1;32m   (...)\u001b[0m\n\u001b[0;32m    905\u001b[0m         \u001b[38;5;28mtuple\u001b[39m(wrapper_field_values),\n\u001b[0;32m    906\u001b[0m     )\n\u001b[0;32m    907\u001b[0m     \u001b[38;5;28;01mreturn\u001b[39;00m \u001b[38;5;28mtuple\u001b[39m(dynamic_field_values), aux\n\u001b[1;32m--> 910\u001b[0m \u001b[38;5;28;01mdef\u001b[39;00m \u001b[38;5;21m_unflatten_module\u001b[39m(\u001b[38;5;28mcls\u001b[39m: \u001b[38;5;28mtype\u001b[39m[\u001b[38;5;124m\"\u001b[39m\u001b[38;5;124mModule\u001b[39m\u001b[38;5;124m\"\u001b[39m], aux: _FlattenedData, dynamic_field_values):\n\u001b[0;32m    911\u001b[0m     \u001b[38;5;66;03m# This doesn't go via `__init__`. A user may have done something nontrivial there,\u001b[39;00m\n\u001b[0;32m    912\u001b[0m     \u001b[38;5;66;03m# and the field values may be dummy values as used in various places throughout JAX.\u001b[39;00m\n\u001b[0;32m    913\u001b[0m     \u001b[38;5;66;03m# See also\u001b[39;00m\n\u001b[0;32m    914\u001b[0m     \u001b[38;5;66;03m# https://jax.readthedocs.io/en/latest/pytrees.html#custom-pytrees-and-initialization,\u001b[39;00m\n\u001b[0;32m    915\u001b[0m     \u001b[38;5;66;03m# which was (I believe) inspired by Equinox's approach here.\u001b[39;00m\n\u001b[0;32m    916\u001b[0m     module \u001b[38;5;241m=\u001b[39m \u001b[38;5;28mobject\u001b[39m\u001b[38;5;241m.\u001b[39m\u001b[38;5;21m__new__\u001b[39m(\u001b[38;5;28mcls\u001b[39m)\n\u001b[0;32m    917\u001b[0m     \u001b[38;5;28;01mfor\u001b[39;00m name, value \u001b[38;5;129;01min\u001b[39;00m \u001b[38;5;28mzip\u001b[39m(aux\u001b[38;5;241m.\u001b[39mdynamic_field_names, dynamic_field_values):\n",
      "\u001b[1;31mKeyboardInterrupt\u001b[0m: "
     ]
    }
   ],
   "source": [
    "# Training loop\n",
    "num_epochs = 30000\n",
    "losses = []\n",
    "\n",
    "\n",
    "for epoch in range(num_epochs):\n",
    "    \n",
    "    model, opt_state, loss_value = train_step(model, opt_state, L, sigma2, a, b, steps=50)\n",
    "\n",
    "    if epoch % 100 == 0:\n",
    "        losses.append(loss_value)\n",
    "        print(f\"Epoch {epoch}, Loss: {loss_value}\")\n",
    "        #sigma2 = ss[i]\n",
    "        \n",
    "    if epoch % 1000 == 0:\n",
    "        lr *= 0.4\n",
    "        optimizer = optax.adam(learning_rate=lr)\n",
    "        opt_state = optimizer.init(model)  # Re-initialize optimizer state with new learning rate\n",
    "\n",
    "\n",
    "\n",
    "# Print final loss\n",
    "final_loss = loss(model, L, sigma2, a, b, steps=20)\n",
    "print(f\"Final Loss: {final_loss}\")"
   ]
  },
  {
   "cell_type": "code",
   "execution_count": 145,
   "metadata": {},
   "outputs": [
    {
     "data": {
      "image/png": "[encoded data removed]",
      "text/plain": [
       "<Figure size 640x480 with 1 Axes>"
      ]
     },
     "metadata": {},
     "output_type": "display_data"
    }
   ],
   "source": [
    "plt.plot(losses)\n",
    "plt.yscale('log')\n",
    "plt.xlabel('Epoch x100')\n",
    "plt.ylabel('Loss')\n",
    "plt.title('Loss Evolution')\n",
    "plt.show()"
   ]
  },
  {
   "cell_type": "code",
   "execution_count": 147,
   "metadata": {},
   "outputs": [
    {
     "data": {
      "image/png": "[encoded data removed]",
      "text/plain": [
       "<Figure size 640x480 with 1 Axes>"
      ]
     },
     "metadata": {},
     "output_type": "display_data"
    },
    {
     "ename": "",
     "evalue": "",
     "output_type": "error",
     "traceback": [
      "\u001b[1;31mThe Kernel crashed while executing code in the current cell or a previous cell. \n",
      "\u001b[1;31mPlease review the code in the cell(s) to identify a possible cause of the failure. \n",
      "\u001b[1;31mClick <a href='https://aka.ms/vscodeJupyterKernelCrash'>here</a> for more info. \n",
      "\u001b[1;31mView Jupyter <a href='command:jupyter.viewOutput'>log</a> for further details."
     ]
    }
   ],
   "source": [
    "x_flat = jnp.linspace(0, L, 500)\n",
    "\n",
    "v_max = 1.5\n",
    "\n",
    "input = jnp.array([[x, v_max] for x in x_flat])\n",
    "\n",
    "outputs = jax.vmap(model)(input)\n",
    "\n",
    "plt.plot(outputs)\n",
    "\n",
    "plt.ylim([0.1, 0.8])\n",
    "plt.show()"
   ]
  },
  {
   "cell_type": "code",
   "execution_count": null,
   "metadata": {},
   "outputs": [],
   "source": []
  },
  {
   "cell_type": "code",
   "execution_count": null,
   "metadata": {},
   "outputs": [],
   "source": []
  }
 ],
 "metadata": {
  "kernelspec": {
   "display_name": "venv",
   "language": "python",
   "name": "python3"
  },
  "language_info": {
   "codemirror_mode": {
    "name": "ipython",
    "version": 3
   },
   "file_extension": ".py",
   "mimetype": "text/x-python",
   "name": "python",
   "nbconvert_exporter": "python",
   "pygments_lexer": "ipython3",
   "version": "3.12.4"
  }
 },
 "nbformat": 4,
 "nbformat_minor": 2
}
