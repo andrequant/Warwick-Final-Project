{
 "cells": [
  {
   "cell_type": "code",
   "execution_count": 4,
   "metadata": {},
   "outputs": [],
   "source": [
    "# Idea inspired by https://arxiv.org/abs/1806.07366 (?)"
   ]
  },
  {
   "cell_type": "markdown",
   "metadata": {},
   "source": [
    "\n",
    "Given our problem:\n",
    "\n",
    "$$\n",
    "\\frac{\\partial \\rho}{\\partial t} = \\sigma^2 \\frac{\\partial^2 \\rho}{\\partial x_1^2} - \\frac{\\partial \\rho}{\\partial x_1} \\left(v_m(1-2\\rho) \\right)\n",
    "$$\n",
    "\n",
    "$$\n",
    "\\sigma^2 \\frac{\\partial \\rho}{\\partial x_1} - \\rho v_m(1-\\rho) = -a (\\rho_{max} - \\rho) \\quad x = 0 \n",
    "$$\n",
    "\n",
    "$$\n",
    "-\\sigma^2 \\frac{\\partial \\rho}{\\partial x_1} + \\rho v_m(1-\\rho)= b \\rho \\quad x = L\n",
    "$$"
   ]
  },
  {
   "cell_type": "markdown",
   "metadata": {},
   "source": [
    "At steady-state:\n",
    "\n",
    "$$\n",
    "\\frac{\\partial \\rho}{\\partial t} = 0\n",
    "$$\n",
    "\n",
    "And so\n",
    "$$\n",
    "\\sigma^2 \\frac{\\partial^2 \\rho}{\\partial x_1^2} - \\frac{\\partial \\rho}{\\partial x_1} \\left(v_m(1-2\\rho) \\right) = 0\n",
    "$$"
   ]
  },
  {
   "cell_type": "code",
   "execution_count": 7,
   "metadata": {},
   "outputs": [],
   "source": [
    "import numpy as np\n",
    "import matplotlib.pyplot as plt\n",
    "import jax\n",
    "import jax.numpy as jnp\n",
    "import equinox as eqx\n",
    "\n",
    "import optax\n",
    "\n",
    "import timeit\n",
    "\n",
    "from scipy.stats import qmc"
   ]
  },
  {
   "cell_type": "code",
   "execution_count": 8,
   "metadata": {},
   "outputs": [],
   "source": [
    "model_key = jax.random.PRNGKey(1)\n",
    "\n",
    "input_dim = 'scalar'\n",
    "output_dim = 'scalar'\n",
    "\n",
    "layers_size = 10\n",
    "n_layers = 1\n",
    "\n",
    "model = eqx.nn.MLP(in_size=input_dim, out_size=output_dim, width_size=layers_size, depth=n_layers,\n",
    "                    activation=jax.nn.sigmoid, use_final_bias=False, key=model_key)"
   ]
  },
  {
   "cell_type": "code",
   "execution_count": 9,
   "metadata": {},
   "outputs": [],
   "source": [
    "# Example batch input\n",
    "\n",
    "batch_input_data = jnp.array([\n",
    "    [1.0, 2.0],\n",
    "    [3.0, 4.0],\n",
    "    [5.0, 6.0]\n",
    "])"
   ]
  },
  {
   "cell_type": "code",
   "execution_count": 10,
   "metadata": {},
   "outputs": [],
   "source": [
    "def cosine_spacing(start, end, steps):\n",
    "    linspace = jnp.linspace(0, jnp.pi, steps)\n",
    "    cosine_values = (1 - jnp.cos(linspace))/2  # This maps the values to [0, 1]\n",
    "    return start + (end - start) * cosine_values"
   ]
  },
  {
   "cell_type": "code",
   "execution_count": 11,
   "metadata": {},
   "outputs": [
    {
     "ename": "NameError",
     "evalue": "name 'loss' is not defined",
     "output_type": "error",
     "traceback": [
      "\u001b[1;31m---------------------------------------------------------------------------\u001b[0m",
      "\u001b[1;31mNameError\u001b[0m                                 Traceback (most recent call last)",
      "Cell \u001b[1;32mIn[11], line 1\u001b[0m\n\u001b[1;32m----> 1\u001b[0m \u001b[43mloss\u001b[49m(model, sigma2, L, a, b)\n",
      "\u001b[1;31mNameError\u001b[0m: name 'loss' is not defined"
     ]
    }
   ],
   "source": [
    "loss(model, sigma2, L, a, b)"
   ]
  },
  {
   "cell_type": "code",
   "execution_count": 12,
   "metadata": {},
   "outputs": [],
   "source": [
    "def custom_activation(y):\n",
    "    # Ensure the input is within the valid range to avoid domain errors\n",
    "    y = jnp.clip(y, -0.99, 0.99)\n",
    "    return 0.5 * jnp.log((1 + y) / (1+jnp.abs(1 - y)))"
   ]
  },
  {
   "cell_type": "code",
   "execution_count": 13,
   "metadata": {},
   "outputs": [
    {
     "ename": "NameError",
     "evalue": "name 'L' is not defined",
     "output_type": "error",
     "traceback": [
      "\u001b[1;31m---------------------------------------------------------------------------\u001b[0m",
      "\u001b[1;31mNameError\u001b[0m                                 Traceback (most recent call last)",
      "Cell \u001b[1;32mIn[13], line 1\u001b[0m\n\u001b[1;32m----> 1\u001b[0m x_flat \u001b[38;5;241m=\u001b[39m jnp\u001b[38;5;241m.\u001b[39mlinspace(\u001b[38;5;241m0\u001b[39m, \u001b[43mL\u001b[49m, \u001b[38;5;241m500\u001b[39m)\n\u001b[0;32m      2\u001b[0m outputs \u001b[38;5;241m=\u001b[39m jax\u001b[38;5;241m.\u001b[39mvmap(model)(x_flat)\n\u001b[0;32m      3\u001b[0m outputs\n",
      "\u001b[1;31mNameError\u001b[0m: name 'L' is not defined"
     ]
    }
   ],
   "source": [
    "x_flat = jnp.linspace(0, L, 500)\n",
    "outputs = jax.vmap(model)(x_flat)\n",
    "outputs"
   ]
  },
  {
   "cell_type": "code",
   "execution_count": 14,
   "metadata": {},
   "outputs": [],
   "source": [
    "from typing import Any, Literal, Optional, TypeVar, Union\n",
    "\n",
    "class CustomLinear(eqx.Module):\n",
    "    weight: jax.Array\n",
    "    bias: jax.Array\n",
    "    out_features: Union[int, Literal[\"scalar\"]]\n",
    "\n",
    "    \n",
    "    def __init__(self, in_features: Union[int, Literal[\"scalar\"]], out_features: Union[int, Literal[\"scalar\"]], key: jax.random.PRNGKey):\n",
    "        w_key, b_key = jax.random.split(key)\n",
    "\n",
    "        in_features_ = 1 if in_features == \"scalar\" else in_features\n",
    "        out_features_ = 1 if out_features == \"scalar\" else out_features\n",
    "\n",
    "        self.out_features = out_features\n",
    "        \n",
    "\n",
    "        self.weight = jax.random.normal(w_key, (out_features_, in_features_))\n",
    "        self.bias = jax.random.normal(b_key, (out_features_,))\n",
    "        \n",
    "    \n",
    "    def __call__(self, x: jax.Array) -> jax.Array:\n",
    "        \n",
    "        x = (jnp.dot(x, self.weight.T) + self.bias)\n",
    "        x = jnp.asarray(x, dtype=jnp.float32)  # Ensure x is a float32 JAX array\n",
    "\n",
    "        if self.out_features == 'scalar':\n",
    "            return x.squeeze()\n",
    "        else:\n",
    "            return x"
   ]
  },
  {
   "cell_type": "code",
   "execution_count": 15,
   "metadata": {},
   "outputs": [],
   "source": [
    "from equinox._module import field, Module"
   ]
  },
  {
   "cell_type": "code",
   "execution_count": 21,
   "metadata": {},
   "outputs": [],
   "source": [
    "### I basically copy the whole eqx.nn.Linear and changed to have a N(0,I) initialization\n",
    "\n",
    "\n",
    "from typing import Any, Literal, Optional, TypeVar, Union\n",
    "from jaxtyping import Array, PRNGKeyArray\n",
    "from equinox._module import field, Module\n",
    "from equinox._misc import default_floating_dtype\n",
    "from equinox._module import field, Module\n",
    "#from equinox._misc import default_init\n",
    "import math\n",
    "\n",
    "class Linear(Module, strict=True):\n",
    "    \"\"\"Performs a linear transformation.\"\"\"\n",
    "\n",
    "    weight: Array\n",
    "    bias: Optional[Array]\n",
    "    in_features: Union[int, Literal[\"scalar\"]] = field(static=True)\n",
    "    out_features: Union[int, Literal[\"scalar\"]] = field(static=True)\n",
    "    use_bias: bool = field(static=True)\n",
    "\n",
    "    def __init__(\n",
    "        self,\n",
    "        in_features: Union[int, Literal[\"scalar\"]],\n",
    "        out_features: Union[int, Literal[\"scalar\"]],\n",
    "        use_bias: bool = True,\n",
    "        dtype=None,\n",
    "        *,\n",
    "        key: PRNGKeyArray,\n",
    "    ):\n",
    "\n",
    "        dtype = default_floating_dtype() if dtype is None else dtype\n",
    "        wkey, bkey = jax.random.split(key, 2)\n",
    "        in_features_ = 1 if in_features == \"scalar\" else in_features\n",
    "        out_features_ = 1 if out_features == \"scalar\" else out_features\n",
    "        lim = 1 / math.sqrt(in_features_)\n",
    "        wshape = (out_features_, in_features_)\n",
    "        initializer = jax.nn.initializers.glorot_normal()\n",
    "        self.weight = initializer(wkey, wshape, jnp.float32)\n",
    "        bshape = (out_features_, )\n",
    "        self.bias = initializer(bkey, bshape, jnp.float32) if use_bias else None\n",
    "\n",
    "        self.in_features = in_features\n",
    "        self.out_features = out_features\n",
    "        self.use_bias = use_bias\n",
    "\n",
    "    @jax.named_scope(\"eqx.nn.Linear\")\n",
    "    def __call__(self, x: Array, *, key: Optional[PRNGKeyArray] = None) -> Array:\n",
    "        \"\"\"**Arguments:**\n",
    "\n",
    "        - `x`: The input. Should be a JAX array of shape `(in_features,)`. (Or shape\n",
    "            `()` if `in_features=\"scalar\"`.)\n",
    "        - `key`: Ignored; provided for compatibility with the rest of the Equinox API.\n",
    "            (Keyword only argument.)\n",
    "\n",
    "        !!! info\n",
    "\n",
    "            If you want to use higher order tensors as inputs (for example featuring \"\n",
    "            \"batch dimensions) then use `jax.vmap`. For example, for an input `x` of \"\n",
    "            \"shape `(batch, in_features)`, using\n",
    "            ```python\n",
    "            linear = equinox.nn.Linear(...)\n",
    "            jax.vmap(linear)(x)\n",
    "            ```\n",
    "            will produce the appropriate output of shape `(batch, out_features)`.\n",
    "\n",
    "        **Returns:**\n",
    "\n",
    "        A JAX array of shape `(out_features,)`. (Or shape `()` if\n",
    "        `out_features=\"scalar\"`.)\n",
    "        \"\"\"\n",
    "\n",
    "        if self.in_features == \"scalar\":\n",
    "            if jnp.shape(x) != ():\n",
    "                raise ValueError(\"x must have scalar shape\")\n",
    "            x = jnp.broadcast_to(x, (1,))\n",
    "        x = self.weight @ x\n",
    "        if self.bias is not None:\n",
    "            x = x + self.bias\n",
    "        if self.out_features == \"scalar\":\n",
    "            assert jnp.shape(x) == (1,)\n",
    "            x = jnp.squeeze(x)\n",
    "        return x\n"
   ]
  },
  {
   "cell_type": "code",
   "execution_count": 23,
   "metadata": {},
   "outputs": [
    {
     "data": {
      "text/plain": [
       "Array(-0.76933277, dtype=float32)"
      ]
     },
     "execution_count": 23,
     "metadata": {},
     "output_type": "execute_result"
    }
   ],
   "source": [
    "key = jax.random.key(73)\n",
    "lin = Linear('scalar', 'scalar', use_bias = False, key=key)\n",
    "lin(1)"
   ]
  },
  {
   "cell_type": "code",
   "execution_count": 18,
   "metadata": {},
   "outputs": [
    {
     "data": {
      "text/plain": [
       "Array(0.03425455, dtype=float32)"
      ]
     },
     "execution_count": 18,
     "metadata": {},
     "output_type": "execute_result"
    }
   ],
   "source": [
    "key = jax.random.key(73)\n",
    "lin = eqx.nn.Linear('scalar', 'scalar', key=key)\n",
    "lin(1)"
   ]
  },
  {
   "cell_type": "code",
   "execution_count": 24,
   "metadata": {},
   "outputs": [],
   "source": [
    "# Define a Multilayer Perceptron\n",
    "\n",
    "class MLP(eqx.Module):\n",
    "    layers: list  # Type annotation indicating that layers is a list. Needed to work properly.\n",
    "\n",
    "\n",
    "    def __init__(self, key, input_dim, hidden_dims, n_layers, output_dim):\n",
    "        \"\"\"Define the MLP\n",
    "\n",
    "        Args:\n",
    "            key (jax key): Random Jey\n",
    "            input_dim (int): Input layer dimension\n",
    "            hidden_dims (int): Hidden layers dimension\n",
    "            n_layers (_type_): Number of hidden layers\n",
    "            output_dim (_type_): Output layer dimension\n",
    "        \"\"\"\n",
    "\n",
    "\n",
    "        \n",
    "        # jax handle random number generation in a different way. Favoring reproducibility.\n",
    "        # This gives each layer a rnd initialization.\n",
    "        keys = jax.random.split(key, n_layers + 1)\n",
    "        \n",
    "        dims = [input_dim] + [hidden_dims] * n_layers + [output_dim]\n",
    "        self.layers = [Linear(dims[i], dims[i + 1], use_bias=False, key=keys[i]) for i in range(len(dims) - 1)]\n",
    "\n",
    "    \n",
    "    def __call__(self, x):\n",
    "        \"\"\"Forward-pass the input through the network\n",
    "\n",
    "        Args:\n",
    "            x (jnp.array): Input\n",
    "\n",
    "        Returns:\n",
    "            jnp.array: NN output\n",
    "        \"\"\"\n",
    "        for layer in self.layers[:-1]:\n",
    "            x = jax.nn.gelu(layer(x))\n",
    "        \n",
    "        x = self.layers[-1](x)\n",
    "        return x"
   ]
  },
  {
   "cell_type": "code",
   "execution_count": 25,
   "metadata": {},
   "outputs": [],
   "source": [
    "class ResNet(eqx.Module):\n",
    "    layers: list  # Type annotation indicating that layers is a list. Needed to work properly.\n",
    "\n",
    "    def __init__(self, key, input_dim, hidden_dims, n_layers, output_dim):\n",
    "        \"\"\"Define the ResNet\n",
    "\n",
    "        Args:\n",
    "            key (jax key): Random Key\n",
    "            input_dim (int): Input layer dimension\n",
    "            hidden_dims (int): Hidden layers dimension\n",
    "            n_layers (int): Number of hidden layers\n",
    "            output_dim (int): Output layer dimension\n",
    "        \"\"\"\n",
    "        # jax handle random number generation in a different way. Favoring reproducibility.\n",
    "        # This gives each layer a rnd initialization.\n",
    "        keys = jax.random.split(key, n_layers + 1)\n",
    "        \n",
    "        dims = [input_dim] + [hidden_dims] * n_layers + [output_dim]\n",
    "        self.layers = [eqx.nn.Linear(dims[i], dims[i + 1], key=keys[i]) for i in range(len(dims) - 1)]\n",
    "\n",
    "    def __call__(self, x):\n",
    "        \"\"\"Forward-pass the input through the network with residual connections\n",
    "\n",
    "        Args:\n",
    "            x (jnp.array): Input\n",
    "\n",
    "        Returns:\n",
    "            jnp.array: NN output\n",
    "        \"\"\"\n",
    "        for i, layer in enumerate(self.layers[:-1]):\n",
    "            if i % 2 == 0 and i != 0:\n",
    "                x = x + prev_x  # Add the previous input for residual connection\n",
    "            prev_x = x\n",
    "            x = jax.nn.sigmoid(layer(x))\n",
    "        \n",
    "        x = self.layers[-1](x)\n",
    "        return x"
   ]
  },
  {
   "cell_type": "code",
   "execution_count": 26,
   "metadata": {},
   "outputs": [],
   "source": [
    "sigma2 = 0.1**2\n",
    "\n",
    "L = 3.0\n",
    "\n",
    "\n",
    "a = 0.9\n",
    "b = 0.975\n",
    "\n",
    "v_max = 1.5\n",
    "p_max = 1.0 # rho_max cannot be learned Susana's paper"
   ]
  },
  {
   "cell_type": "code",
   "execution_count": 27,
   "metadata": {},
   "outputs": [],
   "source": [
    "def loss(model, sigma2, L, a, b, steps=50):\n",
    "\n",
    "    x_flat = cosine_spacing(0, L, steps)\n",
    "    \n",
    "    inputs = jnp.concat([x_flat, jnp.array([0.0]), jnp.array([L])])\n",
    "    \n",
    "\n",
    "    rho, grad = jax.vmap(jax.value_and_grad(model))(inputs)\n",
    "    hess = jax.vmap(jax.hessian(model))(inputs)\n",
    "\n",
    "    dp_dx = grad\n",
    "    d2p_dx2 = hess\n",
    "\n",
    "    # PDE Loss\n",
    "    pde_loss = sigma2*d2p_dx2 - dp_dx*(v_max*(1-2*rho))\n",
    "\n",
    "    # in loss\n",
    "    in_loss = sigma2*dp_dx[-2] - rho[-2]*v_max*(1-rho[-2]) + a*(1-rho[-2])\n",
    "\n",
    "    # out loss\n",
    "    out_loss = -sigma2*dp_dx[-1] + rho[-1]*v_max*(1-rho[-1]) - b*rho[-1]\n",
    "\n",
    "    return jnp.average(pde_loss**2) + in_loss**2 + out_loss**2\n"
   ]
  },
  {
   "cell_type": "code",
   "execution_count": 28,
   "metadata": {},
   "outputs": [],
   "source": [
    "def loss(model, sigma2, L, a, b, subkey, steps=50):\n",
    "\n",
    "    x_flat = cosine_spacing(0, L, steps)\n",
    "\n",
    "    ### IMPORTANT: Point in the dissertation that having a random samples greatly improve the learning\n",
    "    ### Even more, for a Sigma=0.5, a=0.9, b=0.975 and v_max = 1.5, for a NN 10x10\n",
    "    ### the deterministic learning simple got stuck and didn't progress. While the sampling case\n",
    "    ### converged quickly\n",
    "    x_flat = jax.random.choice(subkey, x_flat, shape=(int(steps/2),), replace=False)\n",
    "    \n",
    "    inputs = jnp.concat([x_flat, jnp.array([0.0]), jnp.array([L])])\n",
    "    \n",
    "    rho, grad = jax.vmap(jax.value_and_grad(model))(inputs)\n",
    "    hess = jax.vmap(jax.hessian(model))(inputs)\n",
    "\n",
    "    dp_dx = grad\n",
    "    d2p_dx2 = hess\n",
    "\n",
    "    # PDE Loss\n",
    "    pde_loss = sigma2*d2p_dx2 - dp_dx*(v_max*(1-2*rho))\n",
    "\n",
    "    # in loss\n",
    "    in_loss = sigma2*dp_dx[-2] - rho[-2]*v_max*(1-rho[-2]) + a*(1-rho[-2])\n",
    "\n",
    "    # out loss\n",
    "    out_loss = -sigma2*dp_dx[-1] + rho[-1]*v_max*(1-rho[-1]) - b*rho[-1]\n",
    "\n",
    "    return jnp.average(pde_loss**2) + in_loss**2 + out_loss**2\n"
   ]
  },
  {
   "cell_type": "code",
   "execution_count": 29,
   "metadata": {},
   "outputs": [],
   "source": [
    "@eqx.filter_jit # decorator that applies Just-in-time compilation just to the relevant parts. Improves performance.\n",
    "def train_step(model, opt_state, L, sigma2, a, b, subkey, steps=20):\n",
    "    loss_value, grads = jax.value_and_grad(loss)(model, sigma2, L, a, b, subkey, steps) # Compute the loss and gradient\n",
    "    updates, opt_state = optimizer.update(grads, opt_state) # Apply the backward propagation\n",
    "    model = eqx.apply_updates(model, updates) # Update the NN\n",
    "    return model, opt_state, loss_value"
   ]
  },
  {
   "cell_type": "code",
   "execution_count": 30,
   "metadata": {},
   "outputs": [],
   "source": [
    "# Erros < 1e-9\n",
    "# Adam: 20.3\n",
    "# Adabelief: 18.6\n",
    "# adamax: 21\n",
    "# noisy_sgd: 4.3\n",
    "# optimistic_gradient_descent: 6.6\n",
    "# SGD: 5.9\n"
   ]
  },
  {
   "cell_type": "code",
   "execution_count": 36,
   "metadata": {},
   "outputs": [],
   "source": [
    "# Initialize the model with multiple hidden layers and scalar output layer\n",
    "model_key = jax.random.PRNGKey(7)\n",
    "\n",
    "input_dim = 'scalar'\n",
    "output_dim = 'scalar'\n",
    "\n",
    "model = MLP(model_key, input_dim=input_dim, hidden_dims=3, n_layers=3, output_dim=output_dim)"
   ]
  },
  {
   "cell_type": "code",
   "execution_count": 37,
   "metadata": {},
   "outputs": [
    {
     "data": {
      "text/plain": [
       "Array(0.00055128, dtype=float32)"
      ]
     },
     "execution_count": 37,
     "metadata": {},
     "output_type": "execute_result"
    }
   ],
   "source": [
    "model(3)"
   ]
  },
  {
   "cell_type": "code",
   "execution_count": 38,
   "metadata": {},
   "outputs": [],
   "source": [
    "# Optimizer definition\n",
    "lr = 10e-3\n",
    "optimizer = optax.noisy_sgd(learning_rate=lr)\n",
    "opt_state = optimizer.init(model)\n",
    "opt = 'sgd'"
   ]
  },
  {
   "cell_type": "code",
   "execution_count": 39,
   "metadata": {},
   "outputs": [
    {
     "name": "stdout",
     "output_type": "stream",
     "text": [
      "Epoch 100, Loss: 0.7809303998947144\n",
      "Epoch 200, Loss: 0.7743561863899231\n",
      "Epoch 300, Loss: 0.76611328125\n",
      "Epoch 400, Loss: 0.7652114629745483\n",
      "Epoch 500, Loss: 0.7589778304100037\n",
      "Epoch 600, Loss: 0.7538670301437378\n",
      "Epoch 700, Loss: 0.7575355768203735\n",
      "Epoch 800, Loss: 0.7503462433815002\n",
      "Epoch 900, Loss: 0.7552298903465271\n",
      "Epoch 1000, Loss: 0.7523066997528076\n",
      "Epoch 1100, Loss: 0.753767192363739\n",
      "Epoch 1200, Loss: 0.7484390735626221\n",
      "Epoch 1300, Loss: 0.7590721249580383\n",
      "Epoch 1400, Loss: 0.7559336423873901\n",
      "Epoch 1500, Loss: 0.7585263252258301\n",
      "Epoch 1600, Loss: 0.7522767782211304\n",
      "Epoch 1700, Loss: 0.7511125206947327\n",
      "Epoch 1800, Loss: 0.7535678148269653\n",
      "Epoch 1900, Loss: 0.7461586594581604\n",
      "Epoch 2000, Loss: 0.760438084602356\n",
      "Epoch 2100, Loss: 0.749204158782959\n",
      "Epoch 2200, Loss: 0.7581216096878052\n",
      "Epoch 2300, Loss: 0.7443157434463501\n",
      "Epoch 2400, Loss: 0.7456797361373901\n",
      "Epoch 2500, Loss: 0.762159526348114\n",
      "Epoch 2600, Loss: 0.7499381899833679\n",
      "Epoch 2700, Loss: 0.7427512407302856\n",
      "Epoch 2800, Loss: 0.752648115158081\n",
      "Epoch 2900, Loss: 0.7539119720458984\n",
      "Epoch 3000, Loss: 0.753814697265625\n",
      "Epoch 3100, Loss: 0.7452034950256348\n",
      "Epoch 3200, Loss: 0.7472826242446899\n",
      "Epoch 3300, Loss: 0.7546529173851013\n",
      "Epoch 3400, Loss: 0.7602541446685791\n",
      "Epoch 3500, Loss: 0.7487441897392273\n",
      "Epoch 3600, Loss: 0.7430416941642761\n",
      "Epoch 3700, Loss: 0.7473980784416199\n",
      "Epoch 3800, Loss: 0.746069610118866\n",
      "Epoch 3900, Loss: 0.7413173913955688\n",
      "Epoch 4000, Loss: 0.747653603553772\n",
      "Epoch 4100, Loss: 0.7480380535125732\n",
      "Epoch 4200, Loss: 0.7470734119415283\n",
      "Epoch 4300, Loss: 0.7569437623023987\n",
      "Epoch 4400, Loss: 0.7551440000534058\n",
      "Epoch 4500, Loss: 0.74791020154953\n",
      "Epoch 4600, Loss: 0.7452948689460754\n",
      "Epoch 4700, Loss: 0.7486991286277771\n",
      "Epoch 4800, Loss: 0.7544381618499756\n",
      "Epoch 4900, Loss: 0.7566931843757629\n",
      "Epoch 5000, Loss: 0.7405359745025635\n",
      "Epoch 5100, Loss: 0.748199462890625\n",
      "Epoch 5200, Loss: 0.757865309715271\n",
      "Epoch 5300, Loss: 0.7524194121360779\n",
      "Epoch 5400, Loss: 0.7585400938987732\n",
      "Epoch 5500, Loss: 0.7469616532325745\n",
      "Epoch 5600, Loss: 0.7393118739128113\n",
      "Epoch 5700, Loss: 0.7470635175704956\n",
      "Epoch 5800, Loss: 0.7472286820411682\n",
      "Epoch 5900, Loss: 0.7395747900009155\n",
      "Epoch 6000, Loss: 0.7530536651611328\n",
      "Epoch 6100, Loss: 0.7446620464324951\n",
      "Epoch 6200, Loss: 0.7443512082099915\n",
      "Epoch 6300, Loss: 0.7491499781608582\n",
      "Epoch 6400, Loss: 0.7498626112937927\n",
      "Epoch 6500, Loss: 0.7510682344436646\n",
      "Epoch 6600, Loss: 0.7451162934303284\n",
      "Epoch 6700, Loss: 0.7538342475891113\n",
      "Epoch 6800, Loss: 0.7428101897239685\n",
      "Epoch 6900, Loss: 0.7519485950469971\n",
      "Epoch 7000, Loss: 0.7654628753662109\n",
      "Epoch 7100, Loss: 0.7426568865776062\n",
      "Epoch 7200, Loss: 0.754078209400177\n",
      "Epoch 7300, Loss: 0.7677192091941833\n",
      "Epoch 7400, Loss: 0.7373798489570618\n",
      "Epoch 7500, Loss: 0.7528630495071411\n",
      "Epoch 7600, Loss: 0.7502558827400208\n",
      "Epoch 7700, Loss: 0.7441472411155701\n",
      "Epoch 7800, Loss: 0.7464525103569031\n",
      "Epoch 7900, Loss: 0.7439122796058655\n",
      "Epoch 8000, Loss: 0.7485567927360535\n",
      "Epoch 8100, Loss: 0.7540124654769897\n",
      "Epoch 8200, Loss: 0.7551935911178589\n",
      "Epoch 8300, Loss: 0.7490406632423401\n",
      "Epoch 8400, Loss: 0.7485181093215942\n",
      "Epoch 8500, Loss: 0.7381892800331116\n",
      "Epoch 8600, Loss: 0.7430990934371948\n",
      "Epoch 8700, Loss: 0.7432205080986023\n",
      "Epoch 8800, Loss: 0.7500365972518921\n",
      "Epoch 8900, Loss: 0.7395746111869812\n",
      "Epoch 9000, Loss: 0.739814281463623\n",
      "Epoch 9100, Loss: 0.7365120053291321\n",
      "Epoch 9200, Loss: 0.7486892342567444\n",
      "Epoch 9300, Loss: 0.7415653467178345\n",
      "Epoch 9400, Loss: 0.7404747009277344\n",
      "Epoch 9500, Loss: 0.7604660391807556\n",
      "Epoch 9600, Loss: 0.7534812688827515\n",
      "Epoch 9700, Loss: 0.7484347820281982\n",
      "Epoch 9800, Loss: 0.7474454641342163\n",
      "Epoch 9900, Loss: 0.7410905957221985\n",
      "Epoch 10000, Loss: 0.7442298531532288\n",
      "Epoch 10100, Loss: 0.7429569363594055\n",
      "Epoch 10200, Loss: 0.7484017610549927\n",
      "Epoch 10300, Loss: 0.7436808943748474\n",
      "Epoch 10400, Loss: 0.7383463978767395\n",
      "Epoch 10500, Loss: 0.7406324148178101\n",
      "Epoch 10600, Loss: 0.7466080784797668\n",
      "Epoch 10700, Loss: 0.7557607889175415\n",
      "Epoch 10800, Loss: 0.7469590902328491\n",
      "Epoch 10900, Loss: 0.7390900254249573\n",
      "Epoch 11000, Loss: 0.7553542852401733\n",
      "Epoch 11100, Loss: 0.7450913786888123\n",
      "Epoch 11200, Loss: 0.7517899870872498\n",
      "Epoch 11300, Loss: 0.7320341467857361\n",
      "Epoch 11400, Loss: 0.733695387840271\n",
      "Epoch 11500, Loss: 0.7491883039474487\n",
      "Epoch 11600, Loss: 0.7361103296279907\n",
      "Epoch 11700, Loss: 0.7387695908546448\n",
      "Epoch 11800, Loss: 0.7256889939308167\n",
      "Epoch 11900, Loss: 0.740332305431366\n",
      "Epoch 12000, Loss: 0.7375849485397339\n",
      "Epoch 12100, Loss: 0.7437344789505005\n",
      "Epoch 12200, Loss: 0.726077139377594\n",
      "Epoch 12300, Loss: 0.7305896282196045\n",
      "Epoch 12400, Loss: 0.7400655746459961\n",
      "Epoch 12500, Loss: 0.748252272605896\n",
      "Epoch 12600, Loss: 0.740197479724884\n",
      "Epoch 12700, Loss: 0.7138721942901611\n",
      "Epoch 12800, Loss: 0.7256680727005005\n",
      "Epoch 12900, Loss: 0.7302047610282898\n",
      "Epoch 13000, Loss: 0.7315053343772888\n",
      "Epoch 13100, Loss: 0.7310634255409241\n",
      "Epoch 13200, Loss: 0.7313019633293152\n",
      "Epoch 13300, Loss: 0.7302761077880859\n",
      "Epoch 13400, Loss: 0.7216538786888123\n",
      "Epoch 13500, Loss: 0.746604859828949\n",
      "Epoch 13600, Loss: 0.7337000966072083\n",
      "Epoch 13700, Loss: 0.736740231513977\n",
      "Epoch 13800, Loss: 0.7321617007255554\n",
      "Epoch 13900, Loss: 0.7360687255859375\n",
      "Epoch 14000, Loss: 0.7335520386695862\n",
      "Epoch 14100, Loss: 0.7177135348320007\n",
      "Epoch 14200, Loss: 0.7448151707649231\n",
      "Epoch 14300, Loss: 0.7389237880706787\n",
      "Epoch 14400, Loss: 0.71363765001297\n",
      "Epoch 14500, Loss: 0.7414944171905518\n",
      "Epoch 14600, Loss: 0.7157918214797974\n",
      "Epoch 14700, Loss: 0.7475476264953613\n",
      "Epoch 14800, Loss: 0.7411234974861145\n",
      "Epoch 14900, Loss: 0.7236120700836182\n",
      "Epoch 15000, Loss: 0.7316699028015137\n",
      "Epoch 15100, Loss: 0.7393786311149597\n",
      "Epoch 15200, Loss: 0.7248330116271973\n",
      "Epoch 15300, Loss: 0.7411494851112366\n",
      "Epoch 15400, Loss: 0.7284343838691711\n",
      "Epoch 15500, Loss: 0.7313469648361206\n",
      "Epoch 15600, Loss: 0.7550458908081055\n",
      "Epoch 15700, Loss: 0.742417573928833\n",
      "Epoch 15800, Loss: 0.7389998435974121\n",
      "Epoch 15900, Loss: 0.7182875275611877\n",
      "Epoch 16000, Loss: 0.7446470260620117\n",
      "Epoch 16100, Loss: 0.7396038770675659\n",
      "Epoch 16200, Loss: 0.7462963461875916\n",
      "Epoch 16300, Loss: 0.7316262125968933\n",
      "Epoch 16400, Loss: 0.7450660467147827\n",
      "Epoch 16500, Loss: 0.7457951903343201\n",
      "Epoch 16600, Loss: 0.7287728190422058\n",
      "Epoch 16700, Loss: 0.7335366010665894\n",
      "Epoch 16800, Loss: 0.7451649904251099\n",
      "Epoch 16900, Loss: 0.7306997776031494\n",
      "Epoch 17000, Loss: 0.755439043045044\n",
      "Epoch 17100, Loss: 0.7246544361114502\n",
      "Epoch 17200, Loss: 0.7302472591400146\n",
      "Epoch 17300, Loss: 0.7326472401618958\n",
      "Epoch 17400, Loss: 0.7593056559562683\n",
      "Epoch 17500, Loss: 0.7413391470909119\n",
      "Epoch 17600, Loss: 0.7255287170410156\n",
      "Epoch 17700, Loss: 0.7271861433982849\n",
      "Epoch 17800, Loss: 0.7306968569755554\n",
      "Epoch 17900, Loss: 0.7133661508560181\n",
      "Epoch 18000, Loss: 0.7109885811805725\n",
      "Epoch 18100, Loss: 0.7346567511558533\n",
      "Epoch 18200, Loss: 0.7375766038894653\n",
      "Epoch 18300, Loss: 0.7296144366264343\n",
      "Epoch 18400, Loss: 0.742163896560669\n",
      "Epoch 18500, Loss: 0.7252537608146667\n",
      "Epoch 18600, Loss: 0.7409954071044922\n",
      "Epoch 18700, Loss: 0.725936233997345\n",
      "Epoch 18800, Loss: 0.7300367951393127\n",
      "Epoch 18900, Loss: 0.7244624495506287\n",
      "Epoch 19000, Loss: 0.7336706519126892\n",
      "Epoch 19100, Loss: 0.7438461184501648\n",
      "Epoch 19200, Loss: 0.723383367061615\n",
      "Epoch 19300, Loss: 0.7108026146888733\n",
      "Epoch 19400, Loss: 0.7164157629013062\n",
      "Epoch 19500, Loss: 0.7325243949890137\n",
      "Epoch 19600, Loss: 0.7194804549217224\n",
      "Epoch 19700, Loss: 0.7199198603630066\n",
      "Epoch 19800, Loss: 0.7199336886405945\n",
      "Epoch 19900, Loss: 0.7348385453224182\n",
      "Epoch 20000, Loss: 0.7253676652908325\n",
      "Epoch 20100, Loss: 0.7372655868530273\n",
      "Epoch 20200, Loss: 0.7178115248680115\n",
      "Epoch 20300, Loss: 0.7319273948669434\n",
      "Epoch 20400, Loss: 0.7420298457145691\n",
      "Epoch 20500, Loss: 0.730402946472168\n",
      "Epoch 20600, Loss: 0.7225642204284668\n",
      "Epoch 20700, Loss: 0.7333160042762756\n",
      "Epoch 20800, Loss: 0.7079054713249207\n",
      "Epoch 20900, Loss: 0.7427586317062378\n",
      "Epoch 21000, Loss: 0.7155199646949768\n",
      "Epoch 21100, Loss: 0.755719006061554\n",
      "Epoch 21200, Loss: 0.747295618057251\n",
      "Epoch 21300, Loss: 0.7175793051719666\n",
      "Epoch 21400, Loss: 0.7316746711730957\n",
      "Epoch 21500, Loss: 0.7304685115814209\n",
      "Epoch 21600, Loss: 0.732571005821228\n",
      "Epoch 21700, Loss: 0.740017294883728\n",
      "Epoch 21800, Loss: 0.7367422580718994\n",
      "Epoch 21900, Loss: 0.7210754156112671\n",
      "Epoch 22000, Loss: 0.7259876132011414\n",
      "Epoch 22100, Loss: 0.7451370358467102\n",
      "Epoch 22200, Loss: 0.7457707524299622\n",
      "Epoch 22300, Loss: 0.7350854873657227\n",
      "Epoch 22400, Loss: 0.7351049780845642\n",
      "Epoch 22500, Loss: 0.7253617644309998\n",
      "Epoch 22600, Loss: 0.7554808855056763\n",
      "Epoch 22700, Loss: 0.735220193862915\n",
      "Epoch 22800, Loss: 0.7190735340118408\n",
      "Epoch 22900, Loss: 0.7263045310974121\n",
      "Epoch 23000, Loss: 0.7464115023612976\n",
      "Epoch 23100, Loss: 0.7358812689781189\n",
      "Epoch 23200, Loss: 0.7366223335266113\n",
      "Epoch 23300, Loss: 0.7347856163978577\n",
      "Epoch 23400, Loss: 0.7384738922119141\n",
      "Epoch 23500, Loss: 0.738993763923645\n",
      "Epoch 23600, Loss: 0.733346700668335\n",
      "Epoch 23700, Loss: 0.7323940992355347\n",
      "Epoch 23800, Loss: 0.7450888752937317\n",
      "Epoch 23900, Loss: 0.727864146232605\n",
      "Epoch 24000, Loss: 0.717948317527771\n",
      "Epoch 24100, Loss: 0.750563383102417\n",
      "Epoch 24200, Loss: 0.7301570177078247\n",
      "Epoch 24300, Loss: 0.7443214654922485\n",
      "Epoch 24400, Loss: 0.7380220293998718\n",
      "Epoch 24500, Loss: 0.7445896863937378\n",
      "Epoch 24600, Loss: 0.7303525805473328\n",
      "Epoch 24700, Loss: 0.7476905584335327\n",
      "Epoch 24800, Loss: 0.7428154945373535\n",
      "Epoch 24900, Loss: 0.7087792158126831\n",
      "Epoch 25000, Loss: 0.7222563028335571\n",
      "Epoch 25100, Loss: 0.7401863932609558\n",
      "Epoch 25200, Loss: 0.7287272214889526\n",
      "Epoch 25300, Loss: 0.7495882511138916\n",
      "Epoch 25400, Loss: 0.7396950125694275\n",
      "Epoch 25500, Loss: 0.7334105372428894\n",
      "Epoch 25600, Loss: 0.7210798859596252\n",
      "Epoch 25700, Loss: 0.7098686695098877\n",
      "Epoch 25800, Loss: 0.7371422052383423\n",
      "Epoch 25900, Loss: 0.7218847870826721\n",
      "Epoch 26000, Loss: 0.7292822003364563\n",
      "Epoch 26100, Loss: 0.7391318082809448\n",
      "Epoch 26200, Loss: 0.7338983416557312\n",
      "Epoch 26300, Loss: 0.7350469827651978\n",
      "Epoch 26400, Loss: 0.713336169719696\n",
      "Epoch 26500, Loss: 0.7410009503364563\n",
      "Epoch 26600, Loss: 0.7264928221702576\n",
      "Epoch 26700, Loss: 0.7298377156257629\n",
      "Epoch 26800, Loss: 0.7560666799545288\n",
      "Epoch 26900, Loss: 0.7408199310302734\n",
      "Epoch 27000, Loss: 0.7242253422737122\n",
      "Epoch 27100, Loss: 0.7363965511322021\n",
      "Epoch 27200, Loss: 0.7436573505401611\n",
      "Epoch 27300, Loss: 0.7272785305976868\n",
      "Epoch 27400, Loss: 0.7421691417694092\n",
      "Epoch 27500, Loss: 0.7410628795623779\n",
      "Epoch 27600, Loss: 0.7282248139381409\n",
      "Epoch 27700, Loss: 0.735267698764801\n",
      "Epoch 27800, Loss: 0.7402471899986267\n",
      "Epoch 27900, Loss: 0.725699245929718\n",
      "Epoch 28000, Loss: 0.7461212277412415\n",
      "Epoch 28100, Loss: 0.757055938243866\n",
      "Epoch 28200, Loss: 0.7337321043014526\n",
      "Epoch 28300, Loss: 0.7246381640434265\n",
      "Epoch 28400, Loss: 0.7549529075622559\n",
      "Epoch 28500, Loss: 0.732254683971405\n",
      "Epoch 28600, Loss: 0.7350538969039917\n",
      "Epoch 28700, Loss: 0.7470588684082031\n",
      "Epoch 28800, Loss: 0.7287949323654175\n",
      "Epoch 28900, Loss: 0.732990562915802\n",
      "Epoch 29000, Loss: 0.739511251449585\n",
      "Epoch 29100, Loss: 0.7437863349914551\n",
      "Epoch 29200, Loss: 0.7403655648231506\n",
      "Epoch 29300, Loss: 0.7407093644142151\n",
      "Epoch 29400, Loss: 0.714752733707428\n",
      "Epoch 29500, Loss: 0.7233315110206604\n",
      "Epoch 29600, Loss: 0.7245926260948181\n",
      "Epoch 29700, Loss: 0.7308712601661682\n",
      "Epoch 29800, Loss: 0.7215655446052551\n",
      "Epoch 29900, Loss: 0.7474237680435181\n",
      "Epoch 30000, Loss: 0.7322537899017334\n",
      "Epoch 30100, Loss: 0.7342600226402283\n",
      "Epoch 30200, Loss: 0.7490105032920837\n",
      "Epoch 30300, Loss: 0.7440752387046814\n",
      "Epoch 30400, Loss: 0.7301061749458313\n",
      "Epoch 30500, Loss: 0.7253851890563965\n",
      "Epoch 30600, Loss: 0.740340530872345\n",
      "Epoch 30700, Loss: 0.7465881705284119\n",
      "Epoch 30800, Loss: 0.7305241823196411\n",
      "Epoch 30900, Loss: 0.7193403244018555\n",
      "Epoch 31000, Loss: 0.7354876399040222\n",
      "Epoch 31100, Loss: 0.7120650410652161\n",
      "Epoch 31200, Loss: 0.7343891859054565\n",
      "Epoch 31300, Loss: 0.7394698858261108\n",
      "Epoch 31400, Loss: 0.7314454317092896\n",
      "Epoch 31500, Loss: 0.7561629414558411\n",
      "Epoch 31600, Loss: 0.742856502532959\n",
      "Epoch 31700, Loss: 0.7413858771324158\n",
      "Epoch 31800, Loss: 0.7197865843772888\n",
      "Epoch 31900, Loss: 0.7486681938171387\n",
      "Epoch 32000, Loss: 0.7308766841888428\n",
      "Epoch 32100, Loss: 0.7354457378387451\n",
      "Epoch 32200, Loss: 0.734039306640625\n",
      "Epoch 32300, Loss: 0.7507737874984741\n",
      "Epoch 32400, Loss: 0.7300140261650085\n",
      "Epoch 32500, Loss: 0.7355074882507324\n",
      "Epoch 32600, Loss: 0.7379628419876099\n",
      "Epoch 32700, Loss: 0.7310990691184998\n",
      "Epoch 32800, Loss: 0.739755392074585\n",
      "Epoch 32900, Loss: 0.718135416507721\n",
      "Epoch 33000, Loss: 0.7187513709068298\n",
      "Epoch 33100, Loss: 0.7327845692634583\n",
      "Epoch 33200, Loss: 0.7127169370651245\n",
      "Epoch 33300, Loss: 0.7147867679595947\n",
      "Epoch 33400, Loss: 0.7453453540802002\n",
      "Epoch 33500, Loss: 0.7333450317382812\n",
      "Epoch 33600, Loss: 0.7357423305511475\n",
      "Epoch 33700, Loss: 0.7116512656211853\n",
      "Epoch 33800, Loss: 0.7354720234870911\n",
      "Epoch 33900, Loss: 0.7339208126068115\n",
      "Epoch 34000, Loss: 0.7580055594444275\n",
      "Epoch 34100, Loss: 0.7165433168411255\n",
      "Epoch 34200, Loss: 0.7405663728713989\n",
      "Epoch 34300, Loss: 0.7102263569831848\n",
      "Epoch 34400, Loss: 0.7475830912590027\n",
      "Epoch 34500, Loss: 0.720622718334198\n",
      "Epoch 34600, Loss: 0.7485636472702026\n",
      "Epoch 34700, Loss: 0.7259589433670044\n",
      "Epoch 34800, Loss: 0.7496251463890076\n",
      "Epoch 34900, Loss: 0.73321533203125\n",
      "Epoch 35000, Loss: 0.72788006067276\n",
      "Epoch 35100, Loss: 0.7439973950386047\n",
      "Epoch 35200, Loss: 0.7442749738693237\n",
      "Epoch 35300, Loss: 0.7338306307792664\n",
      "Epoch 35400, Loss: 0.7230209112167358\n",
      "Epoch 35500, Loss: 0.70882248878479\n",
      "Epoch 35600, Loss: 0.7466310858726501\n",
      "Epoch 35700, Loss: 0.7206760048866272\n",
      "Epoch 35800, Loss: 0.7517092227935791\n",
      "Epoch 35900, Loss: 0.7346838712692261\n",
      "Epoch 36000, Loss: 0.7084619998931885\n",
      "Epoch 36100, Loss: 0.7063759565353394\n",
      "Epoch 36200, Loss: 0.7447822093963623\n",
      "Epoch 36300, Loss: 0.7115984559059143\n",
      "Epoch 36400, Loss: 0.7201506495475769\n",
      "Epoch 36500, Loss: 0.7395235300064087\n",
      "Epoch 36600, Loss: 0.7505010366439819\n",
      "Epoch 36700, Loss: 0.7256499528884888\n",
      "Epoch 36800, Loss: 0.7579869627952576\n",
      "Epoch 36900, Loss: 0.7242473363876343\n",
      "Epoch 37000, Loss: 0.7237407565116882\n",
      "Epoch 37100, Loss: 0.7437357306480408\n",
      "Epoch 37200, Loss: 0.7459794878959656\n",
      "Epoch 37300, Loss: 0.7303284406661987\n",
      "Epoch 37400, Loss: 0.7260311245918274\n",
      "Epoch 37500, Loss: 0.7367228269577026\n",
      "Epoch 37600, Loss: 0.7149274349212646\n",
      "Epoch 37700, Loss: 0.7181156873703003\n",
      "Epoch 37800, Loss: 0.7310720086097717\n",
      "Epoch 37900, Loss: 0.7318549752235413\n",
      "Epoch 38000, Loss: 0.7212578058242798\n",
      "Epoch 38100, Loss: 0.7221680283546448\n",
      "Epoch 38200, Loss: 0.7188058495521545\n",
      "Epoch 38300, Loss: 0.7369257211685181\n",
      "Epoch 38400, Loss: 0.7531111240386963\n",
      "Epoch 38500, Loss: 0.7328947186470032\n",
      "Epoch 38600, Loss: 0.7245367169380188\n",
      "Epoch 38700, Loss: 0.7262764573097229\n",
      "Epoch 38800, Loss: 0.7290011644363403\n",
      "Epoch 38900, Loss: 0.7248137593269348\n",
      "Epoch 39000, Loss: 0.7372478246688843\n",
      "Epoch 39100, Loss: 0.7325010895729065\n",
      "Epoch 39200, Loss: 0.7164795398712158\n",
      "Epoch 39300, Loss: 0.7130168080329895\n",
      "Epoch 39400, Loss: 0.7373086810112\n",
      "Epoch 39500, Loss: 0.740456759929657\n",
      "Epoch 39600, Loss: 0.7366726994514465\n",
      "Epoch 39700, Loss: 0.7376920580863953\n",
      "Epoch 39800, Loss: 0.734682559967041\n",
      "Epoch 39900, Loss: 0.7101163864135742\n",
      "Epoch 40000, Loss: 0.7167865037918091\n",
      "Epoch 40100, Loss: 0.7292659878730774\n",
      "Epoch 40200, Loss: 0.7417449951171875\n",
      "Epoch 40300, Loss: 0.7246506214141846\n",
      "Epoch 40400, Loss: 0.7373870015144348\n",
      "Epoch 40500, Loss: 0.745621919631958\n",
      "Epoch 40600, Loss: 0.7387959957122803\n",
      "Epoch 40700, Loss: 0.7069373726844788\n",
      "Epoch 40800, Loss: 0.7406405210494995\n",
      "Epoch 40900, Loss: 0.7263039350509644\n",
      "Epoch 41000, Loss: 0.7205823063850403\n",
      "Epoch 41100, Loss: 0.7153923511505127\n",
      "Epoch 41200, Loss: 0.7409533858299255\n",
      "Epoch 41300, Loss: 0.7304368019104004\n",
      "Epoch 41400, Loss: 0.7255428433418274\n",
      "Epoch 41500, Loss: 0.7100405097007751\n",
      "Epoch 41600, Loss: 0.7293655276298523\n",
      "Epoch 41700, Loss: 0.7072255611419678\n",
      "Epoch 41800, Loss: 0.7140051126480103\n",
      "Epoch 41900, Loss: 0.7184693217277527\n",
      "Epoch 42000, Loss: 0.7410941123962402\n",
      "Epoch 42100, Loss: 0.7395285367965698\n",
      "Epoch 42200, Loss: 0.7370728254318237\n",
      "Epoch 42300, Loss: 0.723080575466156\n",
      "Epoch 42400, Loss: 0.7332028746604919\n",
      "Epoch 42500, Loss: 0.7403554916381836\n",
      "Epoch 42600, Loss: 0.7217651605606079\n",
      "Epoch 42700, Loss: 0.7382574081420898\n",
      "Epoch 42800, Loss: 0.7405290007591248\n",
      "Epoch 42900, Loss: 0.7224575281143188\n",
      "Epoch 43000, Loss: 0.735630989074707\n",
      "Epoch 43100, Loss: 0.7200414538383484\n",
      "Epoch 43200, Loss: 0.7201558947563171\n",
      "Epoch 43300, Loss: 0.7276238203048706\n",
      "Epoch 43400, Loss: 0.7391628623008728\n",
      "Epoch 43500, Loss: 0.7237319350242615\n",
      "Epoch 43600, Loss: 0.7326995730400085\n",
      "Epoch 43700, Loss: 0.7482216358184814\n",
      "Epoch 43800, Loss: 0.7220852971076965\n",
      "Epoch 43900, Loss: 0.7261641621589661\n",
      "Epoch 44000, Loss: 0.7296628355979919\n",
      "Epoch 44100, Loss: 0.7416852116584778\n",
      "Epoch 44200, Loss: 0.714271068572998\n",
      "Epoch 44300, Loss: 0.731265664100647\n",
      "Epoch 44400, Loss: 0.7403335571289062\n",
      "Epoch 44500, Loss: 0.7277641296386719\n",
      "Epoch 44600, Loss: 0.733652651309967\n",
      "Epoch 44700, Loss: 0.7415757179260254\n",
      "Epoch 44800, Loss: 0.7373288869857788\n",
      "Epoch 44900, Loss: 0.7328770160675049\n",
      "Epoch 45000, Loss: 0.7374700307846069\n",
      "Epoch 45100, Loss: 0.7450917959213257\n",
      "Epoch 45200, Loss: 0.7484116554260254\n",
      "Epoch 45300, Loss: 0.7199893593788147\n",
      "Epoch 45400, Loss: 0.7354106903076172\n",
      "Epoch 45500, Loss: 0.7420836091041565\n",
      "Epoch 45600, Loss: 0.7245299220085144\n",
      "Epoch 45700, Loss: 0.7385514974594116\n",
      "Epoch 45800, Loss: 0.7171316742897034\n",
      "Epoch 45900, Loss: 0.7393673062324524\n",
      "Epoch 46000, Loss: 0.7487170100212097\n",
      "Epoch 46100, Loss: 0.742751955986023\n",
      "Epoch 46200, Loss: 0.7308287024497986\n",
      "Epoch 46300, Loss: 0.7435823082923889\n",
      "Epoch 46400, Loss: 0.730964720249176\n",
      "Epoch 46500, Loss: 0.759161114692688\n",
      "Epoch 46600, Loss: 0.755311906337738\n",
      "Epoch 46700, Loss: 0.745512843132019\n",
      "Epoch 46800, Loss: 0.7303418517112732\n",
      "Epoch 46900, Loss: 0.7336306571960449\n",
      "Epoch 47000, Loss: 0.7323448061943054\n",
      "Epoch 47100, Loss: 0.7241380214691162\n",
      "Epoch 47200, Loss: 0.7467281818389893\n",
      "Epoch 47300, Loss: 0.7222951054573059\n",
      "Epoch 47400, Loss: 0.7482534050941467\n",
      "Epoch 47500, Loss: 0.7455533146858215\n",
      "Epoch 47600, Loss: 0.7291384935379028\n",
      "Epoch 47700, Loss: 0.7532010078430176\n",
      "Epoch 47800, Loss: 0.7362965941429138\n",
      "Epoch 47900, Loss: 0.7413553595542908\n",
      "Epoch 48000, Loss: 0.729387640953064\n",
      "Epoch 48100, Loss: 0.7105199098587036\n",
      "Epoch 48200, Loss: 0.7353183627128601\n",
      "Epoch 48300, Loss: 0.7316468358039856\n",
      "Epoch 48400, Loss: 0.7280551791191101\n",
      "Epoch 48500, Loss: 0.732750415802002\n",
      "Epoch 48600, Loss: 0.7285752296447754\n",
      "Epoch 48700, Loss: 0.7367895841598511\n",
      "Epoch 48800, Loss: 0.7417997121810913\n",
      "Epoch 48900, Loss: 0.7171304225921631\n",
      "Epoch 49000, Loss: 0.7367150783538818\n",
      "Epoch 49100, Loss: 0.7344027757644653\n",
      "Epoch 49200, Loss: 0.7233917117118835\n",
      "Epoch 49300, Loss: 0.7320476770401001\n",
      "Epoch 49400, Loss: 0.7497538924217224\n",
      "Epoch 49500, Loss: 0.7245185375213623\n",
      "Epoch 49600, Loss: 0.706316351890564\n",
      "Epoch 49700, Loss: 0.7357579469680786\n",
      "Epoch 49800, Loss: 0.7393887042999268\n",
      "Epoch 49900, Loss: 0.7247793674468994\n",
      "Epoch 50000, Loss: 0.7290246486663818\n",
      "Epoch 50100, Loss: 0.7206251621246338\n",
      "Epoch 50200, Loss: 0.729010820388794\n",
      "Epoch 50300, Loss: 0.7225019931793213\n",
      "Epoch 50400, Loss: 0.7262322902679443\n",
      "Epoch 50500, Loss: 0.7153906226158142\n",
      "Epoch 50600, Loss: 0.754170835018158\n",
      "Epoch 50700, Loss: 0.7292744517326355\n",
      "Epoch 50800, Loss: 0.732948362827301\n",
      "Epoch 50900, Loss: 0.7416777014732361\n",
      "Epoch 51000, Loss: 0.7329097390174866\n",
      "Epoch 51100, Loss: 0.7268223762512207\n",
      "Epoch 51200, Loss: 0.7221018075942993\n",
      "Epoch 51300, Loss: 0.7389538288116455\n",
      "Epoch 51400, Loss: 0.7168317437171936\n",
      "Epoch 51500, Loss: 0.7463845610618591\n",
      "Epoch 51600, Loss: 0.7357162833213806\n",
      "Epoch 51700, Loss: 0.7313119173049927\n",
      "Epoch 51800, Loss: 0.722305417060852\n",
      "Epoch 51900, Loss: 0.7372023463249207\n",
      "Epoch 52000, Loss: 0.7226487398147583\n",
      "Epoch 52100, Loss: 0.7436924576759338\n",
      "Epoch 52200, Loss: 0.7593845129013062\n",
      "Epoch 52300, Loss: 0.7359532117843628\n",
      "Epoch 52400, Loss: 0.7285901308059692\n",
      "Epoch 52500, Loss: 0.7204566597938538\n",
      "Epoch 52600, Loss: 0.7557952404022217\n",
      "Epoch 52700, Loss: 0.7544752359390259\n",
      "Epoch 52800, Loss: 0.7463890314102173\n",
      "Epoch 52900, Loss: 0.7289783954620361\n",
      "Epoch 53000, Loss: 0.7279322147369385\n",
      "Epoch 53100, Loss: 0.7309830784797668\n",
      "Epoch 53200, Loss: 0.7405933141708374\n",
      "Epoch 53300, Loss: 0.7213249206542969\n",
      "Epoch 53400, Loss: 0.727540910243988\n",
      "Epoch 53500, Loss: 0.715444803237915\n",
      "Epoch 53600, Loss: 0.7274718284606934\n",
      "Epoch 53700, Loss: 0.7345618605613708\n",
      "Epoch 53800, Loss: 0.7367302179336548\n",
      "Epoch 53900, Loss: 0.7198003530502319\n",
      "Epoch 54000, Loss: 0.7218815684318542\n",
      "Epoch 54100, Loss: 0.727033793926239\n",
      "Epoch 54200, Loss: 0.7521974444389343\n",
      "Epoch 54300, Loss: 0.7341947555541992\n",
      "Epoch 54400, Loss: 0.727234423160553\n",
      "Epoch 54500, Loss: 0.7450149655342102\n",
      "Epoch 54600, Loss: 0.7180076241493225\n",
      "Epoch 54700, Loss: 0.7304351925849915\n",
      "Epoch 54800, Loss: 0.7281386852264404\n",
      "Epoch 54900, Loss: 0.7302072048187256\n",
      "Epoch 55000, Loss: 0.7456103563308716\n",
      "Epoch 55100, Loss: 0.7477269172668457\n",
      "Epoch 55200, Loss: 0.7354526519775391\n",
      "Epoch 55300, Loss: 0.7240315079689026\n",
      "Epoch 55400, Loss: 0.7285091280937195\n",
      "Epoch 55500, Loss: 0.7375664710998535\n",
      "Epoch 55600, Loss: 0.7510784268379211\n",
      "Epoch 55700, Loss: 0.7370241284370422\n",
      "Epoch 55800, Loss: 0.7394190430641174\n",
      "Epoch 55900, Loss: 0.7163402438163757\n",
      "Epoch 56000, Loss: 0.7379698157310486\n",
      "Epoch 56100, Loss: 0.7241053581237793\n",
      "Epoch 56200, Loss: 0.7342862486839294\n",
      "Epoch 56300, Loss: 0.7327275276184082\n",
      "Epoch 56400, Loss: 0.741786777973175\n",
      "Epoch 56500, Loss: 0.7404716610908508\n",
      "Epoch 56600, Loss: 0.7292497754096985\n",
      "Epoch 56700, Loss: 0.7356119751930237\n",
      "Epoch 56800, Loss: 0.7324608564376831\n",
      "Epoch 56900, Loss: 0.7257418036460876\n",
      "Epoch 57000, Loss: 0.7216883897781372\n",
      "Epoch 57100, Loss: 0.7259136438369751\n",
      "Epoch 57200, Loss: 0.7344486713409424\n",
      "Epoch 57300, Loss: 0.7260183095932007\n",
      "Epoch 57400, Loss: 0.7443763613700867\n",
      "Epoch 57500, Loss: 0.7128068208694458\n",
      "Epoch 57600, Loss: 0.7345865368843079\n",
      "Epoch 57700, Loss: 0.7159218788146973\n",
      "Epoch 57800, Loss: 0.7348971366882324\n",
      "Epoch 57900, Loss: 0.7539897561073303\n",
      "Epoch 58000, Loss: 0.7113011479377747\n",
      "Epoch 58100, Loss: 0.7423571348190308\n",
      "Epoch 58200, Loss: 0.7289175391197205\n",
      "Epoch 58300, Loss: 0.7413259744644165\n",
      "Epoch 58400, Loss: 0.7186980843544006\n",
      "Epoch 58500, Loss: 0.7266857028007507\n",
      "Epoch 58600, Loss: 0.7455747127532959\n",
      "Epoch 58700, Loss: 0.7359008193016052\n",
      "Epoch 58800, Loss: 0.7238346338272095\n",
      "Epoch 58900, Loss: 0.7339226603507996\n",
      "Epoch 59000, Loss: 0.74277263879776\n",
      "Epoch 59100, Loss: 0.7296150922775269\n",
      "Epoch 59200, Loss: 0.7333570122718811\n",
      "Epoch 59300, Loss: 0.7363263368606567\n",
      "Epoch 59400, Loss: 0.7291408777236938\n",
      "Epoch 59500, Loss: 0.7487133145332336\n",
      "Epoch 59600, Loss: 0.7162795066833496\n",
      "Epoch 59700, Loss: 0.7360380291938782\n",
      "Epoch 59800, Loss: 0.7407763004302979\n",
      "Epoch 59900, Loss: 0.747677743434906\n",
      "Epoch 60000, Loss: 0.7345176339149475\n",
      "Epoch 60100, Loss: 0.7174102067947388\n",
      "Epoch 60200, Loss: 0.7425049543380737\n",
      "Epoch 60300, Loss: 0.715539813041687\n",
      "Epoch 60400, Loss: 0.7283007502555847\n",
      "Epoch 60500, Loss: 0.7503671050071716\n",
      "Epoch 60600, Loss: 0.7228013873100281\n",
      "Epoch 60700, Loss: 0.7165622115135193\n",
      "Epoch 60800, Loss: 0.7506017684936523\n",
      "Epoch 60900, Loss: 0.7161017060279846\n",
      "Epoch 61000, Loss: 0.7479450702667236\n",
      "Epoch 61100, Loss: 0.7418052554130554\n",
      "Epoch 61200, Loss: 0.7291966080665588\n",
      "Epoch 61300, Loss: 0.7312048673629761\n",
      "Epoch 61400, Loss: 0.7417795062065125\n",
      "Epoch 61500, Loss: 0.7257651686668396\n",
      "Epoch 61600, Loss: 0.7261589765548706\n",
      "Epoch 61700, Loss: 0.7267731428146362\n",
      "Epoch 61800, Loss: 0.7261781096458435\n",
      "Epoch 61900, Loss: 0.7476773262023926\n",
      "Epoch 62000, Loss: 0.7221984267234802\n",
      "Epoch 62100, Loss: 0.7503191232681274\n",
      "Epoch 62200, Loss: 0.7345176339149475\n",
      "Epoch 62300, Loss: 0.7253792881965637\n",
      "Epoch 62400, Loss: 0.7405027747154236\n",
      "Epoch 62500, Loss: 0.7344080805778503\n",
      "Epoch 62600, Loss: 0.7430920600891113\n",
      "Epoch 62700, Loss: 0.7364388108253479\n",
      "Epoch 62800, Loss: 0.7191528081893921\n",
      "Epoch 62900, Loss: 0.7214544415473938\n",
      "Epoch 63000, Loss: 0.7239314317703247\n",
      "Epoch 63100, Loss: 0.7424454689025879\n",
      "Epoch 63200, Loss: 0.7395695447921753\n",
      "Epoch 63300, Loss: 0.753571093082428\n",
      "Epoch 63400, Loss: 0.7180272340774536\n",
      "Epoch 63500, Loss: 0.7328644394874573\n",
      "Epoch 63600, Loss: 0.756053626537323\n",
      "Epoch 63700, Loss: 0.7115010023117065\n",
      "Epoch 63800, Loss: 0.7421504855155945\n",
      "Epoch 63900, Loss: 0.7331014275550842\n",
      "Epoch 64000, Loss: 0.728996217250824\n",
      "Epoch 64100, Loss: 0.7574180364608765\n",
      "Epoch 64200, Loss: 0.7299073934555054\n",
      "Epoch 64300, Loss: 0.7199656963348389\n",
      "Epoch 64400, Loss: 0.7262593507766724\n",
      "Epoch 64500, Loss: 0.74980229139328\n",
      "Epoch 64600, Loss: 0.7090873718261719\n",
      "Epoch 64700, Loss: 0.717491865158081\n",
      "Epoch 64800, Loss: 0.732001543045044\n",
      "Epoch 64900, Loss: 0.7399922609329224\n",
      "Epoch 65000, Loss: 0.7523234486579895\n",
      "Epoch 65100, Loss: 0.7513883709907532\n",
      "Epoch 65200, Loss: 0.7325351238250732\n",
      "Epoch 65300, Loss: 0.7331038117408752\n",
      "Epoch 65400, Loss: 0.736443281173706\n",
      "Epoch 65500, Loss: 0.7267098426818848\n",
      "Epoch 65600, Loss: 0.7293907403945923\n",
      "Epoch 65700, Loss: 0.7292220592498779\n",
      "Epoch 65800, Loss: 0.7354906797409058\n",
      "Epoch 65900, Loss: 0.743411660194397\n",
      "Epoch 66000, Loss: 0.7393502593040466\n",
      "Epoch 66100, Loss: 0.7368457913398743\n",
      "Epoch 66200, Loss: 0.730326235294342\n",
      "Epoch 66300, Loss: 0.7251320481300354\n",
      "Epoch 66400, Loss: 0.7130810618400574\n",
      "Epoch 66500, Loss: 0.7432162761688232\n",
      "Epoch 66600, Loss: 0.7421988248825073\n",
      "Epoch 66700, Loss: 0.7456195950508118\n",
      "Epoch 66800, Loss: 0.7442152500152588\n",
      "Epoch 66900, Loss: 0.7371784448623657\n",
      "Epoch 67000, Loss: 0.7174805998802185\n",
      "Epoch 67100, Loss: 0.7433053255081177\n",
      "Epoch 67200, Loss: 0.7499083280563354\n",
      "Epoch 67300, Loss: 0.7432677149772644\n",
      "Epoch 67400, Loss: 0.7420392632484436\n",
      "Epoch 67500, Loss: 0.738704264163971\n",
      "Epoch 67600, Loss: 0.7391230463981628\n",
      "Epoch 67700, Loss: 0.7369180917739868\n",
      "Epoch 67800, Loss: 0.7521194219589233\n",
      "Epoch 67900, Loss: 0.7473257184028625\n",
      "Epoch 68000, Loss: 0.723237156867981\n",
      "Epoch 68100, Loss: 0.7411879301071167\n",
      "Epoch 68200, Loss: 0.7230396866798401\n",
      "Epoch 68300, Loss: 0.7405124306678772\n",
      "Epoch 68400, Loss: 0.7329067587852478\n",
      "Epoch 68500, Loss: 0.7324852347373962\n"
     ]
    },
    {
     "ename": "KeyboardInterrupt",
     "evalue": "",
     "output_type": "error",
     "traceback": [
      "\u001b[1;31m---------------------------------------------------------------------------\u001b[0m",
      "\u001b[1;31mKeyboardInterrupt\u001b[0m                         Traceback (most recent call last)",
      "Cell \u001b[1;32mIn[39], line 16\u001b[0m\n\u001b[0;32m     12\u001b[0m \u001b[38;5;28;01mwhile\u001b[39;00m loss_value \u001b[38;5;241m>\u001b[39m \u001b[38;5;241m1e-7\u001b[39m:\n\u001b[0;32m     14\u001b[0m     train_key, subkey \u001b[38;5;241m=\u001b[39m jax\u001b[38;5;241m.\u001b[39mrandom\u001b[38;5;241m.\u001b[39msplit(train_key)\n\u001b[1;32m---> 16\u001b[0m     model, opt_state, loss_value \u001b[38;5;241m=\u001b[39m \u001b[43mtrain_step\u001b[49m\u001b[43m(\u001b[49m\u001b[43mmodel\u001b[49m\u001b[43m,\u001b[49m\u001b[43m \u001b[49m\u001b[43mopt_state\u001b[49m\u001b[43m,\u001b[49m\u001b[43m \u001b[49m\u001b[43mL\u001b[49m\u001b[43m,\u001b[49m\u001b[43m \u001b[49m\u001b[43msigma2\u001b[49m\u001b[43m,\u001b[49m\u001b[43m \u001b[49m\u001b[43ma\u001b[49m\u001b[43m,\u001b[49m\u001b[43m \u001b[49m\u001b[43mb\u001b[49m\u001b[43m,\u001b[49m\u001b[43m \u001b[49m\u001b[43msubkey\u001b[49m\u001b[43m,\u001b[49m\u001b[43m \u001b[49m\u001b[43msteps\u001b[49m\u001b[38;5;241;43m=\u001b[39;49m\u001b[38;5;241;43m200\u001b[39;49m\u001b[43m)\u001b[49m\n\u001b[0;32m     17\u001b[0m     epoch \u001b[38;5;241m+\u001b[39m\u001b[38;5;241m=\u001b[39m \u001b[38;5;241m1\u001b[39m \n\u001b[0;32m     19\u001b[0m     \u001b[38;5;28;01mif\u001b[39;00m epoch \u001b[38;5;241m%\u001b[39m \u001b[38;5;241m100\u001b[39m \u001b[38;5;241m==\u001b[39m \u001b[38;5;241m0\u001b[39m:\n",
      "    \u001b[1;31m[... skipping hidden 3 frame]\u001b[0m\n",
      "File \u001b[1;32mc:\\Users\\andre\\OneDrive\\Documentos\\Warwick\\Individual Project\\Code\\Warwick-Final-Project\\venv\\Lib\\site-packages\\equinox\\_module.py:910\u001b[0m, in \u001b[0;36m_unflatten_module\u001b[1;34m(cls, aux, dynamic_field_values)\u001b[0m\n\u001b[0;32m    900\u001b[0m     aux \u001b[38;5;241m=\u001b[39m _FlattenedData(\n\u001b[0;32m    901\u001b[0m         \u001b[38;5;28mtuple\u001b[39m(dynamic_field_names),\n\u001b[0;32m    902\u001b[0m         \u001b[38;5;28mtuple\u001b[39m(static_field_names),\n\u001b[1;32m   (...)\u001b[0m\n\u001b[0;32m    905\u001b[0m         \u001b[38;5;28mtuple\u001b[39m(wrapper_field_values),\n\u001b[0;32m    906\u001b[0m     )\n\u001b[0;32m    907\u001b[0m     \u001b[38;5;28;01mreturn\u001b[39;00m \u001b[38;5;28mtuple\u001b[39m(dynamic_field_values), aux\n\u001b[1;32m--> 910\u001b[0m \u001b[38;5;28;01mdef\u001b[39;00m \u001b[38;5;21m_unflatten_module\u001b[39m(\u001b[38;5;28mcls\u001b[39m: \u001b[38;5;28mtype\u001b[39m[\u001b[38;5;124m\"\u001b[39m\u001b[38;5;124mModule\u001b[39m\u001b[38;5;124m\"\u001b[39m], aux: _FlattenedData, dynamic_field_values):\n\u001b[0;32m    911\u001b[0m     \u001b[38;5;66;03m# This doesn't go via `__init__`. A user may have done something nontrivial there,\u001b[39;00m\n\u001b[0;32m    912\u001b[0m     \u001b[38;5;66;03m# and the field values may be dummy values as used in various places throughout JAX.\u001b[39;00m\n\u001b[0;32m    913\u001b[0m     \u001b[38;5;66;03m# See also\u001b[39;00m\n\u001b[0;32m    914\u001b[0m     \u001b[38;5;66;03m# https://jax.readthedocs.io/en/latest/pytrees.html#custom-pytrees-and-initialization,\u001b[39;00m\n\u001b[0;32m    915\u001b[0m     \u001b[38;5;66;03m# which was (I believe) inspired by Equinox's approach here.\u001b[39;00m\n\u001b[0;32m    916\u001b[0m     module \u001b[38;5;241m=\u001b[39m \u001b[38;5;28mobject\u001b[39m\u001b[38;5;241m.\u001b[39m\u001b[38;5;21m__new__\u001b[39m(\u001b[38;5;28mcls\u001b[39m)\n\u001b[0;32m    917\u001b[0m     \u001b[38;5;28;01mfor\u001b[39;00m name, value \u001b[38;5;129;01min\u001b[39;00m \u001b[38;5;28mzip\u001b[39m(aux\u001b[38;5;241m.\u001b[39mdynamic_field_names, dynamic_field_values):\n",
      "\u001b[1;31mKeyboardInterrupt\u001b[0m: "
     ]
    }
   ],
   "source": [
    "# Training loop\n",
    "num_epochs = 250000\n",
    "losses = []\n",
    "\n",
    "sigma2 = 0.5**2\n",
    "loss_value = 100\n",
    "\n",
    "train_key = jax.random.PRNGKey(75)\n",
    "\n",
    "#for epoch in range(num_epochs):\n",
    "epoch = 0\n",
    "while loss_value > 1e-7:\n",
    "\n",
    "    train_key, subkey = jax.random.split(train_key)\n",
    "    \n",
    "    model, opt_state, loss_value = train_step(model, opt_state, L, sigma2, a, b, subkey, steps=200)\n",
    "    epoch += 1 \n",
    "\n",
    "    if epoch % 100 == 0:\n",
    "        losses.append(loss_value)\n",
    "        print(f\"Epoch {epoch}, Loss: {loss_value}\")\n",
    "\n",
    "        \n",
    "    if epoch % 10000 == 0:\n",
    "        lr *= 0.4\n",
    "        optimizer = optax.adam(learning_rate=lr)\n",
    "        opt_state = optimizer.init(model)  # Re-initialize optimizer state with new learning rate\n",
    "\n",
    "\n",
    "\n",
    "# Print final loss\n",
    "final_loss = loss(model, L, sigma2, a, b, steps=20)\n",
    "print(f\"Final Loss: {final_loss}\")"
   ]
  },
  {
   "cell_type": "code",
   "execution_count": 40,
   "metadata": {},
   "outputs": [
    {
     "data": {
      "image/png": "[encoded data removed]",
      "text/plain": [
       "<Figure size 640x480 with 1 Axes>"
      ]
     },
     "metadata": {},
     "output_type": "display_data"
    }
   ],
   "source": [
    "plt.plot(losses)\n",
    "plt.yscale('log')\n",
    "plt.xlabel('Epoch x100')\n",
    "plt.ylabel('Loss')\n",
    "plt.title('Loss Evolution')\n",
    "plt.show()"
   ]
  },
  {
   "cell_type": "code",
   "execution_count": 41,
   "metadata": {},
   "outputs": [
    {
     "data": {
      "image/png": "[encoded data removed]",
      "text/plain": [
       "<Figure size 640x480 with 1 Axes>"
      ]
     },
     "metadata": {},
     "output_type": "display_data"
    }
   ],
   "source": [
    "x_flat = jnp.linspace(0, L, 500)\n",
    "outputs = jax.vmap(model)(x_flat)\n",
    "\n",
    "plt.plot(outputs)\n",
    "#plt.plot(res_05)\n",
    "#plt.ylim([0.1, 0.8])\n",
    "plt.show()"
   ]
  },
  {
   "cell_type": "code",
   "execution_count": 138,
   "metadata": {},
   "outputs": [
    {
     "data": {
      "text/plain": [
       "Array([nan, nan, nan, nan, nan, nan, nan, nan, nan, nan, nan, nan, nan,\n",
       "       nan, nan, nan, nan, nan, nan, nan, nan, nan, nan, nan, nan, nan,\n",
       "       nan, nan, nan, nan, nan, nan, nan, nan, nan, nan, nan, nan, nan,\n",
       "       nan, nan, nan, nan, nan, nan, nan, nan, nan, nan, nan, nan, nan,\n",
       "       nan, nan, nan, nan, nan, nan, nan, nan, nan, nan, nan, nan, nan,\n",
       "       nan, nan, nan, nan, nan, nan, nan, nan, nan, nan, nan, nan, nan,\n",
       "       nan, nan, nan, nan, nan, nan, nan, nan, nan, nan, nan, nan, nan,\n",
       "       nan, nan, nan, nan, nan, nan, nan, nan, nan, nan, nan, nan, nan,\n",
       "       nan, nan, nan, nan, nan, nan, nan, nan, nan, nan, nan, nan, nan,\n",
       "       nan, nan, nan, nan, nan, nan, nan, nan, nan, nan, nan, nan, nan,\n",
       "       nan, nan, nan, nan, nan, nan, nan, nan, nan, nan, nan, nan, nan,\n",
       "       nan, nan, nan, nan, nan, nan, nan, nan, nan, nan, nan, nan, nan,\n",
       "       nan, nan, nan, nan, nan, nan, nan, nan, nan, nan, nan, nan, nan,\n",
       "       nan, nan, nan, nan, nan, nan, nan, nan, nan, nan, nan, nan, nan,\n",
       "       nan, nan, nan, nan, nan, nan, nan, nan, nan, nan, nan, nan, nan,\n",
       "       nan, nan, nan, nan, nan, nan, nan, nan, nan, nan, nan, nan, nan,\n",
       "       nan, nan, nan, nan, nan, nan, nan, nan, nan, nan, nan, nan, nan,\n",
       "       nan, nan, nan, nan, nan, nan, nan, nan, nan, nan, nan, nan, nan,\n",
       "       nan, nan, nan, nan, nan, nan, nan, nan, nan, nan, nan, nan, nan,\n",
       "       nan, nan, nan, nan, nan, nan, nan, nan, nan, nan, nan, nan, nan,\n",
       "       nan, nan, nan, nan, nan, nan, nan, nan, nan, nan, nan, nan, nan,\n",
       "       nan, nan, nan, nan, nan, nan, nan, nan, nan, nan, nan, nan, nan,\n",
       "       nan, nan, nan, nan, nan, nan, nan, nan, nan, nan, nan, nan, nan,\n",
       "       nan, nan, nan, nan, nan, nan, nan, nan, nan, nan, nan, nan, nan,\n",
       "       nan, nan, nan, nan, nan, nan, nan, nan, nan, nan, nan, nan, nan,\n",
       "       nan, nan, nan, nan, nan, nan, nan, nan, nan, nan, nan, nan, nan,\n",
       "       nan, nan, nan, nan, nan, nan, nan, nan, nan, nan, nan, nan, nan,\n",
       "       nan, nan, nan, nan, nan, nan, nan, nan, nan, nan, nan, nan, nan,\n",
       "       nan, nan, nan, nan, nan, nan, nan, nan, nan, nan, nan, nan, nan,\n",
       "       nan, nan, nan, nan, nan, nan, nan, nan, nan, nan, nan, nan, nan,\n",
       "       nan, nan, nan, nan, nan, nan, nan, nan, nan, nan, nan, nan, nan,\n",
       "       nan, nan, nan, nan, nan, nan, nan, nan, nan, nan, nan, nan, nan,\n",
       "       nan, nan, nan, nan, nan, nan, nan, nan, nan, nan, nan, nan, nan,\n",
       "       nan, nan, nan, nan, nan, nan, nan, nan, nan, nan, nan, nan, nan,\n",
       "       nan, nan, nan, nan, nan, nan, nan, nan, nan, nan, nan, nan, nan,\n",
       "       nan, nan, nan, nan, nan, nan, nan, nan, nan, nan, nan, nan, nan,\n",
       "       nan, nan, nan, nan, nan, nan, nan, nan, nan, nan, nan, nan, nan,\n",
       "       nan, nan, nan, nan, nan, nan, nan, nan, nan, nan, nan, nan, nan,\n",
       "       nan, nan, nan, nan, nan, nan], dtype=float32)"
      ]
     },
     "execution_count": 138,
     "metadata": {},
     "output_type": "execute_result"
    }
   ],
   "source": [
    "outputs"
   ]
  },
  {
   "cell_type": "code",
   "execution_count": 19,
   "metadata": {},
   "outputs": [],
   "source": [
    "class Greenshield():\n",
    "    def __init__(self, params):\n",
    "        self.params=params\n",
    "        self.v_max = self.params[0]\n",
    "        self.p_max = self.params[1]\n",
    "    \n",
    "    def flux(self, density):\n",
    "        return self.v_max * (1 - (density/self.p_max))\n",
    "    \n",
    "    def __str__(self):\n",
    "        return \"Greenshield\""
   ]
  },
  {
   "cell_type": "code",
   "execution_count": 219,
   "metadata": {},
   "outputs": [],
   "source": [
    "def linspace_repeat(start, stop, num, repeats):\n",
    "    # Generate linspace values\n",
    "    linspace_values = jnp.linspace(start, stop, num)\n",
    "    # Repeat each value 'repeats' times\n",
    "    repeated_values = jnp.repeat(linspace_values, repeats)\n",
    "    return repeated_values"
   ]
  },
  {
   "cell_type": "code",
   "execution_count": 294,
   "metadata": {},
   "outputs": [],
   "source": [
    "steps = 20\n",
    "repeat = 15\n",
    "\n",
    "x_key = jax.random.PRNGKey(7)\n",
    "#x = jax.random.uniform(x_key, (size,))*L\n",
    "x = linspace_repeat(0, L, steps, repeat)"
   ]
  },
  {
   "cell_type": "code",
   "execution_count": 295,
   "metadata": {},
   "outputs": [
    {
     "data": {
      "text/plain": [
       "300"
      ]
     },
     "execution_count": 295,
     "metadata": {},
     "output_type": "execute_result"
    }
   ],
   "source": [
    "len(x)"
   ]
  },
  {
   "cell_type": "code",
   "execution_count": 296,
   "metadata": {},
   "outputs": [],
   "source": [
    "y = jax.vmap(model)(x)"
   ]
  },
  {
   "cell_type": "code",
   "execution_count": 297,
   "metadata": {},
   "outputs": [
    {
     "data": {
      "image/png": "[encoded data removed]",
      "text/plain": [
       "<Figure size 640x480 with 1 Axes>"
      ]
     },
     "metadata": {},
     "output_type": "display_data"
    }
   ],
   "source": [
    "plt.scatter(x,y)\n",
    "plt.show()"
   ]
  },
  {
   "cell_type": "code",
   "execution_count": 298,
   "metadata": {},
   "outputs": [],
   "source": [
    "func = Greenshield([v_max, p_max])"
   ]
  },
  {
   "cell_type": "code",
   "execution_count": 299,
   "metadata": {},
   "outputs": [],
   "source": [
    "means = func.flux(y)"
   ]
  },
  {
   "cell_type": "code",
   "execution_count": 300,
   "metadata": {},
   "outputs": [
    {
     "data": {
      "text/plain": [
       "(300,)"
      ]
     },
     "execution_count": 300,
     "metadata": {},
     "output_type": "execute_result"
    }
   ],
   "source": [
    "means.shape"
   ]
  },
  {
   "cell_type": "code",
   "execution_count": 301,
   "metadata": {},
   "outputs": [
    {
     "data": {
      "image/png": "[encoded data removed]",
      "text/plain": [
       "<Figure size 640x480 with 1 Axes>"
      ]
     },
     "metadata": {},
     "output_type": "display_data"
    }
   ],
   "source": [
    "plt.scatter(x, means)\n",
    "#\n",
    "plt.show()"
   ]
  },
  {
   "cell_type": "code",
   "execution_count": 302,
   "metadata": {},
   "outputs": [],
   "source": [
    "key = jax.random.PRNGKey(12)\n",
    "dt = 0.1\n",
    "noise = jax.random.normal(key, shape=(repeat*steps,))*jnp.sqrt(sigma2*dt)"
   ]
  },
  {
   "cell_type": "code",
   "execution_count": 303,
   "metadata": {},
   "outputs": [
    {
     "data": {
      "image/png": "[encoded data removed]",
      "text/plain": [
       "<Figure size 640x480 with 1 Axes>"
      ]
     },
     "metadata": {},
     "output_type": "display_data"
    }
   ],
   "source": [
    "plt.scatter(x, noise)\n",
    "plt.show()"
   ]
  },
  {
   "cell_type": "code",
   "execution_count": 304,
   "metadata": {},
   "outputs": [
    {
     "data": {
      "image/png": "[encoded data removed]",
      "text/plain": [
       "<Figure size 640x480 with 1 Axes>"
      ]
     },
     "metadata": {},
     "output_type": "display_data"
    }
   ],
   "source": [
    "plt.scatter(x, means*dt)\n",
    "#plt.ylim([0.5, 0.8])\n",
    "plt.show()"
   ]
  },
  {
   "cell_type": "code",
   "execution_count": 305,
   "metadata": {},
   "outputs": [],
   "source": [
    "key = jax.random.PRNGKey(7)\n",
    "samples = means*dt + noise"
   ]
  },
  {
   "cell_type": "code",
   "execution_count": 310,
   "metadata": {},
   "outputs": [
    {
     "data": {
      "image/png": "[encoded data removed]",
      "text/plain": [
       "<Figure size 640x480 with 1 Axes>"
      ]
     },
     "metadata": {},
     "output_type": "display_data"
    }
   ],
   "source": [
    "plt.scatter(x, means*dt, label='Means')\n",
    "plt.scatter(x, samples, label='Samples')\n",
    "#plt.scatter(x, noise, label='Noise')\n",
    "plt.legend()\n",
    "plt.show()"
   ]
  },
  {
   "cell_type": "code",
   "execution_count": 307,
   "metadata": {},
   "outputs": [],
   "source": [
    "with open('x_values.npy', 'wb') as f:\n",
    "    jnp.save(f, x)"
   ]
  },
  {
   "cell_type": "code",
   "execution_count": 308,
   "metadata": {},
   "outputs": [],
   "source": [
    "with open('sample_values.npy', 'wb') as f:\n",
    "    jnp.save(f, samples)"
   ]
  },
  {
   "cell_type": "code",
   "execution_count": 309,
   "metadata": {},
   "outputs": [],
   "source": [
    "with open('means_values.npy', 'wb') as f:\n",
    "    jnp.save(f, means*dt)"
   ]
  },
  {
   "cell_type": "code",
   "execution_count": null,
   "metadata": {},
   "outputs": [],
   "source": []
  },
  {
   "cell_type": "code",
   "execution_count": 245,
   "metadata": {},
   "outputs": [],
   "source": [
    "def extract_weights(model):\n",
    "    weights = []\n",
    "    for layer in model.layers:\n",
    "        weights.append(layer.weight.flatten())\n",
    "        weights.append(layer.bias.flatten())\n",
    "    return jnp.concatenate(weights)"
   ]
  },
  {
   "cell_type": "code",
   "execution_count": 604,
   "metadata": {},
   "outputs": [],
   "source": [
    "w_30 = extract_weights(model)"
   ]
  },
  {
   "cell_type": "code",
   "execution_count": 248,
   "metadata": {},
   "outputs": [
    {
     "data": {
      "text/plain": [
       "Array([-0.23663503,  0.04501038,  0.06011234, -1.7434026 ,  1.1453986 ,\n",
       "        0.4586092 , -0.09523066, -0.0706974 ,  0.22513817,  0.34260044,\n",
       "        0.00224442, -0.1193314 ,  0.32790342, -0.43162364,  0.14924867,\n",
       "       -0.70392615, -0.34025213, -0.0547112 ,  0.08854806,  0.1537855 ,\n",
       "       -0.06872196, -0.60784125, -0.07926098, -0.65052944,  0.3703186 ,\n",
       "        0.30363142,  0.6894678 ,  0.04675508,  0.349182  ,  0.14411794,\n",
       "        0.20980333,  0.8380722 , -0.16536091,  0.03240588], dtype=float32)"
      ]
     },
     "execution_count": 248,
     "metadata": {},
     "output_type": "execute_result"
    }
   ],
   "source": [
    "w_15"
   ]
  },
  {
   "cell_type": "code",
   "execution_count": 260,
   "metadata": {},
   "outputs": [
    {
     "data": {
      "text/plain": [
       "Array([-0.01886487, -0.07763623,  0.0682521 , -1.7322133 ,  1.0825634 ,\n",
       "        0.5454949 , -0.19751894, -0.07382164,  0.31850702,  0.3293328 ,\n",
       "       -0.12012529,  0.00620866,  0.1894416 , -0.37295517,  0.19061677,\n",
       "       -0.6517513 , -0.3476283 ,  0.02140443,  0.04122147,  0.13946979,\n",
       "       -0.154498  , -0.6596227 , -0.1045586 , -0.7436725 ,  0.39917564,\n",
       "        0.29935205,  0.7526574 ,  0.05942841,  0.37012112,  0.14889094,\n",
       "        0.27526522,  0.8802568 , -0.24536434,  0.04323521], dtype=float32)"
      ]
     },
     "execution_count": 260,
     "metadata": {},
     "output_type": "execute_result"
    }
   ],
   "source": [
    "w_14"
   ]
  },
  {
   "cell_type": "code",
   "execution_count": 272,
   "metadata": {},
   "outputs": [
    {
     "data": {
      "text/plain": [
       "Array([-0.70581836, -0.21816447,  0.3103594 , -1.3245158 ,  2.0237687 ,\n",
       "        0.46241713, -1.0231875 ,  0.12140357,  0.47472465,  0.37860808,\n",
       "       -1.0041484 ,  1.2586603 , -0.32091677, -0.88251716,  0.4564254 ,\n",
       "       -0.40795338, -0.31685358, -0.16866374, -0.7281786 ,  0.4279303 ,\n",
       "       -0.03598702, -1.2421377 ,  0.18442698, -0.39214852,  1.0480672 ,\n",
       "        0.51951706,  2.0311275 ,  0.24034218,  0.576844  ,  0.12072784,\n",
       "        2.1704063 ,  1.200612  , -1.1574608 ,  0.1300677 ], dtype=float32)"
      ]
     },
     "execution_count": 272,
     "metadata": {},
     "output_type": "execute_result"
    }
   ],
   "source": [
    "w_10"
   ]
  },
  {
   "cell_type": "code",
   "execution_count": 291,
   "metadata": {},
   "outputs": [
    {
     "data": {
      "text/plain": [
       "Array([ 0.85398746,  0.9974071 ,  0.27375442, -2.4042788 , -0.8012333 ,\n",
       "        0.615171  , -0.37599793, -0.02460134,  0.5619073 ,  0.2229701 ,\n",
       "       -0.469443  , -0.37401405,  0.21095343, -0.6522791 ,  0.15386069,\n",
       "       -0.5644705 ,  0.12027179,  0.11973571,  0.18166065, -0.0159424 ,\n",
       "       -0.13871405, -0.4915764 , -0.2519924 , -0.9823736 ,  0.7459361 ,\n",
       "        0.18463553,  1.2154721 ,  0.09624726,  0.39142776,  0.21628962,\n",
       "        0.33447614,  0.96043116,  0.5631767 ,  0.06246009], dtype=float32)"
      ]
     },
     "execution_count": 291,
     "metadata": {},
     "output_type": "execute_result"
    }
   ],
   "source": [
    "w_20"
   ]
  },
  {
   "cell_type": "code",
   "execution_count": 345,
   "metadata": {},
   "outputs": [
    {
     "data": {
      "text/plain": [
       "Array([[1.        , 0.7528726 , 0.712824  , 0.39555433],\n",
       "       [0.7528726 , 0.9999999 , 0.98825145, 0.6991485 ],\n",
       "       [0.712824  , 0.98825145, 1.        , 0.6722142 ],\n",
       "       [0.39555433, 0.6991485 , 0.6722142 , 1.        ]], dtype=float32)"
      ]
     },
     "execution_count": 345,
     "metadata": {},
     "output_type": "execute_result"
    }
   ],
   "source": [
    "jnp.corrcoef(jnp.stack((w_10, w_14, w_15, w_20)))"
   ]
  },
  {
   "cell_type": "code",
   "execution_count": 605,
   "metadata": {},
   "outputs": [
    {
     "data": {
      "image/png": "[encoded data removed]",
      "text/plain": [
       "<Figure size 640x480 with 1 Axes>"
      ]
     },
     "metadata": {},
     "output_type": "display_data"
    }
   ],
   "source": [
    "plt.plot(w_10, label = '1.0')\n",
    "plt.plot(w_14, label = '1.4')\n",
    "plt.plot(w_15, label = '1.5')\n",
    "plt.plot(w_20, label = '2.0')\n",
    "plt.plot(w_30, label = '3.0')\n",
    "\n",
    "plt.legend()\n",
    "plt.show()"
   ]
  },
  {
   "cell_type": "code",
   "execution_count": null,
   "metadata": {},
   "outputs": [],
   "source": []
  },
  {
   "cell_type": "code",
   "execution_count": null,
   "metadata": {},
   "outputs": [],
   "source": []
  },
  {
   "cell_type": "code",
   "execution_count": null,
   "metadata": {},
   "outputs": [],
   "source": []
  },
  {
   "cell_type": "code",
   "execution_count": 265,
   "metadata": {},
   "outputs": [],
   "source": [
    "def get_weights(model):\n",
    "    weights = []\n",
    "    for layer in model.layers:\n",
    "        weights.append(layer.weight)\n",
    "    return weights"
   ]
  },
  {
   "cell_type": "code",
   "execution_count": 274,
   "metadata": {},
   "outputs": [
    {
     "data": {
      "text/plain": [
       "[Array([[-0.5893153 ],\n",
       "        [-0.65002257]], dtype=float32),\n",
       " Array([[ 2.015867  , -3.0652652 ],\n",
       "        [ 0.94027215, -1.4652383 ]], dtype=float32),\n",
       " Array([[-0.3792793 , -1.5083473 ],\n",
       "        [-0.3230125 ,  0.47585058]], dtype=float32),\n",
       " Array([[0.19262725, 0.6272823 ]], dtype=float32)]"
      ]
     },
     "execution_count": 274,
     "metadata": {},
     "output_type": "execute_result"
    }
   ],
   "source": [
    "trained_weights = get_weights(model)\n",
    "trained_weights"
   ]
  },
  {
   "cell_type": "code",
   "execution_count": 273,
   "metadata": {},
   "outputs": [
    {
     "data": {
      "text/plain": [
       "[Array([[-0.10842768],\n",
       "        [-0.24311486]], dtype=float32),\n",
       " Array([[ 0.7329991 , -0.50644493],\n",
       "        [ 1.5691452 , -1.0729849 ]], dtype=float32),\n",
       " Array([[-0.7466465 , -0.15541852],\n",
       "        [-0.6989294 ,  0.32326072]], dtype=float32),\n",
       " Array([[0.2821968, 0.8004125]], dtype=float32)]"
      ]
     },
     "execution_count": 273,
     "metadata": {},
     "output_type": "execute_result"
    }
   ],
   "source": [
    "trained_weights_20"
   ]
  },
  {
   "cell_type": "code",
   "execution_count": null,
   "metadata": {},
   "outputs": [],
   "source": []
  },
  {
   "cell_type": "code",
   "execution_count": null,
   "metadata": {},
   "outputs": [],
   "source": []
  },
  {
   "cell_type": "code",
   "execution_count": null,
   "metadata": {},
   "outputs": [],
   "source": []
  },
  {
   "cell_type": "markdown",
   "metadata": {},
   "source": [
    "Ideia de distancia: Mede a distancia entre cada uma das matrizes. Coloque esses valores num vetor e meça a distancia euclidiana desse vetor. Pode colocar um peso para cada posição do vetor, sendo quando mais para a entrada, maior o peso, já que a parada se propaga, mas não tenho certeza se é necessário."
   ]
  },
  {
   "cell_type": "code",
   "execution_count": 68,
   "metadata": {},
   "outputs": [],
   "source": [
    "import jax.numpy as jnp\n",
    "\n",
    "def sum_squared_differences(list1, list2):\n",
    "    \"\"\"\n",
    "    Calculate the sum of squared differences element-wise for two lists of jnp.arrays.\n",
    "\n",
    "    Parameters:\n",
    "    list1 (list of jnp.array): First list of arrays.\n",
    "    list2 (list of jnp.array): Second list of arrays.\n",
    "\n",
    "    Returns:\n",
    "    float: Sum of squared differences.\n",
    "    \"\"\"\n",
    "    if len(list1) != len(list2):\n",
    "        raise ValueError(\"Both lists must have the same length\")\n",
    "    \n",
    "    total_sum = 0.0\n",
    "    for arr1, arr2 in zip(list1, list2):\n",
    "        total_sum += jnp.sum((arr1 - arr2) ** 2)\n",
    "    \n",
    "    return total_sum\n"
   ]
  },
  {
   "cell_type": "code",
   "execution_count": null,
   "metadata": {},
   "outputs": [],
   "source": []
  }
 ],
 "metadata": {
  "kernelspec": {
   "display_name": "venv",
   "language": "python",
   "name": "python3"
  },
  "language_info": {
   "codemirror_mode": {
    "name": "ipython",
    "version": 3
   },
   "file_extension": ".py",
   "mimetype": "text/x-python",
   "name": "python",
   "nbconvert_exporter": "python",
   "pygments_lexer": "ipython3",
   "version": "3.12.4"
  }
 },
 "nbformat": 4,
 "nbformat_minor": 2
}
