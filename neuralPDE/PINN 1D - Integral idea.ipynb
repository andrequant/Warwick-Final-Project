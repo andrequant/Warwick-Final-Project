{
 "cells": [
  {
   "cell_type": "code",
   "execution_count": 1,
   "metadata": {},
   "outputs": [],
   "source": [
    "# Idea inspired by https://arxiv.org/abs/1806.07366 (?)"
   ]
  },
  {
   "cell_type": "markdown",
   "metadata": {},
   "source": [
    "\n",
    "Given our problem:\n",
    "\n",
    "$$\n",
    "\\frac{\\partial \\rho}{\\partial t} = \\sigma_1 \\frac{\\partial^2 \\rho}{\\partial x_1^2} - \\frac{\\partial \\rho}{\\partial x_1} \\left(v_m(1-2\\rho) \\right)\n",
    "$$\n",
    "\n",
    "$$\n",
    "\\sigma_1 \\frac{\\partial \\rho}{\\partial x_1} - \\rho v_m(1-\\rho) = -a (\\rho_{max} - \\rho) \\quad x = 0 \n",
    "$$\n",
    "\n",
    "$$\n",
    "-\\sigma_1 \\frac{\\partial \\rho}{\\partial x_1} + \\rho v_m(1-\\rho) \\cdot n= b \\rho \\quad x = L\n",
    "$$"
   ]
  },
  {
   "cell_type": "markdown",
   "metadata": {},
   "source": [
    "The idea is to find a approximation solution for $\\rho(x,t)$ of the form:\n",
    "\n",
    "$$\n",
    "\\rho(x,t) \\approx \\rho(x,0) + \\int_0^t g(x, \\tau) d\\tau\n",
    "$$"
   ]
  },
  {
   "cell_type": "markdown",
   "metadata": {},
   "source": [
    "Notice that\n",
    "\n",
    "$$\n",
    "g(x,t) \\approx \\frac{\\partial \\rho}{\\partial t}\n",
    "$$"
   ]
  },
  {
   "cell_type": "code",
   "execution_count": null,
   "metadata": {},
   "outputs": [],
   "source": []
  }
 ],
 "metadata": {
  "kernelspec": {
   "display_name": "venv",
   "language": "python",
   "name": "python3"
  },
  "language_info": {
   "codemirror_mode": {
    "name": "ipython",
    "version": 3
   },
   "file_extension": ".py",
   "mimetype": "text/x-python",
   "name": "python",
   "nbconvert_exporter": "python",
   "pygments_lexer": "ipython3",
   "version": "3.12.4"
  }
 },
 "nbformat": 4,
 "nbformat_minor": 2
}
